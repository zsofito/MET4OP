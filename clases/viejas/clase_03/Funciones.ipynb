{
 "cells": [
  {
   "source": [
    "# BORRADOR"
   ],
   "cell_type": "markdown",
   "metadata": {}
  },
  {
   "cell_type": "markdown",
   "metadata": {},
   "source": [
    "## Asignación y modificación de variables en Python"
   ]
  },
  {
   "cell_type": "markdown",
   "metadata": {},
   "source": [
    "> Los nombres refieren a valores\n",
    "\n",
    "![](extra/z.png)"
   ]
  },
  {
   "cell_type": "code",
   "execution_count": 1,
   "metadata": {},
   "outputs": [],
   "source": [
    "x = 23"
   ]
  },
  {
   "cell_type": "markdown",
   "metadata": {},
   "source": [
    "![](extra/z0.png)"
   ]
  },
  {
   "cell_type": "code",
   "execution_count": 2,
   "metadata": {},
   "outputs": [
    {
     "data": {
      "text/plain": [
       "[94217557563104, 94217557563104]"
      ]
     },
     "execution_count": 2,
     "metadata": {},
     "output_type": "execute_result"
    }
   ],
   "source": [
    "x = 23\n",
    "y = x\n",
    "[id(x),id(y)]"
   ]
  },
  {
   "cell_type": "markdown",
   "metadata": {},
   "source": [
    "> Los nombres se reasignan"
   ]
  },
  {
   "cell_type": "markdown",
   "metadata": {},
   "source": [
    "![](extra/z1.png)"
   ]
  },
  {
   "cell_type": "code",
   "execution_count": 3,
   "metadata": {},
   "outputs": [
    {
     "data": {
      "text/plain": [
       "[94217557562464, 94217557563104]"
      ]
     },
     "execution_count": 3,
     "metadata": {},
     "output_type": "execute_result"
    }
   ],
   "source": [
    "x = 23\n",
    "y = x\n",
    "x = 3\n",
    "[id(x),id(y)]"
   ]
  },
  {
   "cell_type": "markdown",
   "metadata": {},
   "source": [
    "> La asignación, no copia la data"
   ]
  },
  {
   "cell_type": "markdown",
   "metadata": {},
   "source": [
    "![](extra/z2.png)"
   ]
  },
  {
   "cell_type": "markdown",
   "metadata": {},
   "source": [
    "![](extra/z3.png)"
   ]
  },
  {
   "cell_type": "code",
   "execution_count": 4,
   "metadata": {},
   "outputs": [
    {
     "data": {
      "text/plain": [
       "[140105229318280, 140105229318280]"
      ]
     },
     "execution_count": 4,
     "metadata": {},
     "output_type": "execute_result"
    }
   ],
   "source": [
    "nums = [1, 2, 3]\n",
    "tri = nums\n",
    "[id(nums),id(tri)]"
   ]
  },
  {
   "cell_type": "code",
   "execution_count": 5,
   "metadata": {},
   "outputs": [
    {
     "data": {
      "text/plain": [
       "[1, 2, 0]"
      ]
     },
     "execution_count": 5,
     "metadata": {},
     "output_type": "execute_result"
    }
   ],
   "source": [
    "tri[2] = 0\n",
    "nums"
   ]
  },
  {
   "cell_type": "markdown",
   "metadata": {},
   "source": [
    "![](extra/z4.png)"
   ]
  },
  {
   "cell_type": "markdown",
   "metadata": {},
   "source": [
    "![](extra/z5.png)"
   ]
  },
  {
   "cell_type": "code",
   "execution_count": 6,
   "metadata": {},
   "outputs": [
    {
     "name": "stdout",
     "output_type": "stream",
     "text": [
      "140105195130184\n",
      "140105195130184\n"
     ]
    },
    {
     "data": {
      "text/plain": [
       "[1, 2, 3, 4]"
      ]
     },
     "execution_count": 6,
     "metadata": {},
     "output_type": "execute_result"
    }
   ],
   "source": [
    "nums = [1, 2, 3]\n",
    "print(id(nums))\n",
    "\n",
    "nums.append(4)\n",
    "print(id(nums))\n",
    "\n",
    "nums"
   ]
  },
  {
   "cell_type": "markdown",
   "metadata": {},
   "source": [
    "![](extra/z6.png)"
   ]
  },
  {
   "cell_type": "markdown",
   "metadata": {},
   "source": [
    "![](extra/z7.png)"
   ]
  },
  {
   "cell_type": "code",
   "execution_count": 7,
   "metadata": {},
   "outputs": [
    {
     "data": {
      "text/plain": [
       "[1, 2, 3, 4]"
      ]
     },
     "execution_count": 7,
     "metadata": {},
     "output_type": "execute_result"
    }
   ],
   "source": [
    "nums = [1, 2, 3]\n",
    "tri = nums\n",
    "tri.append(4)\n",
    "\n",
    "nums"
   ]
  },
  {
   "cell_type": "markdown",
   "metadata": {},
   "source": [
    "> Existe un comportamiento jerarquico. Muchas estructuras en python almacenan valores, los cuales a su vez poseen referencias"
   ]
  },
  {
   "cell_type": "markdown",
   "metadata": {},
   "source": [
    "![](extra/z8.png)"
   ]
  },
  {
   "cell_type": "markdown",
   "metadata": {},
   "source": [
    "![](extra/z9.png)"
   ]
  },
  {
   "cell_type": "markdown",
   "metadata": {},
   "source": [
    "Para romper dicho comportamiento podemos forzar una deepcopy:\n",
    "\n",
    "![](extra/deepcopy.png)"
   ]
  },
  {
   "cell_type": "code",
   "execution_count": 8,
   "metadata": {},
   "outputs": [
    {
     "data": {
      "text/plain": [
       "[140105195078792, 140105194839368]"
      ]
     },
     "execution_count": 8,
     "metadata": {},
     "output_type": "execute_result"
    }
   ],
   "source": [
    "nums = [1, 2, 3]\n",
    "tri = nums.copy()\n",
    "[id(nums),id(tri)]"
   ]
  },
  {
   "cell_type": "code",
   "execution_count": 9,
   "metadata": {},
   "outputs": [
    {
     "data": {
      "text/plain": [
       "[140105229343880, 140105229314184]"
      ]
     },
     "execution_count": 9,
     "metadata": {},
     "output_type": "execute_result"
    }
   ],
   "source": [
    "nums = [1, 2, 3]\n",
    "tri = nums[:]\n",
    "[id(nums),id(tri)]"
   ]
  },
  {
   "cell_type": "markdown",
   "metadata": {},
   "source": [
    "## Funciones en Python"
   ]
  },
  {
   "cell_type": "markdown",
   "metadata": {},
   "source": [
    "## Estructura\n",
    "\n",
    "Una función se define usando la palabra clave de bloque \"def\" , seguida del nombre de la función, seguido de un par de paréntesis que contienen los parámetros que tomará la función y que terminan con dos puntos. A continuación, sigue el bloque de declaraciones que forman parte de esta función. Las funciones pueden devolver un valor a la persona que llama, utilizando la palabra clave 'retorno'.\n",
    "\n",
    "### Estructura para Definir una Funciones:"
   ]
  },
  {
   "cell_type": "markdown",
   "metadata": {},
   "source": [
    "```python\n",
    "def fn(arg1, arg2,...):\n",
    "\t\"\"\"docstring\"\"\"\n",
    "\tCODIGO\n",
    "\treturn\n",
    "```"
   ]
  },
  {
   "source": [
    "Un parámetro es la variable que forma parte de la firma del método (declaración del método). Los parámetros se especifican dentro del par de paréntesis en la definición de la función, separados por comas. Cuando llamamos a la función, proporcionamos los valores de la misma manera."
   ],
   "cell_type": "markdown",
   "metadata": {}
  },
  {
   "cell_type": "markdown",
   "metadata": {},
   "source": [
    "### Llamar a una Función\n",
    "```python\n",
    "fn(arg1, arg2,...)\n",
    "```"
   ]
  },
  {
   "cell_type": "markdown",
   "metadata": {},
   "source": [
    "### Ejemplo"
   ]
  },
  {
   "cell_type": "code",
   "execution_count": 10,
   "metadata": {},
   "outputs": [],
   "source": [
    "def suma(x,y):\n",
    "    \"\"\"Mi fn\"\"\"\n",
    "    out = x+y\n",
    "    return out"
   ]
  },
  {
   "cell_type": "code",
   "execution_count": 11,
   "metadata": {},
   "outputs": [
    {
     "data": {
      "text/plain": [
       "3"
      ]
     },
     "execution_count": 11,
     "metadata": {},
     "output_type": "execute_result"
    }
   ],
   "source": [
    "suma(1,2)"
   ]
  },
  {
   "cell_type": "markdown",
   "metadata": {},
   "source": [
    "## Propiedades"
   ]
  },
  {
   "cell_type": "markdown",
   "metadata": {},
   "source": [
    "### Polimorfismo\n"
   ]
  },
  {
   "cell_type": "code",
   "execution_count": 12,
   "metadata": {},
   "outputs": [
    {
     "data": {
      "text/plain": [
       "3"
      ]
     },
     "execution_count": 12,
     "metadata": {},
     "output_type": "execute_result"
    }
   ],
   "source": [
    "suma(1,2)"
   ]
  },
  {
   "cell_type": "code",
   "execution_count": 13,
   "metadata": {},
   "outputs": [
    {
     "data": {
      "text/plain": [
       "'hola mundo'"
      ]
     },
     "execution_count": 13,
     "metadata": {},
     "output_type": "execute_result"
    }
   ],
   "source": [
    "suma(\"hola \",\"mundo\")"
   ]
  },
  {
   "cell_type": "markdown",
   "metadata": {},
   "source": [
    "### Parámetros Mutables o Inmutables"
   ]
  },
  {
   "cell_type": "markdown",
   "metadata": {},
   "source": [
    "Los argumentos para la funciones siempre se pasan como un una referencia a a un espacio de memoria, y luego se crea una variable local que comparte dicho espacio de memoria. Ahora bien, si modificamos el argumento dentro de la función se obtendran comportamientos distintos dependiendo de si el objeto es mutable o no \n",
    "\n",
    "* integer, float, string y tuple son objetos inmutables\n",
    "\n",
    "* list, dict y set  son objetos mutables\n",
    "\n",
    "Esto implica que el estado de los segundos pueden modificarse por la función"
   ]
  },
  {
   "cell_type": "markdown",
   "metadata": {},
   "source": [
    "#### Argumento Immutable \n",
    "\n",
    "Si fuera a pasar un entero *a*, python generaría una variable local *n* que comparte el mismo espacio de memoria"
   ]
  },
  {
   "cell_type": "markdown",
   "metadata": {},
   "source": [
    "![](extra/a.png)"
   ]
  },
  {
   "cell_type": "markdown",
   "metadata": {},
   "source": [
    "![](extra/a2.png)"
   ]
  },
  {
   "cell_type": "markdown",
   "metadata": {},
   "source": [
    "Si la función lo intenta modificar, entonces python lo copiaría a una nueva variable local rompiendo el enlace"
   ]
  },
  {
   "cell_type": "markdown",
   "metadata": {},
   "source": [
    "![](extra/a3.png)"
   ]
  },
  {
   "cell_type": "markdown",
   "metadata": {},
   "source": [
    "![](extra/a4.png)"
   ]
  },
  {
   "cell_type": "code",
   "execution_count": 14,
   "metadata": {},
   "outputs": [
    {
     "name": "stdout",
     "output_type": "stream",
     "text": [
      "['global_1: ', 94217557562656, 9]\n",
      "['fn_1: ', 94217557562656, 9]\n",
      "['fn_2: ', 94217557562688, 10]\n",
      "['global_2: ', 94217557562656, 9]\n"
     ]
    }
   ],
   "source": [
    "def increment(n):\n",
    "    print([\"fn_1: \", id(n), n])\n",
    "    n += 1\n",
    "    print([\"fn_2: \", id(n), n])\n",
    "\n",
    "a = 9\n",
    "\n",
    "print([\"global_1: \", id(a), a])\n",
    "\n",
    "increment(a)\n",
    "\n",
    "print([\"global_2: \", id(a), a])"
   ]
  },
  {
   "cell_type": "markdown",
   "metadata": {},
   "source": [
    "*Tuplas*"
   ]
  },
  {
   "cell_type": "code",
   "execution_count": 15,
   "metadata": {},
   "outputs": [
    {
     "ename": "TypeError",
     "evalue": "'tuple' object does not support item assignment",
     "output_type": "error",
     "traceback": [
      "\u001b[0;31m---------------------------------------------------------------------------\u001b[0m",
      "\u001b[0;31mTypeError\u001b[0m                                 Traceback (most recent call last)",
      "\u001b[0;32m<ipython-input-15-4a23136a9271>\u001b[0m in \u001b[0;36m<module>\u001b[0;34m\u001b[0m\n\u001b[1;32m      3\u001b[0m \u001b[0;34m\u001b[0m\u001b[0m\n\u001b[1;32m      4\u001b[0m \u001b[0mL\u001b[0m \u001b[0;34m=\u001b[0m \u001b[0;34m(\u001b[0m\u001b[0;36m1\u001b[0m\u001b[0;34m,\u001b[0m \u001b[0;36m2\u001b[0m\u001b[0;34m,\u001b[0m \u001b[0;36m3\u001b[0m\u001b[0;34m)\u001b[0m\u001b[0;34m\u001b[0m\u001b[0;34m\u001b[0m\u001b[0m\n\u001b[0;32m----> 5\u001b[0;31m \u001b[0mincrement\u001b[0m\u001b[0;34m(\u001b[0m\u001b[0mL\u001b[0m\u001b[0;34m)\u001b[0m\u001b[0;34m\u001b[0m\u001b[0;34m\u001b[0m\u001b[0m\n\u001b[0m\u001b[1;32m      6\u001b[0m \u001b[0mprint\u001b[0m\u001b[0;34m(\u001b[0m\u001b[0mL\u001b[0m\u001b[0;34m)\u001b[0m\u001b[0;34m\u001b[0m\u001b[0;34m\u001b[0m\u001b[0m\n",
      "\u001b[0;32m<ipython-input-15-4a23136a9271>\u001b[0m in \u001b[0;36mincrement\u001b[0;34m(n)\u001b[0m\n\u001b[1;32m      1\u001b[0m \u001b[0;32mdef\u001b[0m \u001b[0mincrement\u001b[0m\u001b[0;34m(\u001b[0m\u001b[0mn\u001b[0m\u001b[0;34m)\u001b[0m\u001b[0;34m:\u001b[0m\u001b[0;34m\u001b[0m\u001b[0;34m\u001b[0m\u001b[0m\n\u001b[0;32m----> 2\u001b[0;31m     \u001b[0mn\u001b[0m\u001b[0;34m[\u001b[0m\u001b[0;36m2\u001b[0m\u001b[0;34m]\u001b[0m \u001b[0;34m=\u001b[0m \u001b[0;36m7\u001b[0m\u001b[0;34m\u001b[0m\u001b[0;34m\u001b[0m\u001b[0m\n\u001b[0m\u001b[1;32m      3\u001b[0m \u001b[0;34m\u001b[0m\u001b[0m\n\u001b[1;32m      4\u001b[0m \u001b[0mL\u001b[0m \u001b[0;34m=\u001b[0m \u001b[0;34m(\u001b[0m\u001b[0;36m1\u001b[0m\u001b[0;34m,\u001b[0m \u001b[0;36m2\u001b[0m\u001b[0;34m,\u001b[0m \u001b[0;36m3\u001b[0m\u001b[0;34m)\u001b[0m\u001b[0;34m\u001b[0m\u001b[0;34m\u001b[0m\u001b[0m\n\u001b[1;32m      5\u001b[0m \u001b[0mincrement\u001b[0m\u001b[0;34m(\u001b[0m\u001b[0mL\u001b[0m\u001b[0;34m)\u001b[0m\u001b[0;34m\u001b[0m\u001b[0;34m\u001b[0m\u001b[0m\n",
      "\u001b[0;31mTypeError\u001b[0m: 'tuple' object does not support item assignment"
     ]
    }
   ],
   "source": [
    "def increment(n):\n",
    "    n[2] = 7\n",
    "    \n",
    "L = (1, 2, 3)\n",
    "increment(L)\n",
    "print(L)"
   ]
  },
  {
   "cell_type": "markdown",
   "metadata": {},
   "source": [
    "#### Argumento Mutable\n",
    "\n",
    "Python generara una variable local *n* que comparte el mismo espacio de memoria. Las funciones que toman listas como argumentos y las cambian durante la ejecución se denominan modificadores y los cambios que realizan se denominan efectos secundarios. Pasar una lista como argumento en realidad pasa una referencia a la lista, no una copia de la lista. Dado que las listas son mutables, los cambios realizados en los elementos a los que hace referencia el parámetro cambian la misma lista a la que hace referencia el argumento."
   ]
  },
  {
   "cell_type": "markdown",
   "metadata": {},
   "source": [
    "![](extra/b1.png)"
   ]
  },
  {
   "cell_type": "markdown",
   "metadata": {},
   "source": [
    "![](extra/b2.png)"
   ]
  },
  {
   "cell_type": "code",
   "execution_count": 16,
   "metadata": {},
   "outputs": [
    {
     "name": "stdout",
     "output_type": "stream",
     "text": [
      "[1, 2, 3, 4]\n"
     ]
    }
   ],
   "source": [
    "def incremento(n):\n",
    "    n.append(4)\n",
    "\n",
    "L = [1, 2, 3]\n",
    "incremento(L)\n",
    "print(L)"
   ]
  },
  {
   "cell_type": "markdown",
   "metadata": {},
   "source": [
    "y al ser mutable, modifica al objeto original\n",
    "\n",
    "![](extra/b3.png)"
   ]
  },
  {
   "cell_type": "markdown",
   "metadata": {},
   "source": [
    "*Veamos otro ejemplo*\n"
   ]
  },
  {
   "cell_type": "code",
   "execution_count": 17,
   "metadata": {},
   "outputs": [
    {
     "name": "stdout",
     "output_type": "stream",
     "text": [
      "['global_1: ', 140105240095688, [9, 1]]\n",
      "['fn_1: ', 140105240095688, [9, 1]]\n",
      "['fn_2: ', 140105240095688, [9, 2]]\n",
      "['global_2: ', 140105240095688, [9, 2]]\n"
     ]
    }
   ],
   "source": [
    "def incremento(n):\n",
    "    print([\"fn_1: \", id(n), n])\n",
    "    n[1] += 1\n",
    "    print([\"fn_2: \", id(n), n])\n",
    "\n",
    "a = [9,1]\n",
    "\n",
    "print([\"global_1: \", id(a), a])\n",
    "\n",
    "incremento(a)\n",
    "\n",
    "print([\"global_2: \", id(a), a])"
   ]
  },
  {
   "cell_type": "markdown",
   "metadata": {},
   "source": [
    "##### Hay que tener cuidado"
   ]
  },
  {
   "cell_type": "code",
   "execution_count": 18,
   "metadata": {},
   "outputs": [
    {
     "name": "stdout",
     "output_type": "stream",
     "text": [
      "[1, 2, 3]\n",
      "[4, 5, 6]\n"
     ]
    }
   ],
   "source": [
    "def assignar_valor(n, v):\n",
    "    n = v\n",
    "\n",
    "L1 = [1, 2, 3]\n",
    "L2 = [4, 5, 6]\n",
    "assignar_valor(L1, L2)\n",
    "print(L1)\n",
    "print(L2)"
   ]
  },
  {
   "cell_type": "markdown",
   "metadata": {},
   "source": [
    "originalmente teníamos la siguiente situación"
   ]
  },
  {
   "cell_type": "markdown",
   "metadata": {},
   "source": [
    "![](extra/c1.png)"
   ]
  },
  {
   "cell_type": "markdown",
   "metadata": {},
   "source": [
    "![](extra/c2.png)"
   ]
  },
  {
   "cell_type": "markdown",
   "metadata": {},
   "source": [
    "Sin embargo, cuando asignamos v a n, le asignamos el espacio de memoria correspondiente de v y por tanto de L2"
   ]
  },
  {
   "cell_type": "markdown",
   "metadata": {},
   "source": [
    "![](extra/c3.png)"
   ]
  },
  {
   "cell_type": "code",
   "execution_count": 19,
   "metadata": {},
   "outputs": [
    {
     "name": "stdout",
     "output_type": "stream",
     "text": [
      "[4, 5, 6]\n",
      "[4, 5, 6]\n"
     ]
    }
   ],
   "source": [
    "def assignar_valor(n, v):\n",
    "    n[:] = v[:]\n",
    "\n",
    "L1 = [1, 2, 3]\n",
    "L2 = [4, 5, 6]\n",
    "assignar_valor(L1, L2)\n",
    "print(L1)\n",
    "print(L2)"
   ]
  },
  {
   "cell_type": "markdown",
   "metadata": {},
   "source": [
    "### Variables Locales vs Globales\n",
    "\n",
    "#### Locales"
   ]
  },
  {
   "cell_type": "code",
   "execution_count": 20,
   "metadata": {},
   "outputs": [
    {
     "data": {
      "text/plain": [
       "13"
      ]
     },
     "execution_count": 20,
     "metadata": {},
     "output_type": "execute_result"
    }
   ],
   "source": [
    "def suma(x,y):\n",
    "    \"\"\"Mi fn\"\"\"\n",
    "    z=10\n",
    "    out = z+ x+y\n",
    "    return out\n",
    "\n",
    "x=1\n",
    "y=2\n",
    "suma(x,y)"
   ]
  },
  {
   "cell_type": "code",
   "execution_count": 21,
   "metadata": {},
   "outputs": [
    {
     "ename": "NameError",
     "evalue": "name 'z' is not defined",
     "output_type": "error",
     "traceback": [
      "\u001b[0;31m---------------------------------------------------------------------------\u001b[0m",
      "\u001b[0;31mNameError\u001b[0m                                 Traceback (most recent call last)",
      "\u001b[0;32m<ipython-input-21-c01ac3f50fdc>\u001b[0m in \u001b[0;36m<module>\u001b[0;34m\u001b[0m\n\u001b[0;32m----> 1\u001b[0;31m \u001b[0mprint\u001b[0m\u001b[0;34m(\u001b[0m\u001b[0mz\u001b[0m\u001b[0;34m)\u001b[0m\u001b[0;34m\u001b[0m\u001b[0;34m\u001b[0m\u001b[0m\n\u001b[0m",
      "\u001b[0;31mNameError\u001b[0m: name 'z' is not defined"
     ]
    }
   ],
   "source": [
    "print(z)"
   ]
  },
  {
   "cell_type": "markdown",
   "metadata": {},
   "source": [
    "#### Globales"
   ]
  },
  {
   "cell_type": "code",
   "execution_count": 22,
   "metadata": {},
   "outputs": [
    {
     "data": {
      "text/plain": [
       "13"
      ]
     },
     "execution_count": 22,
     "metadata": {},
     "output_type": "execute_result"
    }
   ],
   "source": [
    "def suma(x,y):\n",
    "    \"\"\"Mi fn\"\"\"\n",
    "    global z\n",
    "    z=10\n",
    "    out = z+ x+y\n",
    "    return out\n",
    "\n",
    "x=1\n",
    "y=2\n",
    "suma(x,y)"
   ]
  },
  {
   "cell_type": "code",
   "execution_count": 23,
   "metadata": {},
   "outputs": [
    {
     "name": "stdout",
     "output_type": "stream",
     "text": [
      "10\n"
     ]
    }
   ],
   "source": [
    "print(z)"
   ]
  },
  {
   "cell_type": "code",
   "execution_count": 1,
   "metadata": {},
   "outputs": [
    {
     "output_type": "execute_result",
     "data": {
      "text/plain": "33"
     },
     "metadata": {},
     "execution_count": 1
    }
   ],
   "source": [
    "u = 30\n",
    "\n",
    "def suma(x,y):\n",
    "    \"\"\"Mi fn\"\"\"\n",
    "    out = u+x+y\n",
    "    return out\n",
    "\n",
    "x=1\n",
    "y=2\n",
    "suma(x,y)"
   ]
  },
  {
   "cell_type": "markdown",
   "metadata": {},
   "source": [
    "### Argumentos con Valores por defecto\n",
    "\n",
    "En Python podemos proporcionar valores predeterminados para los parámetros de función en Python en caso de que el usuario no desee proporcionar valores para ellos. Esto se hace con la ayuda de los valores de argumento predeterminados. El valor predeterminado se asigna mediante el operador de asignación (=)."
   ]
  },
  {
   "cell_type": "code",
   "execution_count": 24,
   "metadata": {},
   "outputs": [
    {
     "data": {
      "text/plain": [
       "13"
      ]
     },
     "execution_count": 24,
     "metadata": {},
     "output_type": "execute_result"
    }
   ],
   "source": [
    "def suma(x,y,w=10):\n",
    "    \"\"\"Mi fn\"\"\"\n",
    "    out = w+x+y\n",
    "    return out\n",
    "\n",
    "x=1\n",
    "y=2\n",
    "suma(x,y)"
   ]
  },
  {
   "source": [
    "La principal ventaja del argumento predeterminado es que podemos dar valores solo a aquellos parámetros a los que queramos, siempre que los otros parámetros tengan valores de argumento predeterminados."
   ],
   "cell_type": "markdown",
   "metadata": {}
  },
  {
   "cell_type": "code",
   "execution_count": 25,
   "metadata": {},
   "outputs": [
    {
     "data": {
      "text/plain": [
       "6"
      ]
     },
     "execution_count": 25,
     "metadata": {},
     "output_type": "execute_result"
    }
   ],
   "source": [
    "suma(x,y,w=3)"
   ]
  },
  {
   "source": [
    "### Número variable de argumentos\n",
    "\n",
    "A veces, los programas pueden querer definir una función que pueda tomar cualquier número de parámetros, es decir, un número variable de argumentos, esto se puede lograr usando las estrellas (*). Esto es muy útil cuando no sabemos el número exacto de argumentos que se pasarán a una función"
   ],
   "cell_type": "markdown",
   "metadata": {}
  },
  {
   "cell_type": "code",
   "execution_count": 3,
   "metadata": {
    "tags": []
   },
   "outputs": [
    {
     "output_type": "stream",
     "name": "stdout",
     "text": "La  raiz cuadrada de 1 es : 1.0\nLa  raiz cuadrada de 2 es : 1.4142135623730951\nLa  raiz cuadrada de 3 es : 1.7320508075688772\nLa  raiz cuadrada de 4 es : 2.0\nLa  raiz cuadrada de 5 es : 2.23606797749979\nLa  raiz cuadrada de 6 es : 2.449489742783178\nLa  raiz cuadrada de 7 es : 2.6457513110645907\n"
    }
   ],
   "source": [
    "import math\n",
    "def dispSquare(*varArgs):\n",
    "    #Iterar sobre todos los valores \n",
    "    for num in varArgs:\n",
    "        print(\"La  raiz cuadrada de\",num,  \"es :\" , math.sqrt(num) )\n",
    "\n",
    "dispSquare(1,2,3,4,5,6,7)"
   ]
  },
  {
   "source": [
    "## Ejemplo"
   ],
   "cell_type": "markdown",
   "metadata": {}
  },
  {
   "source": [
    "Supongamos que hacemos una "
   ],
   "cell_type": "markdown",
   "metadata": {}
  },
  {
   "cell_type": "code",
   "execution_count": 8,
   "metadata": {},
   "outputs": [],
   "source": [
    "Opinion = [10,1,0,7,3,5,2,7,5,8,9,2,4,6,9,1,2,8]"
   ]
  },
  {
   "source": [
    "Primero vamos a construir una función que ordena los elementos. Para ello vamos a utilizar a modo de ejemplo el algoritmo Bubble-Sort"
   ],
   "cell_type": "markdown",
   "metadata": {}
  },
  {
   "source": [
    "![](extra/buble_sort.png)"
   ],
   "cell_type": "markdown",
   "metadata": {
    "tags": []
   }
  },
  {
   "cell_type": "code",
   "execution_count": 18,
   "metadata": {
    "tags": []
   },
   "outputs": [
    {
     "output_type": "stream",
     "name": "stdout",
     "text": "iteración 0 : [10, 1, 0, 7, 3, 5, 2, 7, 5, 8, 9, 2, 4, 6, 9, 1, 2, 8]\niteración 1 : [1, 0, 7, 3, 5, 2, 7, 5, 8, 9, 2, 4, 6, 9, 1, 2, 8, 10]\niteración 2 : [0, 1, 3, 5, 2, 7, 5, 7, 8, 2, 4, 6, 9, 1, 2, 8, 9, 10]\niteración 3 : [0, 1, 3, 2, 5, 5, 7, 7, 2, 4, 6, 8, 1, 2, 8, 9, 9, 10]\niteración 4 : [0, 1, 2, 3, 5, 5, 7, 2, 4, 6, 7, 1, 2, 8, 8, 9, 9, 10]\niteración 5 : [0, 1, 2, 3, 5, 5, 2, 4, 6, 7, 1, 2, 7, 8, 8, 9, 9, 10]\niteración 6 : [0, 1, 2, 3, 5, 2, 4, 5, 6, 1, 2, 7, 7, 8, 8, 9, 9, 10]\niteración 7 : [0, 1, 2, 3, 2, 4, 5, 5, 1, 2, 6, 7, 7, 8, 8, 9, 9, 10]\niteración 8 : [0, 1, 2, 2, 3, 4, 5, 1, 2, 5, 6, 7, 7, 8, 8, 9, 9, 10]\niteración 9 : [0, 1, 2, 2, 3, 4, 1, 2, 5, 5, 6, 7, 7, 8, 8, 9, 9, 10]\niteración 10 : [0, 1, 2, 2, 3, 1, 2, 4, 5, 5, 6, 7, 7, 8, 8, 9, 9, 10]\niteración 11 : [0, 1, 2, 2, 1, 2, 3, 4, 5, 5, 6, 7, 7, 8, 8, 9, 9, 10]\niteración 12 : [0, 1, 2, 1, 2, 2, 3, 4, 5, 5, 6, 7, 7, 8, 8, 9, 9, 10]\niteración 13 : [0, 1, 1, 2, 2, 2, 3, 4, 5, 5, 6, 7, 7, 8, 8, 9, 9, 10]\niteración 14 : [0, 1, 1, 2, 2, 2, 3, 4, 5, 5, 6, 7, 7, 8, 8, 9, 9, 10]\niteración 15 : [0, 1, 1, 2, 2, 2, 3, 4, 5, 5, 6, 7, 7, 8, 8, 9, 9, 10]\niteración 16 : [0, 1, 1, 2, 2, 2, 3, 4, 5, 5, 6, 7, 7, 8, 8, 9, 9, 10]\niteración 17 : [0, 1, 1, 2, 2, 2, 3, 4, 5, 5, 6, 7, 7, 8, 8, 9, 9, 10]\n"
    }
   ],
   "source": [
    "Opinion = [10,1,0,7,3,5,2,7,5,8,9,2,4,6,9,1,2,8]\n",
    "def bubbleSort(arr): \n",
    "    n = len(arr) \n",
    "  \n",
    "     # Recorre todos los elementos de la matriz\n",
    "    for i in range(n): \n",
    "        print(\"iteración\", i, \":\", arr)\n",
    "         # Los últimos elementos i ya están en su lugar\n",
    "        for j in range(0, n-i-1):   \n",
    "            # atraviesa la matriz de 0 a n-i-1\n",
    "             # Intercambiar si el elemento encontrado es mayor\n",
    "             # que el siguiente elemento \n",
    "            if arr[j] > arr[j+1] : \n",
    "                arr[j], arr[j+1] = arr[j+1], arr[j]\n",
    "\n",
    "bubbleSort(Opinion)"
   ]
  },
  {
   "cell_type": "code",
   "execution_count": 21,
   "metadata": {
    "tags": []
   },
   "outputs": [
    {
     "output_type": "stream",
     "name": "stdout",
     "text": "iteración 0 : [10, 1, 0, 7, 3, 5, 2, 7, 5, 8, 9, 2, 4, 6, 9, 1, 2, 8]\niteración 1 : [1, 0, 7, 3, 5, 2, 7, 5, 8, 9, 2, 4, 6, 9, 1, 2, 8, 10]\niteración 2 : [0, 1, 3, 5, 2, 7, 5, 7, 8, 2, 4, 6, 9, 1, 2, 8, 9, 10]\niteración 3 : [0, 1, 3, 2, 5, 5, 7, 7, 2, 4, 6, 8, 1, 2, 8, 9, 9, 10]\niteración 4 : [0, 1, 2, 3, 5, 5, 7, 2, 4, 6, 7, 1, 2, 8, 8, 9, 9, 10]\niteración 5 : [0, 1, 2, 3, 5, 5, 2, 4, 6, 7, 1, 2, 7, 8, 8, 9, 9, 10]\niteración 6 : [0, 1, 2, 3, 5, 2, 4, 5, 6, 1, 2, 7, 7, 8, 8, 9, 9, 10]\niteración 7 : [0, 1, 2, 3, 2, 4, 5, 5, 1, 2, 6, 7, 7, 8, 8, 9, 9, 10]\niteración 8 : [0, 1, 2, 2, 3, 4, 5, 1, 2, 5, 6, 7, 7, 8, 8, 9, 9, 10]\niteración 9 : [0, 1, 2, 2, 3, 4, 1, 2, 5, 5, 6, 7, 7, 8, 8, 9, 9, 10]\niteración 10 : [0, 1, 2, 2, 3, 1, 2, 4, 5, 5, 6, 7, 7, 8, 8, 9, 9, 10]\niteración 11 : [0, 1, 2, 2, 1, 2, 3, 4, 5, 5, 6, 7, 7, 8, 8, 9, 9, 10]\niteración 12 : [0, 1, 2, 1, 2, 2, 3, 4, 5, 5, 6, 7, 7, 8, 8, 9, 9, 10]\niteración 13 : [0, 1, 1, 2, 2, 2, 3, 4, 5, 5, 6, 7, 7, 8, 8, 9, 9, 10]\n"
    }
   ],
   "source": [
    "Opinion = [10,1,0,7,3,5,2,7,5,8,9,2,4,6,9,1,2,8]\n",
    "\n",
    "# Una versión optimizada de Bubble Sort\n",
    "def bubbleSort(arr): \n",
    "    n = len(arr) \n",
    "   \n",
    "    # Recorre todos los elementos de la matriz\n",
    "    for i in range(n): \n",
    "        swapped = False\n",
    "        print(\"iteración\", i, \":\", arr)\n",
    "        # Los últimos i elementos ya están\n",
    "        #  en su lugar \n",
    "        for j in range(0, n-i-1): \n",
    "   \n",
    "            # atraviesa la matriz de 0 a\n",
    "            # n-i-1. Cambiar si el elemento\n",
    "            # encontrado es mayor que el\n",
    "            # elemento siguiente \n",
    "            if arr[j] > arr[j+1] : \n",
    "                arr[j], arr[j+1] = arr[j+1], arr[j] \n",
    "                swapped = True\n",
    "  \n",
    "        # SI no se intercambiaron dos elementos\n",
    "        # por bucle interno, luego romper \n",
    "        if swapped == False: \n",
    "            break\n",
    "\n",
    "bubbleSort(Opinion)"
   ]
  },
  {
   "source": [
    "Algunas características del ordenamiento tipo de burbuja:\n",
    "* Los valores grandes siempre se ordenan primero.\n",
    "* Solo se necesita una iteración para detectar que una colección ya está ordenada.\n",
    "* La mejor complejidad de tiempo para Bubble Sort es O(n). La complejidad de tiempo promedio y peor es O(n²).\n",
    "* La complejidad del espacio para Bubble Sort es O(1), porque solo se requiere un espacio de memoria adicional."
   ],
   "cell_type": "markdown",
   "metadata": {}
  },
  {
   "source": [
    "### Percentiles"
   ],
   "cell_type": "markdown",
   "metadata": {}
  },
  {
   "cell_type": "code",
   "execution_count": 42,
   "metadata": {},
   "outputs": [
    {
     "output_type": "execute_result",
     "data": {
      "text/plain": "[0, 2.0, 5.0, 8.0, 10]"
     },
     "metadata": {},
     "execution_count": 42
    }
   ],
   "source": [
    "import math\n",
    "\n",
    "Opinion = [10,1,0,7,3,5,2,7,5,8,9,2,4,6,9,1,2,8]\n",
    "\n",
    "def bubbleSort(arr): \n",
    "    n = len(arr) \n",
    "    # Recorre todos los elementos de la matriz\n",
    "    for i in range(n): \n",
    "        swapped = False\n",
    "        # Los últimos i elementos ya están en su lugar \n",
    "        for j in range(0, n-i-1): \n",
    "            # atraviesa la matriz de 0 a n-i-1. Cambiar si el elemento\n",
    "            # encontrado es mayor que el elemento siguiente \n",
    "            if arr[j] > arr[j+1] : \n",
    "                arr[j], arr[j+1] = arr[j+1], arr[j] \n",
    "                swapped = True\n",
    "        # SI no se intercambiaron dos elementos\n",
    "        # por bucle interno, luego romper \n",
    "        if swapped == False: \n",
    "            break\n",
    "\n",
    "def resumen(arr):\n",
    "    # Copio el arr, depositandolo en x\n",
    "    x = arr.copy()\n",
    "    # Calculo su tamaño\n",
    "    n = len(x)\n",
    "    # Ordeno en en lugar a x\n",
    "    bubbleSort(x)\n",
    "    # Calculo las medidas resumen\n",
    "    minimo = x[0]\n",
    "    maximo = x[-1]\n",
    "    mediana = (x[math.floor((n+1)/2)-1] + x[math.ceil((n+1)/2)-1]) / 2.0\n",
    "    Q1 = (x[math.floor((n+1)/4)-1] + x[math.ceil((n+1)/4)-1]) / 2.0\n",
    "    Q3 = (x[math.floor(3*(n+1)/4)-1] + x[math.ceil(3*(n+1)/4)-1]) / 2.0\n",
    "\n",
    "    return [minimo,Q1,mediana,Q3,maximo]\n",
    "\n",
    "resumen(Opinion)"
   ]
  }
 ],
 "metadata": {
  "kernelspec": {
   "display_name": "Python 3",
   "language": "python",
   "name": "python3"
  },
  "language_info": {
   "codemirror_mode": {
    "name": "ipython",
    "version": 3
   },
   "file_extension": ".py",
   "mimetype": "text/x-python",
   "name": "python",
   "nbconvert_exporter": "python",
   "pygments_lexer": "ipython3",
   "version": "3.6.9-final"
  },
  "latex_envs": {
   "LaTeX_envs_menu_present": true,
   "autoclose": true,
   "autocomplete": true,
   "bibliofile": "biblio.bib",
   "cite_by": "apalike",
   "current_citInitial": 1,
   "eqLabelWithNumbers": true,
   "eqNumInitial": 1,
   "hotkeys": {
    "equation": "Ctrl-E",
    "itemize": "Ctrl-I"
   },
   "labels_anchors": false,
   "latex_user_defs": false,
   "report_style_numbering": false,
   "user_envs_cfg": false
  },
  "toc": {
   "base_numbering": 1,
   "nav_menu": {},
   "number_sections": false,
   "sideBar": true,
   "skip_h1_title": false,
   "title_cell": "Table of Contents",
   "title_sidebar": "Contents",
   "toc_cell": false,
   "toc_position": {},
   "toc_section_display": true,
   "toc_window_display": true
  }
 },
 "nbformat": 4,
 "nbformat_minor": 2
}