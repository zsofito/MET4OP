{
 "cells": [
  {
   "cell_type": "markdown",
   "metadata": {},
   "source": [
    "## Notebooks"
   ]
  },
  {
   "cell_type": "markdown",
   "metadata": {},
   "source": [
    "### Encabezados\n",
    "\n",
    "Usar **#** seguido de un espacio en blanco para crear títulos y subtítulos\n",
    "\n",
    "```\n",
    "# Título\n",
    "```\n",
    "> # Título\n",
    "\n",
    "\n",
    "```\n",
    "## Subtítulo\n",
    "```\n",
    "> ## Subtítulo\n",
    "\n",
    "\n",
    "```\n",
    "### Sección\n",
    "```\n",
    "> ### Sección\n",
    "\n",
    "\n",
    "\n",
    "```\n",
    "#### Subsección\n",
    "```\n",
    "> #### Subsección"
   ]
  },
  {
   "cell_type": "markdown",
   "metadata": {},
   "source": [
    "### Énfasis\n",
    "\n",
    "\n",
    "```\n",
    " *cursiva*\n",
    "```\n",
    "> *cursiva*\n",
    "\n",
    "\n",
    "```\n",
    " **negrita**\n",
    "```\n",
    "> **negrita**\n"
   ]
  },
  {
   "cell_type": "markdown",
   "metadata": {},
   "source": [
    "### Latex\n",
    "\n",
    "```latex\n",
    "$$ \\int q(z_0) \\ \\log \\Bigg( \\frac{q(z_o) \\ {\\left|det(J_{T_{z_0}})\\right|}^{-1}}{p(T(z_0))} \\Bigg) \\ dz_0 $$\n",
    "```\n",
    ">\n",
    "> $$ \\int q(z_0) \\ \\log \\Bigg( \\frac{q(z_o) \\ {\\left|det(J_{T_{z_0}})\\right|}^{-1}}{p(T(z_0))} \\Bigg) \\ dz_0 $$\n",
    ">"
   ]
  },
  {
   "cell_type": "markdown",
   "metadata": {},
   "source": [
    "### Monospace\n",
    "\n",
    "Para direcciones de archivos y/o nombres de archivos\n",
    "```\n",
    "`clase_01.ipynb`\n",
    "```\n",
    "\n",
    "> `clase_01.ipynb`\n"
   ]
  },
  {
   "cell_type": "markdown",
   "metadata": {},
   "source": [
    "### Forzar saltos línea\n",
    "\n",
    "```\n",
    "hola\n",
    "<br>\n",
    "<br>\n",
    "mundo\n",
    "```\n",
    "\n",
    ">hola\n",
    "<br>\n",
    "<br>\n",
    "<br>\n",
    "mundo\n"
   ]
  },
  {
   "cell_type": "markdown",
   "metadata": {},
   "source": [
    "### Colores\n",
    "\n",
    "```\n",
    "<font color=blue|red|green|pink|yellow>Text</font>\n",
    "```\n",
    "\n",
    "> <font color=red>Hola Mundo</font>\n"
   ]
  },
  {
   "cell_type": "markdown",
   "metadata": {},
   "source": [
    "### Párrafo con enfasis \n",
    "\n",
    "\n",
    "```\n",
    "> MET4OP\n",
    "```\n",
    "\n",
    "> MET4OP\n",
    "\n"
   ]
  },
  {
   "cell_type": "markdown",
   "metadata": {},
   "source": [
    "### Bullets\n",
    "\n",
    "\n",
    "```\n",
    "- Hola \n",
    " - mundo\n",
    "- Hola\n",
    "```\n",
    "\n",
    "> - Hola\n",
    " - mundo\n",
    "- Hola\n"
   ]
  },
  {
   "cell_type": "markdown",
   "metadata": {},
   "source": [
    "### Numeración\n",
    "\n",
    "\n",
    "\n",
    "```\n",
    "1. Hola \n",
    " 1. Mundo\n",
    "2. Hola\n",
    "```\n",
    "\n",
    "1. Hola \n",
    " 1. Mundo\n",
    "2. Hola\n",
    "\n"
   ]
  },
  {
   "cell_type": "markdown",
   "metadata": {},
   "source": [
    "### Líneas\n",
    "\n",
    "\n",
    "```\n",
    "***\n",
    "```\n",
    "\n",
    "> ***\n",
    "\n"
   ]
  },
  {
   "cell_type": "markdown",
   "metadata": {},
   "source": [
    "### Imágenes\n",
    "\n",
    "\n",
    "```\n",
    "![](https://upload.wikimedia.org/wikipedia/commons/thumb/f/f9/UBA.svg/240px-UBA.svg.png)\n",
    "```\n",
    "\n",
    "> ![](https://upload.wikimedia.org/wikipedia/commons/thumb/f/f9/UBA.svg/240px-UBA.svg.png)\n"
   ]
  },
  {
   "cell_type": "markdown",
   "metadata": {},
   "source": [
    "### Tablas\n",
    "\n",
    "\n",
    "```\n",
    "\n",
    "| Alumnos       | Condición     | Nota  |\n",
    "| ------------- |:-------------:| -----:|\n",
    "| A. B.         | Aprov       | 7|\n",
    "| B. C.         | Aprov       | 8|\n",
    "| C. D.         | Aprov       | 9|\n",
    "\n",
    "```\n",
    "\n",
    "> | Alumnos       | Condición     | Nota  |\n",
    "| ------------- |:-------------:| -----:|\n",
    "| A. B.         | Aprov       | 7|\n",
    "| B. C.         | Aprov       | 8|\n",
    "| C. D.         | Aprov       | 9|\n"
   ]
  },
  {
   "cell_type": "markdown",
   "metadata": {},
   "source": [
    "### Links \n",
    "\n",
    "\n",
    "```\n",
    "[fsoc](http://www.sociales.uba.ar/)\n",
    "```\n",
    "\n",
    "> [fsoc](http://www.sociales.uba.ar/)\n"
   ]
  }
 ],
 "metadata": {
  "kernelspec": {
   "display_name": "Python 3",
   "language": "python",
   "name": "python3"
  },
  "language_info": {
   "codemirror_mode": {
    "name": "ipython",
    "version": 3
   },
   "file_extension": ".py",
   "mimetype": "text/x-python",
   "name": "python",
   "nbconvert_exporter": "python",
   "pygments_lexer": "ipython3",
   "version": "3.7.3"
  },
  "toc": {
   "base_numbering": "0",
   "nav_menu": {
    "height": "375px",
    "width": "242px"
   },
   "number_sections": false,
   "sideBar": true,
   "skip_h1_title": false,
   "title_cell": "Table of Contents",
   "title_sidebar": "Contents",
   "toc_cell": false,
   "toc_position": {
    "height": "771px",
    "left": "147px",
    "top": "111.133px",
    "width": "384px"
   },
   "toc_section_display": true,
   "toc_window_display": true
  }
 },
 "nbformat": 4,
 "nbformat_minor": 4
}