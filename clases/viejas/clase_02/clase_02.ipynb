{
 "cells": [
  {
   "source": [
    "#  Estructuras de control de Python "
   ],
   "cell_type": "markdown",
   "metadata": {}
  },
  {
   "source": [
    "Según el teorema de la estructura, cualquier programa de computadora puede escribirse utilizando las estructuras de control básicas . Una estructura de control (o flujo de control) es un bloque de programación que analiza variables y elige una dirección en la que ir en función de parámetros dados. En pocas palabras, una estructura de control es solo una decisión que toma la computadora. Por lo tanto, es el proceso básico de toma de decisiones en programación y el flujo de control determina cómo responderá un programa de computadora cuando se le den ciertas condiciones y parámetros.\n",
    "\n",
    "\n",
    "Hay dos aspectos básicos de la programación de computadoras: datos e instrucciones . Para trabajar con datos, se debe comprender las variables y los tipos de datos (clase_01); para trabajar con instrucciones, necesita comprender las estructuras y declaraciones de control (clase_02). El flujo de control a través de cualquier programa dado se implementa con tres tipos básicos de estructuras de control: secuencial, selección y repetición"
   ],
   "cell_type": "markdown",
   "metadata": {}
  },
  {
   "cell_type": "markdown",
   "metadata": {},
   "source": [
    "#### Diagrama de Flujo"
   ]
  },
  {
   "cell_type": "markdown",
   "metadata": {},
   "source": [
    "<img src=extra/maxresdefault.jpg width=\"400\">"
   ]
  },
  {
   "cell_type": "markdown",
   "metadata": {},
   "source": [
    "\n",
    "¡No! Consendador no, **_DIAGRAMA DE FLUJO_**, ver https://es.wikipedia.org/wiki/Diagrama_de_flujo"
   ]
  },
  {
   "source": [
    "<p>\n",
    "<img src=extra/Structured_program_patterns.png width=\"700\">"
   ],
   "cell_type": "markdown",
   "metadata": {}
  },
  {
   "source": [
    "El teorema del programa estructurado es un resultado en la teoría de lenguajes de programación. Establece que toda función computable puede ser implementada en un lenguaje de programación que combine sólo tres estructuras lógicas. Esas tres formas (también llamadas estructuras de control) específicamente son:\n",
    "\n",
    "\n",
    "### Secuencial\n",
    "\n",
    "La ejecución secuencial es cuando las declaraciones se ejecutan una tras otra en orden. No necesitas hacer nada más para que esto suceda.\n",
    "\n",
    "### Selección \n",
    "\n",
    "Ejecución de una de dos instrucciones (o conjuntos), según el valor de una variable booleana. Utilizada para decisiones, ramificación: elegir entre 2 o más caminos alternativos.\n",
    "\n",
    "-    if\n",
    "-    if ... else\n",
    "-    switch\n",
    "\n",
    "### Repetición\n",
    "\n",
    "ejecución de una instrucción (o conjunto) mientras una variable booleana sea 'verdadera'. La repetición se utiliza para hacer bucles, es decir, repetir un fragmento de código varias veces seguidas.\n",
    "\n",
    "-   while loop\n",
    "-   do..while loop\n",
    "-   for loop\n",
    "\n",
    "Estas estructuras de control se pueden combinar en programación informática. Una secuencia puede contener varios bucles; un bucle puede contener un bucle anidado dentro de él, o las dos ramas de un condicional pueden contener cada una secuencias con bucles y más condicionales. A partir de las siguientes lecciones, puede comprender las estructuras de control y las declaraciones en lenguaje Python"
   ],
   "cell_type": "markdown",
   "metadata": {}
  },
  {
   "cell_type": "markdown",
   "metadata": {},
   "source": [
    "## Condicionales\n",
    "\n",
    "### Python  if  Statement\n",
    "\n",
    "Un  *__if__*  statement  evalua  si  una  función  es  verdadera  o  falsa  y  ejecuta  el  código  subyacente si  es  verdadero\n",
    "\n",
    "#### Sintaxis\n",
    "\n",
    "```python\n",
    "if  Expresión_Lógica:\n",
    "    Bloque  de  Código  Identado\n",
    "```"
   ]
  },
  {
   "cell_type": "markdown",
   "metadata": {},
   "source": [
    "<img src=extra/Python-if-Statement-Syntax.png width=\"500\">"
   ]
  },
  {
   "cell_type": "markdown",
   "metadata": {},
   "source": [
    "Diagrama de Flujo para el IF\n",
    "\n",
    "![](extra/Basic-Python-if-Statement-Flowchart.png)"
   ]
  },
  {
   "cell_type": "markdown",
   "metadata": {},
   "source": [
    "#### Ejemplo\n"
   ]
  },
  {
   "cell_type": "code",
   "execution_count": 1,
   "metadata": {
    "tags": []
   },
   "outputs": [
    {
     "output_type": "stream",
     "name": "stdout",
     "text": "x es mayor\n"
    }
   ],
   "source": [
    "x = 7\n",
    "y = 5\n",
    "if x > y:\n",
    "    print('x es mayor')"
   ]
  },
  {
   "cell_type": "markdown",
   "metadata": {},
   "source": [
    "#### Importancia de la Identación en Python"
   ]
  },
  {
   "cell_type": "code",
   "execution_count": 2,
   "metadata": {},
   "outputs": [
    {
     "output_type": "error",
     "ename": "IndentationError",
     "evalue": "expected an indented block (<ipython-input-2-99bb0c275ba1>, line 4)",
     "traceback": [
      "\u001b[0;36m  File \u001b[0;32m\"<ipython-input-2-99bb0c275ba1>\"\u001b[0;36m, line \u001b[0;32m4\u001b[0m\n\u001b[0;31m    print('x es mayor')\u001b[0m\n\u001b[0m        ^\u001b[0m\n\u001b[0;31mIndentationError\u001b[0m\u001b[0;31m:\u001b[0m expected an indented block\n"
     ]
    }
   ],
   "source": [
    "x = 7\n",
    "y = 5\n",
    "if x > y:\n",
    "print('x es mayor')"
   ]
  },
  {
   "cell_type": "markdown",
   "metadata": {},
   "source": [
    "#### Operadores de Comporación\n",
    "\n",
    "|Operador\t| Significado |\n",
    "|-----------|-----------|\n",
    "|==\t|igual\t |\n",
    "|!=\t|desigual|\n",
    "|\\>\t|mayor\t|\n",
    "|\\>=\t|mayor o igual \t|\n",
    "|<\t|menor|\n",
    "|<=\t|menor o igual|"
   ]
  },
  {
   "cell_type": "markdown",
   "metadata": {},
   "source": [
    "#### Anidando IF"
   ]
  },
  {
   "cell_type": "code",
   "execution_count": 3,
   "metadata": {
    "tags": []
   },
   "outputs": [
    {
     "output_type": "stream",
     "name": "stdout",
     "text": "x es más grande que y\nx es mas grande que y y que z\n"
    }
   ],
   "source": [
    "x, y, z = 7, 4, 2\n",
    "if x > y:\n",
    "    print(\"x es más grande que y\")\n",
    "    if x > z:\n",
    "        print(\"x es mas grande que y y que z\")"
   ]
  },
  {
   "cell_type": "markdown",
   "metadata": {},
   "source": [
    "### If-Else"
   ]
  },
  {
   "cell_type": "markdown",
   "metadata": {},
   "source": [
    "Si  en  cambio  queremos  un  comportamiento  por  defecto\n",
    "\n",
    "#### Sintaxis\n",
    "\n",
    "```python\n",
    "if  Expresión_Lógica:\n",
    "    Bloque  1  de  Código  \n",
    "else\n",
    "    Bloque  2  de  Código  \n",
    "```"
   ]
  },
  {
   "cell_type": "markdown",
   "metadata": {},
   "source": [
    "<img src=extra/Python-if-else-Statement-Syntax.png width=\"500\">"
   ]
  },
  {
   "cell_type": "markdown",
   "metadata": {},
   "source": [
    "#### Diagrama de Flujo\n",
    "\n",
    "![](extra/Python-If-Else-Statement-Flowchart.png)"
   ]
  },
  {
   "cell_type": "markdown",
   "metadata": {},
   "source": [
    "#### Ejemplo"
   ]
  },
  {
   "cell_type": "code",
   "execution_count": 4,
   "metadata": {
    "tags": []
   },
   "outputs": [
    {
     "output_type": "stream",
     "name": "stdout",
     "text": "x es mayor\n"
    }
   ],
   "source": [
    "x, y = 7, 5\n",
    "if x < y:\n",
    "    print('y es mayor')\n",
    "else:\n",
    "    print('x es mayor')"
   ]
  },
  {
   "cell_type": "markdown",
   "metadata": {},
   "source": [
    "### If-Elif-Else\n",
    "\n",
    "Múltiples Condiciones\n",
    "\n",
    "#### Sintaxis\n",
    "``` python\n",
    "if  Expresión_Lógica:\n",
    "    Bloque  1  de  Código  \n",
    "elif Expresión_Lógica:\n",
    "    Bloque  2  de  Código \n",
    "#  .\n",
    "#  .\n",
    "#  .\n",
    "else\n",
    "    Bloque  n  de  Código\n",
    "```"
   ]
  },
  {
   "cell_type": "markdown",
   "metadata": {},
   "source": [
    "<img src=extra/Python-elif-Statement-Syntax.png width=\"600\">"
   ]
  },
  {
   "cell_type": "markdown",
   "metadata": {},
   "source": [
    "#### Diagrama de Flujo\n",
    "\n",
    "![](extra/Python-If-Elif-Else-Statement-Flowchart.png)"
   ]
  },
  {
   "cell_type": "markdown",
   "metadata": {},
   "source": [
    "#### Ejemplo"
   ]
  },
  {
   "cell_type": "code",
   "execution_count": 5,
   "metadata": {
    "tags": []
   },
   "outputs": [
    {
     "output_type": "stream",
     "name": "stdout",
     "text": "x e y son iguales\n"
    }
   ],
   "source": [
    "x, y = 5, 5\n",
    "if x > y:\n",
    "    print('x es mayor')\n",
    "elif x < y:\n",
    "    print('y es mayor')\n",
    "else:\n",
    "    print('x e y son iguales')"
   ]
  },
  {
   "cell_type": "markdown",
   "metadata": {},
   "source": [
    "## While Loop"
   ]
  },
  {
   "cell_type": "markdown",
   "metadata": {},
   "source": [
    "Vamos a iterar hasta que suceda el evento de interrupción\n",
    "\n",
    "#### Sintaxis\n",
    "\n",
    "```python\n",
    "while Expresión_Lógica:\n",
    "    Bloque  de  Código\n",
    "```"
   ]
  },
  {
   "cell_type": "markdown",
   "metadata": {},
   "source": [
    "<img src=extra/Python-while-Loop-Syntax.png width=\"500\">"
   ]
  },
  {
   "cell_type": "markdown",
   "metadata": {},
   "source": [
    "#### Diagrama de Flujo"
   ]
  },
  {
   "cell_type": "markdown",
   "metadata": {},
   "source": [
    "![](extra/python_while_loop.jpg)"
   ]
  },
  {
   "cell_type": "markdown",
   "metadata": {},
   "source": [
    "#### Ejemplo\n",
    "\n",
    "Itera hasta que un valor de falsedad ocurra "
   ]
  },
  {
   "cell_type": "code",
   "execution_count": 6,
   "metadata": {
    "tags": []
   },
   "outputs": [
    {
     "output_type": "stream",
     "name": "stdout",
     "text": "0\n1\n2\n3\n4\n"
    }
   ],
   "source": [
    "aux = 0\n",
    "\n",
    "while aux<5:\n",
    "    print(aux)\n",
    "    aux += 1"
   ]
  },
  {
   "cell_type": "markdown",
   "metadata": {},
   "source": [
    "También es una salida del while si el valor es igual a 0"
   ]
  },
  {
   "cell_type": "code",
   "execution_count": 7,
   "metadata": {
    "tags": []
   },
   "outputs": [
    {
     "output_type": "stream",
     "name": "stdout",
     "text": "6\n5\n4\n3\n2\n1\n"
    }
   ],
   "source": [
    "x = 6\n",
    "while x:\n",
    "    print(x)\n",
    "    x -= 1\n",
    "# 6 5 4 3 2 1"
   ]
  },
  {
   "cell_type": "markdown",
   "metadata": {},
   "source": [
    "O incluso si llego al final del la iteración y obtengo un elemeno nulo"
   ]
  },
  {
   "cell_type": "code",
   "execution_count": 8,
   "metadata": {
    "tags": []
   },
   "outputs": [
    {
     "output_type": "stream",
     "name": "stdout",
     "text": "blue\ngreen\nred\n"
    }
   ],
   "source": [
    "L = ['red', 'green', 'blue']\n",
    "while L:\n",
    "    print(L.pop())"
   ]
  },
  {
   "cell_type": "markdown",
   "metadata": {},
   "source": [
    "En cambio, si el valor inicial es igual a falso, no se ejecutará el código"
   ]
  },
  {
   "cell_type": "code",
   "execution_count": 9,
   "metadata": {},
   "outputs": [],
   "source": [
    "x = 0\n",
    "while x:\n",
    "    print(x)\n",
    "    x -= 1"
   ]
  },
  {
   "cell_type": "markdown",
   "metadata": {},
   "source": [
    "Finalmente, podemos construir una ejecución infinita\n",
    "\n",
    "```python\n",
    "while var == 1 :\n",
    "    Codigo\n",
    "```"
   ]
  },
  {
   "cell_type": "markdown",
   "metadata": {},
   "source": [
    "## Loops"
   ]
  },
  {
   "cell_type": "markdown",
   "metadata": {},
   "source": [
    "Herramientas para repetir una misma operación muchas veces\n",
    "\n",
    "#### Sintaxis\n",
    "\n",
    "``` python\n",
    "for var in iterable:\n",
    "    Bloque  de  Código\n",
    "    # return output\n",
    "    \n",
    "```"
   ]
  },
  {
   "cell_type": "markdown",
   "metadata": {},
   "source": [
    "![](extra/Python-for-Loop-Syntax.png)"
   ]
  },
  {
   "cell_type": "markdown",
   "metadata": {},
   "source": [
    "#### Diagrama de Flujo\n"
   ]
  },
  {
   "cell_type": "markdown",
   "metadata": {},
   "source": [
    "![](extra/python_for_loop.jpg)"
   ]
  },
  {
   "cell_type": "markdown",
   "metadata": {},
   "source": [
    "#### Ejemplo"
   ]
  },
  {
   "cell_type": "code",
   "execution_count": 10,
   "metadata": {
    "tags": []
   },
   "outputs": [
    {
     "output_type": "stream",
     "name": "stdout",
     "text": "azul\nverde\nrojo\namarillo\n"
    }
   ],
   "source": [
    "colores = ['azul', 'verde', 'rojo', 'amarillo']\n",
    "for x in colores:\n",
    "    print(x)"
   ]
  },
  {
   "cell_type": "markdown",
   "metadata": {},
   "source": [
    "Podemos loopear sobre una lista"
   ]
  },
  {
   "cell_type": "code",
   "execution_count": 11,
   "metadata": {
    "tags": []
   },
   "outputs": [
    {
     "output_type": "stream",
     "name": "stdout",
     "text": "21\n"
    }
   ],
   "source": [
    "int_list  =  [1,  2,  3,  4,  5,  6]\n",
    "\n",
    "suma  =  0\n",
    "\n",
    "for  i  in  int_list:\n",
    "    suma  +=  i\n",
    "\n",
    "print(suma)"
   ]
  },
  {
   "cell_type": "markdown",
   "metadata": {},
   "source": [
    "Podemos loopear sobre un diccionario usando sus claves"
   ]
  },
  {
   "cell_type": "code",
   "execution_count": 12,
   "metadata": {
    "tags": []
   },
   "outputs": [
    {
     "output_type": "stream",
     "name": "stdout",
     "text": "a\nb\nc\n"
    }
   ],
   "source": [
    "diccionario = {\"a\": 1, \"b\": 2, \"c\": 3}\n",
    "\n",
    "for clave in diccionario:\n",
    "    print(clave)"
   ]
  },
  {
   "cell_type": "markdown",
   "metadata": {},
   "source": [
    "o sobre los valores"
   ]
  },
  {
   "cell_type": "code",
   "execution_count": 13,
   "metadata": {
    "tags": []
   },
   "outputs": [
    {
     "output_type": "stream",
     "name": "stdout",
     "text": "1\n2\n3\n"
    }
   ],
   "source": [
    "for valor  in  diccionario.values():\n",
    "    print(valor)"
   ]
  },
  {
   "cell_type": "markdown",
   "metadata": {},
   "source": [
    "incluso podemos loopear sobre el par clave-valor"
   ]
  },
  {
   "cell_type": "code",
   "execution_count": 14,
   "metadata": {
    "tags": []
   },
   "outputs": [
    {
     "output_type": "stream",
     "name": "stdout",
     "text": "a 1\nb 2\nc 3\n"
    }
   ],
   "source": [
    "for  clave, valor  in  diccionario.items():\n",
    "    print(clave, valor )"
   ]
  },
  {
   "cell_type": "markdown",
   "metadata": {},
   "source": [
    "#### Range"
   ]
  },
  {
   "cell_type": "markdown",
   "metadata": {},
   "source": [
    "Existe una función que nos ayudará en nuestras tareas"
   ]
  },
  {
   "cell_type": "code",
   "execution_count": 15,
   "metadata": {},
   "outputs": [
    {
     "output_type": "execute_result",
     "data": {
      "text/plain": "range(0, 10)"
     },
     "metadata": {},
     "execution_count": 15
    }
   ],
   "source": [
    "range(0, 10)"
   ]
  },
  {
   "cell_type": "code",
   "execution_count": 16,
   "metadata": {},
   "outputs": [
    {
     "output_type": "execute_result",
     "data": {
      "text/plain": "range(0, 10)"
     },
     "metadata": {},
     "execution_count": 16
    }
   ],
   "source": [
    "range(10)"
   ]
  },
  {
   "cell_type": "code",
   "execution_count": 17,
   "metadata": {},
   "outputs": [
    {
     "output_type": "execute_result",
     "data": {
      "text/plain": "range"
     },
     "metadata": {},
     "execution_count": 17
    }
   ],
   "source": [
    "type(range(0,  10))"
   ]
  },
  {
   "cell_type": "code",
   "execution_count": 18,
   "metadata": {},
   "outputs": [
    {
     "output_type": "execute_result",
     "data": {
      "text/plain": "[0, 1, 2, 3, 4, 5, 6, 7, 8, 9]"
     },
     "metadata": {},
     "execution_count": 18
    }
   ],
   "source": [
    "[*range(0,  10)]"
   ]
  },
  {
   "cell_type": "code",
   "execution_count": 19,
   "metadata": {},
   "outputs": [
    {
     "output_type": "execute_result",
     "data": {
      "text/plain": "0"
     },
     "metadata": {},
     "execution_count": 19
    }
   ],
   "source": [
    "range(0,  10)[0]"
   ]
  },
  {
   "cell_type": "code",
   "execution_count": 20,
   "metadata": {},
   "outputs": [
    {
     "output_type": "execute_result",
     "data": {
      "text/plain": "9"
     },
     "metadata": {},
     "execution_count": 20
    }
   ],
   "source": [
    "range(0,  10)[9]"
   ]
  },
  {
   "cell_type": "code",
   "execution_count": 21,
   "metadata": {},
   "outputs": [
    {
     "output_type": "execute_result",
     "data": {
      "text/plain": "10"
     },
     "metadata": {},
     "execution_count": 21
    }
   ],
   "source": [
    "len(range(0,  10))"
   ]
  },
  {
   "cell_type": "code",
   "execution_count": 22,
   "metadata": {
    "tags": []
   },
   "outputs": [
    {
     "output_type": "stream",
     "name": "stdout",
     "text": "0\n1\n2\n3\n4\n5\n6\n7\n8\n9\n"
    }
   ],
   "source": [
    "for i in range(10):\n",
    "    print(i)"
   ]
  },
  {
   "cell_type": "markdown",
   "metadata": {},
   "source": [
    "#### Operadores  de  flujo"
   ]
  },
  {
   "cell_type": "code",
   "execution_count": 23,
   "metadata": {
    "tags": []
   },
   "outputs": [
    {
     "output_type": "stream",
     "name": "stdout",
     "text": "Numero es 0\nNumero es 1\nNumero es 2\nNumero es 3\nNumero es 4\n"
    }
   ],
   "source": [
    "# break\n",
    "\n",
    "numero = 0\n",
    "\n",
    "for numero in range(10):\n",
    "    if numero == 5:\n",
    "        break    # break \n",
    "    print('Numero es ' + str(numero))"
   ]
  },
  {
   "cell_type": "code",
   "execution_count": 24,
   "metadata": {
    "tags": []
   },
   "outputs": [
    {
     "output_type": "stream",
     "name": "stdout",
     "text": "Numero es 0\nNumero es 1\nNumero es 2\nNumero es 3\nNumero es 4\nNumero es 6\nNumero es 7\nNumero es 8\nNumero es 9\n"
    }
   ],
   "source": [
    "# continue\n",
    "\n",
    "numero = 0\n",
    "\n",
    "for numero in range(10):\n",
    "    if numero == 5:\n",
    "        continue    # continue\n",
    "    print('Numero es ' + str(numero))\n"
   ]
  },
  {
   "cell_type": "code",
   "execution_count": 25,
   "metadata": {
    "tags": []
   },
   "outputs": [
    {
     "output_type": "stream",
     "name": "stdout",
     "text": "Numero es 0\nNumero es 1\nNumero es 2\nNumero es 3\nNumero es 4\nNumero es 5\nNumero es 6\nNumero es 7\nNumero es 8\nNumero es 9\n"
    }
   ],
   "source": [
    "# pass\n",
    "\n",
    "numero = 0\n",
    "\n",
    "for numero in range(10):\n",
    "    if numero == 5:\n",
    "        pass    # continue\n",
    "    print('Numero es ' + str(numero))\n",
    "\n"
   ]
  }
 ],
 "metadata": {
  "kernelspec": {
   "display_name": "Python 3",
   "language": "python",
   "name": "python3"
  },
  "language_info": {
   "codemirror_mode": {
    "name": "ipython",
    "version": 3
   },
   "file_extension": ".py",
   "mimetype": "text/x-python",
   "name": "python",
   "nbconvert_exporter": "python",
   "pygments_lexer": "ipython3",
   "version": "3.6.9-final"
  },
  "latex_envs": {
   "LaTeX_envs_menu_present": true,
   "autoclose": true,
   "autocomplete": true,
   "bibliofile": "biblio.bib",
   "cite_by": "apalike",
   "current_citInitial": 1,
   "eqLabelWithNumbers": true,
   "eqNumInitial": 1,
   "hotkeys": {
    "equation": "Ctrl-E",
    "itemize": "Ctrl-I"
   },
   "labels_anchors": false,
   "latex_user_defs": false,
   "report_style_numbering": false,
   "user_envs_cfg": false
  },
  "toc": {
   "base_numbering": 1,
   "nav_menu": {},
   "number_sections": false,
   "sideBar": true,
   "skip_h1_title": false,
   "title_cell": "Table of Contents",
   "title_sidebar": "Contents",
   "toc_cell": false,
   "toc_position": {},
   "toc_section_display": true,
   "toc_window_display": true
  }
 },
 "nbformat": 4,
 "nbformat_minor": 2
}