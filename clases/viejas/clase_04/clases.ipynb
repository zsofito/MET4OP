{
 "cells": [
  {
   "cell_type": "markdown",
   "metadata": {},
   "source": [
    "# Programación Orientada a Objetos\n",
    "\n",
    "### ¿Qué es la programación orientada a objetos en Python?\n",
    "\n",
    "La programación orientada a objetos es un paradigma de programación que proporciona un medio para estructurar programas de modo que las propiedades y los comportamientos se agrupen en objetos individuales .\n",
    "\n",
    "Por ejemplo, un objeto podría representar a una persona con propiedades como nombre, edad y dirección y comportamientos como caminar, hablar, respirar y correr. O podría representar un correo electrónico con propiedades como una lista de destinatarios, asunto y cuerpo y comportamientos como agregar archivos adjuntos y enviar.\n",
    "\n",
    "Dicho de otra manera, la programación orientada a objetos es un enfoque para modelar cosas concretas del mundo real, como automóviles, así como relaciones entre cosas, como empresas y empleados, estudiantes y profesores, etc. OOP modela entidades del mundo real como objetos de software que tienen algunos datos asociados con ellos y pueden realizar ciertas funciones.\n",
    "\n",
    "Otro paradigma de programación común es la programación procedimental , que estructura un programa como una receta en el sentido de que proporciona un conjunto de pasos, en forma de funciones y bloques de código, que fluyen secuencialmente para completar una tarea.\n",
    "\n",
    "La conclusión clave es que los objetos están en el centro de la programación orientada a objetos en Python, no solo representando los datos, como en la programación procedimental, sino también en la estructura general del programa.\n",
    "\n",
    "### Definir una clase en Python\n",
    "\n",
    "Las estructuras de datos primitivas , como números, cadenas y listas, están diseñadas para representar piezas simples de información, como el costo de una manzana, el nombre de un poema o sus colores favoritos, respectivamente. ¿Qué pasa si quieres representar algo más complejo?\n",
    "\n",
    "Por ejemplo, supongamos que desea realizar un seguimiento de los empleados en una organización. Debe almacenar cierta información básica sobre cada empleado, como su nombre, edad, puesto y el año en que comenzó a trabajar.\n",
    "\n",
    "Una forma de hacer esto es representar a cada empleado como una lista :\n"
   ]
  },
  {
   "cell_type": "code",
   "execution_count": 1,
   "metadata": {},
   "outputs": [],
   "source": [
    "kirk = [\"James Kirk\", 34, \"Captain\", 2265]\n",
    "spock = [\"Spock\", 35, \"Science Officer\", 2254]\n",
    "mccoy = [\"Leonard McCoy\", \"Chief Medical Officer\", 2266]"
   ]
  },
  {
   "source": [
    "Hay varios problemas con este enfoque. Primero, puede hacer que los archivos de código más grandes sean más difíciles de administrar. Si hace referencia a kirk\\[0\\] varias líneas de donde kirk se declara la lista, ¿recordará que el elemento con índice 0 es el nombre del empleado? En segundo lugar, puede introducir errores si no todos los empleados tienen el mismo número de elementos en la lista. Una excelente manera de hacer que este tipo de código sea más manejable y más fácil de mantener es usar clases.\n",
    "\n",
    "### Clases frente a instancias\n",
    "\n",
    "Las clases se utilizan para crear estructuras de datos definidas por el usuario. Las clases definen funciones llamadas métodos , que identifican los comportamientos y acciones que un objeto creado a partir de la clase puede realizar con sus datos.\n",
    "\n",
    "Una clase es un modelo de cómo se debe definir algo. En realidad, no contiene ningún dato. Mientras que la clase es el plano, una instancia es un objeto que se construye a partir de una clase y contiene datos reales. \n",
    "\n",
    "Dicho de otra manera, una clase es como un formulario o cuestionario. Una instancia es como un formulario que se ha llenado con información. Al igual que muchas personas pueden completar el mismo formulario con su propia información única, se pueden crear muchas instancias a partir de una sola clase."
   ],
   "cell_type": "markdown",
   "metadata": {}
  },
  {
   "cell_type": "markdown",
   "metadata": {},
   "source": [
    "## Características de la POO\n",
    "\n",
    "Características que definen a este modelo de programación:\n",
    "\n",
    "#### Abstracción\n",
    "\n",
    "Se refiere a que un elemento pueda aislarse del resto de elementos y de su contexto para centrar el interés en lo qué hace y no en cómo lo hace (caja negra). \n",
    "\n",
    "#### Modularidad\n",
    "\n",
    "Es la capacidad de dividir una aplicación en partes más pequeñas independientes y reutilizables llamadas módulos. \n",
    "\n",
    "#### Encapsulación\n",
    "\n",
    "Consiste en reunir todos los elementos posibles de una entidad al mismo nivel de abstracción para aumentar la cohesión, contando con la posibilidad de ocultar los atributos de un objeto (en Python, sólo se ocultan en apariencia).\n",
    "\n",
    "\n",
    "#### Herencia\n",
    "\n",
    "se refiere a que una clase pueda heredar las características de una clase superior para obtener objetos similares. Se heredan tanto los atributos como los métodos. Éstos últimos pueden sobrescribirse para adaptarlos a las necesidades de la nueva clase. A la posibilidad de heredar atributos y métodos de varias clases se denomina Herencia Múltiple.\n",
    "\n",
    "#### Polimorfismo\n",
    "\n",
    "Alude a la posibilidad de identificar de la misma forma comportamientos similares asociados a objetos distintos. La idea es que se sigan siempre las mismas pautas aunque los objetos y los resultados sean otros.\n",
    "\n",
    "\n"
   ]
  },
  {
   "cell_type": "markdown",
   "metadata": {},
   "source": [
    "## Crear clases\n",
    "\n",
    "Una clase consta de dos partes: un encabezado que comienza con el término class seguido del nombre de la clase (en singular) y dos puntos (:) y un cuerpo donde se declaran los atributos y los métodos, con la posibilidad de documentarla."
   ]
  },
  {
   "cell_type": "code",
   "execution_count": 4,
   "metadata": {},
   "outputs": [
    {
     "output_type": "execute_result",
     "data": {
      "text/plain": [
       "<__main__.Perro at 0x7fedfb9741d0>"
      ]
     },
     "metadata": {},
     "execution_count": 4
    }
   ],
   "source": [
    "class Perro:\n",
    "    \"\"\"\n",
    "        Doc opcional\n",
    "    \"\"\"\n",
    "    pass\n",
    "\n",
    "Perro()"
   ]
  },
  {
   "source": [
    "Ahora se tiene un nuevo Perro-objeto en 0x106702d30. Esta cadena de letras y números de aspecto divertido es una dirección de memoria que indica dónde Dogestá almacenado el objeto en la memoria de su computadora. "
   ],
   "cell_type": "markdown",
   "metadata": {}
  },
  {
   "cell_type": "code",
   "execution_count": 5,
   "metadata": {},
   "outputs": [
    {
     "output_type": "execute_result",
     "data": {
      "text/plain": [
       "False"
      ]
     },
     "metadata": {},
     "execution_count": 5
    }
   ],
   "source": [
    "a = Perro()\n",
    "b = Perro()\n",
    "a == b"
   ]
  },
  {
   "source": [
    "En este código, crea dos nuevos Perro-objetos y los asigna a las variables ay b. Cuando compara, el resultado es False a pesar de que son las dos instancias de la Perro-clase, que representan dos objetos distintos en la memoria."
   ],
   "cell_type": "markdown",
   "metadata": {}
  },
  {
   "source": [
    "### Construyendo una Clase\n",
    "\n",
    "El método __init__() es especial porque se ejecuta automáticamente cada vez que se crea una nuevo objeto. Este método, que es opcional, se llama constructor y se suele utilizar para inicializar las variables de las instancias (en este caso para inicializar las variables self.nombre y self.edad). \n"
   ],
   "cell_type": "markdown",
   "metadata": {}
  },
  {
   "cell_type": "code",
   "execution_count": 9,
   "metadata": {},
   "outputs": [],
   "source": [
    "class Perro:\n",
    "    def __init__(self, nombre, edad):\n",
    "        self.nombre = nombre\n",
    "        self.edad = edad\n"
   ]
  },
  {
   "cell_type": "code",
   "execution_count": 10,
   "metadata": {},
   "outputs": [
    {
     "output_type": "error",
     "ename": "TypeError",
     "evalue": "__init__() missing 2 required positional arguments: 'nombre' and 'edad'",
     "traceback": [
      "\u001b[0;31m---------------------------------------------------------------------------\u001b[0m",
      "\u001b[0;31mTypeError\u001b[0m                                 Traceback (most recent call last)",
      "\u001b[0;32m<ipython-input-10-85cd0f0d1dac>\u001b[0m in \u001b[0;36m<module>\u001b[0;34m\u001b[0m\n\u001b[0;32m----> 1\u001b[0;31m \u001b[0mPerro\u001b[0m\u001b[0;34m(\u001b[0m\u001b[0;34m)\u001b[0m\u001b[0;34m\u001b[0m\u001b[0;34m\u001b[0m\u001b[0m\n\u001b[0m",
      "\u001b[0;31mTypeError\u001b[0m: __init__() missing 2 required positional arguments: 'nombre' and 'edad'"
     ]
    }
   ],
   "source": [
    "Perro()"
   ]
  },
  {
   "source": [
    "En este caso, para crear un objeto del tipo perro, debemos pasarle el nombre y la edad"
   ],
   "cell_type": "markdown",
   "metadata": {}
  },
  {
   "cell_type": "code",
   "execution_count": 16,
   "metadata": {},
   "outputs": [],
   "source": [
    "a = Perro(\"milu\",5)\n",
    "b = Perro(\"pucheto\",10)"
   ]
  },
  {
   "source": [
    "Notese que ```.__init__()``` tiene tres parámetros, entonces, ¿por qué solo se le pasan dos argumentos en el ejemplo?\n",
    "\n",
    "Cuando Perro crea una instancia de un objeto, Python crea una nueva instancia y se la pasa al primer parámetro de ```.__init__()```. Básicamente, esto elimina el parámetro ```self```, por lo que solo debe preocuparse por los parámetros edad y nombre."
   ],
   "cell_type": "markdown",
   "metadata": {}
  },
  {
   "source": [
    "## Atributos"
   ],
   "cell_type": "markdown",
   "metadata": {}
  },
  {
   "source": [
    "### Atributos de instancia\n",
    "\n",
    "La clase perro tiene dos atributos de instancia, nombre y edad, a los cuales accedemos mediante la notación de puntos\n"
   ],
   "cell_type": "markdown",
   "metadata": {}
  },
  {
   "cell_type": "code",
   "execution_count": 17,
   "metadata": {},
   "outputs": [
    {
     "output_type": "execute_result",
     "data": {
      "text/plain": [
       "'milu'"
      ]
     },
     "metadata": {},
     "execution_count": 17
    }
   ],
   "source": [
    "a.nombre"
   ]
  },
  {
   "cell_type": "code",
   "execution_count": 18,
   "metadata": {},
   "outputs": [
    {
     "output_type": "execute_result",
     "data": {
      "text/plain": [
       "5"
      ]
     },
     "metadata": {},
     "execution_count": 18
    }
   ],
   "source": [
    "a.edad"
   ]
  },
  {
   "source": [
    "### Atributos de instancia privados\n",
    "\n",
    "Podemos con python utilizar los objetos para definir variables que esten \"\"\"escondidas\"\"\" (ojo) del programa principal.\n"
   ],
   "cell_type": "markdown",
   "metadata": {}
  },
  {
   "cell_type": "code",
   "execution_count": 1,
   "metadata": {},
   "outputs": [],
   "source": [
    "class Perro:\n",
    "    def __init__(self, nombre, edad, duenio):\n",
    "        self.nombre = nombre\n",
    "        self.edad = edad\n",
    "        self.__duenio = duenio  # Privada\n",
    "\n",
    "a = Perro(\"Milu\", 5, \"Tintin\")"
   ]
  },
  {
   "cell_type": "code",
   "execution_count": 2,
   "metadata": {},
   "outputs": [
    {
     "output_type": "error",
     "ename": "AttributeError",
     "evalue": "'Perro' object has no attribute '__duenio'",
     "traceback": [
      "\u001b[0;31m---------------------------------------------------------------------------\u001b[0m",
      "\u001b[0;31mAttributeError\u001b[0m                            Traceback (most recent call last)",
      "\u001b[0;32m<ipython-input-2-b35ad045279b>\u001b[0m in \u001b[0;36m<module>\u001b[0;34m\u001b[0m\n\u001b[0;32m----> 1\u001b[0;31m \u001b[0ma\u001b[0m\u001b[0;34m.\u001b[0m\u001b[0m__duenio\u001b[0m\u001b[0;34m\u001b[0m\u001b[0;34m\u001b[0m\u001b[0m\n\u001b[0m",
      "\u001b[0;31mAttributeError\u001b[0m: 'Perro' object has no attribute '__duenio'"
     ]
    }
   ],
   "source": [
    "a.__duenio"
   ]
  },
  {
   "source": [
    "### Atributos de Clases\n",
    "\n",
    "Podemos con python definir \"variables\" que son compartidas por todos los objetos de una misma clase. En otras palabras, atributos que le corresponden a la Clase. Veamos un ejemplo:"
   ],
   "cell_type": "markdown",
   "metadata": {}
  },
  {
   "cell_type": "code",
   "execution_count": 47,
   "metadata": {},
   "outputs": [
    {
     "output_type": "stream",
     "name": "stdout",
     "text": [
      "Creaste 1 Perros\nCreaste 2 Perros\n"
     ]
    }
   ],
   "source": [
    "class Perro:\n",
    "    contador = 0\n",
    "    especie = \"Canis familiaris\"\n",
    "\n",
    "    def __init__(self, nombre, edad, duenio):\n",
    "        Perro.contador += 1\n",
    "        print(\"Creaste \" + str(Perro.contador) + \" Perros\")\n",
    "        self.nombre = nombre\n",
    "        self.edad = edad\n",
    "        self.__duenio = duenio  # Privada\n",
    "\n",
    "a = Perro(\"Milu\", 5, \"Tintin\")\n",
    "b = Perro(\"mendieta\", 10, \"Pereyra\")"
   ]
  },
  {
   "cell_type": "markdown",
   "metadata": {},
   "source": [
    "### Atributos de clase incorporados (built-in)\n",
    "\n",
    "Cada clase de Python sigue los atributos incorporados y se puede acceder a ellos usando el operador de puntos como cualquier otro atributo:\n",
    "\n",
    "```__dict__```: diccionario que contiene el espacio de nombres de la clase.\n",
    "\n",
    "```__doc__```: cadena de documentación de la clase o ninguna, si no está definida.\n",
    "\n",
    "```__name__```: nombre de la clase.\n",
    "\n",
    "```__module__```: nombre del módulo en el que se define la clase. Este atributo es \"__main__\" en modo interactivo.\n",
    "\n",
    "```__bases__```: una tupla posiblemente vacía que contiene las clases base, en el orden en que aparecen en la lista de clases base."
   ]
  },
  {
   "cell_type": "code",
   "execution_count": 42,
   "metadata": {},
   "outputs": [],
   "source": [
    "Perro.__doc__"
   ]
  },
  {
   "cell_type": "code",
   "execution_count": 43,
   "metadata": {},
   "outputs": [
    {
     "output_type": "execute_result",
     "data": {
      "text/plain": [
       "'Perro'"
      ]
     },
     "metadata": {},
     "execution_count": 43
    }
   ],
   "source": [
    "Perro.__name__"
   ]
  },
  {
   "cell_type": "code",
   "execution_count": 44,
   "metadata": {},
   "outputs": [
    {
     "output_type": "execute_result",
     "data": {
      "text/plain": [
       "'__main__'"
      ]
     },
     "metadata": {},
     "execution_count": 44
    }
   ],
   "source": [
    "Perro.__module__"
   ]
  },
  {
   "cell_type": "code",
   "execution_count": 45,
   "metadata": {},
   "outputs": [
    {
     "output_type": "execute_result",
     "data": {
      "text/plain": [
       "(object,)"
      ]
     },
     "metadata": {},
     "execution_count": 45
    }
   ],
   "source": [
    "Perro.__bases__"
   ]
  },
  {
   "cell_type": "code",
   "execution_count": 46,
   "metadata": {},
   "outputs": [
    {
     "output_type": "stream",
     "name": "stdout",
     "text": [
      "Perro.__dict__: {'__module__': '__main__', 'contador': 2, '__init__': <function Perro.__init__ at 0x7fedf95fd0d0>, '__dict__': <attribute '__dict__' of 'Perro' objects>, '__weakref__': <attribute '__weakref__' of 'Perro' objects>, '__doc__': None}\n"
     ]
    }
   ],
   "source": [
    "print (\"Perro.__dict__:\", Perro.__dict__ )"
   ]
  },
  {
   "source": [
    "## Métodos de instancia\n",
    "\n",
    "Los métodos de instancia son funciones que se definen dentro de una clase y solo se pueden llamar desde una instancia de esa clase. Al igual que ```.__init__()```, el primer parámetro de un método de instancia es siempre self."
   ],
   "cell_type": "markdown",
   "metadata": {}
  },
  {
   "cell_type": "code",
   "execution_count": 48,
   "metadata": {},
   "outputs": [],
   "source": [
    "class Perro:\n",
    "    especie = \"Canis familiaris\"\n",
    "\n",
    "    def __init__(self, nombre, edad, duenio):\n",
    "        self.nombre = nombre\n",
    "        self.edad = edad\n",
    "        self.__duenio = duenio  # Privada\n",
    "\n",
    "    # Instance method\n",
    "    def descripcion(self):\n",
    "        return f\"{self.nombre} tiene {self.edad} años\"\n",
    "\n",
    "    # Otro instance method\n",
    "    def hablar(self, sonido):\n",
    "        return f\"{self.nombre} dice {sonido}\"\n"
   ]
  },
  {
   "source": [
    "Esta Perro-clase tiene dos métodos de instancia:\n",
    "\n",
    "- ```.descripcion()``` devuelve una cadena que muestra el nombre y la edad del perro.\n",
    "- ```.hablar()``` tiene un parámetro llamado sonido devuelve una cadena que contiene el nombre del perro y el sonido que hace el perro.\n"
   ],
   "cell_type": "markdown",
   "metadata": {}
  },
  {
   "cell_type": "code",
   "execution_count": 50,
   "metadata": {},
   "outputs": [
    {
     "output_type": "execute_result",
     "data": {
      "text/plain": [
       "'Milu tiene 5 años'"
      ]
     },
     "metadata": {},
     "execution_count": 50
    }
   ],
   "source": [
    "a = Perro(\"Milu\", 5, \"Tintin\")\n",
    "a.descripcion()"
   ]
  },
  {
   "cell_type": "code",
   "execution_count": 51,
   "metadata": {},
   "outputs": [
    {
     "output_type": "execute_result",
     "data": {
      "text/plain": [
       "'Milu dice wouf wouf'"
      ]
     },
     "metadata": {},
     "execution_count": 51
    }
   ],
   "source": [
    "a.hablar(\"wouf wouf\")"
   ]
  },
  {
   "cell_type": "markdown",
   "metadata": {},
   "source": [
    "### Métodos para atributos: getattr(), hasattr(), setattr() y delattr()\n",
    "\n",
    "#### getattr()\n",
    "\n",
    "La función getattr() se utiliza para acceder al valor del atributo de un objeto. Si un atributo no existe retorna el valor del tercer argumento (es opcional)."
   ]
  },
  {
   "cell_type": "code",
   "execution_count": 55,
   "metadata": {},
   "outputs": [
    {
     "output_type": "execute_result",
     "data": {
      "text/plain": [
       "5"
      ]
     },
     "metadata": {},
     "execution_count": 55
    }
   ],
   "source": [
    "getattr(a, 'edad', \"no tiene\")"
   ]
  },
  {
   "cell_type": "code",
   "execution_count": 56,
   "metadata": {},
   "outputs": [
    {
     "output_type": "execute_result",
     "data": {
      "text/plain": [
       "'no tiene'"
      ]
     },
     "metadata": {},
     "execution_count": 56
    }
   ],
   "source": [
    "getattr(a, 'nacionalidad', \"no tiene\")"
   ]
  },
  {
   "cell_type": "markdown",
   "metadata": {},
   "source": [
    "#### hasattr()\n",
    "\n",
    "La función hasattr() devuelve True o False dependiendo si existe o no el atributo indicado."
   ]
  },
  {
   "cell_type": "code",
   "execution_count": 58,
   "metadata": {},
   "outputs": [
    {
     "output_type": "stream",
     "name": "stdout",
     "text": [
      "El atributo 'nacionalidad' no existe\n"
     ]
    }
   ],
   "source": [
    "if not hasattr(a, 'nacionalidad'):\n",
    "    print(\"El atributo 'nacionalidad' no existe\")"
   ]
  },
  {
   "cell_type": "markdown",
   "metadata": {},
   "source": [
    "#### setattr()\n",
    "\n",
    "Se utiliza para asignar un valor a un atributo. Si el atributo no existe entonces será creado."
   ]
  },
  {
   "cell_type": "code",
   "execution_count": 61,
   "metadata": {},
   "outputs": [
    {
     "output_type": "execute_result",
     "data": {
      "text/plain": [
       "'francesa'"
      ]
     },
     "metadata": {},
     "execution_count": 61
    }
   ],
   "source": [
    "setattr(a, 'nacionalidad', \"francesa\")\n",
    "a.nacionalidad"
   ]
  },
  {
   "cell_type": "markdown",
   "metadata": {},
   "source": [
    "#### delattr()\n",
    "\n",
    "La función delattr() es para borrar el atributo de un objeto. Si el atributo no existe se producirá una excepción del tipo AttributeError."
   ]
  },
  {
   "cell_type": "code",
   "execution_count": 62,
   "metadata": {},
   "outputs": [
    {
     "output_type": "error",
     "ename": "AttributeError",
     "evalue": "'Perro' object has no attribute 'nacionalidad'",
     "traceback": [
      "\u001b[0;31m---------------------------------------------------------------------------\u001b[0m",
      "\u001b[0;31mAttributeError\u001b[0m                            Traceback (most recent call last)",
      "\u001b[0;32m<ipython-input-62-a5988b106555>\u001b[0m in \u001b[0;36m<module>\u001b[0;34m\u001b[0m\n\u001b[1;32m      1\u001b[0m \u001b[0mdelattr\u001b[0m\u001b[0;34m(\u001b[0m\u001b[0ma\u001b[0m\u001b[0;34m,\u001b[0m \u001b[0;34m'nacionalidad'\u001b[0m\u001b[0;34m)\u001b[0m\u001b[0;34m\u001b[0m\u001b[0;34m\u001b[0m\u001b[0m\n\u001b[0;32m----> 2\u001b[0;31m \u001b[0ma\u001b[0m\u001b[0;34m.\u001b[0m\u001b[0mnacionalidad\u001b[0m\u001b[0;34m\u001b[0m\u001b[0;34m\u001b[0m\u001b[0m\n\u001b[0m",
      "\u001b[0;31mAttributeError\u001b[0m: 'Perro' object has no attribute 'nacionalidad'"
     ]
    }
   ],
   "source": [
    "\n",
    "delattr(a, 'nacionalidad')\n",
    "a.nacionalidad"
   ]
  },
  {
   "source": [
    "### El método Destructor\n",
    "\n",
    "Los destructores se llaman cuando un objeto es destruido. Es el polo opuesto del constructor, que se llama en la creación. Estos métodos solo se utilizan para la creación y destrucción del objeto. No se llaman manualmente, sino completamente automáticos cuando un objeto es eliminado o destruido.\n",
    "\n",
    "Un objeto se destruye llamando a:\n",
    "\n",
    "```python\n",
    "del obj\n",
    "```\n",
    "\n",
    "Veamos un ejemplo:\n"
   ],
   "cell_type": "markdown",
   "metadata": {}
  },
  {
   "cell_type": "code",
   "execution_count": 68,
   "metadata": {},
   "outputs": [
    {
     "output_type": "stream",
     "name": "stdout",
     "text": [
      "Existen 1 Perros\nExisten 2 Perros\nExisten 3 Perros\nExisten 2 Perros\nExisten 1 Perros\nExisten 0 Perros\n"
     ]
    }
   ],
   "source": [
    "class Prro:\n",
    "    contador = 0\n",
    "    especie = \"Canis familiaris\"\n",
    "\n",
    "    def __init__(self, nombre):\n",
    "        Prro.contador += 1\n",
    "        print(\"Existen \" + str(Prro.contador) + \" Perros\")\n",
    "        self.nombre = nombre\n",
    "\n",
    "    def __del__(self):\n",
    "        Prro.contador -= 1\n",
    "        print(\"Existen \" + str(Prro.contador) + \" Perros\")\n",
    "\n",
    "p1 = Prro(\"Milu\")\n",
    "p2 = Prro(\"Mendieta\")\n",
    "p3 = Prro(\"Pucheto\")\n",
    "del p3\n",
    "del p1\n",
    "del p2"
   ]
  },
  {
   "source": [
    "## Herencia\n",
    "\n",
    "La herencia es el proceso mediante el cual una clase adquiere los atributos y métodos de otra. Las clases recién formadas se denominan clases secundarias y las clases de las que se derivan las clases secundarias se denominan clases principales.\n",
    "\n",
    "Las clases secundarias pueden anular o ampliar los atributos y métodos de las clases principales. En otras palabras, las clases secundarias heredan todos los atributos y métodos de los padres, pero también pueden especificar atributos y métodos que son únicos para ellos.\n",
    "\n",
    "Aunque la analogía no es perfecta, puede pensar en la herencia de objetos como una especie de herencia genética.\n",
    "\n",
    "Heredas, en cierto sentido, tu idioma de tus padres. Si tus padres hablan inglés, tú también hablarás inglés. Ahora imagina que decides aprender un segundo idioma, como el alemán. En este caso, ha ampliado sus atributos porque ha añadido un atributo que sus padres no tienen."
   ],
   "cell_type": "markdown",
   "metadata": {}
  },
  {
   "cell_type": "code",
   "execution_count": null,
   "metadata": {},
   "outputs": [],
   "source": [
    "Ejemplo de parque para perros\n",
    "\n",
    "Imagina por un momento que estás en un parque para perros. Hay muchos perros de diferentes razas en el parque, todos participando en diversos comportamientos caninos. Suponga ahora que desea modelar el parque para perros con clases de Python. La Dogclase que escribió en la sección anterior puede distinguir perros por nombre y edad, pero no por raza."
   ]
  },
  {
   "cell_type": "code",
   "execution_count": 75,
   "metadata": {},
   "outputs": [],
   "source": [
    "class Dog:\n",
    "    species = \"Canis familiaris\"\n",
    "\n",
    "    def __init__(self, name, age, breed):\n",
    "        self.name = name\n",
    "        self.age = age\n",
    "        self.breed = breed\n",
    "    \n",
    "    # instance method\n",
    "    def speak(self, sound):\n",
    "        return f\"{self.name} says {sound}\"\n"
   ]
  },
  {
   "cell_type": "code",
   "execution_count": 76,
   "metadata": {},
   "outputs": [],
   "source": [
    "miles = Dog(\"Miles\", 4, \"Jack Russell Terrier\")\n",
    "buddy = Dog(\"Buddy\", 9, \"Dachshund\")\n",
    "jack = Dog(\"Jack\", 3, \"Bulldog\")\n",
    "jim = Dog(\"Jim\", 5, \"Bulldog\")"
   ]
  },
  {
   "source": [
    "Cada raza de perro tiene comportamientos ligeramente diferentes. Por ejemplo, tienen diferentes ladridos:"
   ],
   "cell_type": "markdown",
   "metadata": {}
  },
  {
   "cell_type": "code",
   "execution_count": 80,
   "metadata": {},
   "outputs": [
    {
     "output_type": "execute_result",
     "data": {
      "text/plain": [
       "'Buddy says Yap'"
      ]
     },
     "metadata": {},
     "execution_count": 80
    }
   ],
   "source": [
    "buddy.speak(\"Yap\")"
   ]
  },
  {
   "cell_type": "code",
   "execution_count": 78,
   "metadata": {},
   "outputs": [
    {
     "output_type": "execute_result",
     "data": {
      "text/plain": [
       "'Jim says Woof'"
      ]
     },
     "metadata": {},
     "execution_count": 78
    }
   ],
   "source": [
    "jim.speak(\"Woof\")"
   ]
  },
  {
   "cell_type": "code",
   "execution_count": 79,
   "metadata": {},
   "outputs": [
    {
     "output_type": "execute_result",
     "data": {
      "text/plain": [
       "'Jack says Woof'"
      ]
     },
     "metadata": {},
     "execution_count": 79
    }
   ],
   "source": [
    "jack.speak(\"Woof\")"
   ]
  },
  {
   "source": [
    "Pasar una string cada vez que se llamada a ```.speak()``` es repetitivo e inconveniente. Además, la cadena que representa el sonido que hace cada Dog-instancia debiera estar determinada por su atributo ```.breed```, pero aquí debe pasar manualmente la cadena correcta a ```.speak()``` cada vez que se la llama. Veamos que podemos mejorar dicho comportamiento"
   ],
   "cell_type": "markdown",
   "metadata": {}
  },
  {
   "source": [
    "### Ampliar la funcionalidad de una clase principal\n",
    "\n",
    "Las clases derivadas se declaran de forma muy similar a su clase padre; sin embargo, se proporciona una lista de clases base para heredar después del nombre de la clase:\n",
    "\n",
    "```python\n",
    "class SubClassName (ParentClass1[, ParentClass2, ...]):\n",
    "   'Optional class documentation string'\n",
    "   class_suite\n",
    "```\n",
    "\n",
    "Veamos un ejemplo que contiene muchas de las características y funcionalidades de la herencia y desmenucemosla de a poco:"
   ],
   "cell_type": "markdown",
   "metadata": {}
  },
  {
   "cell_type": "code",
   "execution_count": 90,
   "metadata": {},
   "outputs": [],
   "source": [
    "class Dog:\n",
    "    species = \"Canis familiaris\"\n",
    "\n",
    "    def __init__(self, name, age, breed):\n",
    "        self.name = name\n",
    "        self.age = age\n",
    "        self.breed = breed\n",
    "        # instance method\n",
    "\n",
    "    def Speak(self, sound):\n",
    "        return f\"{self.name} says {sound}\"\n",
    "\n",
    "\n",
    "class JackRussellTerrier(Dog):\n",
    "    def __init__(self, name, age, breed, sound = \"Wuf\"):\n",
    "        self.sound = sound\n",
    "        super().__init__(name, age, breed)\n",
    "\n",
    "    def speak(self):\n",
    "        return self.Speak(self.sound)\n",
    "\n",
    "class Bulldog(Dog):\n",
    "    def __init__(self, name, age, breed, muerde, sound = \"Wouf\"):\n",
    "        self.sound = sound\n",
    "        self.muerde = 1\n",
    "        super().__init__(name, age, breed)\n",
    "\n",
    "    def speak(self):\n",
    "        return self.Speak(self.sound)\n",
    "    \n",
    "    def esMalo(self):\n",
    "        if self.muerde == 1:\n",
    "            return f\"{self.name} es peligroso, cuidado\"\n",
    "        else:\n",
    "            return f\"{self.name} no es peligroso, podes acariciarlo\" "
   ]
  },
  {
   "source": [
    "La función ```super()``` se utiliza para llamar a métodos definidos en alguna de las clases de las que se hereda sin nombrarla/s explícitamente"
   ],
   "cell_type": "markdown",
   "metadata": {}
  },
  {
   "cell_type": "code",
   "execution_count": 94,
   "metadata": {},
   "outputs": [
    {
     "output_type": "execute_result",
     "data": {
      "text/plain": [
       "'Miles says Wuf'"
      ]
     },
     "metadata": {},
     "execution_count": 94
    }
   ],
   "source": [
    "miles = JackRussellTerrier(\"Miles\", 4, \"Jack Russell Terrier\")\n",
    "miles.speak()\n"
   ]
  },
  {
   "cell_type": "code",
   "execution_count": 93,
   "metadata": {},
   "outputs": [
    {
     "output_type": "execute_result",
     "data": {
      "text/plain": [
       "'Jack es peligroso, cuidado'"
      ]
     },
     "metadata": {},
     "execution_count": 93
    }
   ],
   "source": [
    "\n",
    "jack = Bulldog(\"Jack\", 3, \"Bulldog\", 1)\n",
    "jack.esMalo()"
   ]
  },
  {
   "source": [
    "# Desiderata\n",
    "\n",
    "Aquí concluye nuestra introducción a Python. Esta pequeña introducción nos perimitirá avanzar con nuestro conocimiento general de python y atacar problemas de datos. Sin embargo, resta mucho por contar y estudiar, sobre todo del problema de la OOP y python. Parte de la clase fue hecha a partir de \"realpython.com\". Los capítulos 9, 10 y 11 del libro son un buen ejemplo de como poner en práctica lo visto en clase y ordenarlo desde un punto de vista de diseño. El libro \"Python 3 Object Oriented Programming\" de Dusty Phillips es una introducción amena al problema para aquel que quiera estudiar un poco más."
   ],
   "cell_type": "markdown",
   "metadata": {}
  },
  {
   "cell_type": "code",
   "execution_count": null,
   "metadata": {},
   "outputs": [],
   "source": []
  }
 ],
 "metadata": {
  "kernelspec": {
   "display_name": "Python 3",
   "language": "python",
   "name": "python3"
  },
  "language_info": {
   "codemirror_mode": {
    "name": "ipython",
    "version": 3
   },
   "file_extension": ".py",
   "mimetype": "text/x-python",
   "name": "python",
   "nbconvert_exporter": "python",
   "pygments_lexer": "ipython3",
   "version": "3.6.9-final"
  },
  "latex_envs": {
   "LaTeX_envs_menu_present": true,
   "autoclose": true,
   "autocomplete": true,
   "bibliofile": "biblio.bib",
   "cite_by": "apalike",
   "current_citInitial": 1,
   "eqLabelWithNumbers": true,
   "eqNumInitial": 1,
   "hotkeys": {
    "equation": "Ctrl-E",
    "itemize": "Ctrl-I"
   },
   "labels_anchors": false,
   "latex_user_defs": false,
   "report_style_numbering": false,
   "user_envs_cfg": false
  },
  "toc": {
   "base_numbering": 1,
   "nav_menu": {},
   "number_sections": false,
   "sideBar": true,
   "skip_h1_title": false,
   "title_cell": "Table of Contents",
   "title_sidebar": "Contents",
   "toc_cell": false,
   "toc_position": {},
   "toc_section_display": true,
   "toc_window_display": true
  }
 },
 "nbformat": 4,
 "nbformat_minor": 2
}