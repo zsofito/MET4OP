{
 "cells": [
  {
   "source": [
    "## ¿Qué son NumPy y pandas?\n",
    "\n",
    "![](notas_files/320px-NumPy_logo_2020.svg.png)\n",
    "\n",
    "Numpy es una biblioteca de Python de código abierto que se utiliza para la informática científica y proporciona una serie de características que permiten a un programador de Python trabajar con matrices y matrices de alto rendimiento.\n",
    "\n",
    "![](notas_files/320px-Pandas_logo.svg.png)\n",
    "\n",
    "Pandas es un paquete para la manipulación de datos que usa los objetos DataFrame de R (así como diferentes paquetes de R) en un entorno Python.\n",
    "\n",
    "Tanto NumPy como pandas se usan a menudo juntos, ya que la biblioteca de pandas depende en gran medida de la matriz NumPy para la implementación de objetos de datos de pandas y comparte muchas de sus características. Además, pandas se basa en la funcionalidad proporcionada por NumPy. Ambas bibliotecas pertenecen a lo que se conoce como la pila SciPy, un conjunto de bibliotecas de Python utilizadas para la informática científica. "
   ],
   "cell_type": "markdown",
   "metadata": {}
  },
  {
   "cell_type": "code",
   "execution_count": 65,
   "metadata": {},
   "outputs": [],
   "source": [
    "import pandas as pd\n",
    "import numpy as np "
   ]
  },
  {
   "source": [
    "### Matrices NumPy\n",
    "\n",
    "NumPy le permite trabajar con matrices y matrices de alto rendimiento. Su objeto de datos principal es el ndarray, un tipo de matriz de N dimensiones que describe una colección de \"elementos\" del mismo tipo. Por ejemplo:"
   ],
   "cell_type": "markdown",
   "metadata": {}
  },
  {
   "cell_type": "code",
   "execution_count": 66,
   "metadata": {},
   "outputs": [
    {
     "output_type": "execute_result",
     "data": {
      "text/plain": [
       "array([1, 2, 3, 4, 5])"
      ]
     },
     "metadata": {},
     "execution_count": 66
    }
   ],
   "source": [
    "np.array ([1, 2, 3, 4, 5]) # definiendo el ndarray"
   ]
  },
  {
   "source": [
    "Los ndarrays se almacenan de manera más eficiente que las listas de Python y permiten vectorizar las operaciones matemáticas, lo que da como resultado un rendimiento significativamente mayor que con las construcciones de bucle en Python.\n",
    "\n",
    "Las matrices NumPy permiten seleccionar elementos de matriz, operaciones lógicas, cortar, remodelar, combinar (también conocido como \"apilar\"), dividir, así como varios métodos numéricos (mínimo, máximo, media, desviación estándar, varianza y más). Todos estos conceptos se pueden aplicar a los objetos pandas, que amplían estas capacidades para proporcionar un medio mucho más rico y expresivo de representar y manipular datos que los que se ofrecen con las matrices NumPy.\n",
    "\n",
    "## Series\n",
    "\n",
    "La Serie es el componente principal de los pandas. Una serie representa una matriz indexada etiquetada unidimensional basada en el ndarray NumPy. \n",
    "\n",
    "> ``` s = pd.Series(data, index=index) ```\n",
    "\n",
    "Como una matriz, una serie puede contener cero o más valores de cualquier tipo de datos. Se puede crear e inicializar una serie pasando un valor escalar, un ndarray NumPy, una lista de Python o un Dict de Python como parámetro de datos del constructor de series.\n",
    "\n",
    "##### A partir de una serie"
   ],
   "cell_type": "markdown",
   "metadata": {}
  },
  {
   "cell_type": "code",
   "execution_count": 67,
   "metadata": {},
   "outputs": [
    {
     "output_type": "execute_result",
     "data": {
      "text/plain": [
       "0    1.0\n",
       "1    3.0\n",
       "2    5.0\n",
       "3    NaN\n",
       "4    6.0\n",
       "5    8.0\n",
       "dtype: float64"
      ]
     },
     "metadata": {},
     "execution_count": 67
    }
   ],
   "source": [
    "a = pd.Series([1, 3, 5, np.nan, 6, 8])\n",
    "a"
   ]
  },
  {
   "source": [
    "###### Indice generado automáticamente"
   ],
   "cell_type": "markdown",
   "metadata": {}
  },
  {
   "cell_type": "code",
   "execution_count": 68,
   "metadata": {},
   "outputs": [
    {
     "output_type": "execute_result",
     "data": {
      "text/plain": [
       "RangeIndex(start=0, stop=6, step=1)"
      ]
     },
     "metadata": {},
     "execution_count": 68
    }
   ],
   "source": [
    "a.index"
   ]
  },
  {
   "source": [
    "##### A partir de un diccionario"
   ],
   "cell_type": "markdown",
   "metadata": {}
  },
  {
   "cell_type": "code",
   "execution_count": 69,
   "metadata": {},
   "outputs": [
    {
     "output_type": "execute_result",
     "data": {
      "text/plain": [
       "b    1\n",
       "a    0\n",
       "c    2\n",
       "dtype: int64"
      ]
     },
     "metadata": {},
     "execution_count": 69
    }
   ],
   "source": [
    "d = {'b': 1, 'a': 0, 'c': 2}\n",
    "pd.Series(d)"
   ]
  },
  {
   "source": [
    "##### A partir de una valor"
   ],
   "cell_type": "markdown",
   "metadata": {}
  },
  {
   "cell_type": "code",
   "execution_count": 70,
   "metadata": {},
   "outputs": [
    {
     "output_type": "execute_result",
     "data": {
      "text/plain": [
       "a    5.0\n",
       "b    5.0\n",
       "c    5.0\n",
       "d    5.0\n",
       "e    5.0\n",
       "dtype: float64"
      ]
     },
     "metadata": {},
     "execution_count": 70
    }
   ],
   "source": [
    "pd.Series(5., index=['a', 'b', 'c', 'd', 'e'])"
   ]
  },
  {
   "source": [
    "### Diferencias entre ndarrays y objetos de serie\n",
    "\n",
    "Hay algunas diferencias que vale la pena señalar entre los objetos ndarrays y Series. En primer lugar, se accede a los elementos de las matrices NumPy por su posición entera, comenzando con cero para el primer elemento. Un objeto de la serie pandas es más flexible, ya que puede usar definir su propio índice etiquetado para indexar y acceder a elementos de una matriz. También puede utilizar letras en lugar de números o numerar una matriz en orden descendente en lugar de ascendente. En segundo lugar, alinear datos de diferentes Series y hacer coincidir etiquetas con objetos de Series es más eficiente que usar ndarrays, por ejemplo, tratar con valores perdidos. Si no hay etiquetas coincidentes durante la alineación, pandas devuelve NaN (no ningún número) para que la operación no falle."
   ],
   "cell_type": "markdown",
   "metadata": {}
  },
  {
   "source": [
    "## DataFrame\n",
    "\n",
    "Un DataFrame es una estructura de datos etiquetada bidimensional con columnas de tipos potencialmente diferentes. Puede pensar en ello como una hoja de cálculo o una tabla SQL, o un dict de objetos Series. Generalmente es el objeto de pandas más utilizado. Al igual que Series, DataFrame acepta muchos tipos diferentes de entrada:\n",
    "\n",
    "- 1D Dict de ndarrays, listas, dict o series\n",
    "\n",
    "- 2-D numpy.ndarray\n",
    "\n",
    "- Ndarray estructurado\n",
    "\n",
    "- Series\n",
    "\n",
    "- Otro DataFrame\n"
   ],
   "cell_type": "markdown",
   "metadata": {}
  },
  {
   "cell_type": "markdown",
   "metadata": {},
   "source": [
    "### Creación de un Data-Frame (df)\n"
   ]
  },
  {
   "cell_type": "markdown",
   "metadata": {},
   "source": [
    "#### Vía Numpy\n"
   ]
  },
  {
   "cell_type": "code",
   "execution_count": 71,
   "metadata": {},
   "outputs": [
    {
     "output_type": "execute_result",
     "data": {
      "text/plain": [
       "DatetimeIndex(['2013-01-01', '2013-01-02', '2013-01-03', '2013-01-04',\n",
       "               '2013-01-05', '2013-01-06'],\n",
       "              dtype='datetime64[ns]', freq='D')"
      ]
     },
     "metadata": {},
     "execution_count": 71
    }
   ],
   "source": [
    "dates = pd.date_range('20130101', periods=6)\n",
    "dates\n"
   ]
  },
  {
   "cell_type": "code",
   "execution_count": 72,
   "metadata": {},
   "outputs": [
    {
     "output_type": "execute_result",
     "data": {
      "text/plain": [
       "                   A         B         C         D\n",
       "2013-01-01  0.807383  1.493159 -0.919259 -0.204655\n",
       "2013-01-02  1.545921 -0.357831  0.868239 -0.931052\n",
       "2013-01-03 -0.715447 -0.951584  0.178499 -0.462405\n",
       "2013-01-04 -0.058004  1.858234 -1.367732  1.720403\n",
       "2013-01-05  0.956070 -0.193996  0.448429 -0.116594\n",
       "2013-01-06 -0.765187 -0.286273  0.873035 -1.132864"
      ],
      "text/html": "<div>\n<style scoped>\n    .dataframe tbody tr th:only-of-type {\n        vertical-align: middle;\n    }\n\n    .dataframe tbody tr th {\n        vertical-align: top;\n    }\n\n    .dataframe thead th {\n        text-align: right;\n    }\n</style>\n<table border=\"1\" class=\"dataframe\">\n  <thead>\n    <tr style=\"text-align: right;\">\n      <th></th>\n      <th>A</th>\n      <th>B</th>\n      <th>C</th>\n      <th>D</th>\n    </tr>\n  </thead>\n  <tbody>\n    <tr>\n      <th>2013-01-01</th>\n      <td>0.807383</td>\n      <td>1.493159</td>\n      <td>-0.919259</td>\n      <td>-0.204655</td>\n    </tr>\n    <tr>\n      <th>2013-01-02</th>\n      <td>1.545921</td>\n      <td>-0.357831</td>\n      <td>0.868239</td>\n      <td>-0.931052</td>\n    </tr>\n    <tr>\n      <th>2013-01-03</th>\n      <td>-0.715447</td>\n      <td>-0.951584</td>\n      <td>0.178499</td>\n      <td>-0.462405</td>\n    </tr>\n    <tr>\n      <th>2013-01-04</th>\n      <td>-0.058004</td>\n      <td>1.858234</td>\n      <td>-1.367732</td>\n      <td>1.720403</td>\n    </tr>\n    <tr>\n      <th>2013-01-05</th>\n      <td>0.956070</td>\n      <td>-0.193996</td>\n      <td>0.448429</td>\n      <td>-0.116594</td>\n    </tr>\n    <tr>\n      <th>2013-01-06</th>\n      <td>-0.765187</td>\n      <td>-0.286273</td>\n      <td>0.873035</td>\n      <td>-1.132864</td>\n    </tr>\n  </tbody>\n</table>\n</div>"
     },
     "metadata": {},
     "execution_count": 72
    }
   ],
   "source": [
    "df = pd.DataFrame(np.random.randn(6, 4),\n",
    "                  index=dates,\n",
    "                  columns=['A', 'B', 'C', 'D'])\n",
    "df"
   ]
  },
  {
   "cell_type": "markdown",
   "metadata": {},
   "source": [
    "#### Vía diccionarios de Python\n"
   ]
  },
  {
   "cell_type": "code",
   "execution_count": 73,
   "metadata": {},
   "outputs": [
    {
     "output_type": "execute_result",
     "data": {
      "text/plain": [
       "     A          B    C  D      E    F  G\n",
       "0  1.0 2013-01-02  1.0  3   test  foo  1\n",
       "1  1.0 2013-01-02  1.0  3  train  foo  2\n",
       "2  1.0 2013-01-02  1.0  3   test  foo  1\n",
       "3  1.0 2013-01-02  1.0  3  train  foo  2"
      ],
      "text/html": "<div>\n<style scoped>\n    .dataframe tbody tr th:only-of-type {\n        vertical-align: middle;\n    }\n\n    .dataframe tbody tr th {\n        vertical-align: top;\n    }\n\n    .dataframe thead th {\n        text-align: right;\n    }\n</style>\n<table border=\"1\" class=\"dataframe\">\n  <thead>\n    <tr style=\"text-align: right;\">\n      <th></th>\n      <th>A</th>\n      <th>B</th>\n      <th>C</th>\n      <th>D</th>\n      <th>E</th>\n      <th>F</th>\n      <th>G</th>\n    </tr>\n  </thead>\n  <tbody>\n    <tr>\n      <th>0</th>\n      <td>1.0</td>\n      <td>2013-01-02</td>\n      <td>1.0</td>\n      <td>3</td>\n      <td>test</td>\n      <td>foo</td>\n      <td>1</td>\n    </tr>\n    <tr>\n      <th>1</th>\n      <td>1.0</td>\n      <td>2013-01-02</td>\n      <td>1.0</td>\n      <td>3</td>\n      <td>train</td>\n      <td>foo</td>\n      <td>2</td>\n    </tr>\n    <tr>\n      <th>2</th>\n      <td>1.0</td>\n      <td>2013-01-02</td>\n      <td>1.0</td>\n      <td>3</td>\n      <td>test</td>\n      <td>foo</td>\n      <td>1</td>\n    </tr>\n    <tr>\n      <th>3</th>\n      <td>1.0</td>\n      <td>2013-01-02</td>\n      <td>1.0</td>\n      <td>3</td>\n      <td>train</td>\n      <td>foo</td>\n      <td>2</td>\n    </tr>\n  </tbody>\n</table>\n</div>"
     },
     "metadata": {},
     "execution_count": 73
    }
   ],
   "source": [
    "df2 = pd.DataFrame({\n",
    "    'A': 1.,\n",
    "    'B': pd.Timestamp('20130102'),\n",
    "    'C': pd.Series(1, index=list(range(4)), dtype='float32'),\n",
    "    'D': np.array([3] * 4, dtype='int32'),\n",
    "    'E': pd.Categorical([\"test\", \"train\", \"test\", \"train\"]),\n",
    "    'F': 'foo',\n",
    "    'G': [1,2,1,2]\n",
    "})\n",
    "df2"
   ]
  },
  {
   "cell_type": "markdown",
   "metadata": {},
   "source": [
    "## Tipos de Datos\n"
   ]
  },
  {
   "cell_type": "markdown",
   "metadata": {},
   "source": [
    "\n",
    "| Pandas dtype     | Python type     | NumPy type     | Usage|\n",
    "|-----------------|:---------------------:|:---------------------:|:---------------------:|\n",
    "| object     | str     | string_, unicode_     | Text|\n",
    "| int64     | int     | int_, int8, int16, int32, int64, uint8, uint16, uint32, uint64     | Integer numbers|\n",
    "| float64     | float     | float_, float16, float32, float64     | Floating point numbers|\n",
    "| bool     | bool     | bool_     | True/False values|\n",
    "| datetime64     | NA     | datetime64[ns]     | Date and time values|\n",
    "| timedelta[ns]     | NA     | NA     | Differences between two datetimes|\n",
    "| category     | NA     | NA     | Finite list of text values |"
   ]
  },
  {
   "cell_type": "markdown",
   "metadata": {},
   "source": [
    "### Los datos faltantes\n",
    "\n",
    "* None: el dato faltante Pythonico\n",
    "\n",
    "* NaN (Not a number): representación de un número faltante reconocido por todo los sistemas que usan el estandar de de IEEE de coma flotante\n",
    "\n",
    "> Ver https://jakevdp.github.io/PythonDataScienceHandbook/03.04-missing-values.html\n"
   ]
  },
  {
   "cell_type": "code",
   "execution_count": 74,
   "metadata": {},
   "outputs": [
    {
     "output_type": "execute_result",
     "data": {
      "text/plain": [
       "0    1.0\n",
       "1    NaN\n",
       "2    2.0\n",
       "3    NaN\n",
       "dtype: float64"
      ]
     },
     "metadata": {},
     "execution_count": 74
    }
   ],
   "source": [
    "pd.Series([1, np.nan, 2, None])"
   ]
  },
  {
   "cell_type": "code",
   "execution_count": 75,
   "metadata": {},
   "outputs": [
    {
     "output_type": "execute_result",
     "data": {
      "text/plain": [
       "nan"
      ]
     },
     "metadata": {},
     "execution_count": 75
    }
   ],
   "source": [
    "np.nan + 1"
   ]
  },
  {
   "cell_type": "code",
   "execution_count": 76,
   "metadata": {},
   "outputs": [
    {
     "output_type": "execute_result",
     "data": {
      "text/plain": [
       "False"
      ]
     },
     "metadata": {},
     "execution_count": 76
    }
   ],
   "source": [
    "np.nan == '2'"
   ]
  },
  {
   "cell_type": "code",
   "execution_count": 77,
   "metadata": {},
   "outputs": [
    {
     "output_type": "execute_result",
     "data": {
      "text/plain": [
       "False"
      ]
     },
     "metadata": {},
     "execution_count": 77
    }
   ],
   "source": [
    "np.nan > 0"
   ]
  },
  {
   "cell_type": "markdown",
   "metadata": {},
   "source": [
    "## Importar datos\n"
   ]
  },
  {
   "source": [
    "```python\n",
    "pd.read_csv(\n",
    "    '../../dataset/censo2010/hogar.csv',  # file path\n",
    "    delimiter=',',  # delimitador ',',';','|','\\t'\n",
    "    header=0,  # número de fila como nom de col\n",
    "    names=None,  # nombre de las columnas (ojo con header)\n",
    "    index_col=0,  # que col es el índice\n",
    "    usecols=None,  # que col usar. Ej: [0, 1, 2], ['foo', 'bar', 'baz']\n",
    "    dtype=None,  # Tipo de col {'a': np.int32, 'b': str} \n",
    "    skiprows=None,  # saltear fil al init\n",
    "    skipfooter=0,  # saltear fil al final\n",
    "    nrows=None,  # n de fil a leer\n",
    "    decimal='.',  # separador de decimal. Ej: ',' para EU dat\n",
    "    quotechar='\"',  # char para reconocer str\n",
    "    #encoding=None,  # para los acentos, ñ, etc\n",
    ")\n",
    "```"
   ],
   "cell_type": "markdown",
   "metadata": {}
  },
  {
   "cell_type": "code",
   "execution_count": 78,
   "metadata": {},
   "outputs": [
    {
     "output_type": "execute_result",
     "data": {
      "text/plain": [
       "         HOGAR_REF_ID  VIVIENDA_REF_ID  NHOG  H05  H06  H07  H08  H09  H10  \\\n",
       "0                   1                1     1    1    4    1    1    1    1   \n",
       "1                   2                1     2    1    1    1    1    1    1   \n",
       "2                   3                1     4    1    3    1    1    1    1   \n",
       "3                   4                1     6    1    1    1    1    1    1   \n",
       "4                   5                2     1    1    1    2    1    1    1   \n",
       "...               ...              ...   ...  ...  ...  ...  ...  ...  ...   \n",
       "1152594       1152595          1426434     1    1    2    1    1    1    1   \n",
       "1152595       1152596          1426435     1    1    1    1    1    1    1   \n",
       "1152596       1152597          1426436     1    1    1    1    1    1    1   \n",
       "1152597       1152598          1426437  1000    0    0    0    0    0    0   \n",
       "1152598       1152599          1426438  1000    0    0    0    0    0    0   \n",
       "\n",
       "         H11  ...  H15  H16  H19A  H19B  H19C  H19D  PROP  INDHAC  TOTPERS  \\\n",
       "0          1  ...    2    2     1     2     1     2     5       1        1   \n",
       "1          1  ...    1    2     1     1     1     1     1       1        1   \n",
       "2          1  ...    3    5     1     1     1     1     1       1        2   \n",
       "3          1  ...    3    5     1     1     1     1     5       6        8   \n",
       "4          1  ...    5    5     1     1     2     1     6       1        2   \n",
       "...      ...  ...  ...  ...   ...   ...   ...   ...   ...     ...      ...   \n",
       "1152594    1  ...    2    3     1     1     1     1     1       1        1   \n",
       "1152595    1  ...    1    2     1     2     2     1     1       1        1   \n",
       "1152596    1  ...    2    3     1     1     1     1     1       3        3   \n",
       "1152597    0  ...    0    0     0     0     0     0     0       7        0   \n",
       "1152598    0  ...    0    0     0     0     0     0     0       7        0   \n",
       "\n",
       "         ALGUNBI  \n",
       "0              0  \n",
       "1              0  \n",
       "2              0  \n",
       "3              1  \n",
       "4              1  \n",
       "...          ...  \n",
       "1152594        0  \n",
       "1152595        0  \n",
       "1152596        0  \n",
       "1152597        2  \n",
       "1152598        2  \n",
       "\n",
       "[1152599 rows x 23 columns]"
      ],
      "text/html": "<div>\n<style scoped>\n    .dataframe tbody tr th:only-of-type {\n        vertical-align: middle;\n    }\n\n    .dataframe tbody tr th {\n        vertical-align: top;\n    }\n\n    .dataframe thead th {\n        text-align: right;\n    }\n</style>\n<table border=\"1\" class=\"dataframe\">\n  <thead>\n    <tr style=\"text-align: right;\">\n      <th></th>\n      <th>HOGAR_REF_ID</th>\n      <th>VIVIENDA_REF_ID</th>\n      <th>NHOG</th>\n      <th>H05</th>\n      <th>H06</th>\n      <th>H07</th>\n      <th>H08</th>\n      <th>H09</th>\n      <th>H10</th>\n      <th>H11</th>\n      <th>...</th>\n      <th>H15</th>\n      <th>H16</th>\n      <th>H19A</th>\n      <th>H19B</th>\n      <th>H19C</th>\n      <th>H19D</th>\n      <th>PROP</th>\n      <th>INDHAC</th>\n      <th>TOTPERS</th>\n      <th>ALGUNBI</th>\n    </tr>\n  </thead>\n  <tbody>\n    <tr>\n      <th>0</th>\n      <td>1</td>\n      <td>1</td>\n      <td>1</td>\n      <td>1</td>\n      <td>4</td>\n      <td>1</td>\n      <td>1</td>\n      <td>1</td>\n      <td>1</td>\n      <td>1</td>\n      <td>...</td>\n      <td>2</td>\n      <td>2</td>\n      <td>1</td>\n      <td>2</td>\n      <td>1</td>\n      <td>2</td>\n      <td>5</td>\n      <td>1</td>\n      <td>1</td>\n      <td>0</td>\n    </tr>\n    <tr>\n      <th>1</th>\n      <td>2</td>\n      <td>1</td>\n      <td>2</td>\n      <td>1</td>\n      <td>1</td>\n      <td>1</td>\n      <td>1</td>\n      <td>1</td>\n      <td>1</td>\n      <td>1</td>\n      <td>...</td>\n      <td>1</td>\n      <td>2</td>\n      <td>1</td>\n      <td>1</td>\n      <td>1</td>\n      <td>1</td>\n      <td>1</td>\n      <td>1</td>\n      <td>1</td>\n      <td>0</td>\n    </tr>\n    <tr>\n      <th>2</th>\n      <td>3</td>\n      <td>1</td>\n      <td>4</td>\n      <td>1</td>\n      <td>3</td>\n      <td>1</td>\n      <td>1</td>\n      <td>1</td>\n      <td>1</td>\n      <td>1</td>\n      <td>...</td>\n      <td>3</td>\n      <td>5</td>\n      <td>1</td>\n      <td>1</td>\n      <td>1</td>\n      <td>1</td>\n      <td>1</td>\n      <td>1</td>\n      <td>2</td>\n      <td>0</td>\n    </tr>\n    <tr>\n      <th>3</th>\n      <td>4</td>\n      <td>1</td>\n      <td>6</td>\n      <td>1</td>\n      <td>1</td>\n      <td>1</td>\n      <td>1</td>\n      <td>1</td>\n      <td>1</td>\n      <td>1</td>\n      <td>...</td>\n      <td>3</td>\n      <td>5</td>\n      <td>1</td>\n      <td>1</td>\n      <td>1</td>\n      <td>1</td>\n      <td>5</td>\n      <td>6</td>\n      <td>8</td>\n      <td>1</td>\n    </tr>\n    <tr>\n      <th>4</th>\n      <td>5</td>\n      <td>2</td>\n      <td>1</td>\n      <td>1</td>\n      <td>1</td>\n      <td>2</td>\n      <td>1</td>\n      <td>1</td>\n      <td>1</td>\n      <td>1</td>\n      <td>...</td>\n      <td>5</td>\n      <td>5</td>\n      <td>1</td>\n      <td>1</td>\n      <td>2</td>\n      <td>1</td>\n      <td>6</td>\n      <td>1</td>\n      <td>2</td>\n      <td>1</td>\n    </tr>\n    <tr>\n      <th>...</th>\n      <td>...</td>\n      <td>...</td>\n      <td>...</td>\n      <td>...</td>\n      <td>...</td>\n      <td>...</td>\n      <td>...</td>\n      <td>...</td>\n      <td>...</td>\n      <td>...</td>\n      <td>...</td>\n      <td>...</td>\n      <td>...</td>\n      <td>...</td>\n      <td>...</td>\n      <td>...</td>\n      <td>...</td>\n      <td>...</td>\n      <td>...</td>\n      <td>...</td>\n      <td>...</td>\n    </tr>\n    <tr>\n      <th>1152594</th>\n      <td>1152595</td>\n      <td>1426434</td>\n      <td>1</td>\n      <td>1</td>\n      <td>2</td>\n      <td>1</td>\n      <td>1</td>\n      <td>1</td>\n      <td>1</td>\n      <td>1</td>\n      <td>...</td>\n      <td>2</td>\n      <td>3</td>\n      <td>1</td>\n      <td>1</td>\n      <td>1</td>\n      <td>1</td>\n      <td>1</td>\n      <td>1</td>\n      <td>1</td>\n      <td>0</td>\n    </tr>\n    <tr>\n      <th>1152595</th>\n      <td>1152596</td>\n      <td>1426435</td>\n      <td>1</td>\n      <td>1</td>\n      <td>1</td>\n      <td>1</td>\n      <td>1</td>\n      <td>1</td>\n      <td>1</td>\n      <td>1</td>\n      <td>...</td>\n      <td>1</td>\n      <td>2</td>\n      <td>1</td>\n      <td>2</td>\n      <td>2</td>\n      <td>1</td>\n      <td>1</td>\n      <td>1</td>\n      <td>1</td>\n      <td>0</td>\n    </tr>\n    <tr>\n      <th>1152596</th>\n      <td>1152597</td>\n      <td>1426436</td>\n      <td>1</td>\n      <td>1</td>\n      <td>1</td>\n      <td>1</td>\n      <td>1</td>\n      <td>1</td>\n      <td>1</td>\n      <td>1</td>\n      <td>...</td>\n      <td>2</td>\n      <td>3</td>\n      <td>1</td>\n      <td>1</td>\n      <td>1</td>\n      <td>1</td>\n      <td>1</td>\n      <td>3</td>\n      <td>3</td>\n      <td>0</td>\n    </tr>\n    <tr>\n      <th>1152597</th>\n      <td>1152598</td>\n      <td>1426437</td>\n      <td>1000</td>\n      <td>0</td>\n      <td>0</td>\n      <td>0</td>\n      <td>0</td>\n      <td>0</td>\n      <td>0</td>\n      <td>0</td>\n      <td>...</td>\n      <td>0</td>\n      <td>0</td>\n      <td>0</td>\n      <td>0</td>\n      <td>0</td>\n      <td>0</td>\n      <td>0</td>\n      <td>7</td>\n      <td>0</td>\n      <td>2</td>\n    </tr>\n    <tr>\n      <th>1152598</th>\n      <td>1152599</td>\n      <td>1426438</td>\n      <td>1000</td>\n      <td>0</td>\n      <td>0</td>\n      <td>0</td>\n      <td>0</td>\n      <td>0</td>\n      <td>0</td>\n      <td>0</td>\n      <td>...</td>\n      <td>0</td>\n      <td>0</td>\n      <td>0</td>\n      <td>0</td>\n      <td>0</td>\n      <td>0</td>\n      <td>0</td>\n      <td>7</td>\n      <td>0</td>\n      <td>2</td>\n    </tr>\n  </tbody>\n</table>\n<p>1152599 rows × 23 columns</p>\n</div>"
     },
     "metadata": {},
     "execution_count": 78
    }
   ],
   "source": [
    "df_in = pd.read_csv('../../dataset/censo2010/hogar.csv')\n",
    "df_in"
   ]
  },
  {
   "cell_type": "markdown",
   "metadata": {},
   "source": [
    "\n",
    "```## Revisando un df\n"
   ]
  },
  {
   "cell_type": "code",
   "execution_count": 79,
   "metadata": {},
   "outputs": [
    {
     "output_type": "execute_result",
     "data": {
      "text/plain": [
       "   HOGAR_REF_ID  VIVIENDA_REF_ID  NHOG  H05  H06  H07  H08  H09  H10  H11  \\\n",
       "0             1                1     1    1    4    1    1    1    1    1   \n",
       "1             2                1     2    1    1    1    1    1    1    1   \n",
       "2             3                1     4    1    3    1    1    1    1    1   \n",
       "3             4                1     6    1    1    1    1    1    1    1   \n",
       "4             5                2     1    1    1    2    1    1    1    1   \n",
       "\n",
       "   ...  H15  H16  H19A  H19B  H19C  H19D  PROP  INDHAC  TOTPERS  ALGUNBI  \n",
       "0  ...    2    2     1     2     1     2     5       1        1        0  \n",
       "1  ...    1    2     1     1     1     1     1       1        1        0  \n",
       "2  ...    3    5     1     1     1     1     1       1        2        0  \n",
       "3  ...    3    5     1     1     1     1     5       6        8        1  \n",
       "4  ...    5    5     1     1     2     1     6       1        2        1  \n",
       "\n",
       "[5 rows x 23 columns]"
      ],
      "text/html": "<div>\n<style scoped>\n    .dataframe tbody tr th:only-of-type {\n        vertical-align: middle;\n    }\n\n    .dataframe tbody tr th {\n        vertical-align: top;\n    }\n\n    .dataframe thead th {\n        text-align: right;\n    }\n</style>\n<table border=\"1\" class=\"dataframe\">\n  <thead>\n    <tr style=\"text-align: right;\">\n      <th></th>\n      <th>HOGAR_REF_ID</th>\n      <th>VIVIENDA_REF_ID</th>\n      <th>NHOG</th>\n      <th>H05</th>\n      <th>H06</th>\n      <th>H07</th>\n      <th>H08</th>\n      <th>H09</th>\n      <th>H10</th>\n      <th>H11</th>\n      <th>...</th>\n      <th>H15</th>\n      <th>H16</th>\n      <th>H19A</th>\n      <th>H19B</th>\n      <th>H19C</th>\n      <th>H19D</th>\n      <th>PROP</th>\n      <th>INDHAC</th>\n      <th>TOTPERS</th>\n      <th>ALGUNBI</th>\n    </tr>\n  </thead>\n  <tbody>\n    <tr>\n      <th>0</th>\n      <td>1</td>\n      <td>1</td>\n      <td>1</td>\n      <td>1</td>\n      <td>4</td>\n      <td>1</td>\n      <td>1</td>\n      <td>1</td>\n      <td>1</td>\n      <td>1</td>\n      <td>...</td>\n      <td>2</td>\n      <td>2</td>\n      <td>1</td>\n      <td>2</td>\n      <td>1</td>\n      <td>2</td>\n      <td>5</td>\n      <td>1</td>\n      <td>1</td>\n      <td>0</td>\n    </tr>\n    <tr>\n      <th>1</th>\n      <td>2</td>\n      <td>1</td>\n      <td>2</td>\n      <td>1</td>\n      <td>1</td>\n      <td>1</td>\n      <td>1</td>\n      <td>1</td>\n      <td>1</td>\n      <td>1</td>\n      <td>...</td>\n      <td>1</td>\n      <td>2</td>\n      <td>1</td>\n      <td>1</td>\n      <td>1</td>\n      <td>1</td>\n      <td>1</td>\n      <td>1</td>\n      <td>1</td>\n      <td>0</td>\n    </tr>\n    <tr>\n      <th>2</th>\n      <td>3</td>\n      <td>1</td>\n      <td>4</td>\n      <td>1</td>\n      <td>3</td>\n      <td>1</td>\n      <td>1</td>\n      <td>1</td>\n      <td>1</td>\n      <td>1</td>\n      <td>...</td>\n      <td>3</td>\n      <td>5</td>\n      <td>1</td>\n      <td>1</td>\n      <td>1</td>\n      <td>1</td>\n      <td>1</td>\n      <td>1</td>\n      <td>2</td>\n      <td>0</td>\n    </tr>\n    <tr>\n      <th>3</th>\n      <td>4</td>\n      <td>1</td>\n      <td>6</td>\n      <td>1</td>\n      <td>1</td>\n      <td>1</td>\n      <td>1</td>\n      <td>1</td>\n      <td>1</td>\n      <td>1</td>\n      <td>...</td>\n      <td>3</td>\n      <td>5</td>\n      <td>1</td>\n      <td>1</td>\n      <td>1</td>\n      <td>1</td>\n      <td>5</td>\n      <td>6</td>\n      <td>8</td>\n      <td>1</td>\n    </tr>\n    <tr>\n      <th>4</th>\n      <td>5</td>\n      <td>2</td>\n      <td>1</td>\n      <td>1</td>\n      <td>1</td>\n      <td>2</td>\n      <td>1</td>\n      <td>1</td>\n      <td>1</td>\n      <td>1</td>\n      <td>...</td>\n      <td>5</td>\n      <td>5</td>\n      <td>1</td>\n      <td>1</td>\n      <td>2</td>\n      <td>1</td>\n      <td>6</td>\n      <td>1</td>\n      <td>2</td>\n      <td>1</td>\n    </tr>\n  </tbody>\n</table>\n<p>5 rows × 23 columns</p>\n</div>"
     },
     "metadata": {},
     "execution_count": 79
    }
   ],
   "source": [
    "\n",
    "df_in.head()\n"
   ]
  },
  {
   "cell_type": "code",
   "execution_count": 80,
   "metadata": {},
   "outputs": [
    {
     "output_type": "execute_result",
     "data": {
      "text/plain": [
       "         HOGAR_REF_ID  VIVIENDA_REF_ID  NHOG  H05  H06  H07  H08  H09  H10  \\\n",
       "1152596       1152597          1426436     1    1    1    1    1    1    1   \n",
       "1152597       1152598          1426437  1000    0    0    0    0    0    0   \n",
       "1152598       1152599          1426438  1000    0    0    0    0    0    0   \n",
       "\n",
       "         H11  ...  H15  H16  H19A  H19B  H19C  H19D  PROP  INDHAC  TOTPERS  \\\n",
       "1152596    1  ...    2    3     1     1     1     1     1       3        3   \n",
       "1152597    0  ...    0    0     0     0     0     0     0       7        0   \n",
       "1152598    0  ...    0    0     0     0     0     0     0       7        0   \n",
       "\n",
       "         ALGUNBI  \n",
       "1152596        0  \n",
       "1152597        2  \n",
       "1152598        2  \n",
       "\n",
       "[3 rows x 23 columns]"
      ],
      "text/html": "<div>\n<style scoped>\n    .dataframe tbody tr th:only-of-type {\n        vertical-align: middle;\n    }\n\n    .dataframe tbody tr th {\n        vertical-align: top;\n    }\n\n    .dataframe thead th {\n        text-align: right;\n    }\n</style>\n<table border=\"1\" class=\"dataframe\">\n  <thead>\n    <tr style=\"text-align: right;\">\n      <th></th>\n      <th>HOGAR_REF_ID</th>\n      <th>VIVIENDA_REF_ID</th>\n      <th>NHOG</th>\n      <th>H05</th>\n      <th>H06</th>\n      <th>H07</th>\n      <th>H08</th>\n      <th>H09</th>\n      <th>H10</th>\n      <th>H11</th>\n      <th>...</th>\n      <th>H15</th>\n      <th>H16</th>\n      <th>H19A</th>\n      <th>H19B</th>\n      <th>H19C</th>\n      <th>H19D</th>\n      <th>PROP</th>\n      <th>INDHAC</th>\n      <th>TOTPERS</th>\n      <th>ALGUNBI</th>\n    </tr>\n  </thead>\n  <tbody>\n    <tr>\n      <th>1152596</th>\n      <td>1152597</td>\n      <td>1426436</td>\n      <td>1</td>\n      <td>1</td>\n      <td>1</td>\n      <td>1</td>\n      <td>1</td>\n      <td>1</td>\n      <td>1</td>\n      <td>1</td>\n      <td>...</td>\n      <td>2</td>\n      <td>3</td>\n      <td>1</td>\n      <td>1</td>\n      <td>1</td>\n      <td>1</td>\n      <td>1</td>\n      <td>3</td>\n      <td>3</td>\n      <td>0</td>\n    </tr>\n    <tr>\n      <th>1152597</th>\n      <td>1152598</td>\n      <td>1426437</td>\n      <td>1000</td>\n      <td>0</td>\n      <td>0</td>\n      <td>0</td>\n      <td>0</td>\n      <td>0</td>\n      <td>0</td>\n      <td>0</td>\n      <td>...</td>\n      <td>0</td>\n      <td>0</td>\n      <td>0</td>\n      <td>0</td>\n      <td>0</td>\n      <td>0</td>\n      <td>0</td>\n      <td>7</td>\n      <td>0</td>\n      <td>2</td>\n    </tr>\n    <tr>\n      <th>1152598</th>\n      <td>1152599</td>\n      <td>1426438</td>\n      <td>1000</td>\n      <td>0</td>\n      <td>0</td>\n      <td>0</td>\n      <td>0</td>\n      <td>0</td>\n      <td>0</td>\n      <td>0</td>\n      <td>...</td>\n      <td>0</td>\n      <td>0</td>\n      <td>0</td>\n      <td>0</td>\n      <td>0</td>\n      <td>0</td>\n      <td>0</td>\n      <td>7</td>\n      <td>0</td>\n      <td>2</td>\n    </tr>\n  </tbody>\n</table>\n<p>3 rows × 23 columns</p>\n</div>"
     },
     "metadata": {},
     "execution_count": 80
    }
   ],
   "source": [
    "df_in.tail(3)"
   ]
  },
  {
   "cell_type": "code",
   "execution_count": 81,
   "metadata": {},
   "outputs": [
    {
     "output_type": "execute_result",
     "data": {
      "text/plain": [
       "RangeIndex(start=0, stop=1152599, step=1)"
      ]
     },
     "metadata": {},
     "execution_count": 81
    }
   ],
   "source": [
    "df_in.index"
   ]
  },
  {
   "cell_type": "code",
   "execution_count": 82,
   "metadata": {},
   "outputs": [
    {
     "output_type": "execute_result",
     "data": {
      "text/plain": [
       "pandas.core.indexes.range.RangeIndex"
      ]
     },
     "metadata": {},
     "execution_count": 82
    }
   ],
   "source": [
    "type(df_in.index)"
   ]
  },
  {
   "cell_type": "code",
   "execution_count": 83,
   "metadata": {},
   "outputs": [
    {
     "output_type": "execute_result",
     "data": {
      "text/plain": [
       "Index(['HOGAR_REF_ID', 'VIVIENDA_REF_ID', 'NHOG', 'H05', 'H06', 'H07', 'H08',\n",
       "       'H09', 'H10', 'H11', 'H12', 'H13', 'H14', 'H15', 'H16', 'H19A', 'H19B',\n",
       "       'H19C', 'H19D', 'PROP', 'INDHAC', 'TOTPERS', 'ALGUNBI'],\n",
       "      dtype='object')"
      ]
     },
     "metadata": {},
     "execution_count": 83
    }
   ],
   "source": [
    "df_in.columns"
   ]
  },
  {
   "cell_type": "code",
   "execution_count": 84,
   "metadata": {},
   "outputs": [
    {
     "output_type": "execute_result",
     "data": {
      "text/plain": [
       "pandas.core.indexes.base.Index"
      ]
     },
     "metadata": {},
     "execution_count": 84
    }
   ],
   "source": [
    "type(df_in.columns)"
   ]
  },
  {
   "cell_type": "code",
   "execution_count": 85,
   "metadata": {},
   "outputs": [
    {
     "output_type": "execute_result",
     "data": {
      "text/plain": [
       "array([[      1,       1,       1, ...,       1,       1,       0],\n",
       "       [      2,       1,       2, ...,       1,       1,       0],\n",
       "       [      3,       1,       4, ...,       1,       2,       0],\n",
       "       ...,\n",
       "       [1152597, 1426436,       1, ...,       3,       3,       0],\n",
       "       [1152598, 1426437,    1000, ...,       7,       0,       2],\n",
       "       [1152599, 1426438,    1000, ...,       7,       0,       2]])"
      ]
     },
     "metadata": {},
     "execution_count": 85
    }
   ],
   "source": [
    "df_in.values"
   ]
  },
  {
   "cell_type": "code",
   "execution_count": 86,
   "metadata": {},
   "outputs": [
    {
     "output_type": "execute_result",
     "data": {
      "text/plain": [
       "numpy.ndarray"
      ]
     },
     "metadata": {},
     "execution_count": 86
    }
   ],
   "source": [
    "type(df_in.values)"
   ]
  },
  {
   "cell_type": "code",
   "execution_count": 87,
   "metadata": {},
   "outputs": [
    {
     "output_type": "execute_result",
     "data": {
      "text/plain": [
       "(1152599, 23)"
      ]
     },
     "metadata": {},
     "execution_count": 87
    }
   ],
   "source": [
    "df_in.shape"
   ]
  },
  {
   "cell_type": "markdown",
   "metadata": {},
   "source": [
    "## Seleccionar (select)"
   ]
  },
  {
   "cell_type": "markdown",
   "metadata": {},
   "source": [
    "### Subsetting con []"
   ]
  },
  {
   "cell_type": "markdown",
   "metadata": {},
   "source": [
    "#### Columnas\n"
   ]
  },
  {
   "cell_type": "markdown",
   "metadata": {},
   "source": [
    "##### Seleccionar una columna única como una serie\n",
    "Hay dos components principales de una serie, el índice y la data (valores). No hay columnas en una serie."
   ]
  },
  {
   "cell_type": "code",
   "execution_count": 88,
   "metadata": {},
   "outputs": [
    {
     "output_type": "execute_result",
     "data": {
      "text/plain": [
       "0          0\n",
       "1          0\n",
       "2          0\n",
       "3          1\n",
       "4          1\n",
       "          ..\n",
       "1152594    0\n",
       "1152595    0\n",
       "1152596    0\n",
       "1152597    2\n",
       "1152598    2\n",
       "Name: ALGUNBI, Length: 1152599, dtype: int64"
      ]
     },
     "metadata": {},
     "execution_count": 88
    }
   ],
   "source": [
    "df_in['ALGUNBI']\n"
   ]
  },
  {
   "cell_type": "code",
   "execution_count": 89,
   "metadata": {},
   "outputs": [
    {
     "output_type": "execute_result",
     "data": {
      "text/plain": [
       "pandas.core.series.Series"
      ]
     },
     "metadata": {},
     "execution_count": 89
    }
   ],
   "source": [
    "type(df_in['ALGUNBI'])\n"
   ]
  },
  {
   "cell_type": "markdown",
   "metadata": {},
   "source": [
    "##### Seleccionar como un DF\n"
   ]
  },
  {
   "cell_type": "code",
   "execution_count": 90,
   "metadata": {},
   "outputs": [
    {
     "output_type": "execute_result",
     "data": {
      "text/plain": [
       "         ALGUNBI\n",
       "0              0\n",
       "1              0\n",
       "2              0\n",
       "3              1\n",
       "4              1\n",
       "...          ...\n",
       "1152594        0\n",
       "1152595        0\n",
       "1152596        0\n",
       "1152597        2\n",
       "1152598        2\n",
       "\n",
       "[1152599 rows x 1 columns]"
      ],
      "text/html": "<div>\n<style scoped>\n    .dataframe tbody tr th:only-of-type {\n        vertical-align: middle;\n    }\n\n    .dataframe tbody tr th {\n        vertical-align: top;\n    }\n\n    .dataframe thead th {\n        text-align: right;\n    }\n</style>\n<table border=\"1\" class=\"dataframe\">\n  <thead>\n    <tr style=\"text-align: right;\">\n      <th></th>\n      <th>ALGUNBI</th>\n    </tr>\n  </thead>\n  <tbody>\n    <tr>\n      <th>0</th>\n      <td>0</td>\n    </tr>\n    <tr>\n      <th>1</th>\n      <td>0</td>\n    </tr>\n    <tr>\n      <th>2</th>\n      <td>0</td>\n    </tr>\n    <tr>\n      <th>3</th>\n      <td>1</td>\n    </tr>\n    <tr>\n      <th>4</th>\n      <td>1</td>\n    </tr>\n    <tr>\n      <th>...</th>\n      <td>...</td>\n    </tr>\n    <tr>\n      <th>1152594</th>\n      <td>0</td>\n    </tr>\n    <tr>\n      <th>1152595</th>\n      <td>0</td>\n    </tr>\n    <tr>\n      <th>1152596</th>\n      <td>0</td>\n    </tr>\n    <tr>\n      <th>1152597</th>\n      <td>2</td>\n    </tr>\n    <tr>\n      <th>1152598</th>\n      <td>2</td>\n    </tr>\n  </tbody>\n</table>\n<p>1152599 rows × 1 columns</p>\n</div>"
     },
     "metadata": {},
     "execution_count": 90
    }
   ],
   "source": [
    "df_in[['ALGUNBI']]\n"
   ]
  },
  {
   "cell_type": "code",
   "execution_count": 91,
   "metadata": {},
   "outputs": [
    {
     "output_type": "execute_result",
     "data": {
      "text/plain": [
       "pandas.core.frame.DataFrame"
      ]
     },
     "metadata": {},
     "execution_count": 91
    }
   ],
   "source": [
    "type(df_in[['ALGUNBI']])\n"
   ]
  },
  {
   "cell_type": "markdown",
   "metadata": {},
   "source": [
    "##### Seleccionas múltiples colmunas como un DF al pasarle una lista\n"
   ]
  },
  {
   "cell_type": "code",
   "execution_count": 92,
   "metadata": {},
   "outputs": [
    {
     "output_type": "execute_result",
     "data": {
      "text/plain": [
       "         PROP  ALGUNBI\n",
       "0           5        0\n",
       "1           1        0\n",
       "2           1        0\n",
       "3           5        1\n",
       "4           6        1\n",
       "...       ...      ...\n",
       "1152594     1        0\n",
       "1152595     1        0\n",
       "1152596     1        0\n",
       "1152597     0        2\n",
       "1152598     0        2\n",
       "\n",
       "[1152599 rows x 2 columns]"
      ],
      "text/html": "<div>\n<style scoped>\n    .dataframe tbody tr th:only-of-type {\n        vertical-align: middle;\n    }\n\n    .dataframe tbody tr th {\n        vertical-align: top;\n    }\n\n    .dataframe thead th {\n        text-align: right;\n    }\n</style>\n<table border=\"1\" class=\"dataframe\">\n  <thead>\n    <tr style=\"text-align: right;\">\n      <th></th>\n      <th>PROP</th>\n      <th>ALGUNBI</th>\n    </tr>\n  </thead>\n  <tbody>\n    <tr>\n      <th>0</th>\n      <td>5</td>\n      <td>0</td>\n    </tr>\n    <tr>\n      <th>1</th>\n      <td>1</td>\n      <td>0</td>\n    </tr>\n    <tr>\n      <th>2</th>\n      <td>1</td>\n      <td>0</td>\n    </tr>\n    <tr>\n      <th>3</th>\n      <td>5</td>\n      <td>1</td>\n    </tr>\n    <tr>\n      <th>4</th>\n      <td>6</td>\n      <td>1</td>\n    </tr>\n    <tr>\n      <th>...</th>\n      <td>...</td>\n      <td>...</td>\n    </tr>\n    <tr>\n      <th>1152594</th>\n      <td>1</td>\n      <td>0</td>\n    </tr>\n    <tr>\n      <th>1152595</th>\n      <td>1</td>\n      <td>0</td>\n    </tr>\n    <tr>\n      <th>1152596</th>\n      <td>1</td>\n      <td>0</td>\n    </tr>\n    <tr>\n      <th>1152597</th>\n      <td>0</td>\n      <td>2</td>\n    </tr>\n    <tr>\n      <th>1152598</th>\n      <td>0</td>\n      <td>2</td>\n    </tr>\n  </tbody>\n</table>\n<p>1152599 rows × 2 columns</p>\n</div>"
     },
     "metadata": {},
     "execution_count": 92
    }
   ],
   "source": [
    "df_in[['PROP', 'ALGUNBI']]\n"
   ]
  },
  {
   "cell_type": "markdown",
   "metadata": {},
   "source": [
    "##### Cambiar el orden\n"
   ]
  },
  {
   "cell_type": "markdown",
   "metadata": {},
   "source": [
    "#### Seleccionar por número\n"
   ]
  },
  {
   "cell_type": "code",
   "execution_count": 93,
   "metadata": {},
   "outputs": [
    {
     "output_type": "execute_result",
     "data": {
      "text/plain": [
       "'HOGAR_REF_ID'"
      ]
     },
     "metadata": {},
     "execution_count": 93
    }
   ],
   "source": [
    "df_in.columns[0]\n"
   ]
  },
  {
   "cell_type": "code",
   "execution_count": 94,
   "metadata": {},
   "outputs": [
    {
     "output_type": "execute_result",
     "data": {
      "text/plain": [
       "0                1\n",
       "1                2\n",
       "2                3\n",
       "3                4\n",
       "4                5\n",
       "            ...   \n",
       "1152594    1152595\n",
       "1152595    1152596\n",
       "1152596    1152597\n",
       "1152597    1152598\n",
       "1152598    1152599\n",
       "Name: HOGAR_REF_ID, Length: 1152599, dtype: int64"
      ]
     },
     "metadata": {},
     "execution_count": 94
    }
   ],
   "source": [
    "df_in[df_in.columns[0]]\n"
   ]
  },
  {
   "cell_type": "code",
   "execution_count": 95,
   "metadata": {},
   "outputs": [
    {
     "output_type": "execute_result",
     "data": {
      "text/plain": [
       "         HOGAR_REF_ID\n",
       "0                   1\n",
       "1                   2\n",
       "2                   3\n",
       "3                   4\n",
       "4                   5\n",
       "...               ...\n",
       "1152594       1152595\n",
       "1152595       1152596\n",
       "1152596       1152597\n",
       "1152597       1152598\n",
       "1152598       1152599\n",
       "\n",
       "[1152599 rows x 1 columns]"
      ],
      "text/html": "<div>\n<style scoped>\n    .dataframe tbody tr th:only-of-type {\n        vertical-align: middle;\n    }\n\n    .dataframe tbody tr th {\n        vertical-align: top;\n    }\n\n    .dataframe thead th {\n        text-align: right;\n    }\n</style>\n<table border=\"1\" class=\"dataframe\">\n  <thead>\n    <tr style=\"text-align: right;\">\n      <th></th>\n      <th>HOGAR_REF_ID</th>\n    </tr>\n  </thead>\n  <tbody>\n    <tr>\n      <th>0</th>\n      <td>1</td>\n    </tr>\n    <tr>\n      <th>1</th>\n      <td>2</td>\n    </tr>\n    <tr>\n      <th>2</th>\n      <td>3</td>\n    </tr>\n    <tr>\n      <th>3</th>\n      <td>4</td>\n    </tr>\n    <tr>\n      <th>4</th>\n      <td>5</td>\n    </tr>\n    <tr>\n      <th>...</th>\n      <td>...</td>\n    </tr>\n    <tr>\n      <th>1152594</th>\n      <td>1152595</td>\n    </tr>\n    <tr>\n      <th>1152595</th>\n      <td>1152596</td>\n    </tr>\n    <tr>\n      <th>1152596</th>\n      <td>1152597</td>\n    </tr>\n    <tr>\n      <th>1152597</th>\n      <td>1152598</td>\n    </tr>\n    <tr>\n      <th>1152598</th>\n      <td>1152599</td>\n    </tr>\n  </tbody>\n</table>\n<p>1152599 rows × 1 columns</p>\n</div>"
     },
     "metadata": {},
     "execution_count": 95
    }
   ],
   "source": [
    "df_in[[df_in.columns[0]]]\n"
   ]
  },
  {
   "cell_type": "code",
   "execution_count": 96,
   "metadata": {},
   "outputs": [
    {
     "output_type": "execute_result",
     "data": {
      "text/plain": [
       "         H19D  TOTPERS\n",
       "0           2        1\n",
       "1           1        1\n",
       "2           1        2\n",
       "3           1        8\n",
       "4           1        2\n",
       "...       ...      ...\n",
       "1152594     1        1\n",
       "1152595     1        1\n",
       "1152596     1        3\n",
       "1152597     0        0\n",
       "1152598     0        0\n",
       "\n",
       "[1152599 rows x 2 columns]"
      ],
      "text/html": "<div>\n<style scoped>\n    .dataframe tbody tr th:only-of-type {\n        vertical-align: middle;\n    }\n\n    .dataframe tbody tr th {\n        vertical-align: top;\n    }\n\n    .dataframe thead th {\n        text-align: right;\n    }\n</style>\n<table border=\"1\" class=\"dataframe\">\n  <thead>\n    <tr style=\"text-align: right;\">\n      <th></th>\n      <th>H19D</th>\n      <th>TOTPERS</th>\n    </tr>\n  </thead>\n  <tbody>\n    <tr>\n      <th>0</th>\n      <td>2</td>\n      <td>1</td>\n    </tr>\n    <tr>\n      <th>1</th>\n      <td>1</td>\n      <td>1</td>\n    </tr>\n    <tr>\n      <th>2</th>\n      <td>1</td>\n      <td>2</td>\n    </tr>\n    <tr>\n      <th>3</th>\n      <td>1</td>\n      <td>8</td>\n    </tr>\n    <tr>\n      <th>4</th>\n      <td>1</td>\n      <td>2</td>\n    </tr>\n    <tr>\n      <th>...</th>\n      <td>...</td>\n      <td>...</td>\n    </tr>\n    <tr>\n      <th>1152594</th>\n      <td>1</td>\n      <td>1</td>\n    </tr>\n    <tr>\n      <th>1152595</th>\n      <td>1</td>\n      <td>1</td>\n    </tr>\n    <tr>\n      <th>1152596</th>\n      <td>1</td>\n      <td>3</td>\n    </tr>\n    <tr>\n      <th>1152597</th>\n      <td>0</td>\n      <td>0</td>\n    </tr>\n    <tr>\n      <th>1152598</th>\n      <td>0</td>\n      <td>0</td>\n    </tr>\n  </tbody>\n</table>\n<p>1152599 rows × 2 columns</p>\n</div>"
     },
     "metadata": {},
     "execution_count": 96
    }
   ],
   "source": [
    "df_in[df_in.columns[[18, 21]]]\n",
    "\n"
   ]
  },
  {
   "cell_type": "markdown",
   "metadata": {},
   "source": [
    "#### Filas"
   ]
  },
  {
   "cell_type": "markdown",
   "metadata": {},
   "source": [
    "##### x rango"
   ]
  },
  {
   "cell_type": "code",
   "execution_count": 97,
   "metadata": {},
   "outputs": [
    {
     "output_type": "execute_result",
     "data": {
      "text/plain": [
       "   HOGAR_REF_ID  VIVIENDA_REF_ID  NHOG  H05  H06  H07  H08  H09  H10  H11  \\\n",
       "0             1                1     1    1    4    1    1    1    1    1   \n",
       "\n",
       "   ...  H15  H16  H19A  H19B  H19C  H19D  PROP  INDHAC  TOTPERS  ALGUNBI  \n",
       "0  ...    2    2     1     2     1     2     5       1        1        0  \n",
       "\n",
       "[1 rows x 23 columns]"
      ],
      "text/html": "<div>\n<style scoped>\n    .dataframe tbody tr th:only-of-type {\n        vertical-align: middle;\n    }\n\n    .dataframe tbody tr th {\n        vertical-align: top;\n    }\n\n    .dataframe thead th {\n        text-align: right;\n    }\n</style>\n<table border=\"1\" class=\"dataframe\">\n  <thead>\n    <tr style=\"text-align: right;\">\n      <th></th>\n      <th>HOGAR_REF_ID</th>\n      <th>VIVIENDA_REF_ID</th>\n      <th>NHOG</th>\n      <th>H05</th>\n      <th>H06</th>\n      <th>H07</th>\n      <th>H08</th>\n      <th>H09</th>\n      <th>H10</th>\n      <th>H11</th>\n      <th>...</th>\n      <th>H15</th>\n      <th>H16</th>\n      <th>H19A</th>\n      <th>H19B</th>\n      <th>H19C</th>\n      <th>H19D</th>\n      <th>PROP</th>\n      <th>INDHAC</th>\n      <th>TOTPERS</th>\n      <th>ALGUNBI</th>\n    </tr>\n  </thead>\n  <tbody>\n    <tr>\n      <th>0</th>\n      <td>1</td>\n      <td>1</td>\n      <td>1</td>\n      <td>1</td>\n      <td>4</td>\n      <td>1</td>\n      <td>1</td>\n      <td>1</td>\n      <td>1</td>\n      <td>1</td>\n      <td>...</td>\n      <td>2</td>\n      <td>2</td>\n      <td>1</td>\n      <td>2</td>\n      <td>1</td>\n      <td>2</td>\n      <td>5</td>\n      <td>1</td>\n      <td>1</td>\n      <td>0</td>\n    </tr>\n  </tbody>\n</table>\n<p>1 rows × 23 columns</p>\n</div>"
     },
     "metadata": {},
     "execution_count": 97
    }
   ],
   "source": [
    "df_in[0:1]"
   ]
  },
  {
   "cell_type": "code",
   "execution_count": 98,
   "metadata": {},
   "outputs": [
    {
     "output_type": "execute_result",
     "data": {
      "text/plain": [
       "   HOGAR_REF_ID  VIVIENDA_REF_ID  NHOG  H05  H06  H07  H08  H09  H10  H11  \\\n",
       "0             1                1     1    1    4    1    1    1    1    1   \n",
       "1             2                1     2    1    1    1    1    1    1    1   \n",
       "2             3                1     4    1    3    1    1    1    1    1   \n",
       "3             4                1     6    1    1    1    1    1    1    1   \n",
       "4             5                2     1    1    1    2    1    1    1    1   \n",
       "5             6                2     2    1    3    1    1    1    1    1   \n",
       "6             7                2     3    1    2    2    1    1    1    1   \n",
       "7             8                2     5    1    4    1    1    5    1    1   \n",
       "8             9                2     7    1    1    1    1    1    1    1   \n",
       "9            10                3     1    1    2    1    1    1    1    1   \n",
       "\n",
       "   ...  H15  H16  H19A  H19B  H19C  H19D  PROP  INDHAC  TOTPERS  ALGUNBI  \n",
       "0  ...    2    2     1     2     1     2     5       1        1        0  \n",
       "1  ...    1    2     1     1     1     1     1       1        1        0  \n",
       "2  ...    3    5     1     1     1     1     1       1        2        0  \n",
       "3  ...    3    5     1     1     1     1     5       6        8        1  \n",
       "4  ...    5    5     1     1     2     1     6       1        2        1  \n",
       "5  ...    3    5     1     1     1     2     5       1        1        1  \n",
       "6  ...    1    1     1     2     1     1     3       3        1        1  \n",
       "7  ...    1    2     1     2     1     2     1       3        2        1  \n",
       "8  ...    5    5     1     1     1     1     6       1        2        1  \n",
       "9  ...    1    2     1     1     1     1     3       3        2        0  \n",
       "\n",
       "[10 rows x 23 columns]"
      ],
      "text/html": "<div>\n<style scoped>\n    .dataframe tbody tr th:only-of-type {\n        vertical-align: middle;\n    }\n\n    .dataframe tbody tr th {\n        vertical-align: top;\n    }\n\n    .dataframe thead th {\n        text-align: right;\n    }\n</style>\n<table border=\"1\" class=\"dataframe\">\n  <thead>\n    <tr style=\"text-align: right;\">\n      <th></th>\n      <th>HOGAR_REF_ID</th>\n      <th>VIVIENDA_REF_ID</th>\n      <th>NHOG</th>\n      <th>H05</th>\n      <th>H06</th>\n      <th>H07</th>\n      <th>H08</th>\n      <th>H09</th>\n      <th>H10</th>\n      <th>H11</th>\n      <th>...</th>\n      <th>H15</th>\n      <th>H16</th>\n      <th>H19A</th>\n      <th>H19B</th>\n      <th>H19C</th>\n      <th>H19D</th>\n      <th>PROP</th>\n      <th>INDHAC</th>\n      <th>TOTPERS</th>\n      <th>ALGUNBI</th>\n    </tr>\n  </thead>\n  <tbody>\n    <tr>\n      <th>0</th>\n      <td>1</td>\n      <td>1</td>\n      <td>1</td>\n      <td>1</td>\n      <td>4</td>\n      <td>1</td>\n      <td>1</td>\n      <td>1</td>\n      <td>1</td>\n      <td>1</td>\n      <td>...</td>\n      <td>2</td>\n      <td>2</td>\n      <td>1</td>\n      <td>2</td>\n      <td>1</td>\n      <td>2</td>\n      <td>5</td>\n      <td>1</td>\n      <td>1</td>\n      <td>0</td>\n    </tr>\n    <tr>\n      <th>1</th>\n      <td>2</td>\n      <td>1</td>\n      <td>2</td>\n      <td>1</td>\n      <td>1</td>\n      <td>1</td>\n      <td>1</td>\n      <td>1</td>\n      <td>1</td>\n      <td>1</td>\n      <td>...</td>\n      <td>1</td>\n      <td>2</td>\n      <td>1</td>\n      <td>1</td>\n      <td>1</td>\n      <td>1</td>\n      <td>1</td>\n      <td>1</td>\n      <td>1</td>\n      <td>0</td>\n    </tr>\n    <tr>\n      <th>2</th>\n      <td>3</td>\n      <td>1</td>\n      <td>4</td>\n      <td>1</td>\n      <td>3</td>\n      <td>1</td>\n      <td>1</td>\n      <td>1</td>\n      <td>1</td>\n      <td>1</td>\n      <td>...</td>\n      <td>3</td>\n      <td>5</td>\n      <td>1</td>\n      <td>1</td>\n      <td>1</td>\n      <td>1</td>\n      <td>1</td>\n      <td>1</td>\n      <td>2</td>\n      <td>0</td>\n    </tr>\n    <tr>\n      <th>3</th>\n      <td>4</td>\n      <td>1</td>\n      <td>6</td>\n      <td>1</td>\n      <td>1</td>\n      <td>1</td>\n      <td>1</td>\n      <td>1</td>\n      <td>1</td>\n      <td>1</td>\n      <td>...</td>\n      <td>3</td>\n      <td>5</td>\n      <td>1</td>\n      <td>1</td>\n      <td>1</td>\n      <td>1</td>\n      <td>5</td>\n      <td>6</td>\n      <td>8</td>\n      <td>1</td>\n    </tr>\n    <tr>\n      <th>4</th>\n      <td>5</td>\n      <td>2</td>\n      <td>1</td>\n      <td>1</td>\n      <td>1</td>\n      <td>2</td>\n      <td>1</td>\n      <td>1</td>\n      <td>1</td>\n      <td>1</td>\n      <td>...</td>\n      <td>5</td>\n      <td>5</td>\n      <td>1</td>\n      <td>1</td>\n      <td>2</td>\n      <td>1</td>\n      <td>6</td>\n      <td>1</td>\n      <td>2</td>\n      <td>1</td>\n    </tr>\n    <tr>\n      <th>5</th>\n      <td>6</td>\n      <td>2</td>\n      <td>2</td>\n      <td>1</td>\n      <td>3</td>\n      <td>1</td>\n      <td>1</td>\n      <td>1</td>\n      <td>1</td>\n      <td>1</td>\n      <td>...</td>\n      <td>3</td>\n      <td>5</td>\n      <td>1</td>\n      <td>1</td>\n      <td>1</td>\n      <td>2</td>\n      <td>5</td>\n      <td>1</td>\n      <td>1</td>\n      <td>1</td>\n    </tr>\n    <tr>\n      <th>6</th>\n      <td>7</td>\n      <td>2</td>\n      <td>3</td>\n      <td>1</td>\n      <td>2</td>\n      <td>2</td>\n      <td>1</td>\n      <td>1</td>\n      <td>1</td>\n      <td>1</td>\n      <td>...</td>\n      <td>1</td>\n      <td>1</td>\n      <td>1</td>\n      <td>2</td>\n      <td>1</td>\n      <td>1</td>\n      <td>3</td>\n      <td>3</td>\n      <td>1</td>\n      <td>1</td>\n    </tr>\n    <tr>\n      <th>7</th>\n      <td>8</td>\n      <td>2</td>\n      <td>5</td>\n      <td>1</td>\n      <td>4</td>\n      <td>1</td>\n      <td>1</td>\n      <td>5</td>\n      <td>1</td>\n      <td>1</td>\n      <td>...</td>\n      <td>1</td>\n      <td>2</td>\n      <td>1</td>\n      <td>2</td>\n      <td>1</td>\n      <td>2</td>\n      <td>1</td>\n      <td>3</td>\n      <td>2</td>\n      <td>1</td>\n    </tr>\n    <tr>\n      <th>8</th>\n      <td>9</td>\n      <td>2</td>\n      <td>7</td>\n      <td>1</td>\n      <td>1</td>\n      <td>1</td>\n      <td>1</td>\n      <td>1</td>\n      <td>1</td>\n      <td>1</td>\n      <td>...</td>\n      <td>5</td>\n      <td>5</td>\n      <td>1</td>\n      <td>1</td>\n      <td>1</td>\n      <td>1</td>\n      <td>6</td>\n      <td>1</td>\n      <td>2</td>\n      <td>1</td>\n    </tr>\n    <tr>\n      <th>9</th>\n      <td>10</td>\n      <td>3</td>\n      <td>1</td>\n      <td>1</td>\n      <td>2</td>\n      <td>1</td>\n      <td>1</td>\n      <td>1</td>\n      <td>1</td>\n      <td>1</td>\n      <td>...</td>\n      <td>1</td>\n      <td>2</td>\n      <td>1</td>\n      <td>1</td>\n      <td>1</td>\n      <td>1</td>\n      <td>3</td>\n      <td>3</td>\n      <td>2</td>\n      <td>0</td>\n    </tr>\n  </tbody>\n</table>\n<p>10 rows × 23 columns</p>\n</div>"
     },
     "metadata": {},
     "execution_count": 98
    }
   ],
   "source": [
    "df_in[0:10]"
   ]
  },
  {
   "cell_type": "markdown",
   "metadata": {},
   "source": [
    "> Operator Overloading\n",
    "Ciertos operadores poseen un comportamiento diferenciado de a cuerdo a que objetos se los aplica. Por ejemplo, al indexar con $df[*]$, su comportamiento dependerá de si es:\n",
    "* string: retornará una columna como una serie return a column as a Series\n",
    "* lista de strings: retornará columnas en forma de DataFrame\n",
    "* sequencia de enteros / etiquetas: retornará filas (el vector puede ser tanto enteros como etiquetas)\n",
    "* sequencia de booleanos: retornará filas cuando sean True"
   ]
  },
  {
   "cell_type": "markdown",
   "metadata": {},
   "source": [
    "### .loc"
   ]
  },
  {
   "cell_type": "markdown",
   "metadata": {},
   "source": [
    "La indexación mediante .loc selecciona datos por filas o por columnas. Puede simultaneamente seleccionar filas o columnas y lo hace a través de las etiquetas"
   ]
  },
  {
   "cell_type": "markdown",
   "metadata": {},
   "source": [
    "#### a series"
   ]
  },
  {
   "cell_type": "code",
   "execution_count": 99,
   "metadata": {},
   "outputs": [
    {
     "output_type": "execute_result",
     "data": {
      "text/plain": [
       "HOGAR_REF_ID       2\n",
       "VIVIENDA_REF_ID    1\n",
       "NHOG               2\n",
       "H05                1\n",
       "H06                1\n",
       "H07                1\n",
       "H08                1\n",
       "H09                1\n",
       "H10                1\n",
       "H11                1\n",
       "H12                1\n",
       "H13                1\n",
       "H14                1\n",
       "H15                1\n",
       "H16                2\n",
       "H19A               1\n",
       "H19B               1\n",
       "H19C               1\n",
       "H19D               1\n",
       "PROP               1\n",
       "INDHAC             1\n",
       "TOTPERS            1\n",
       "ALGUNBI            0\n",
       "Name: 1, dtype: int64"
      ]
     },
     "metadata": {},
     "execution_count": 99
    }
   ],
   "source": [
    "df_in.loc[1]"
   ]
  },
  {
   "cell_type": "code",
   "execution_count": 100,
   "metadata": {},
   "outputs": [
    {
     "output_type": "execute_result",
     "data": {
      "text/plain": [
       "pandas.core.series.Series"
      ]
     },
     "metadata": {},
     "execution_count": 100
    }
   ],
   "source": [
    "type(df_in.loc[1])"
   ]
  },
  {
   "cell_type": "code",
   "execution_count": 101,
   "metadata": {},
   "outputs": [
    {
     "output_type": "execute_result",
     "data": {
      "text/plain": [
       "   HOGAR_REF_ID  VIVIENDA_REF_ID  NHOG  H05  H06  H07  H08  H09  H10  H11  \\\n",
       "1             2                1     2    1    1    1    1    1    1    1   \n",
       "\n",
       "   ...  H15  H16  H19A  H19B  H19C  H19D  PROP  INDHAC  TOTPERS  ALGUNBI  \n",
       "1  ...    1    2     1     1     1     1     1       1        1        0  \n",
       "\n",
       "[1 rows x 23 columns]"
      ],
      "text/html": "<div>\n<style scoped>\n    .dataframe tbody tr th:only-of-type {\n        vertical-align: middle;\n    }\n\n    .dataframe tbody tr th {\n        vertical-align: top;\n    }\n\n    .dataframe thead th {\n        text-align: right;\n    }\n</style>\n<table border=\"1\" class=\"dataframe\">\n  <thead>\n    <tr style=\"text-align: right;\">\n      <th></th>\n      <th>HOGAR_REF_ID</th>\n      <th>VIVIENDA_REF_ID</th>\n      <th>NHOG</th>\n      <th>H05</th>\n      <th>H06</th>\n      <th>H07</th>\n      <th>H08</th>\n      <th>H09</th>\n      <th>H10</th>\n      <th>H11</th>\n      <th>...</th>\n      <th>H15</th>\n      <th>H16</th>\n      <th>H19A</th>\n      <th>H19B</th>\n      <th>H19C</th>\n      <th>H19D</th>\n      <th>PROP</th>\n      <th>INDHAC</th>\n      <th>TOTPERS</th>\n      <th>ALGUNBI</th>\n    </tr>\n  </thead>\n  <tbody>\n    <tr>\n      <th>1</th>\n      <td>2</td>\n      <td>1</td>\n      <td>2</td>\n      <td>1</td>\n      <td>1</td>\n      <td>1</td>\n      <td>1</td>\n      <td>1</td>\n      <td>1</td>\n      <td>1</td>\n      <td>...</td>\n      <td>1</td>\n      <td>2</td>\n      <td>1</td>\n      <td>1</td>\n      <td>1</td>\n      <td>1</td>\n      <td>1</td>\n      <td>1</td>\n      <td>1</td>\n      <td>0</td>\n    </tr>\n  </tbody>\n</table>\n<p>1 rows × 23 columns</p>\n</div>"
     },
     "metadata": {},
     "execution_count": 101
    }
   ],
   "source": [
    "df_in.loc[[1]]"
   ]
  },
  {
   "cell_type": "code",
   "execution_count": 102,
   "metadata": {},
   "outputs": [
    {
     "output_type": "execute_result",
     "data": {
      "text/plain": [
       "pandas.core.frame.DataFrame"
      ]
     },
     "metadata": {},
     "execution_count": 102
    }
   ],
   "source": [
    "type(df_in.loc[[1]])"
   ]
  },
  {
   "cell_type": "markdown",
   "metadata": {},
   "source": [
    "#### Varias Filas"
   ]
  },
  {
   "cell_type": "code",
   "execution_count": 103,
   "metadata": {},
   "outputs": [
    {
     "output_type": "execute_result",
     "data": {
      "text/plain": [
       "   HOGAR_REF_ID  VIVIENDA_REF_ID  NHOG  H05  H06  H07  H08  H09  H10  H11  \\\n",
       "1             2                1     2    1    1    1    1    1    1    1   \n",
       "2             3                1     4    1    3    1    1    1    1    1   \n",
       "\n",
       "   ...  H15  H16  H19A  H19B  H19C  H19D  PROP  INDHAC  TOTPERS  ALGUNBI  \n",
       "1  ...    1    2     1     1     1     1     1       1        1        0  \n",
       "2  ...    3    5     1     1     1     1     1       1        2        0  \n",
       "\n",
       "[2 rows x 23 columns]"
      ],
      "text/html": "<div>\n<style scoped>\n    .dataframe tbody tr th:only-of-type {\n        vertical-align: middle;\n    }\n\n    .dataframe tbody tr th {\n        vertical-align: top;\n    }\n\n    .dataframe thead th {\n        text-align: right;\n    }\n</style>\n<table border=\"1\" class=\"dataframe\">\n  <thead>\n    <tr style=\"text-align: right;\">\n      <th></th>\n      <th>HOGAR_REF_ID</th>\n      <th>VIVIENDA_REF_ID</th>\n      <th>NHOG</th>\n      <th>H05</th>\n      <th>H06</th>\n      <th>H07</th>\n      <th>H08</th>\n      <th>H09</th>\n      <th>H10</th>\n      <th>H11</th>\n      <th>...</th>\n      <th>H15</th>\n      <th>H16</th>\n      <th>H19A</th>\n      <th>H19B</th>\n      <th>H19C</th>\n      <th>H19D</th>\n      <th>PROP</th>\n      <th>INDHAC</th>\n      <th>TOTPERS</th>\n      <th>ALGUNBI</th>\n    </tr>\n  </thead>\n  <tbody>\n    <tr>\n      <th>1</th>\n      <td>2</td>\n      <td>1</td>\n      <td>2</td>\n      <td>1</td>\n      <td>1</td>\n      <td>1</td>\n      <td>1</td>\n      <td>1</td>\n      <td>1</td>\n      <td>1</td>\n      <td>...</td>\n      <td>1</td>\n      <td>2</td>\n      <td>1</td>\n      <td>1</td>\n      <td>1</td>\n      <td>1</td>\n      <td>1</td>\n      <td>1</td>\n      <td>1</td>\n      <td>0</td>\n    </tr>\n    <tr>\n      <th>2</th>\n      <td>3</td>\n      <td>1</td>\n      <td>4</td>\n      <td>1</td>\n      <td>3</td>\n      <td>1</td>\n      <td>1</td>\n      <td>1</td>\n      <td>1</td>\n      <td>1</td>\n      <td>...</td>\n      <td>3</td>\n      <td>5</td>\n      <td>1</td>\n      <td>1</td>\n      <td>1</td>\n      <td>1</td>\n      <td>1</td>\n      <td>1</td>\n      <td>2</td>\n      <td>0</td>\n    </tr>\n  </tbody>\n</table>\n<p>2 rows × 23 columns</p>\n</div>"
     },
     "metadata": {},
     "execution_count": 103
    }
   ],
   "source": [
    "df_in.loc[[1, 2]]"
   ]
  },
  {
   "cell_type": "markdown",
   "metadata": {},
   "source": [
    "#### Muchas filas vía Índeces"
   ]
  },
  {
   "cell_type": "code",
   "execution_count": 104,
   "metadata": {},
   "outputs": [
    {
     "output_type": "execute_result",
     "data": {
      "text/plain": [
       "    HOGAR_REF_ID  VIVIENDA_REF_ID  NHOG  H05  H06  H07  H08  H09  H10  H11  \\\n",
       "1              2                1     2    1    1    1    1    1    1    1   \n",
       "2              3                1     4    1    3    1    1    1    1    1   \n",
       "3              4                1     6    1    1    1    1    1    1    1   \n",
       "4              5                2     1    1    1    2    1    1    1    1   \n",
       "5              6                2     2    1    3    1    1    1    1    1   \n",
       "6              7                2     3    1    2    2    1    1    1    1   \n",
       "7              8                2     5    1    4    1    1    5    1    1   \n",
       "8              9                2     7    1    1    1    1    1    1    1   \n",
       "9             10                3     1    1    2    1    1    1    1    1   \n",
       "10            11                3     3    1    1    1    1    1    1    1   \n",
       "\n",
       "    ...  H15  H16  H19A  H19B  H19C  H19D  PROP  INDHAC  TOTPERS  ALGUNBI  \n",
       "1   ...    1    2     1     1     1     1     1       1        1        0  \n",
       "2   ...    3    5     1     1     1     1     1       1        2        0  \n",
       "3   ...    3    5     1     1     1     1     5       6        8        1  \n",
       "4   ...    5    5     1     1     2     1     6       1        2        1  \n",
       "5   ...    3    5     1     1     1     2     5       1        1        1  \n",
       "6   ...    1    1     1     2     1     1     3       3        1        1  \n",
       "7   ...    1    2     1     2     1     2     1       3        2        1  \n",
       "8   ...    5    5     1     1     1     1     6       1        2        1  \n",
       "9   ...    1    2     1     1     1     1     3       3        2        0  \n",
       "10  ...    1    3     1     2     1     1     5       1        1        0  \n",
       "\n",
       "[10 rows x 23 columns]"
      ],
      "text/html": "<div>\n<style scoped>\n    .dataframe tbody tr th:only-of-type {\n        vertical-align: middle;\n    }\n\n    .dataframe tbody tr th {\n        vertical-align: top;\n    }\n\n    .dataframe thead th {\n        text-align: right;\n    }\n</style>\n<table border=\"1\" class=\"dataframe\">\n  <thead>\n    <tr style=\"text-align: right;\">\n      <th></th>\n      <th>HOGAR_REF_ID</th>\n      <th>VIVIENDA_REF_ID</th>\n      <th>NHOG</th>\n      <th>H05</th>\n      <th>H06</th>\n      <th>H07</th>\n      <th>H08</th>\n      <th>H09</th>\n      <th>H10</th>\n      <th>H11</th>\n      <th>...</th>\n      <th>H15</th>\n      <th>H16</th>\n      <th>H19A</th>\n      <th>H19B</th>\n      <th>H19C</th>\n      <th>H19D</th>\n      <th>PROP</th>\n      <th>INDHAC</th>\n      <th>TOTPERS</th>\n      <th>ALGUNBI</th>\n    </tr>\n  </thead>\n  <tbody>\n    <tr>\n      <th>1</th>\n      <td>2</td>\n      <td>1</td>\n      <td>2</td>\n      <td>1</td>\n      <td>1</td>\n      <td>1</td>\n      <td>1</td>\n      <td>1</td>\n      <td>1</td>\n      <td>1</td>\n      <td>...</td>\n      <td>1</td>\n      <td>2</td>\n      <td>1</td>\n      <td>1</td>\n      <td>1</td>\n      <td>1</td>\n      <td>1</td>\n      <td>1</td>\n      <td>1</td>\n      <td>0</td>\n    </tr>\n    <tr>\n      <th>2</th>\n      <td>3</td>\n      <td>1</td>\n      <td>4</td>\n      <td>1</td>\n      <td>3</td>\n      <td>1</td>\n      <td>1</td>\n      <td>1</td>\n      <td>1</td>\n      <td>1</td>\n      <td>...</td>\n      <td>3</td>\n      <td>5</td>\n      <td>1</td>\n      <td>1</td>\n      <td>1</td>\n      <td>1</td>\n      <td>1</td>\n      <td>1</td>\n      <td>2</td>\n      <td>0</td>\n    </tr>\n    <tr>\n      <th>3</th>\n      <td>4</td>\n      <td>1</td>\n      <td>6</td>\n      <td>1</td>\n      <td>1</td>\n      <td>1</td>\n      <td>1</td>\n      <td>1</td>\n      <td>1</td>\n      <td>1</td>\n      <td>...</td>\n      <td>3</td>\n      <td>5</td>\n      <td>1</td>\n      <td>1</td>\n      <td>1</td>\n      <td>1</td>\n      <td>5</td>\n      <td>6</td>\n      <td>8</td>\n      <td>1</td>\n    </tr>\n    <tr>\n      <th>4</th>\n      <td>5</td>\n      <td>2</td>\n      <td>1</td>\n      <td>1</td>\n      <td>1</td>\n      <td>2</td>\n      <td>1</td>\n      <td>1</td>\n      <td>1</td>\n      <td>1</td>\n      <td>...</td>\n      <td>5</td>\n      <td>5</td>\n      <td>1</td>\n      <td>1</td>\n      <td>2</td>\n      <td>1</td>\n      <td>6</td>\n      <td>1</td>\n      <td>2</td>\n      <td>1</td>\n    </tr>\n    <tr>\n      <th>5</th>\n      <td>6</td>\n      <td>2</td>\n      <td>2</td>\n      <td>1</td>\n      <td>3</td>\n      <td>1</td>\n      <td>1</td>\n      <td>1</td>\n      <td>1</td>\n      <td>1</td>\n      <td>...</td>\n      <td>3</td>\n      <td>5</td>\n      <td>1</td>\n      <td>1</td>\n      <td>1</td>\n      <td>2</td>\n      <td>5</td>\n      <td>1</td>\n      <td>1</td>\n      <td>1</td>\n    </tr>\n    <tr>\n      <th>6</th>\n      <td>7</td>\n      <td>2</td>\n      <td>3</td>\n      <td>1</td>\n      <td>2</td>\n      <td>2</td>\n      <td>1</td>\n      <td>1</td>\n      <td>1</td>\n      <td>1</td>\n      <td>...</td>\n      <td>1</td>\n      <td>1</td>\n      <td>1</td>\n      <td>2</td>\n      <td>1</td>\n      <td>1</td>\n      <td>3</td>\n      <td>3</td>\n      <td>1</td>\n      <td>1</td>\n    </tr>\n    <tr>\n      <th>7</th>\n      <td>8</td>\n      <td>2</td>\n      <td>5</td>\n      <td>1</td>\n      <td>4</td>\n      <td>1</td>\n      <td>1</td>\n      <td>5</td>\n      <td>1</td>\n      <td>1</td>\n      <td>...</td>\n      <td>1</td>\n      <td>2</td>\n      <td>1</td>\n      <td>2</td>\n      <td>1</td>\n      <td>2</td>\n      <td>1</td>\n      <td>3</td>\n      <td>2</td>\n      <td>1</td>\n    </tr>\n    <tr>\n      <th>8</th>\n      <td>9</td>\n      <td>2</td>\n      <td>7</td>\n      <td>1</td>\n      <td>1</td>\n      <td>1</td>\n      <td>1</td>\n      <td>1</td>\n      <td>1</td>\n      <td>1</td>\n      <td>...</td>\n      <td>5</td>\n      <td>5</td>\n      <td>1</td>\n      <td>1</td>\n      <td>1</td>\n      <td>1</td>\n      <td>6</td>\n      <td>1</td>\n      <td>2</td>\n      <td>1</td>\n    </tr>\n    <tr>\n      <th>9</th>\n      <td>10</td>\n      <td>3</td>\n      <td>1</td>\n      <td>1</td>\n      <td>2</td>\n      <td>1</td>\n      <td>1</td>\n      <td>1</td>\n      <td>1</td>\n      <td>1</td>\n      <td>...</td>\n      <td>1</td>\n      <td>2</td>\n      <td>1</td>\n      <td>1</td>\n      <td>1</td>\n      <td>1</td>\n      <td>3</td>\n      <td>3</td>\n      <td>2</td>\n      <td>0</td>\n    </tr>\n    <tr>\n      <th>10</th>\n      <td>11</td>\n      <td>3</td>\n      <td>3</td>\n      <td>1</td>\n      <td>1</td>\n      <td>1</td>\n      <td>1</td>\n      <td>1</td>\n      <td>1</td>\n      <td>1</td>\n      <td>...</td>\n      <td>1</td>\n      <td>3</td>\n      <td>1</td>\n      <td>2</td>\n      <td>1</td>\n      <td>1</td>\n      <td>5</td>\n      <td>1</td>\n      <td>1</td>\n      <td>0</td>\n    </tr>\n  </tbody>\n</table>\n<p>10 rows × 23 columns</p>\n</div>"
     },
     "metadata": {},
     "execution_count": 104
    }
   ],
   "source": [
    "df_in.loc[1:10]"
   ]
  },
  {
   "cell_type": "code",
   "execution_count": 105,
   "metadata": {},
   "outputs": [
    {
     "output_type": "execute_result",
     "data": {
      "text/plain": [
       "    HOGAR_REF_ID  VIVIENDA_REF_ID  NHOG  H05  H06  H07  H08  H09  H10  H11  \\\n",
       "0              1                1     1    1    4    1    1    1    1    1   \n",
       "1              2                1     2    1    1    1    1    1    1    1   \n",
       "2              3                1     4    1    3    1    1    1    1    1   \n",
       "3              4                1     6    1    1    1    1    1    1    1   \n",
       "4              5                2     1    1    1    2    1    1    1    1   \n",
       "5              6                2     2    1    3    1    1    1    1    1   \n",
       "6              7                2     3    1    2    2    1    1    1    1   \n",
       "7              8                2     5    1    4    1    1    5    1    1   \n",
       "8              9                2     7    1    1    1    1    1    1    1   \n",
       "9             10                3     1    1    2    1    1    1    1    1   \n",
       "10            11                3     3    1    1    1    1    1    1    1   \n",
       "\n",
       "    ...  H15  H16  H19A  H19B  H19C  H19D  PROP  INDHAC  TOTPERS  ALGUNBI  \n",
       "0   ...    2    2     1     2     1     2     5       1        1        0  \n",
       "1   ...    1    2     1     1     1     1     1       1        1        0  \n",
       "2   ...    3    5     1     1     1     1     1       1        2        0  \n",
       "3   ...    3    5     1     1     1     1     5       6        8        1  \n",
       "4   ...    5    5     1     1     2     1     6       1        2        1  \n",
       "5   ...    3    5     1     1     1     2     5       1        1        1  \n",
       "6   ...    1    1     1     2     1     1     3       3        1        1  \n",
       "7   ...    1    2     1     2     1     2     1       3        2        1  \n",
       "8   ...    5    5     1     1     1     1     6       1        2        1  \n",
       "9   ...    1    2     1     1     1     1     3       3        2        0  \n",
       "10  ...    1    3     1     2     1     1     5       1        1        0  \n",
       "\n",
       "[11 rows x 23 columns]"
      ],
      "text/html": "<div>\n<style scoped>\n    .dataframe tbody tr th:only-of-type {\n        vertical-align: middle;\n    }\n\n    .dataframe tbody tr th {\n        vertical-align: top;\n    }\n\n    .dataframe thead th {\n        text-align: right;\n    }\n</style>\n<table border=\"1\" class=\"dataframe\">\n  <thead>\n    <tr style=\"text-align: right;\">\n      <th></th>\n      <th>HOGAR_REF_ID</th>\n      <th>VIVIENDA_REF_ID</th>\n      <th>NHOG</th>\n      <th>H05</th>\n      <th>H06</th>\n      <th>H07</th>\n      <th>H08</th>\n      <th>H09</th>\n      <th>H10</th>\n      <th>H11</th>\n      <th>...</th>\n      <th>H15</th>\n      <th>H16</th>\n      <th>H19A</th>\n      <th>H19B</th>\n      <th>H19C</th>\n      <th>H19D</th>\n      <th>PROP</th>\n      <th>INDHAC</th>\n      <th>TOTPERS</th>\n      <th>ALGUNBI</th>\n    </tr>\n  </thead>\n  <tbody>\n    <tr>\n      <th>0</th>\n      <td>1</td>\n      <td>1</td>\n      <td>1</td>\n      <td>1</td>\n      <td>4</td>\n      <td>1</td>\n      <td>1</td>\n      <td>1</td>\n      <td>1</td>\n      <td>1</td>\n      <td>...</td>\n      <td>2</td>\n      <td>2</td>\n      <td>1</td>\n      <td>2</td>\n      <td>1</td>\n      <td>2</td>\n      <td>5</td>\n      <td>1</td>\n      <td>1</td>\n      <td>0</td>\n    </tr>\n    <tr>\n      <th>1</th>\n      <td>2</td>\n      <td>1</td>\n      <td>2</td>\n      <td>1</td>\n      <td>1</td>\n      <td>1</td>\n      <td>1</td>\n      <td>1</td>\n      <td>1</td>\n      <td>1</td>\n      <td>...</td>\n      <td>1</td>\n      <td>2</td>\n      <td>1</td>\n      <td>1</td>\n      <td>1</td>\n      <td>1</td>\n      <td>1</td>\n      <td>1</td>\n      <td>1</td>\n      <td>0</td>\n    </tr>\n    <tr>\n      <th>2</th>\n      <td>3</td>\n      <td>1</td>\n      <td>4</td>\n      <td>1</td>\n      <td>3</td>\n      <td>1</td>\n      <td>1</td>\n      <td>1</td>\n      <td>1</td>\n      <td>1</td>\n      <td>...</td>\n      <td>3</td>\n      <td>5</td>\n      <td>1</td>\n      <td>1</td>\n      <td>1</td>\n      <td>1</td>\n      <td>1</td>\n      <td>1</td>\n      <td>2</td>\n      <td>0</td>\n    </tr>\n    <tr>\n      <th>3</th>\n      <td>4</td>\n      <td>1</td>\n      <td>6</td>\n      <td>1</td>\n      <td>1</td>\n      <td>1</td>\n      <td>1</td>\n      <td>1</td>\n      <td>1</td>\n      <td>1</td>\n      <td>...</td>\n      <td>3</td>\n      <td>5</td>\n      <td>1</td>\n      <td>1</td>\n      <td>1</td>\n      <td>1</td>\n      <td>5</td>\n      <td>6</td>\n      <td>8</td>\n      <td>1</td>\n    </tr>\n    <tr>\n      <th>4</th>\n      <td>5</td>\n      <td>2</td>\n      <td>1</td>\n      <td>1</td>\n      <td>1</td>\n      <td>2</td>\n      <td>1</td>\n      <td>1</td>\n      <td>1</td>\n      <td>1</td>\n      <td>...</td>\n      <td>5</td>\n      <td>5</td>\n      <td>1</td>\n      <td>1</td>\n      <td>2</td>\n      <td>1</td>\n      <td>6</td>\n      <td>1</td>\n      <td>2</td>\n      <td>1</td>\n    </tr>\n    <tr>\n      <th>5</th>\n      <td>6</td>\n      <td>2</td>\n      <td>2</td>\n      <td>1</td>\n      <td>3</td>\n      <td>1</td>\n      <td>1</td>\n      <td>1</td>\n      <td>1</td>\n      <td>1</td>\n      <td>...</td>\n      <td>3</td>\n      <td>5</td>\n      <td>1</td>\n      <td>1</td>\n      <td>1</td>\n      <td>2</td>\n      <td>5</td>\n      <td>1</td>\n      <td>1</td>\n      <td>1</td>\n    </tr>\n    <tr>\n      <th>6</th>\n      <td>7</td>\n      <td>2</td>\n      <td>3</td>\n      <td>1</td>\n      <td>2</td>\n      <td>2</td>\n      <td>1</td>\n      <td>1</td>\n      <td>1</td>\n      <td>1</td>\n      <td>...</td>\n      <td>1</td>\n      <td>1</td>\n      <td>1</td>\n      <td>2</td>\n      <td>1</td>\n      <td>1</td>\n      <td>3</td>\n      <td>3</td>\n      <td>1</td>\n      <td>1</td>\n    </tr>\n    <tr>\n      <th>7</th>\n      <td>8</td>\n      <td>2</td>\n      <td>5</td>\n      <td>1</td>\n      <td>4</td>\n      <td>1</td>\n      <td>1</td>\n      <td>5</td>\n      <td>1</td>\n      <td>1</td>\n      <td>...</td>\n      <td>1</td>\n      <td>2</td>\n      <td>1</td>\n      <td>2</td>\n      <td>1</td>\n      <td>2</td>\n      <td>1</td>\n      <td>3</td>\n      <td>2</td>\n      <td>1</td>\n    </tr>\n    <tr>\n      <th>8</th>\n      <td>9</td>\n      <td>2</td>\n      <td>7</td>\n      <td>1</td>\n      <td>1</td>\n      <td>1</td>\n      <td>1</td>\n      <td>1</td>\n      <td>1</td>\n      <td>1</td>\n      <td>...</td>\n      <td>5</td>\n      <td>5</td>\n      <td>1</td>\n      <td>1</td>\n      <td>1</td>\n      <td>1</td>\n      <td>6</td>\n      <td>1</td>\n      <td>2</td>\n      <td>1</td>\n    </tr>\n    <tr>\n      <th>9</th>\n      <td>10</td>\n      <td>3</td>\n      <td>1</td>\n      <td>1</td>\n      <td>2</td>\n      <td>1</td>\n      <td>1</td>\n      <td>1</td>\n      <td>1</td>\n      <td>1</td>\n      <td>...</td>\n      <td>1</td>\n      <td>2</td>\n      <td>1</td>\n      <td>1</td>\n      <td>1</td>\n      <td>1</td>\n      <td>3</td>\n      <td>3</td>\n      <td>2</td>\n      <td>0</td>\n    </tr>\n    <tr>\n      <th>10</th>\n      <td>11</td>\n      <td>3</td>\n      <td>3</td>\n      <td>1</td>\n      <td>1</td>\n      <td>1</td>\n      <td>1</td>\n      <td>1</td>\n      <td>1</td>\n      <td>1</td>\n      <td>...</td>\n      <td>1</td>\n      <td>3</td>\n      <td>1</td>\n      <td>2</td>\n      <td>1</td>\n      <td>1</td>\n      <td>5</td>\n      <td>1</td>\n      <td>1</td>\n      <td>0</td>\n    </tr>\n  </tbody>\n</table>\n<p>11 rows × 23 columns</p>\n</div>"
     },
     "metadata": {},
     "execution_count": 105
    }
   ],
   "source": [
    "df_in.loc[:10]"
   ]
  },
  {
   "cell_type": "code",
   "execution_count": 106,
   "metadata": {},
   "outputs": [
    {
     "output_type": "execute_result",
     "data": {
      "text/plain": [
       "         HOGAR_REF_ID  VIVIENDA_REF_ID  NHOG  H05  H06  H07  H08  H09  H10  \\\n",
       "10                 11                3     3    1    1    1    1    1    1   \n",
       "11                 12                3     6    1    1    1    1    1    1   \n",
       "12                 13                4     1    1    1    1    1    1    1   \n",
       "13                 14                5     1    2    4    2    1    2    1   \n",
       "14                 15                6     1    2    8    2    1    2    1   \n",
       "...               ...              ...   ...  ...  ...  ...  ...  ...  ...   \n",
       "1152594       1152595          1426434     1    1    2    1    1    1    1   \n",
       "1152595       1152596          1426435     1    1    1    1    1    1    1   \n",
       "1152596       1152597          1426436     1    1    1    1    1    1    1   \n",
       "1152597       1152598          1426437  1000    0    0    0    0    0    0   \n",
       "1152598       1152599          1426438  1000    0    0    0    0    0    0   \n",
       "\n",
       "         H11  ...  H15  H16  H19A  H19B  H19C  H19D  PROP  INDHAC  TOTPERS  \\\n",
       "10         1  ...    1    3     1     2     1     1     5       1        1   \n",
       "11         1  ...    5    5     1     1     1     1     6       3        5   \n",
       "12         1  ...    1    2     1     1     1     2     3       1        1   \n",
       "13         1  ...    1    2     1     1     1     2     3       1        1   \n",
       "14         1  ...    6   10     1     1     2     1     1       1        1   \n",
       "...      ...  ...  ...  ...   ...   ...   ...   ...   ...     ...      ...   \n",
       "1152594    1  ...    2    3     1     1     1     1     1       1        1   \n",
       "1152595    1  ...    1    2     1     2     2     1     1       1        1   \n",
       "1152596    1  ...    2    3     1     1     1     1     1       3        3   \n",
       "1152597    0  ...    0    0     0     0     0     0     0       7        0   \n",
       "1152598    0  ...    0    0     0     0     0     0     0       7        0   \n",
       "\n",
       "         ALGUNBI  \n",
       "10             0  \n",
       "11             0  \n",
       "12             0  \n",
       "13             0  \n",
       "14             0  \n",
       "...          ...  \n",
       "1152594        0  \n",
       "1152595        0  \n",
       "1152596        0  \n",
       "1152597        2  \n",
       "1152598        2  \n",
       "\n",
       "[1152589 rows x 23 columns]"
      ],
      "text/html": "<div>\n<style scoped>\n    .dataframe tbody tr th:only-of-type {\n        vertical-align: middle;\n    }\n\n    .dataframe tbody tr th {\n        vertical-align: top;\n    }\n\n    .dataframe thead th {\n        text-align: right;\n    }\n</style>\n<table border=\"1\" class=\"dataframe\">\n  <thead>\n    <tr style=\"text-align: right;\">\n      <th></th>\n      <th>HOGAR_REF_ID</th>\n      <th>VIVIENDA_REF_ID</th>\n      <th>NHOG</th>\n      <th>H05</th>\n      <th>H06</th>\n      <th>H07</th>\n      <th>H08</th>\n      <th>H09</th>\n      <th>H10</th>\n      <th>H11</th>\n      <th>...</th>\n      <th>H15</th>\n      <th>H16</th>\n      <th>H19A</th>\n      <th>H19B</th>\n      <th>H19C</th>\n      <th>H19D</th>\n      <th>PROP</th>\n      <th>INDHAC</th>\n      <th>TOTPERS</th>\n      <th>ALGUNBI</th>\n    </tr>\n  </thead>\n  <tbody>\n    <tr>\n      <th>10</th>\n      <td>11</td>\n      <td>3</td>\n      <td>3</td>\n      <td>1</td>\n      <td>1</td>\n      <td>1</td>\n      <td>1</td>\n      <td>1</td>\n      <td>1</td>\n      <td>1</td>\n      <td>...</td>\n      <td>1</td>\n      <td>3</td>\n      <td>1</td>\n      <td>2</td>\n      <td>1</td>\n      <td>1</td>\n      <td>5</td>\n      <td>1</td>\n      <td>1</td>\n      <td>0</td>\n    </tr>\n    <tr>\n      <th>11</th>\n      <td>12</td>\n      <td>3</td>\n      <td>6</td>\n      <td>1</td>\n      <td>1</td>\n      <td>1</td>\n      <td>1</td>\n      <td>1</td>\n      <td>1</td>\n      <td>1</td>\n      <td>...</td>\n      <td>5</td>\n      <td>5</td>\n      <td>1</td>\n      <td>1</td>\n      <td>1</td>\n      <td>1</td>\n      <td>6</td>\n      <td>3</td>\n      <td>5</td>\n      <td>0</td>\n    </tr>\n    <tr>\n      <th>12</th>\n      <td>13</td>\n      <td>4</td>\n      <td>1</td>\n      <td>1</td>\n      <td>1</td>\n      <td>1</td>\n      <td>1</td>\n      <td>1</td>\n      <td>1</td>\n      <td>1</td>\n      <td>...</td>\n      <td>1</td>\n      <td>2</td>\n      <td>1</td>\n      <td>1</td>\n      <td>1</td>\n      <td>2</td>\n      <td>3</td>\n      <td>1</td>\n      <td>1</td>\n      <td>0</td>\n    </tr>\n    <tr>\n      <th>13</th>\n      <td>14</td>\n      <td>5</td>\n      <td>1</td>\n      <td>2</td>\n      <td>4</td>\n      <td>2</td>\n      <td>1</td>\n      <td>2</td>\n      <td>1</td>\n      <td>1</td>\n      <td>...</td>\n      <td>1</td>\n      <td>2</td>\n      <td>1</td>\n      <td>1</td>\n      <td>1</td>\n      <td>2</td>\n      <td>3</td>\n      <td>1</td>\n      <td>1</td>\n      <td>0</td>\n    </tr>\n    <tr>\n      <th>14</th>\n      <td>15</td>\n      <td>6</td>\n      <td>1</td>\n      <td>2</td>\n      <td>8</td>\n      <td>2</td>\n      <td>1</td>\n      <td>2</td>\n      <td>1</td>\n      <td>1</td>\n      <td>...</td>\n      <td>6</td>\n      <td>10</td>\n      <td>1</td>\n      <td>1</td>\n      <td>2</td>\n      <td>1</td>\n      <td>1</td>\n      <td>1</td>\n      <td>1</td>\n      <td>0</td>\n    </tr>\n    <tr>\n      <th>...</th>\n      <td>...</td>\n      <td>...</td>\n      <td>...</td>\n      <td>...</td>\n      <td>...</td>\n      <td>...</td>\n      <td>...</td>\n      <td>...</td>\n      <td>...</td>\n      <td>...</td>\n      <td>...</td>\n      <td>...</td>\n      <td>...</td>\n      <td>...</td>\n      <td>...</td>\n      <td>...</td>\n      <td>...</td>\n      <td>...</td>\n      <td>...</td>\n      <td>...</td>\n      <td>...</td>\n    </tr>\n    <tr>\n      <th>1152594</th>\n      <td>1152595</td>\n      <td>1426434</td>\n      <td>1</td>\n      <td>1</td>\n      <td>2</td>\n      <td>1</td>\n      <td>1</td>\n      <td>1</td>\n      <td>1</td>\n      <td>1</td>\n      <td>...</td>\n      <td>2</td>\n      <td>3</td>\n      <td>1</td>\n      <td>1</td>\n      <td>1</td>\n      <td>1</td>\n      <td>1</td>\n      <td>1</td>\n      <td>1</td>\n      <td>0</td>\n    </tr>\n    <tr>\n      <th>1152595</th>\n      <td>1152596</td>\n      <td>1426435</td>\n      <td>1</td>\n      <td>1</td>\n      <td>1</td>\n      <td>1</td>\n      <td>1</td>\n      <td>1</td>\n      <td>1</td>\n      <td>1</td>\n      <td>...</td>\n      <td>1</td>\n      <td>2</td>\n      <td>1</td>\n      <td>2</td>\n      <td>2</td>\n      <td>1</td>\n      <td>1</td>\n      <td>1</td>\n      <td>1</td>\n      <td>0</td>\n    </tr>\n    <tr>\n      <th>1152596</th>\n      <td>1152597</td>\n      <td>1426436</td>\n      <td>1</td>\n      <td>1</td>\n      <td>1</td>\n      <td>1</td>\n      <td>1</td>\n      <td>1</td>\n      <td>1</td>\n      <td>1</td>\n      <td>...</td>\n      <td>2</td>\n      <td>3</td>\n      <td>1</td>\n      <td>1</td>\n      <td>1</td>\n      <td>1</td>\n      <td>1</td>\n      <td>3</td>\n      <td>3</td>\n      <td>0</td>\n    </tr>\n    <tr>\n      <th>1152597</th>\n      <td>1152598</td>\n      <td>1426437</td>\n      <td>1000</td>\n      <td>0</td>\n      <td>0</td>\n      <td>0</td>\n      <td>0</td>\n      <td>0</td>\n      <td>0</td>\n      <td>0</td>\n      <td>...</td>\n      <td>0</td>\n      <td>0</td>\n      <td>0</td>\n      <td>0</td>\n      <td>0</td>\n      <td>0</td>\n      <td>0</td>\n      <td>7</td>\n      <td>0</td>\n      <td>2</td>\n    </tr>\n    <tr>\n      <th>1152598</th>\n      <td>1152599</td>\n      <td>1426438</td>\n      <td>1000</td>\n      <td>0</td>\n      <td>0</td>\n      <td>0</td>\n      <td>0</td>\n      <td>0</td>\n      <td>0</td>\n      <td>0</td>\n      <td>...</td>\n      <td>0</td>\n      <td>0</td>\n      <td>0</td>\n      <td>0</td>\n      <td>0</td>\n      <td>0</td>\n      <td>0</td>\n      <td>7</td>\n      <td>0</td>\n      <td>2</td>\n    </tr>\n  </tbody>\n</table>\n<p>1152589 rows × 23 columns</p>\n</div>"
     },
     "metadata": {},
     "execution_count": 106
    }
   ],
   "source": [
    "df_in.loc[10:]"
   ]
  },
  {
   "cell_type": "markdown",
   "metadata": {},
   "source": [
    "#### Subsetear filas y columnas con loc"
   ]
  },
  {
   "cell_type": "markdown",
   "metadata": {},
   "source": [
    "##### Muchas filas "
   ]
  },
  {
   "cell_type": "code",
   "execution_count": 107,
   "metadata": {},
   "outputs": [
    {
     "output_type": "execute_result",
     "data": {
      "text/plain": [
       "   PROP  ALGUNBI\n",
       "1     1        0\n",
       "2     1        0"
      ],
      "text/html": "<div>\n<style scoped>\n    .dataframe tbody tr th:only-of-type {\n        vertical-align: middle;\n    }\n\n    .dataframe tbody tr th {\n        vertical-align: top;\n    }\n\n    .dataframe thead th {\n        text-align: right;\n    }\n</style>\n<table border=\"1\" class=\"dataframe\">\n  <thead>\n    <tr style=\"text-align: right;\">\n      <th></th>\n      <th>PROP</th>\n      <th>ALGUNBI</th>\n    </tr>\n  </thead>\n  <tbody>\n    <tr>\n      <th>1</th>\n      <td>1</td>\n      <td>0</td>\n    </tr>\n    <tr>\n      <th>2</th>\n      <td>1</td>\n      <td>0</td>\n    </tr>\n  </tbody>\n</table>\n</div>"
     },
     "metadata": {},
     "execution_count": 107
    }
   ],
   "source": [
    "df_in.loc[[1, 2], ['PROP', 'ALGUNBI']]"
   ]
  },
  {
   "cell_type": "markdown",
   "metadata": {},
   "source": [
    "#### Selecting all of the rows and some columns"
   ]
  },
  {
   "cell_type": "code",
   "execution_count": 108,
   "metadata": {},
   "outputs": [
    {
     "output_type": "execute_result",
     "data": {
      "text/plain": [
       "         PROP  ALGUNBI\n",
       "0           5        0\n",
       "1           1        0\n",
       "2           1        0\n",
       "3           5        1\n",
       "4           6        1\n",
       "...       ...      ...\n",
       "1152594     1        0\n",
       "1152595     1        0\n",
       "1152596     1        0\n",
       "1152597     0        2\n",
       "1152598     0        2\n",
       "\n",
       "[1152599 rows x 2 columns]"
      ],
      "text/html": "<div>\n<style scoped>\n    .dataframe tbody tr th:only-of-type {\n        vertical-align: middle;\n    }\n\n    .dataframe tbody tr th {\n        vertical-align: top;\n    }\n\n    .dataframe thead th {\n        text-align: right;\n    }\n</style>\n<table border=\"1\" class=\"dataframe\">\n  <thead>\n    <tr style=\"text-align: right;\">\n      <th></th>\n      <th>PROP</th>\n      <th>ALGUNBI</th>\n    </tr>\n  </thead>\n  <tbody>\n    <tr>\n      <th>0</th>\n      <td>5</td>\n      <td>0</td>\n    </tr>\n    <tr>\n      <th>1</th>\n      <td>1</td>\n      <td>0</td>\n    </tr>\n    <tr>\n      <th>2</th>\n      <td>1</td>\n      <td>0</td>\n    </tr>\n    <tr>\n      <th>3</th>\n      <td>5</td>\n      <td>1</td>\n    </tr>\n    <tr>\n      <th>4</th>\n      <td>6</td>\n      <td>1</td>\n    </tr>\n    <tr>\n      <th>...</th>\n      <td>...</td>\n      <td>...</td>\n    </tr>\n    <tr>\n      <th>1152594</th>\n      <td>1</td>\n      <td>0</td>\n    </tr>\n    <tr>\n      <th>1152595</th>\n      <td>1</td>\n      <td>0</td>\n    </tr>\n    <tr>\n      <th>1152596</th>\n      <td>1</td>\n      <td>0</td>\n    </tr>\n    <tr>\n      <th>1152597</th>\n      <td>0</td>\n      <td>2</td>\n    </tr>\n    <tr>\n      <th>1152598</th>\n      <td>0</td>\n      <td>2</td>\n    </tr>\n  </tbody>\n</table>\n<p>1152599 rows × 2 columns</p>\n</div>"
     },
     "metadata": {},
     "execution_count": 108
    }
   ],
   "source": [
    "df_in.loc[:, ['PROP', 'ALGUNBI']]"
   ]
  },
  {
   "cell_type": "markdown",
   "metadata": {},
   "source": [
    "#### Selecting all of the rows and some columns"
   ]
  },
  {
   "cell_type": "code",
   "execution_count": 109,
   "metadata": {},
   "outputs": [
    {
     "output_type": "execute_result",
     "data": {
      "text/plain": [
       "         PROP  INDHAC  TOTPERS  ALGUNBI\n",
       "0           5       1        1        0\n",
       "1           1       1        1        0\n",
       "2           1       1        2        0\n",
       "3           5       6        8        1\n",
       "4           6       1        2        1\n",
       "...       ...     ...      ...      ...\n",
       "1152594     1       1        1        0\n",
       "1152595     1       1        1        0\n",
       "1152596     1       3        3        0\n",
       "1152597     0       7        0        2\n",
       "1152598     0       7        0        2\n",
       "\n",
       "[1152599 rows x 4 columns]"
      ],
      "text/html": "<div>\n<style scoped>\n    .dataframe tbody tr th:only-of-type {\n        vertical-align: middle;\n    }\n\n    .dataframe tbody tr th {\n        vertical-align: top;\n    }\n\n    .dataframe thead th {\n        text-align: right;\n    }\n</style>\n<table border=\"1\" class=\"dataframe\">\n  <thead>\n    <tr style=\"text-align: right;\">\n      <th></th>\n      <th>PROP</th>\n      <th>INDHAC</th>\n      <th>TOTPERS</th>\n      <th>ALGUNBI</th>\n    </tr>\n  </thead>\n  <tbody>\n    <tr>\n      <th>0</th>\n      <td>5</td>\n      <td>1</td>\n      <td>1</td>\n      <td>0</td>\n    </tr>\n    <tr>\n      <th>1</th>\n      <td>1</td>\n      <td>1</td>\n      <td>1</td>\n      <td>0</td>\n    </tr>\n    <tr>\n      <th>2</th>\n      <td>1</td>\n      <td>1</td>\n      <td>2</td>\n      <td>0</td>\n    </tr>\n    <tr>\n      <th>3</th>\n      <td>5</td>\n      <td>6</td>\n      <td>8</td>\n      <td>1</td>\n    </tr>\n    <tr>\n      <th>4</th>\n      <td>6</td>\n      <td>1</td>\n      <td>2</td>\n      <td>1</td>\n    </tr>\n    <tr>\n      <th>...</th>\n      <td>...</td>\n      <td>...</td>\n      <td>...</td>\n      <td>...</td>\n    </tr>\n    <tr>\n      <th>1152594</th>\n      <td>1</td>\n      <td>1</td>\n      <td>1</td>\n      <td>0</td>\n    </tr>\n    <tr>\n      <th>1152595</th>\n      <td>1</td>\n      <td>1</td>\n      <td>1</td>\n      <td>0</td>\n    </tr>\n    <tr>\n      <th>1152596</th>\n      <td>1</td>\n      <td>3</td>\n      <td>3</td>\n      <td>0</td>\n    </tr>\n    <tr>\n      <th>1152597</th>\n      <td>0</td>\n      <td>7</td>\n      <td>0</td>\n      <td>2</td>\n    </tr>\n    <tr>\n      <th>1152598</th>\n      <td>0</td>\n      <td>7</td>\n      <td>0</td>\n      <td>2</td>\n    </tr>\n  </tbody>\n</table>\n<p>1152599 rows × 4 columns</p>\n</div>"
     },
     "metadata": {},
     "execution_count": 109
    }
   ],
   "source": [
    "df_in.loc[:, 'PROP':]"
   ]
  },
  {
   "cell_type": "markdown",
   "metadata": {},
   "source": [
    "#### accediento al elemento"
   ]
  },
  {
   "cell_type": "code",
   "execution_count": 110,
   "metadata": {},
   "outputs": [
    {
     "output_type": "execute_result",
     "data": {
      "text/plain": [
       "1"
      ]
     },
     "metadata": {},
     "execution_count": 110
    }
   ],
   "source": [
    "df_in.loc[1, 'PROP']"
   ]
  },
  {
   "cell_type": "code",
   "execution_count": 111,
   "metadata": {},
   "outputs": [
    {
     "output_type": "execute_result",
     "data": {
      "text/plain": [
       "1"
      ]
     },
     "metadata": {},
     "execution_count": 111
    }
   ],
   "source": [
    "df_in.loc[:, 'PROP'][1]"
   ]
  },
  {
   "cell_type": "code",
   "execution_count": 112,
   "metadata": {},
   "outputs": [
    {
     "output_type": "execute_result",
     "data": {
      "text/plain": [
       "1"
      ]
     },
     "metadata": {},
     "execution_count": 112
    }
   ],
   "source": [
    "df_in.loc[:, 'PROP'].loc[1]"
   ]
  },
  {
   "cell_type": "code",
   "execution_count": 113,
   "metadata": {},
   "outputs": [
    {
     "output_type": "execute_result",
     "data": {
      "text/plain": [
       "1"
      ]
     },
     "metadata": {},
     "execution_count": 113
    }
   ],
   "source": [
    "df_in.loc[1]['PROP']"
   ]
  },
  {
   "cell_type": "code",
   "execution_count": 114,
   "metadata": {},
   "outputs": [
    {
     "output_type": "execute_result",
     "data": {
      "text/plain": [
       "1"
      ]
     },
     "metadata": {},
     "execution_count": 114
    }
   ],
   "source": [
    "df_in.loc[1].loc['PROP']"
   ]
  },
  {
   "cell_type": "markdown",
   "metadata": {},
   "source": [
    "#### el elemento en forma de serie"
   ]
  },
  {
   "cell_type": "code",
   "execution_count": 115,
   "metadata": {},
   "outputs": [
    {
     "output_type": "execute_result",
     "data": {
      "text/plain": [
       "1    1\n",
       "Name: PROP, dtype: int64"
      ]
     },
     "metadata": {},
     "execution_count": 115
    }
   ],
   "source": [
    "df_in.loc[[1], 'PROP']"
   ]
  },
  {
   "cell_type": "code",
   "execution_count": 116,
   "metadata": {},
   "outputs": [
    {
     "output_type": "execute_result",
     "data": {
      "text/plain": [
       "pandas.core.series.Series"
      ]
     },
     "metadata": {},
     "execution_count": 116
    }
   ],
   "source": [
    "type(df_in.loc[[1], 'PROP'])"
   ]
  },
  {
   "cell_type": "markdown",
   "metadata": {},
   "source": [
    "#### el elemento en forma de df"
   ]
  },
  {
   "cell_type": "code",
   "execution_count": 117,
   "metadata": {},
   "outputs": [
    {
     "output_type": "execute_result",
     "data": {
      "text/plain": [
       "   PROP\n",
       "1     1"
      ],
      "text/html": "<div>\n<style scoped>\n    .dataframe tbody tr th:only-of-type {\n        vertical-align: middle;\n    }\n\n    .dataframe tbody tr th {\n        vertical-align: top;\n    }\n\n    .dataframe thead th {\n        text-align: right;\n    }\n</style>\n<table border=\"1\" class=\"dataframe\">\n  <thead>\n    <tr style=\"text-align: right;\">\n      <th></th>\n      <th>PROP</th>\n    </tr>\n  </thead>\n  <tbody>\n    <tr>\n      <th>1</th>\n      <td>1</td>\n    </tr>\n  </tbody>\n</table>\n</div>"
     },
     "metadata": {},
     "execution_count": 117
    }
   ],
   "source": [
    "df_in.loc[[1], ['PROP']]"
   ]
  },
  {
   "cell_type": "code",
   "execution_count": 118,
   "metadata": {},
   "outputs": [
    {
     "output_type": "execute_result",
     "data": {
      "text/plain": [
       "pandas.core.frame.DataFrame"
      ]
     },
     "metadata": {},
     "execution_count": 118
    }
   ],
   "source": [
    "type(df_in.loc[[1], ['PROP']])"
   ]
  },
  {
   "cell_type": "markdown",
   "metadata": {},
   "source": [
    "## .iloc"
   ]
  },
  {
   "cell_type": "code",
   "execution_count": 119,
   "metadata": {},
   "outputs": [
    {
     "output_type": "execute_result",
     "data": {
      "text/plain": [
       "HOGAR_REF_ID       1\n",
       "VIVIENDA_REF_ID    1\n",
       "NHOG               1\n",
       "H05                1\n",
       "H06                4\n",
       "H07                1\n",
       "H08                1\n",
       "H09                1\n",
       "H10                1\n",
       "H11                1\n",
       "H12                1\n",
       "H13                1\n",
       "H14                1\n",
       "H15                2\n",
       "H16                2\n",
       "H19A               1\n",
       "H19B               2\n",
       "H19C               1\n",
       "H19D               2\n",
       "PROP               5\n",
       "INDHAC             1\n",
       "TOTPERS            1\n",
       "ALGUNBI            0\n",
       "Name: 0, dtype: int64"
      ]
     },
     "metadata": {},
     "execution_count": 119
    }
   ],
   "source": [
    "df_in.iloc[0]"
   ]
  },
  {
   "cell_type": "code",
   "execution_count": 120,
   "metadata": {},
   "outputs": [
    {
     "output_type": "execute_result",
     "data": {
      "text/plain": [
       "   HOGAR_REF_ID  VIVIENDA_REF_ID  NHOG  H05  H06  H07  H08  H09  H10  H11  \\\n",
       "0             1                1     1    1    4    1    1    1    1    1   \n",
       "\n",
       "   ...  H15  H16  H19A  H19B  H19C  H19D  PROP  INDHAC  TOTPERS  ALGUNBI  \n",
       "0  ...    2    2     1     2     1     2     5       1        1        0  \n",
       "\n",
       "[1 rows x 23 columns]"
      ],
      "text/html": "<div>\n<style scoped>\n    .dataframe tbody tr th:only-of-type {\n        vertical-align: middle;\n    }\n\n    .dataframe tbody tr th {\n        vertical-align: top;\n    }\n\n    .dataframe thead th {\n        text-align: right;\n    }\n</style>\n<table border=\"1\" class=\"dataframe\">\n  <thead>\n    <tr style=\"text-align: right;\">\n      <th></th>\n      <th>HOGAR_REF_ID</th>\n      <th>VIVIENDA_REF_ID</th>\n      <th>NHOG</th>\n      <th>H05</th>\n      <th>H06</th>\n      <th>H07</th>\n      <th>H08</th>\n      <th>H09</th>\n      <th>H10</th>\n      <th>H11</th>\n      <th>...</th>\n      <th>H15</th>\n      <th>H16</th>\n      <th>H19A</th>\n      <th>H19B</th>\n      <th>H19C</th>\n      <th>H19D</th>\n      <th>PROP</th>\n      <th>INDHAC</th>\n      <th>TOTPERS</th>\n      <th>ALGUNBI</th>\n    </tr>\n  </thead>\n  <tbody>\n    <tr>\n      <th>0</th>\n      <td>1</td>\n      <td>1</td>\n      <td>1</td>\n      <td>1</td>\n      <td>4</td>\n      <td>1</td>\n      <td>1</td>\n      <td>1</td>\n      <td>1</td>\n      <td>1</td>\n      <td>...</td>\n      <td>2</td>\n      <td>2</td>\n      <td>1</td>\n      <td>2</td>\n      <td>1</td>\n      <td>2</td>\n      <td>5</td>\n      <td>1</td>\n      <td>1</td>\n      <td>0</td>\n    </tr>\n  </tbody>\n</table>\n<p>1 rows × 23 columns</p>\n</div>"
     },
     "metadata": {},
     "execution_count": 120
    }
   ],
   "source": [
    "df_in.iloc[[0]]"
   ]
  },
  {
   "cell_type": "code",
   "execution_count": 121,
   "metadata": {},
   "outputs": [
    {
     "output_type": "execute_result",
     "data": {
      "text/plain": [
       "0          2\n",
       "1          1\n",
       "2          1\n",
       "3          1\n",
       "4          1\n",
       "          ..\n",
       "1152594    1\n",
       "1152595    1\n",
       "1152596    1\n",
       "1152597    0\n",
       "1152598    0\n",
       "Name: H19D, Length: 1152599, dtype: int64"
      ]
     },
     "metadata": {},
     "execution_count": 121
    }
   ],
   "source": [
    "df_in.iloc[:, 18]"
   ]
  },
  {
   "cell_type": "code",
   "execution_count": 122,
   "metadata": {},
   "outputs": [
    {
     "output_type": "execute_result",
     "data": {
      "text/plain": [
       "         H19D\n",
       "0           2\n",
       "1           1\n",
       "2           1\n",
       "3           1\n",
       "4           1\n",
       "...       ...\n",
       "1152594     1\n",
       "1152595     1\n",
       "1152596     1\n",
       "1152597     0\n",
       "1152598     0\n",
       "\n",
       "[1152599 rows x 1 columns]"
      ],
      "text/html": "<div>\n<style scoped>\n    .dataframe tbody tr th:only-of-type {\n        vertical-align: middle;\n    }\n\n    .dataframe tbody tr th {\n        vertical-align: top;\n    }\n\n    .dataframe thead th {\n        text-align: right;\n    }\n</style>\n<table border=\"1\" class=\"dataframe\">\n  <thead>\n    <tr style=\"text-align: right;\">\n      <th></th>\n      <th>H19D</th>\n    </tr>\n  </thead>\n  <tbody>\n    <tr>\n      <th>0</th>\n      <td>2</td>\n    </tr>\n    <tr>\n      <th>1</th>\n      <td>1</td>\n    </tr>\n    <tr>\n      <th>2</th>\n      <td>1</td>\n    </tr>\n    <tr>\n      <th>3</th>\n      <td>1</td>\n    </tr>\n    <tr>\n      <th>4</th>\n      <td>1</td>\n    </tr>\n    <tr>\n      <th>...</th>\n      <td>...</td>\n    </tr>\n    <tr>\n      <th>1152594</th>\n      <td>1</td>\n    </tr>\n    <tr>\n      <th>1152595</th>\n      <td>1</td>\n    </tr>\n    <tr>\n      <th>1152596</th>\n      <td>1</td>\n    </tr>\n    <tr>\n      <th>1152597</th>\n      <td>0</td>\n    </tr>\n    <tr>\n      <th>1152598</th>\n      <td>0</td>\n    </tr>\n  </tbody>\n</table>\n<p>1152599 rows × 1 columns</p>\n</div>"
     },
     "metadata": {},
     "execution_count": 122
    }
   ],
   "source": [
    "df_in.iloc[:, [18]]"
   ]
  },
  {
   "cell_type": "code",
   "execution_count": 123,
   "metadata": {},
   "outputs": [
    {
     "output_type": "execute_result",
     "data": {
      "text/plain": [
       "   HOGAR_REF_ID  VIVIENDA_REF_ID  NHOG  H05  H06  H07  H08  H09  H10  H11  \\\n",
       "5             6                2     2    1    3    1    1    1    1    1   \n",
       "2             3                1     4    1    3    1    1    1    1    1   \n",
       "4             5                2     1    1    1    2    1    1    1    1   \n",
       "\n",
       "   ...  H15  H16  H19A  H19B  H19C  H19D  PROP  INDHAC  TOTPERS  ALGUNBI  \n",
       "5  ...    3    5     1     1     1     2     5       1        1        1  \n",
       "2  ...    3    5     1     1     1     1     1       1        2        0  \n",
       "4  ...    5    5     1     1     2     1     6       1        2        1  \n",
       "\n",
       "[3 rows x 23 columns]"
      ],
      "text/html": "<div>\n<style scoped>\n    .dataframe tbody tr th:only-of-type {\n        vertical-align: middle;\n    }\n\n    .dataframe tbody tr th {\n        vertical-align: top;\n    }\n\n    .dataframe thead th {\n        text-align: right;\n    }\n</style>\n<table border=\"1\" class=\"dataframe\">\n  <thead>\n    <tr style=\"text-align: right;\">\n      <th></th>\n      <th>HOGAR_REF_ID</th>\n      <th>VIVIENDA_REF_ID</th>\n      <th>NHOG</th>\n      <th>H05</th>\n      <th>H06</th>\n      <th>H07</th>\n      <th>H08</th>\n      <th>H09</th>\n      <th>H10</th>\n      <th>H11</th>\n      <th>...</th>\n      <th>H15</th>\n      <th>H16</th>\n      <th>H19A</th>\n      <th>H19B</th>\n      <th>H19C</th>\n      <th>H19D</th>\n      <th>PROP</th>\n      <th>INDHAC</th>\n      <th>TOTPERS</th>\n      <th>ALGUNBI</th>\n    </tr>\n  </thead>\n  <tbody>\n    <tr>\n      <th>5</th>\n      <td>6</td>\n      <td>2</td>\n      <td>2</td>\n      <td>1</td>\n      <td>3</td>\n      <td>1</td>\n      <td>1</td>\n      <td>1</td>\n      <td>1</td>\n      <td>1</td>\n      <td>...</td>\n      <td>3</td>\n      <td>5</td>\n      <td>1</td>\n      <td>1</td>\n      <td>1</td>\n      <td>2</td>\n      <td>5</td>\n      <td>1</td>\n      <td>1</td>\n      <td>1</td>\n    </tr>\n    <tr>\n      <th>2</th>\n      <td>3</td>\n      <td>1</td>\n      <td>4</td>\n      <td>1</td>\n      <td>3</td>\n      <td>1</td>\n      <td>1</td>\n      <td>1</td>\n      <td>1</td>\n      <td>1</td>\n      <td>...</td>\n      <td>3</td>\n      <td>5</td>\n      <td>1</td>\n      <td>1</td>\n      <td>1</td>\n      <td>1</td>\n      <td>1</td>\n      <td>1</td>\n      <td>2</td>\n      <td>0</td>\n    </tr>\n    <tr>\n      <th>4</th>\n      <td>5</td>\n      <td>2</td>\n      <td>1</td>\n      <td>1</td>\n      <td>1</td>\n      <td>2</td>\n      <td>1</td>\n      <td>1</td>\n      <td>1</td>\n      <td>1</td>\n      <td>...</td>\n      <td>5</td>\n      <td>5</td>\n      <td>1</td>\n      <td>1</td>\n      <td>2</td>\n      <td>1</td>\n      <td>6</td>\n      <td>1</td>\n      <td>2</td>\n      <td>1</td>\n    </tr>\n  </tbody>\n</table>\n<p>3 rows × 23 columns</p>\n</div>"
     },
     "metadata": {},
     "execution_count": 123
    }
   ],
   "source": [
    "df_in.iloc[[5, 2, 4]]\n"
   ]
  },
  {
   "cell_type": "code",
   "execution_count": 124,
   "metadata": {},
   "outputs": [
    {
     "output_type": "execute_result",
     "data": {
      "text/plain": [
       "   HOGAR_REF_ID  VIVIENDA_REF_ID  NHOG  H05  H06  H07  H08  H09  H10  H11  \\\n",
       "3             4                1     6    1    1    1    1    1    1    1   \n",
       "4             5                2     1    1    1    2    1    1    1    1   \n",
       "\n",
       "   ...  H15  H16  H19A  H19B  H19C  H19D  PROP  INDHAC  TOTPERS  ALGUNBI  \n",
       "3  ...    3    5     1     1     1     1     5       6        8        1  \n",
       "4  ...    5    5     1     1     2     1     6       1        2        1  \n",
       "\n",
       "[2 rows x 23 columns]"
      ],
      "text/html": "<div>\n<style scoped>\n    .dataframe tbody tr th:only-of-type {\n        vertical-align: middle;\n    }\n\n    .dataframe tbody tr th {\n        vertical-align: top;\n    }\n\n    .dataframe thead th {\n        text-align: right;\n    }\n</style>\n<table border=\"1\" class=\"dataframe\">\n  <thead>\n    <tr style=\"text-align: right;\">\n      <th></th>\n      <th>HOGAR_REF_ID</th>\n      <th>VIVIENDA_REF_ID</th>\n      <th>NHOG</th>\n      <th>H05</th>\n      <th>H06</th>\n      <th>H07</th>\n      <th>H08</th>\n      <th>H09</th>\n      <th>H10</th>\n      <th>H11</th>\n      <th>...</th>\n      <th>H15</th>\n      <th>H16</th>\n      <th>H19A</th>\n      <th>H19B</th>\n      <th>H19C</th>\n      <th>H19D</th>\n      <th>PROP</th>\n      <th>INDHAC</th>\n      <th>TOTPERS</th>\n      <th>ALGUNBI</th>\n    </tr>\n  </thead>\n  <tbody>\n    <tr>\n      <th>3</th>\n      <td>4</td>\n      <td>1</td>\n      <td>6</td>\n      <td>1</td>\n      <td>1</td>\n      <td>1</td>\n      <td>1</td>\n      <td>1</td>\n      <td>1</td>\n      <td>1</td>\n      <td>...</td>\n      <td>3</td>\n      <td>5</td>\n      <td>1</td>\n      <td>1</td>\n      <td>1</td>\n      <td>1</td>\n      <td>5</td>\n      <td>6</td>\n      <td>8</td>\n      <td>1</td>\n    </tr>\n    <tr>\n      <th>4</th>\n      <td>5</td>\n      <td>2</td>\n      <td>1</td>\n      <td>1</td>\n      <td>1</td>\n      <td>2</td>\n      <td>1</td>\n      <td>1</td>\n      <td>1</td>\n      <td>1</td>\n      <td>...</td>\n      <td>5</td>\n      <td>5</td>\n      <td>1</td>\n      <td>1</td>\n      <td>2</td>\n      <td>1</td>\n      <td>6</td>\n      <td>1</td>\n      <td>2</td>\n      <td>1</td>\n    </tr>\n  </tbody>\n</table>\n<p>2 rows × 23 columns</p>\n</div>"
     },
     "metadata": {},
     "execution_count": 124
    }
   ],
   "source": [
    "df_in.iloc[3:5]"
   ]
  },
  {
   "cell_type": "code",
   "execution_count": 125,
   "metadata": {},
   "outputs": [
    {
     "output_type": "execute_result",
     "data": {
      "text/plain": [
       "   H19D  TOTPERS\n",
       "3     1        8\n",
       "4     1        2"
      ],
      "text/html": "<div>\n<style scoped>\n    .dataframe tbody tr th:only-of-type {\n        vertical-align: middle;\n    }\n\n    .dataframe tbody tr th {\n        vertical-align: top;\n    }\n\n    .dataframe thead th {\n        text-align: right;\n    }\n</style>\n<table border=\"1\" class=\"dataframe\">\n  <thead>\n    <tr style=\"text-align: right;\">\n      <th></th>\n      <th>H19D</th>\n      <th>TOTPERS</th>\n    </tr>\n  </thead>\n  <tbody>\n    <tr>\n      <th>3</th>\n      <td>1</td>\n      <td>8</td>\n    </tr>\n    <tr>\n      <th>4</th>\n      <td>1</td>\n      <td>2</td>\n    </tr>\n  </tbody>\n</table>\n</div>"
     },
     "metadata": {},
     "execution_count": 125
    }
   ],
   "source": [
    "df_in.iloc[3:5, [18, 21]]"
   ]
  },
  {
   "cell_type": "code",
   "execution_count": 126,
   "metadata": {},
   "outputs": [
    {
     "output_type": "execute_result",
     "data": {
      "text/plain": [
       "   H19D  PROP  INDHAC\n",
       "3     1     5       6\n",
       "4     1     6       1"
      ],
      "text/html": "<div>\n<style scoped>\n    .dataframe tbody tr th:only-of-type {\n        vertical-align: middle;\n    }\n\n    .dataframe tbody tr th {\n        vertical-align: top;\n    }\n\n    .dataframe thead th {\n        text-align: right;\n    }\n</style>\n<table border=\"1\" class=\"dataframe\">\n  <thead>\n    <tr style=\"text-align: right;\">\n      <th></th>\n      <th>H19D</th>\n      <th>PROP</th>\n      <th>INDHAC</th>\n    </tr>\n  </thead>\n  <tbody>\n    <tr>\n      <th>3</th>\n      <td>1</td>\n      <td>5</td>\n      <td>6</td>\n    </tr>\n    <tr>\n      <th>4</th>\n      <td>1</td>\n      <td>6</td>\n      <td>1</td>\n    </tr>\n  </tbody>\n</table>\n</div>"
     },
     "metadata": {},
     "execution_count": 126
    }
   ],
   "source": [
    "df_in.iloc[3:5, 18:21]"
   ]
  },
  {
   "cell_type": "markdown",
   "metadata": {},
   "source": [
    "## Seleccionar Donde (where)"
   ]
  },
  {
   "cell_type": "markdown",
   "metadata": {},
   "source": [
    "### [ ]"
   ]
  },
  {
   "cell_type": "markdown",
   "metadata": {},
   "source": [
    "#### A mano"
   ]
  },
  {
   "cell_type": "code",
   "execution_count": 127,
   "metadata": {},
   "outputs": [],
   "source": [
    "df_in_head = df_in.head()"
   ]
  },
  {
   "cell_type": "code",
   "execution_count": 128,
   "metadata": {},
   "outputs": [],
   "source": [
    "booleano = [False, False, True, True, True]"
   ]
  },
  {
   "cell_type": "code",
   "execution_count": 129,
   "metadata": {},
   "outputs": [
    {
     "output_type": "execute_result",
     "data": {
      "text/plain": [
       "list"
      ]
     },
     "metadata": {},
     "execution_count": 129
    }
   ],
   "source": [
    "type(booleano)"
   ]
  },
  {
   "cell_type": "code",
   "execution_count": 130,
   "metadata": {},
   "outputs": [
    {
     "output_type": "execute_result",
     "data": {
      "text/plain": [
       "   HOGAR_REF_ID  VIVIENDA_REF_ID  NHOG  H05  H06  H07  H08  H09  H10  H11  \\\n",
       "2             3                1     4    1    3    1    1    1    1    1   \n",
       "3             4                1     6    1    1    1    1    1    1    1   \n",
       "4             5                2     1    1    1    2    1    1    1    1   \n",
       "\n",
       "   ...  H15  H16  H19A  H19B  H19C  H19D  PROP  INDHAC  TOTPERS  ALGUNBI  \n",
       "2  ...    3    5     1     1     1     1     1       1        2        0  \n",
       "3  ...    3    5     1     1     1     1     5       6        8        1  \n",
       "4  ...    5    5     1     1     2     1     6       1        2        1  \n",
       "\n",
       "[3 rows x 23 columns]"
      ],
      "text/html": "<div>\n<style scoped>\n    .dataframe tbody tr th:only-of-type {\n        vertical-align: middle;\n    }\n\n    .dataframe tbody tr th {\n        vertical-align: top;\n    }\n\n    .dataframe thead th {\n        text-align: right;\n    }\n</style>\n<table border=\"1\" class=\"dataframe\">\n  <thead>\n    <tr style=\"text-align: right;\">\n      <th></th>\n      <th>HOGAR_REF_ID</th>\n      <th>VIVIENDA_REF_ID</th>\n      <th>NHOG</th>\n      <th>H05</th>\n      <th>H06</th>\n      <th>H07</th>\n      <th>H08</th>\n      <th>H09</th>\n      <th>H10</th>\n      <th>H11</th>\n      <th>...</th>\n      <th>H15</th>\n      <th>H16</th>\n      <th>H19A</th>\n      <th>H19B</th>\n      <th>H19C</th>\n      <th>H19D</th>\n      <th>PROP</th>\n      <th>INDHAC</th>\n      <th>TOTPERS</th>\n      <th>ALGUNBI</th>\n    </tr>\n  </thead>\n  <tbody>\n    <tr>\n      <th>2</th>\n      <td>3</td>\n      <td>1</td>\n      <td>4</td>\n      <td>1</td>\n      <td>3</td>\n      <td>1</td>\n      <td>1</td>\n      <td>1</td>\n      <td>1</td>\n      <td>1</td>\n      <td>...</td>\n      <td>3</td>\n      <td>5</td>\n      <td>1</td>\n      <td>1</td>\n      <td>1</td>\n      <td>1</td>\n      <td>1</td>\n      <td>1</td>\n      <td>2</td>\n      <td>0</td>\n    </tr>\n    <tr>\n      <th>3</th>\n      <td>4</td>\n      <td>1</td>\n      <td>6</td>\n      <td>1</td>\n      <td>1</td>\n      <td>1</td>\n      <td>1</td>\n      <td>1</td>\n      <td>1</td>\n      <td>1</td>\n      <td>...</td>\n      <td>3</td>\n      <td>5</td>\n      <td>1</td>\n      <td>1</td>\n      <td>1</td>\n      <td>1</td>\n      <td>5</td>\n      <td>6</td>\n      <td>8</td>\n      <td>1</td>\n    </tr>\n    <tr>\n      <th>4</th>\n      <td>5</td>\n      <td>2</td>\n      <td>1</td>\n      <td>1</td>\n      <td>1</td>\n      <td>2</td>\n      <td>1</td>\n      <td>1</td>\n      <td>1</td>\n      <td>1</td>\n      <td>...</td>\n      <td>5</td>\n      <td>5</td>\n      <td>1</td>\n      <td>1</td>\n      <td>2</td>\n      <td>1</td>\n      <td>6</td>\n      <td>1</td>\n      <td>2</td>\n      <td>1</td>\n    </tr>\n  </tbody>\n</table>\n<p>3 rows × 23 columns</p>\n</div>"
     },
     "metadata": {},
     "execution_count": 130
    }
   ],
   "source": [
    "df_in_head[booleano]"
   ]
  },
  {
   "cell_type": "code",
   "execution_count": 131,
   "metadata": {},
   "outputs": [],
   "source": [
    "booleano = np.array([False, False, True, True, True])\n"
   ]
  },
  {
   "cell_type": "code",
   "execution_count": 132,
   "metadata": {},
   "outputs": [
    {
     "output_type": "execute_result",
     "data": {
      "text/plain": [
       "numpy.ndarray"
      ]
     },
     "metadata": {},
     "execution_count": 132
    }
   ],
   "source": [
    "type(booleano)\n"
   ]
  },
  {
   "cell_type": "code",
   "execution_count": 133,
   "metadata": {},
   "outputs": [
    {
     "output_type": "execute_result",
     "data": {
      "text/plain": [
       "   HOGAR_REF_ID  VIVIENDA_REF_ID  NHOG  H05  H06  H07  H08  H09  H10  H11  \\\n",
       "2             3                1     4    1    3    1    1    1    1    1   \n",
       "3             4                1     6    1    1    1    1    1    1    1   \n",
       "4             5                2     1    1    1    2    1    1    1    1   \n",
       "\n",
       "   ...  H15  H16  H19A  H19B  H19C  H19D  PROP  INDHAC  TOTPERS  ALGUNBI  \n",
       "2  ...    3    5     1     1     1     1     1       1        2        0  \n",
       "3  ...    3    5     1     1     1     1     5       6        8        1  \n",
       "4  ...    5    5     1     1     2     1     6       1        2        1  \n",
       "\n",
       "[3 rows x 23 columns]"
      ],
      "text/html": "<div>\n<style scoped>\n    .dataframe tbody tr th:only-of-type {\n        vertical-align: middle;\n    }\n\n    .dataframe tbody tr th {\n        vertical-align: top;\n    }\n\n    .dataframe thead th {\n        text-align: right;\n    }\n</style>\n<table border=\"1\" class=\"dataframe\">\n  <thead>\n    <tr style=\"text-align: right;\">\n      <th></th>\n      <th>HOGAR_REF_ID</th>\n      <th>VIVIENDA_REF_ID</th>\n      <th>NHOG</th>\n      <th>H05</th>\n      <th>H06</th>\n      <th>H07</th>\n      <th>H08</th>\n      <th>H09</th>\n      <th>H10</th>\n      <th>H11</th>\n      <th>...</th>\n      <th>H15</th>\n      <th>H16</th>\n      <th>H19A</th>\n      <th>H19B</th>\n      <th>H19C</th>\n      <th>H19D</th>\n      <th>PROP</th>\n      <th>INDHAC</th>\n      <th>TOTPERS</th>\n      <th>ALGUNBI</th>\n    </tr>\n  </thead>\n  <tbody>\n    <tr>\n      <th>2</th>\n      <td>3</td>\n      <td>1</td>\n      <td>4</td>\n      <td>1</td>\n      <td>3</td>\n      <td>1</td>\n      <td>1</td>\n      <td>1</td>\n      <td>1</td>\n      <td>1</td>\n      <td>...</td>\n      <td>3</td>\n      <td>5</td>\n      <td>1</td>\n      <td>1</td>\n      <td>1</td>\n      <td>1</td>\n      <td>1</td>\n      <td>1</td>\n      <td>2</td>\n      <td>0</td>\n    </tr>\n    <tr>\n      <th>3</th>\n      <td>4</td>\n      <td>1</td>\n      <td>6</td>\n      <td>1</td>\n      <td>1</td>\n      <td>1</td>\n      <td>1</td>\n      <td>1</td>\n      <td>1</td>\n      <td>1</td>\n      <td>...</td>\n      <td>3</td>\n      <td>5</td>\n      <td>1</td>\n      <td>1</td>\n      <td>1</td>\n      <td>1</td>\n      <td>5</td>\n      <td>6</td>\n      <td>8</td>\n      <td>1</td>\n    </tr>\n    <tr>\n      <th>4</th>\n      <td>5</td>\n      <td>2</td>\n      <td>1</td>\n      <td>1</td>\n      <td>1</td>\n      <td>2</td>\n      <td>1</td>\n      <td>1</td>\n      <td>1</td>\n      <td>1</td>\n      <td>...</td>\n      <td>5</td>\n      <td>5</td>\n      <td>1</td>\n      <td>1</td>\n      <td>2</td>\n      <td>1</td>\n      <td>6</td>\n      <td>1</td>\n      <td>2</td>\n      <td>1</td>\n    </tr>\n  </tbody>\n</table>\n<p>3 rows × 23 columns</p>\n</div>"
     },
     "metadata": {},
     "execution_count": 133
    }
   ],
   "source": [
    "df_in_head[booleano]\n"
   ]
  },
  {
   "cell_type": "markdown",
   "metadata": {},
   "source": [
    "#### Condiciones simples"
   ]
  },
  {
   "cell_type": "markdown",
   "metadata": {},
   "source": [
    "##### Usando operaciones lógicas: '<', '>', '==', '>=', '<=', !=\n"
   ]
  },
  {
   "cell_type": "code",
   "execution_count": 134,
   "metadata": {},
   "outputs": [
    {
     "output_type": "execute_result",
     "data": {
      "text/plain": [
       "         HOGAR_REF_ID  VIVIENDA_REF_ID  NHOG  H05  H06  H07  H08  H09  H10  \\\n",
       "3                   4                1     6    1    1    1    1    1    1   \n",
       "4                   5                2     1    1    1    2    1    1    1   \n",
       "5                   6                2     2    1    3    1    1    1    1   \n",
       "6                   7                2     3    1    2    2    1    1    1   \n",
       "7                   8                2     5    1    4    1    1    5    1   \n",
       "...               ...              ...   ...  ...  ...  ...  ...  ...  ...   \n",
       "1152566       1152567          1426397     1    1    2    1    1    1    1   \n",
       "1152568       1152569          1426399     1    1    2    1    1    1    1   \n",
       "1152574       1152575          1426406     1    1    2    2    1    1    1   \n",
       "1152597       1152598          1426437  1000    0    0    0    0    0    0   \n",
       "1152598       1152599          1426438  1000    0    0    0    0    0    0   \n",
       "\n",
       "         H11  ...  H15  H16  H19A  H19B  H19C  H19D  PROP  INDHAC  TOTPERS  \\\n",
       "3          1  ...    3    5     1     1     1     1     5       6        8   \n",
       "4          1  ...    5    5     1     1     2     1     6       1        2   \n",
       "5          1  ...    3    5     1     1     1     2     5       1        1   \n",
       "6          1  ...    1    1     1     2     1     1     3       3        1   \n",
       "7          1  ...    1    2     1     2     1     2     1       3        2   \n",
       "...      ...  ...  ...  ...   ...   ...   ...   ...   ...     ...      ...   \n",
       "1152566    1  ...    1    1     1     2     1     2     3       6        5   \n",
       "1152568    1  ...    1    1     1     1     1     2     3       6        4   \n",
       "1152574    1  ...    1    1     1     1     1     1     3       6        4   \n",
       "1152597    0  ...    0    0     0     0     0     0     0       7        0   \n",
       "1152598    0  ...    0    0     0     0     0     0     0       7        0   \n",
       "\n",
       "         ALGUNBI  \n",
       "3              1  \n",
       "4              1  \n",
       "5              1  \n",
       "6              1  \n",
       "7              1  \n",
       "...          ...  \n",
       "1152566        1  \n",
       "1152568        1  \n",
       "1152574        1  \n",
       "1152597        2  \n",
       "1152598        2  \n",
       "\n",
       "[71241 rows x 23 columns]"
      ],
      "text/html": "<div>\n<style scoped>\n    .dataframe tbody tr th:only-of-type {\n        vertical-align: middle;\n    }\n\n    .dataframe tbody tr th {\n        vertical-align: top;\n    }\n\n    .dataframe thead th {\n        text-align: right;\n    }\n</style>\n<table border=\"1\" class=\"dataframe\">\n  <thead>\n    <tr style=\"text-align: right;\">\n      <th></th>\n      <th>HOGAR_REF_ID</th>\n      <th>VIVIENDA_REF_ID</th>\n      <th>NHOG</th>\n      <th>H05</th>\n      <th>H06</th>\n      <th>H07</th>\n      <th>H08</th>\n      <th>H09</th>\n      <th>H10</th>\n      <th>H11</th>\n      <th>...</th>\n      <th>H15</th>\n      <th>H16</th>\n      <th>H19A</th>\n      <th>H19B</th>\n      <th>H19C</th>\n      <th>H19D</th>\n      <th>PROP</th>\n      <th>INDHAC</th>\n      <th>TOTPERS</th>\n      <th>ALGUNBI</th>\n    </tr>\n  </thead>\n  <tbody>\n    <tr>\n      <th>3</th>\n      <td>4</td>\n      <td>1</td>\n      <td>6</td>\n      <td>1</td>\n      <td>1</td>\n      <td>1</td>\n      <td>1</td>\n      <td>1</td>\n      <td>1</td>\n      <td>1</td>\n      <td>...</td>\n      <td>3</td>\n      <td>5</td>\n      <td>1</td>\n      <td>1</td>\n      <td>1</td>\n      <td>1</td>\n      <td>5</td>\n      <td>6</td>\n      <td>8</td>\n      <td>1</td>\n    </tr>\n    <tr>\n      <th>4</th>\n      <td>5</td>\n      <td>2</td>\n      <td>1</td>\n      <td>1</td>\n      <td>1</td>\n      <td>2</td>\n      <td>1</td>\n      <td>1</td>\n      <td>1</td>\n      <td>1</td>\n      <td>...</td>\n      <td>5</td>\n      <td>5</td>\n      <td>1</td>\n      <td>1</td>\n      <td>2</td>\n      <td>1</td>\n      <td>6</td>\n      <td>1</td>\n      <td>2</td>\n      <td>1</td>\n    </tr>\n    <tr>\n      <th>5</th>\n      <td>6</td>\n      <td>2</td>\n      <td>2</td>\n      <td>1</td>\n      <td>3</td>\n      <td>1</td>\n      <td>1</td>\n      <td>1</td>\n      <td>1</td>\n      <td>1</td>\n      <td>...</td>\n      <td>3</td>\n      <td>5</td>\n      <td>1</td>\n      <td>1</td>\n      <td>1</td>\n      <td>2</td>\n      <td>5</td>\n      <td>1</td>\n      <td>1</td>\n      <td>1</td>\n    </tr>\n    <tr>\n      <th>6</th>\n      <td>7</td>\n      <td>2</td>\n      <td>3</td>\n      <td>1</td>\n      <td>2</td>\n      <td>2</td>\n      <td>1</td>\n      <td>1</td>\n      <td>1</td>\n      <td>1</td>\n      <td>...</td>\n      <td>1</td>\n      <td>1</td>\n      <td>1</td>\n      <td>2</td>\n      <td>1</td>\n      <td>1</td>\n      <td>3</td>\n      <td>3</td>\n      <td>1</td>\n      <td>1</td>\n    </tr>\n    <tr>\n      <th>7</th>\n      <td>8</td>\n      <td>2</td>\n      <td>5</td>\n      <td>1</td>\n      <td>4</td>\n      <td>1</td>\n      <td>1</td>\n      <td>5</td>\n      <td>1</td>\n      <td>1</td>\n      <td>...</td>\n      <td>1</td>\n      <td>2</td>\n      <td>1</td>\n      <td>2</td>\n      <td>1</td>\n      <td>2</td>\n      <td>1</td>\n      <td>3</td>\n      <td>2</td>\n      <td>1</td>\n    </tr>\n    <tr>\n      <th>...</th>\n      <td>...</td>\n      <td>...</td>\n      <td>...</td>\n      <td>...</td>\n      <td>...</td>\n      <td>...</td>\n      <td>...</td>\n      <td>...</td>\n      <td>...</td>\n      <td>...</td>\n      <td>...</td>\n      <td>...</td>\n      <td>...</td>\n      <td>...</td>\n      <td>...</td>\n      <td>...</td>\n      <td>...</td>\n      <td>...</td>\n      <td>...</td>\n      <td>...</td>\n      <td>...</td>\n    </tr>\n    <tr>\n      <th>1152566</th>\n      <td>1152567</td>\n      <td>1426397</td>\n      <td>1</td>\n      <td>1</td>\n      <td>2</td>\n      <td>1</td>\n      <td>1</td>\n      <td>1</td>\n      <td>1</td>\n      <td>1</td>\n      <td>...</td>\n      <td>1</td>\n      <td>1</td>\n      <td>1</td>\n      <td>2</td>\n      <td>1</td>\n      <td>2</td>\n      <td>3</td>\n      <td>6</td>\n      <td>5</td>\n      <td>1</td>\n    </tr>\n    <tr>\n      <th>1152568</th>\n      <td>1152569</td>\n      <td>1426399</td>\n      <td>1</td>\n      <td>1</td>\n      <td>2</td>\n      <td>1</td>\n      <td>1</td>\n      <td>1</td>\n      <td>1</td>\n      <td>1</td>\n      <td>...</td>\n      <td>1</td>\n      <td>1</td>\n      <td>1</td>\n      <td>1</td>\n      <td>1</td>\n      <td>2</td>\n      <td>3</td>\n      <td>6</td>\n      <td>4</td>\n      <td>1</td>\n    </tr>\n    <tr>\n      <th>1152574</th>\n      <td>1152575</td>\n      <td>1426406</td>\n      <td>1</td>\n      <td>1</td>\n      <td>2</td>\n      <td>2</td>\n      <td>1</td>\n      <td>1</td>\n      <td>1</td>\n      <td>1</td>\n      <td>...</td>\n      <td>1</td>\n      <td>1</td>\n      <td>1</td>\n      <td>1</td>\n      <td>1</td>\n      <td>1</td>\n      <td>3</td>\n      <td>6</td>\n      <td>4</td>\n      <td>1</td>\n    </tr>\n    <tr>\n      <th>1152597</th>\n      <td>1152598</td>\n      <td>1426437</td>\n      <td>1000</td>\n      <td>0</td>\n      <td>0</td>\n      <td>0</td>\n      <td>0</td>\n      <td>0</td>\n      <td>0</td>\n      <td>0</td>\n      <td>...</td>\n      <td>0</td>\n      <td>0</td>\n      <td>0</td>\n      <td>0</td>\n      <td>0</td>\n      <td>0</td>\n      <td>0</td>\n      <td>7</td>\n      <td>0</td>\n      <td>2</td>\n    </tr>\n    <tr>\n      <th>1152598</th>\n      <td>1152599</td>\n      <td>1426438</td>\n      <td>1000</td>\n      <td>0</td>\n      <td>0</td>\n      <td>0</td>\n      <td>0</td>\n      <td>0</td>\n      <td>0</td>\n      <td>0</td>\n      <td>...</td>\n      <td>0</td>\n      <td>0</td>\n      <td>0</td>\n      <td>0</td>\n      <td>0</td>\n      <td>0</td>\n      <td>0</td>\n      <td>7</td>\n      <td>0</td>\n      <td>2</td>\n    </tr>\n  </tbody>\n</table>\n<p>71241 rows × 23 columns</p>\n</div>"
     },
     "metadata": {},
     "execution_count": 134
    }
   ],
   "source": [
    "booleano = df_in.ALGUNBI > 0\n",
    "df_in[booleano]\n"
   ]
  },
  {
   "cell_type": "code",
   "execution_count": 135,
   "metadata": {},
   "outputs": [
    {
     "output_type": "execute_result",
     "data": {
      "text/plain": [
       "         HOGAR_REF_ID  VIVIENDA_REF_ID  NHOG  H05  H06  H07  H08  H09  H10  \\\n",
       "0                   1                1     1    1    4    1    1    1    1   \n",
       "1                   2                1     2    1    1    1    1    1    1   \n",
       "2                   3                1     4    1    3    1    1    1    1   \n",
       "9                  10                3     1    1    2    1    1    1    1   \n",
       "10                 11                3     3    1    1    1    1    1    1   \n",
       "...               ...              ...   ...  ...  ...  ...  ...  ...  ...   \n",
       "1152592       1152593          1426431     1    1    2    1    1    1    1   \n",
       "1152593       1152594          1426432     1    1    1    1    1    1    1   \n",
       "1152594       1152595          1426434     1    1    2    1    1    1    1   \n",
       "1152595       1152596          1426435     1    1    1    1    1    1    1   \n",
       "1152596       1152597          1426436     1    1    1    1    1    1    1   \n",
       "\n",
       "         H11  ...  H15  H16  H19A  H19B  H19C  H19D  PROP  INDHAC  TOTPERS  \\\n",
       "0          1  ...    2    2     1     2     1     2     5       1        1   \n",
       "1          1  ...    1    2     1     1     1     1     1       1        1   \n",
       "2          1  ...    3    5     1     1     1     1     1       1        2   \n",
       "9          1  ...    1    2     1     1     1     1     3       3        2   \n",
       "10         1  ...    1    3     1     2     1     1     5       1        1   \n",
       "...      ...  ...  ...  ...   ...   ...   ...   ...   ...     ...      ...   \n",
       "1152592    1  ...    1    2     1     2     2     1     4       1        1   \n",
       "1152593    1  ...    2    2     1     1     1     1     3       4        3   \n",
       "1152594    1  ...    2    3     1     1     1     1     1       1        1   \n",
       "1152595    1  ...    1    2     1     2     2     1     1       1        1   \n",
       "1152596    1  ...    2    3     1     1     1     1     1       3        3   \n",
       "\n",
       "         ALGUNBI  \n",
       "0              0  \n",
       "1              0  \n",
       "2              0  \n",
       "9              0  \n",
       "10             0  \n",
       "...          ...  \n",
       "1152592        0  \n",
       "1152593        0  \n",
       "1152594        0  \n",
       "1152595        0  \n",
       "1152596        0  \n",
       "\n",
       "[1081358 rows x 23 columns]"
      ],
      "text/html": "<div>\n<style scoped>\n    .dataframe tbody tr th:only-of-type {\n        vertical-align: middle;\n    }\n\n    .dataframe tbody tr th {\n        vertical-align: top;\n    }\n\n    .dataframe thead th {\n        text-align: right;\n    }\n</style>\n<table border=\"1\" class=\"dataframe\">\n  <thead>\n    <tr style=\"text-align: right;\">\n      <th></th>\n      <th>HOGAR_REF_ID</th>\n      <th>VIVIENDA_REF_ID</th>\n      <th>NHOG</th>\n      <th>H05</th>\n      <th>H06</th>\n      <th>H07</th>\n      <th>H08</th>\n      <th>H09</th>\n      <th>H10</th>\n      <th>H11</th>\n      <th>...</th>\n      <th>H15</th>\n      <th>H16</th>\n      <th>H19A</th>\n      <th>H19B</th>\n      <th>H19C</th>\n      <th>H19D</th>\n      <th>PROP</th>\n      <th>INDHAC</th>\n      <th>TOTPERS</th>\n      <th>ALGUNBI</th>\n    </tr>\n  </thead>\n  <tbody>\n    <tr>\n      <th>0</th>\n      <td>1</td>\n      <td>1</td>\n      <td>1</td>\n      <td>1</td>\n      <td>4</td>\n      <td>1</td>\n      <td>1</td>\n      <td>1</td>\n      <td>1</td>\n      <td>1</td>\n      <td>...</td>\n      <td>2</td>\n      <td>2</td>\n      <td>1</td>\n      <td>2</td>\n      <td>1</td>\n      <td>2</td>\n      <td>5</td>\n      <td>1</td>\n      <td>1</td>\n      <td>0</td>\n    </tr>\n    <tr>\n      <th>1</th>\n      <td>2</td>\n      <td>1</td>\n      <td>2</td>\n      <td>1</td>\n      <td>1</td>\n      <td>1</td>\n      <td>1</td>\n      <td>1</td>\n      <td>1</td>\n      <td>1</td>\n      <td>...</td>\n      <td>1</td>\n      <td>2</td>\n      <td>1</td>\n      <td>1</td>\n      <td>1</td>\n      <td>1</td>\n      <td>1</td>\n      <td>1</td>\n      <td>1</td>\n      <td>0</td>\n    </tr>\n    <tr>\n      <th>2</th>\n      <td>3</td>\n      <td>1</td>\n      <td>4</td>\n      <td>1</td>\n      <td>3</td>\n      <td>1</td>\n      <td>1</td>\n      <td>1</td>\n      <td>1</td>\n      <td>1</td>\n      <td>...</td>\n      <td>3</td>\n      <td>5</td>\n      <td>1</td>\n      <td>1</td>\n      <td>1</td>\n      <td>1</td>\n      <td>1</td>\n      <td>1</td>\n      <td>2</td>\n      <td>0</td>\n    </tr>\n    <tr>\n      <th>9</th>\n      <td>10</td>\n      <td>3</td>\n      <td>1</td>\n      <td>1</td>\n      <td>2</td>\n      <td>1</td>\n      <td>1</td>\n      <td>1</td>\n      <td>1</td>\n      <td>1</td>\n      <td>...</td>\n      <td>1</td>\n      <td>2</td>\n      <td>1</td>\n      <td>1</td>\n      <td>1</td>\n      <td>1</td>\n      <td>3</td>\n      <td>3</td>\n      <td>2</td>\n      <td>0</td>\n    </tr>\n    <tr>\n      <th>10</th>\n      <td>11</td>\n      <td>3</td>\n      <td>3</td>\n      <td>1</td>\n      <td>1</td>\n      <td>1</td>\n      <td>1</td>\n      <td>1</td>\n      <td>1</td>\n      <td>1</td>\n      <td>...</td>\n      <td>1</td>\n      <td>3</td>\n      <td>1</td>\n      <td>2</td>\n      <td>1</td>\n      <td>1</td>\n      <td>5</td>\n      <td>1</td>\n      <td>1</td>\n      <td>0</td>\n    </tr>\n    <tr>\n      <th>...</th>\n      <td>...</td>\n      <td>...</td>\n      <td>...</td>\n      <td>...</td>\n      <td>...</td>\n      <td>...</td>\n      <td>...</td>\n      <td>...</td>\n      <td>...</td>\n      <td>...</td>\n      <td>...</td>\n      <td>...</td>\n      <td>...</td>\n      <td>...</td>\n      <td>...</td>\n      <td>...</td>\n      <td>...</td>\n      <td>...</td>\n      <td>...</td>\n      <td>...</td>\n      <td>...</td>\n    </tr>\n    <tr>\n      <th>1152592</th>\n      <td>1152593</td>\n      <td>1426431</td>\n      <td>1</td>\n      <td>1</td>\n      <td>2</td>\n      <td>1</td>\n      <td>1</td>\n      <td>1</td>\n      <td>1</td>\n      <td>1</td>\n      <td>...</td>\n      <td>1</td>\n      <td>2</td>\n      <td>1</td>\n      <td>2</td>\n      <td>2</td>\n      <td>1</td>\n      <td>4</td>\n      <td>1</td>\n      <td>1</td>\n      <td>0</td>\n    </tr>\n    <tr>\n      <th>1152593</th>\n      <td>1152594</td>\n      <td>1426432</td>\n      <td>1</td>\n      <td>1</td>\n      <td>1</td>\n      <td>1</td>\n      <td>1</td>\n      <td>1</td>\n      <td>1</td>\n      <td>1</td>\n      <td>...</td>\n      <td>2</td>\n      <td>2</td>\n      <td>1</td>\n      <td>1</td>\n      <td>1</td>\n      <td>1</td>\n      <td>3</td>\n      <td>4</td>\n      <td>3</td>\n      <td>0</td>\n    </tr>\n    <tr>\n      <th>1152594</th>\n      <td>1152595</td>\n      <td>1426434</td>\n      <td>1</td>\n      <td>1</td>\n      <td>2</td>\n      <td>1</td>\n      <td>1</td>\n      <td>1</td>\n      <td>1</td>\n      <td>1</td>\n      <td>...</td>\n      <td>2</td>\n      <td>3</td>\n      <td>1</td>\n      <td>1</td>\n      <td>1</td>\n      <td>1</td>\n      <td>1</td>\n      <td>1</td>\n      <td>1</td>\n      <td>0</td>\n    </tr>\n    <tr>\n      <th>1152595</th>\n      <td>1152596</td>\n      <td>1426435</td>\n      <td>1</td>\n      <td>1</td>\n      <td>1</td>\n      <td>1</td>\n      <td>1</td>\n      <td>1</td>\n      <td>1</td>\n      <td>1</td>\n      <td>...</td>\n      <td>1</td>\n      <td>2</td>\n      <td>1</td>\n      <td>2</td>\n      <td>2</td>\n      <td>1</td>\n      <td>1</td>\n      <td>1</td>\n      <td>1</td>\n      <td>0</td>\n    </tr>\n    <tr>\n      <th>1152596</th>\n      <td>1152597</td>\n      <td>1426436</td>\n      <td>1</td>\n      <td>1</td>\n      <td>1</td>\n      <td>1</td>\n      <td>1</td>\n      <td>1</td>\n      <td>1</td>\n      <td>1</td>\n      <td>...</td>\n      <td>2</td>\n      <td>3</td>\n      <td>1</td>\n      <td>1</td>\n      <td>1</td>\n      <td>1</td>\n      <td>1</td>\n      <td>3</td>\n      <td>3</td>\n      <td>0</td>\n    </tr>\n  </tbody>\n</table>\n<p>1081358 rows × 23 columns</p>\n</div>"
     },
     "metadata": {},
     "execution_count": 135
    }
   ],
   "source": [
    "booleano = df_in.ALGUNBI == 0\n",
    "df_in[booleano]\n"
   ]
  },
  {
   "cell_type": "markdown",
   "metadata": {},
   "source": [
    "#### Condiciones Múltiples\n"
   ]
  },
  {
   "cell_type": "markdown",
   "metadata": {},
   "source": [
    "##### Usando &, | , ~"
   ]
  },
  {
   "cell_type": "code",
   "execution_count": 136,
   "metadata": {},
   "outputs": [
    {
     "output_type": "execute_result",
     "data": {
      "text/plain": [
       "         HOGAR_REF_ID  VIVIENDA_REF_ID  NHOG  H05  H06  H07  H08  H09  H10  \\\n",
       "0                   1                1     1    1    4    1    1    1    1   \n",
       "1                   2                1     2    1    1    1    1    1    1   \n",
       "2                   3                1     4    1    3    1    1    1    1   \n",
       "3                   4                1     6    1    1    1    1    1    1   \n",
       "4                   5                2     1    1    1    2    1    1    1   \n",
       "...               ...              ...   ...  ...  ...  ...  ...  ...  ...   \n",
       "1152594       1152595          1426434     1    1    2    1    1    1    1   \n",
       "1152595       1152596          1426435     1    1    1    1    1    1    1   \n",
       "1152596       1152597          1426436     1    1    1    1    1    1    1   \n",
       "1152597       1152598          1426437  1000    0    0    0    0    0    0   \n",
       "1152598       1152599          1426438  1000    0    0    0    0    0    0   \n",
       "\n",
       "         H11  ...  H15  H16  H19A  H19B  H19C  H19D  PROP  INDHAC  TOTPERS  \\\n",
       "0          1  ...    2    2     1     2     1     2     5       1        1   \n",
       "1          1  ...    1    2     1     1     1     1     1       1        1   \n",
       "2          1  ...    3    5     1     1     1     1     1       1        2   \n",
       "3          1  ...    3    5     1     1     1     1     5       6        8   \n",
       "4          1  ...    5    5     1     1     2     1     6       1        2   \n",
       "...      ...  ...  ...  ...   ...   ...   ...   ...   ...     ...      ...   \n",
       "1152594    1  ...    2    3     1     1     1     1     1       1        1   \n",
       "1152595    1  ...    1    2     1     2     2     1     1       1        1   \n",
       "1152596    1  ...    2    3     1     1     1     1     1       3        3   \n",
       "1152597    0  ...    0    0     0     0     0     0     0       7        0   \n",
       "1152598    0  ...    0    0     0     0     0     0     0       7        0   \n",
       "\n",
       "         ALGUNBI  \n",
       "0              0  \n",
       "1              0  \n",
       "2              0  \n",
       "3              1  \n",
       "4              1  \n",
       "...          ...  \n",
       "1152594        0  \n",
       "1152595        0  \n",
       "1152596        0  \n",
       "1152597        2  \n",
       "1152598        2  \n",
       "\n",
       "[1143353 rows x 23 columns]"
      ],
      "text/html": "<div>\n<style scoped>\n    .dataframe tbody tr th:only-of-type {\n        vertical-align: middle;\n    }\n\n    .dataframe tbody tr th {\n        vertical-align: top;\n    }\n\n    .dataframe thead th {\n        text-align: right;\n    }\n</style>\n<table border=\"1\" class=\"dataframe\">\n  <thead>\n    <tr style=\"text-align: right;\">\n      <th></th>\n      <th>HOGAR_REF_ID</th>\n      <th>VIVIENDA_REF_ID</th>\n      <th>NHOG</th>\n      <th>H05</th>\n      <th>H06</th>\n      <th>H07</th>\n      <th>H08</th>\n      <th>H09</th>\n      <th>H10</th>\n      <th>H11</th>\n      <th>...</th>\n      <th>H15</th>\n      <th>H16</th>\n      <th>H19A</th>\n      <th>H19B</th>\n      <th>H19C</th>\n      <th>H19D</th>\n      <th>PROP</th>\n      <th>INDHAC</th>\n      <th>TOTPERS</th>\n      <th>ALGUNBI</th>\n    </tr>\n  </thead>\n  <tbody>\n    <tr>\n      <th>0</th>\n      <td>1</td>\n      <td>1</td>\n      <td>1</td>\n      <td>1</td>\n      <td>4</td>\n      <td>1</td>\n      <td>1</td>\n      <td>1</td>\n      <td>1</td>\n      <td>1</td>\n      <td>...</td>\n      <td>2</td>\n      <td>2</td>\n      <td>1</td>\n      <td>2</td>\n      <td>1</td>\n      <td>2</td>\n      <td>5</td>\n      <td>1</td>\n      <td>1</td>\n      <td>0</td>\n    </tr>\n    <tr>\n      <th>1</th>\n      <td>2</td>\n      <td>1</td>\n      <td>2</td>\n      <td>1</td>\n      <td>1</td>\n      <td>1</td>\n      <td>1</td>\n      <td>1</td>\n      <td>1</td>\n      <td>1</td>\n      <td>...</td>\n      <td>1</td>\n      <td>2</td>\n      <td>1</td>\n      <td>1</td>\n      <td>1</td>\n      <td>1</td>\n      <td>1</td>\n      <td>1</td>\n      <td>1</td>\n      <td>0</td>\n    </tr>\n    <tr>\n      <th>2</th>\n      <td>3</td>\n      <td>1</td>\n      <td>4</td>\n      <td>1</td>\n      <td>3</td>\n      <td>1</td>\n      <td>1</td>\n      <td>1</td>\n      <td>1</td>\n      <td>1</td>\n      <td>...</td>\n      <td>3</td>\n      <td>5</td>\n      <td>1</td>\n      <td>1</td>\n      <td>1</td>\n      <td>1</td>\n      <td>1</td>\n      <td>1</td>\n      <td>2</td>\n      <td>0</td>\n    </tr>\n    <tr>\n      <th>3</th>\n      <td>4</td>\n      <td>1</td>\n      <td>6</td>\n      <td>1</td>\n      <td>1</td>\n      <td>1</td>\n      <td>1</td>\n      <td>1</td>\n      <td>1</td>\n      <td>1</td>\n      <td>...</td>\n      <td>3</td>\n      <td>5</td>\n      <td>1</td>\n      <td>1</td>\n      <td>1</td>\n      <td>1</td>\n      <td>5</td>\n      <td>6</td>\n      <td>8</td>\n      <td>1</td>\n    </tr>\n    <tr>\n      <th>4</th>\n      <td>5</td>\n      <td>2</td>\n      <td>1</td>\n      <td>1</td>\n      <td>1</td>\n      <td>2</td>\n      <td>1</td>\n      <td>1</td>\n      <td>1</td>\n      <td>1</td>\n      <td>...</td>\n      <td>5</td>\n      <td>5</td>\n      <td>1</td>\n      <td>1</td>\n      <td>2</td>\n      <td>1</td>\n      <td>6</td>\n      <td>1</td>\n      <td>2</td>\n      <td>1</td>\n    </tr>\n    <tr>\n      <th>...</th>\n      <td>...</td>\n      <td>...</td>\n      <td>...</td>\n      <td>...</td>\n      <td>...</td>\n      <td>...</td>\n      <td>...</td>\n      <td>...</td>\n      <td>...</td>\n      <td>...</td>\n      <td>...</td>\n      <td>...</td>\n      <td>...</td>\n      <td>...</td>\n      <td>...</td>\n      <td>...</td>\n      <td>...</td>\n      <td>...</td>\n      <td>...</td>\n      <td>...</td>\n      <td>...</td>\n    </tr>\n    <tr>\n      <th>1152594</th>\n      <td>1152595</td>\n      <td>1426434</td>\n      <td>1</td>\n      <td>1</td>\n      <td>2</td>\n      <td>1</td>\n      <td>1</td>\n      <td>1</td>\n      <td>1</td>\n      <td>1</td>\n      <td>...</td>\n      <td>2</td>\n      <td>3</td>\n      <td>1</td>\n      <td>1</td>\n      <td>1</td>\n      <td>1</td>\n      <td>1</td>\n      <td>1</td>\n      <td>1</td>\n      <td>0</td>\n    </tr>\n    <tr>\n      <th>1152595</th>\n      <td>1152596</td>\n      <td>1426435</td>\n      <td>1</td>\n      <td>1</td>\n      <td>1</td>\n      <td>1</td>\n      <td>1</td>\n      <td>1</td>\n      <td>1</td>\n      <td>1</td>\n      <td>...</td>\n      <td>1</td>\n      <td>2</td>\n      <td>1</td>\n      <td>2</td>\n      <td>2</td>\n      <td>1</td>\n      <td>1</td>\n      <td>1</td>\n      <td>1</td>\n      <td>0</td>\n    </tr>\n    <tr>\n      <th>1152596</th>\n      <td>1152597</td>\n      <td>1426436</td>\n      <td>1</td>\n      <td>1</td>\n      <td>1</td>\n      <td>1</td>\n      <td>1</td>\n      <td>1</td>\n      <td>1</td>\n      <td>1</td>\n      <td>...</td>\n      <td>2</td>\n      <td>3</td>\n      <td>1</td>\n      <td>1</td>\n      <td>1</td>\n      <td>1</td>\n      <td>1</td>\n      <td>3</td>\n      <td>3</td>\n      <td>0</td>\n    </tr>\n    <tr>\n      <th>1152597</th>\n      <td>1152598</td>\n      <td>1426437</td>\n      <td>1000</td>\n      <td>0</td>\n      <td>0</td>\n      <td>0</td>\n      <td>0</td>\n      <td>0</td>\n      <td>0</td>\n      <td>0</td>\n      <td>...</td>\n      <td>0</td>\n      <td>0</td>\n      <td>0</td>\n      <td>0</td>\n      <td>0</td>\n      <td>0</td>\n      <td>0</td>\n      <td>7</td>\n      <td>0</td>\n      <td>2</td>\n    </tr>\n    <tr>\n      <th>1152598</th>\n      <td>1152599</td>\n      <td>1426438</td>\n      <td>1000</td>\n      <td>0</td>\n      <td>0</td>\n      <td>0</td>\n      <td>0</td>\n      <td>0</td>\n      <td>0</td>\n      <td>0</td>\n      <td>...</td>\n      <td>0</td>\n      <td>0</td>\n      <td>0</td>\n      <td>0</td>\n      <td>0</td>\n      <td>0</td>\n      <td>0</td>\n      <td>7</td>\n      <td>0</td>\n      <td>2</td>\n    </tr>\n  </tbody>\n</table>\n<p>1143353 rows × 23 columns</p>\n</div>"
     },
     "metadata": {},
     "execution_count": 136
    }
   ],
   "source": [
    "booleano = ~((df_in.ALGUNBI > 0) & (df_in.PROP == 1))\n",
    "df_in[booleano]"
   ]
  },
  {
   "cell_type": "code",
   "execution_count": 137,
   "metadata": {},
   "outputs": [
    {
     "output_type": "execute_result",
     "data": {
      "text/plain": [
       "         HOGAR_REF_ID  VIVIENDA_REF_ID  NHOG  H05  H06  H07  H08  H09  H10  \\\n",
       "0                   1                1     1    1    4    1    1    1    1   \n",
       "3                   4                1     6    1    1    1    1    1    1   \n",
       "4                   5                2     1    1    1    2    1    1    1   \n",
       "5                   6                2     2    1    3    1    1    1    1   \n",
       "6                   7                2     3    1    2    2    1    1    1   \n",
       "...               ...              ...   ...  ...  ...  ...  ...  ...  ...   \n",
       "1152590       1152591          1426426     1    1    2    1    1    1    1   \n",
       "1152592       1152593          1426431     1    1    2    1    1    1    1   \n",
       "1152593       1152594          1426432     1    1    1    1    1    1    1   \n",
       "1152597       1152598          1426437  1000    0    0    0    0    0    0   \n",
       "1152598       1152599          1426438  1000    0    0    0    0    0    0   \n",
       "\n",
       "         H11  ...  H15  H16  H19A  H19B  H19C  H19D  PROP  INDHAC  TOTPERS  \\\n",
       "0          1  ...    2    2     1     2     1     2     5       1        1   \n",
       "3          1  ...    3    5     1     1     1     1     5       6        8   \n",
       "4          1  ...    5    5     1     1     2     1     6       1        2   \n",
       "5          1  ...    3    5     1     1     1     2     5       1        1   \n",
       "6          1  ...    1    1     1     2     1     1     3       3        1   \n",
       "...      ...  ...  ...  ...   ...   ...   ...   ...   ...     ...      ...   \n",
       "1152590    1  ...    2    3     1     2     1     1     3       3        4   \n",
       "1152592    1  ...    1    2     1     2     2     1     4       1        1   \n",
       "1152593    1  ...    2    2     1     1     1     1     3       4        3   \n",
       "1152597    0  ...    0    0     0     0     0     0     0       7        0   \n",
       "1152598    0  ...    0    0     0     0     0     0     0       7        0   \n",
       "\n",
       "         ALGUNBI  \n",
       "0              0  \n",
       "3              1  \n",
       "4              1  \n",
       "5              1  \n",
       "6              1  \n",
       "...          ...  \n",
       "1152590        0  \n",
       "1152592        0  \n",
       "1152593        0  \n",
       "1152597        2  \n",
       "1152598        2  \n",
       "\n",
       "[512887 rows x 23 columns]"
      ],
      "text/html": "<div>\n<style scoped>\n    .dataframe tbody tr th:only-of-type {\n        vertical-align: middle;\n    }\n\n    .dataframe tbody tr th {\n        vertical-align: top;\n    }\n\n    .dataframe thead th {\n        text-align: right;\n    }\n</style>\n<table border=\"1\" class=\"dataframe\">\n  <thead>\n    <tr style=\"text-align: right;\">\n      <th></th>\n      <th>HOGAR_REF_ID</th>\n      <th>VIVIENDA_REF_ID</th>\n      <th>NHOG</th>\n      <th>H05</th>\n      <th>H06</th>\n      <th>H07</th>\n      <th>H08</th>\n      <th>H09</th>\n      <th>H10</th>\n      <th>H11</th>\n      <th>...</th>\n      <th>H15</th>\n      <th>H16</th>\n      <th>H19A</th>\n      <th>H19B</th>\n      <th>H19C</th>\n      <th>H19D</th>\n      <th>PROP</th>\n      <th>INDHAC</th>\n      <th>TOTPERS</th>\n      <th>ALGUNBI</th>\n    </tr>\n  </thead>\n  <tbody>\n    <tr>\n      <th>0</th>\n      <td>1</td>\n      <td>1</td>\n      <td>1</td>\n      <td>1</td>\n      <td>4</td>\n      <td>1</td>\n      <td>1</td>\n      <td>1</td>\n      <td>1</td>\n      <td>1</td>\n      <td>...</td>\n      <td>2</td>\n      <td>2</td>\n      <td>1</td>\n      <td>2</td>\n      <td>1</td>\n      <td>2</td>\n      <td>5</td>\n      <td>1</td>\n      <td>1</td>\n      <td>0</td>\n    </tr>\n    <tr>\n      <th>3</th>\n      <td>4</td>\n      <td>1</td>\n      <td>6</td>\n      <td>1</td>\n      <td>1</td>\n      <td>1</td>\n      <td>1</td>\n      <td>1</td>\n      <td>1</td>\n      <td>1</td>\n      <td>...</td>\n      <td>3</td>\n      <td>5</td>\n      <td>1</td>\n      <td>1</td>\n      <td>1</td>\n      <td>1</td>\n      <td>5</td>\n      <td>6</td>\n      <td>8</td>\n      <td>1</td>\n    </tr>\n    <tr>\n      <th>4</th>\n      <td>5</td>\n      <td>2</td>\n      <td>1</td>\n      <td>1</td>\n      <td>1</td>\n      <td>2</td>\n      <td>1</td>\n      <td>1</td>\n      <td>1</td>\n      <td>1</td>\n      <td>...</td>\n      <td>5</td>\n      <td>5</td>\n      <td>1</td>\n      <td>1</td>\n      <td>2</td>\n      <td>1</td>\n      <td>6</td>\n      <td>1</td>\n      <td>2</td>\n      <td>1</td>\n    </tr>\n    <tr>\n      <th>5</th>\n      <td>6</td>\n      <td>2</td>\n      <td>2</td>\n      <td>1</td>\n      <td>3</td>\n      <td>1</td>\n      <td>1</td>\n      <td>1</td>\n      <td>1</td>\n      <td>1</td>\n      <td>...</td>\n      <td>3</td>\n      <td>5</td>\n      <td>1</td>\n      <td>1</td>\n      <td>1</td>\n      <td>2</td>\n      <td>5</td>\n      <td>1</td>\n      <td>1</td>\n      <td>1</td>\n    </tr>\n    <tr>\n      <th>6</th>\n      <td>7</td>\n      <td>2</td>\n      <td>3</td>\n      <td>1</td>\n      <td>2</td>\n      <td>2</td>\n      <td>1</td>\n      <td>1</td>\n      <td>1</td>\n      <td>1</td>\n      <td>...</td>\n      <td>1</td>\n      <td>1</td>\n      <td>1</td>\n      <td>2</td>\n      <td>1</td>\n      <td>1</td>\n      <td>3</td>\n      <td>3</td>\n      <td>1</td>\n      <td>1</td>\n    </tr>\n    <tr>\n      <th>...</th>\n      <td>...</td>\n      <td>...</td>\n      <td>...</td>\n      <td>...</td>\n      <td>...</td>\n      <td>...</td>\n      <td>...</td>\n      <td>...</td>\n      <td>...</td>\n      <td>...</td>\n      <td>...</td>\n      <td>...</td>\n      <td>...</td>\n      <td>...</td>\n      <td>...</td>\n      <td>...</td>\n      <td>...</td>\n      <td>...</td>\n      <td>...</td>\n      <td>...</td>\n      <td>...</td>\n    </tr>\n    <tr>\n      <th>1152590</th>\n      <td>1152591</td>\n      <td>1426426</td>\n      <td>1</td>\n      <td>1</td>\n      <td>2</td>\n      <td>1</td>\n      <td>1</td>\n      <td>1</td>\n      <td>1</td>\n      <td>1</td>\n      <td>...</td>\n      <td>2</td>\n      <td>3</td>\n      <td>1</td>\n      <td>2</td>\n      <td>1</td>\n      <td>1</td>\n      <td>3</td>\n      <td>3</td>\n      <td>4</td>\n      <td>0</td>\n    </tr>\n    <tr>\n      <th>1152592</th>\n      <td>1152593</td>\n      <td>1426431</td>\n      <td>1</td>\n      <td>1</td>\n      <td>2</td>\n      <td>1</td>\n      <td>1</td>\n      <td>1</td>\n      <td>1</td>\n      <td>1</td>\n      <td>...</td>\n      <td>1</td>\n      <td>2</td>\n      <td>1</td>\n      <td>2</td>\n      <td>2</td>\n      <td>1</td>\n      <td>4</td>\n      <td>1</td>\n      <td>1</td>\n      <td>0</td>\n    </tr>\n    <tr>\n      <th>1152593</th>\n      <td>1152594</td>\n      <td>1426432</td>\n      <td>1</td>\n      <td>1</td>\n      <td>1</td>\n      <td>1</td>\n      <td>1</td>\n      <td>1</td>\n      <td>1</td>\n      <td>1</td>\n      <td>...</td>\n      <td>2</td>\n      <td>2</td>\n      <td>1</td>\n      <td>1</td>\n      <td>1</td>\n      <td>1</td>\n      <td>3</td>\n      <td>4</td>\n      <td>3</td>\n      <td>0</td>\n    </tr>\n    <tr>\n      <th>1152597</th>\n      <td>1152598</td>\n      <td>1426437</td>\n      <td>1000</td>\n      <td>0</td>\n      <td>0</td>\n      <td>0</td>\n      <td>0</td>\n      <td>0</td>\n      <td>0</td>\n      <td>0</td>\n      <td>...</td>\n      <td>0</td>\n      <td>0</td>\n      <td>0</td>\n      <td>0</td>\n      <td>0</td>\n      <td>0</td>\n      <td>0</td>\n      <td>7</td>\n      <td>0</td>\n      <td>2</td>\n    </tr>\n    <tr>\n      <th>1152598</th>\n      <td>1152599</td>\n      <td>1426438</td>\n      <td>1000</td>\n      <td>0</td>\n      <td>0</td>\n      <td>0</td>\n      <td>0</td>\n      <td>0</td>\n      <td>0</td>\n      <td>0</td>\n      <td>...</td>\n      <td>0</td>\n      <td>0</td>\n      <td>0</td>\n      <td>0</td>\n      <td>0</td>\n      <td>0</td>\n      <td>0</td>\n      <td>7</td>\n      <td>0</td>\n      <td>2</td>\n    </tr>\n  </tbody>\n</table>\n<p>512887 rows × 23 columns</p>\n</div>"
     },
     "metadata": {},
     "execution_count": 137
    }
   ],
   "source": [
    "booleano = ((df_in.ALGUNBI > 0) | (df_in.PROP != 1))\n",
    "df_in[booleano]"
   ]
  },
  {
   "cell_type": "code",
   "execution_count": 138,
   "metadata": {},
   "outputs": [
    {
     "output_type": "execute_result",
     "data": {
      "text/plain": [
       "         HOGAR_REF_ID  VIVIENDA_REF_ID  NHOG  H05  H06  H07  H08  H09  H10  \\\n",
       "7                   8                2     5    1    4    1    1    5    1   \n",
       "57                 58               45     1    2    2    1    1    1    1   \n",
       "101               102               90     1    2    4    2    1    1    1   \n",
       "109               110               96     1    3    8    2    3    1    2   \n",
       "115               116              100     1    2    4    2    1    1    1   \n",
       "...               ...              ...   ...  ...  ...  ...  ...  ...  ...   \n",
       "1152385       1152386          1426165     1    1    1    1    2    1    1   \n",
       "1152386       1152387          1426166     1    1    1    1    2    1    1   \n",
       "1152387       1152388          1426167     1    1    1    1    2    1    1   \n",
       "1152388       1152389          1426168     1    1    1    1    2    1    1   \n",
       "1152389       1152390          1426169     1    1    1    1    2    1    1   \n",
       "\n",
       "         H11  ...  H15  H16  H19A  H19B  H19C  H19D  PROP  INDHAC  TOTPERS  \\\n",
       "7          1  ...    1    2     1     2     1     2     1       3        2   \n",
       "57         1  ...    2    3     1     1     1     1     1       6        8   \n",
       "101        2  ...    1    1     1     2     1     2     1       5        3   \n",
       "109        0  ...    1    1     2     2     1     2     1       6        5   \n",
       "115        2  ...    1    1     1     2     1     2     1       6        7   \n",
       "...      ...  ...  ...  ...   ...   ...   ...   ...   ...     ...      ...   \n",
       "1152385    1  ...    2    2     1     2     1     1     1       3        2   \n",
       "1152386    1  ...    2    2     1     2     1     1     1       1        1   \n",
       "1152387    1  ...    2    2     1     2     1     1     1       5        5   \n",
       "1152388    1  ...    2    2     1     2     1     1     1       1        1   \n",
       "1152389    1  ...    2    2     1     2     1     1     1       1        1   \n",
       "\n",
       "         ALGUNBI  \n",
       "7              1  \n",
       "57             1  \n",
       "101            1  \n",
       "109            1  \n",
       "115            1  \n",
       "...          ...  \n",
       "1152385        1  \n",
       "1152386        1  \n",
       "1152387        1  \n",
       "1152388        1  \n",
       "1152389        1  \n",
       "\n",
       "[9246 rows x 23 columns]"
      ],
      "text/html": "<div>\n<style scoped>\n    .dataframe tbody tr th:only-of-type {\n        vertical-align: middle;\n    }\n\n    .dataframe tbody tr th {\n        vertical-align: top;\n    }\n\n    .dataframe thead th {\n        text-align: right;\n    }\n</style>\n<table border=\"1\" class=\"dataframe\">\n  <thead>\n    <tr style=\"text-align: right;\">\n      <th></th>\n      <th>HOGAR_REF_ID</th>\n      <th>VIVIENDA_REF_ID</th>\n      <th>NHOG</th>\n      <th>H05</th>\n      <th>H06</th>\n      <th>H07</th>\n      <th>H08</th>\n      <th>H09</th>\n      <th>H10</th>\n      <th>H11</th>\n      <th>...</th>\n      <th>H15</th>\n      <th>H16</th>\n      <th>H19A</th>\n      <th>H19B</th>\n      <th>H19C</th>\n      <th>H19D</th>\n      <th>PROP</th>\n      <th>INDHAC</th>\n      <th>TOTPERS</th>\n      <th>ALGUNBI</th>\n    </tr>\n  </thead>\n  <tbody>\n    <tr>\n      <th>7</th>\n      <td>8</td>\n      <td>2</td>\n      <td>5</td>\n      <td>1</td>\n      <td>4</td>\n      <td>1</td>\n      <td>1</td>\n      <td>5</td>\n      <td>1</td>\n      <td>1</td>\n      <td>...</td>\n      <td>1</td>\n      <td>2</td>\n      <td>1</td>\n      <td>2</td>\n      <td>1</td>\n      <td>2</td>\n      <td>1</td>\n      <td>3</td>\n      <td>2</td>\n      <td>1</td>\n    </tr>\n    <tr>\n      <th>57</th>\n      <td>58</td>\n      <td>45</td>\n      <td>1</td>\n      <td>2</td>\n      <td>2</td>\n      <td>1</td>\n      <td>1</td>\n      <td>1</td>\n      <td>1</td>\n      <td>1</td>\n      <td>...</td>\n      <td>2</td>\n      <td>3</td>\n      <td>1</td>\n      <td>1</td>\n      <td>1</td>\n      <td>1</td>\n      <td>1</td>\n      <td>6</td>\n      <td>8</td>\n      <td>1</td>\n    </tr>\n    <tr>\n      <th>101</th>\n      <td>102</td>\n      <td>90</td>\n      <td>1</td>\n      <td>2</td>\n      <td>4</td>\n      <td>2</td>\n      <td>1</td>\n      <td>1</td>\n      <td>1</td>\n      <td>2</td>\n      <td>...</td>\n      <td>1</td>\n      <td>1</td>\n      <td>1</td>\n      <td>2</td>\n      <td>1</td>\n      <td>2</td>\n      <td>1</td>\n      <td>5</td>\n      <td>3</td>\n      <td>1</td>\n    </tr>\n    <tr>\n      <th>109</th>\n      <td>110</td>\n      <td>96</td>\n      <td>1</td>\n      <td>3</td>\n      <td>8</td>\n      <td>2</td>\n      <td>3</td>\n      <td>1</td>\n      <td>2</td>\n      <td>0</td>\n      <td>...</td>\n      <td>1</td>\n      <td>1</td>\n      <td>2</td>\n      <td>2</td>\n      <td>1</td>\n      <td>2</td>\n      <td>1</td>\n      <td>6</td>\n      <td>5</td>\n      <td>1</td>\n    </tr>\n    <tr>\n      <th>115</th>\n      <td>116</td>\n      <td>100</td>\n      <td>1</td>\n      <td>2</td>\n      <td>4</td>\n      <td>2</td>\n      <td>1</td>\n      <td>1</td>\n      <td>1</td>\n      <td>2</td>\n      <td>...</td>\n      <td>1</td>\n      <td>1</td>\n      <td>1</td>\n      <td>2</td>\n      <td>1</td>\n      <td>2</td>\n      <td>1</td>\n      <td>6</td>\n      <td>7</td>\n      <td>1</td>\n    </tr>\n    <tr>\n      <th>...</th>\n      <td>...</td>\n      <td>...</td>\n      <td>...</td>\n      <td>...</td>\n      <td>...</td>\n      <td>...</td>\n      <td>...</td>\n      <td>...</td>\n      <td>...</td>\n      <td>...</td>\n      <td>...</td>\n      <td>...</td>\n      <td>...</td>\n      <td>...</td>\n      <td>...</td>\n      <td>...</td>\n      <td>...</td>\n      <td>...</td>\n      <td>...</td>\n      <td>...</td>\n      <td>...</td>\n    </tr>\n    <tr>\n      <th>1152385</th>\n      <td>1152386</td>\n      <td>1426165</td>\n      <td>1</td>\n      <td>1</td>\n      <td>1</td>\n      <td>1</td>\n      <td>2</td>\n      <td>1</td>\n      <td>1</td>\n      <td>1</td>\n      <td>...</td>\n      <td>2</td>\n      <td>2</td>\n      <td>1</td>\n      <td>2</td>\n      <td>1</td>\n      <td>1</td>\n      <td>1</td>\n      <td>3</td>\n      <td>2</td>\n      <td>1</td>\n    </tr>\n    <tr>\n      <th>1152386</th>\n      <td>1152387</td>\n      <td>1426166</td>\n      <td>1</td>\n      <td>1</td>\n      <td>1</td>\n      <td>1</td>\n      <td>2</td>\n      <td>1</td>\n      <td>1</td>\n      <td>1</td>\n      <td>...</td>\n      <td>2</td>\n      <td>2</td>\n      <td>1</td>\n      <td>2</td>\n      <td>1</td>\n      <td>1</td>\n      <td>1</td>\n      <td>1</td>\n      <td>1</td>\n      <td>1</td>\n    </tr>\n    <tr>\n      <th>1152387</th>\n      <td>1152388</td>\n      <td>1426167</td>\n      <td>1</td>\n      <td>1</td>\n      <td>1</td>\n      <td>1</td>\n      <td>2</td>\n      <td>1</td>\n      <td>1</td>\n      <td>1</td>\n      <td>...</td>\n      <td>2</td>\n      <td>2</td>\n      <td>1</td>\n      <td>2</td>\n      <td>1</td>\n      <td>1</td>\n      <td>1</td>\n      <td>5</td>\n      <td>5</td>\n      <td>1</td>\n    </tr>\n    <tr>\n      <th>1152388</th>\n      <td>1152389</td>\n      <td>1426168</td>\n      <td>1</td>\n      <td>1</td>\n      <td>1</td>\n      <td>1</td>\n      <td>2</td>\n      <td>1</td>\n      <td>1</td>\n      <td>1</td>\n      <td>...</td>\n      <td>2</td>\n      <td>2</td>\n      <td>1</td>\n      <td>2</td>\n      <td>1</td>\n      <td>1</td>\n      <td>1</td>\n      <td>1</td>\n      <td>1</td>\n      <td>1</td>\n    </tr>\n    <tr>\n      <th>1152389</th>\n      <td>1152390</td>\n      <td>1426169</td>\n      <td>1</td>\n      <td>1</td>\n      <td>1</td>\n      <td>1</td>\n      <td>2</td>\n      <td>1</td>\n      <td>1</td>\n      <td>1</td>\n      <td>...</td>\n      <td>2</td>\n      <td>2</td>\n      <td>1</td>\n      <td>2</td>\n      <td>1</td>\n      <td>1</td>\n      <td>1</td>\n      <td>1</td>\n      <td>1</td>\n      <td>1</td>\n    </tr>\n  </tbody>\n</table>\n<p>9246 rows × 23 columns</p>\n</div>"
     },
     "metadata": {},
     "execution_count": 138
    }
   ],
   "source": [
    "booleano = (df_in.ALGUNBI > 0) & (df_in.PROP == 1)\n",
    "df_in[booleano]"
   ]
  },
  {
   "cell_type": "markdown",
   "metadata": {},
   "source": [
    "#### Filtrando por ocurrencias: isin\n"
   ]
  },
  {
   "cell_type": "code",
   "execution_count": 139,
   "metadata": {},
   "outputs": [
    {
     "output_type": "execute_result",
     "data": {
      "text/plain": [
       "         HOGAR_REF_ID  VIVIENDA_REF_ID  NHOG  H05  H06  H07  H08  H09  H10  \\\n",
       "1                   2                1     2    1    1    1    1    1    1   \n",
       "2                   3                1     4    1    3    1    1    1    1   \n",
       "7                   8                2     5    1    4    1    1    5    1   \n",
       "14                 15                6     1    2    8    2    1    2    1   \n",
       "17                 18                9     1    1    4    1    1    1    1   \n",
       "...               ...              ...   ...  ...  ...  ...  ...  ...  ...   \n",
       "1152589       1152590          1426425     1    1    2    1    1    1    1   \n",
       "1152591       1152592          1426429     1    1    2    1    1    1    1   \n",
       "1152594       1152595          1426434     1    1    2    1    1    1    1   \n",
       "1152595       1152596          1426435     1    1    1    1    1    1    1   \n",
       "1152596       1152597          1426436     1    1    1    1    1    1    1   \n",
       "\n",
       "         H11  ...  H15  H16  H19A  H19B  H19C  H19D  PROP  INDHAC  TOTPERS  \\\n",
       "1          1  ...    1    2     1     1     1     1     1       1        1   \n",
       "2          1  ...    3    5     1     1     1     1     1       1        2   \n",
       "7          1  ...    1    2     1     2     1     2     1       3        2   \n",
       "14         1  ...    6   10     1     1     2     1     1       1        1   \n",
       "17         1  ...    5    5     1     1     1     1     1       1        1   \n",
       "...      ...  ...  ...  ...   ...   ...   ...   ...   ...     ...      ...   \n",
       "1152589    1  ...    2    3     1     1     1     1     1       2        2   \n",
       "1152591    1  ...    2    4     1     1     1     1     1       3        5   \n",
       "1152594    1  ...    2    3     1     1     1     1     1       1        1   \n",
       "1152595    1  ...    1    2     1     2     2     1     1       1        1   \n",
       "1152596    1  ...    2    3     1     1     1     1     1       3        3   \n",
       "\n",
       "         ALGUNBI  \n",
       "1              0  \n",
       "2              0  \n",
       "7              1  \n",
       "14             0  \n",
       "17             0  \n",
       "...          ...  \n",
       "1152589        0  \n",
       "1152591        0  \n",
       "1152594        0  \n",
       "1152595        0  \n",
       "1152596        0  \n",
       "\n",
       "[718743 rows x 23 columns]"
      ],
      "text/html": "<div>\n<style scoped>\n    .dataframe tbody tr th:only-of-type {\n        vertical-align: middle;\n    }\n\n    .dataframe tbody tr th {\n        vertical-align: top;\n    }\n\n    .dataframe thead th {\n        text-align: right;\n    }\n</style>\n<table border=\"1\" class=\"dataframe\">\n  <thead>\n    <tr style=\"text-align: right;\">\n      <th></th>\n      <th>HOGAR_REF_ID</th>\n      <th>VIVIENDA_REF_ID</th>\n      <th>NHOG</th>\n      <th>H05</th>\n      <th>H06</th>\n      <th>H07</th>\n      <th>H08</th>\n      <th>H09</th>\n      <th>H10</th>\n      <th>H11</th>\n      <th>...</th>\n      <th>H15</th>\n      <th>H16</th>\n      <th>H19A</th>\n      <th>H19B</th>\n      <th>H19C</th>\n      <th>H19D</th>\n      <th>PROP</th>\n      <th>INDHAC</th>\n      <th>TOTPERS</th>\n      <th>ALGUNBI</th>\n    </tr>\n  </thead>\n  <tbody>\n    <tr>\n      <th>1</th>\n      <td>2</td>\n      <td>1</td>\n      <td>2</td>\n      <td>1</td>\n      <td>1</td>\n      <td>1</td>\n      <td>1</td>\n      <td>1</td>\n      <td>1</td>\n      <td>1</td>\n      <td>...</td>\n      <td>1</td>\n      <td>2</td>\n      <td>1</td>\n      <td>1</td>\n      <td>1</td>\n      <td>1</td>\n      <td>1</td>\n      <td>1</td>\n      <td>1</td>\n      <td>0</td>\n    </tr>\n    <tr>\n      <th>2</th>\n      <td>3</td>\n      <td>1</td>\n      <td>4</td>\n      <td>1</td>\n      <td>3</td>\n      <td>1</td>\n      <td>1</td>\n      <td>1</td>\n      <td>1</td>\n      <td>1</td>\n      <td>...</td>\n      <td>3</td>\n      <td>5</td>\n      <td>1</td>\n      <td>1</td>\n      <td>1</td>\n      <td>1</td>\n      <td>1</td>\n      <td>1</td>\n      <td>2</td>\n      <td>0</td>\n    </tr>\n    <tr>\n      <th>7</th>\n      <td>8</td>\n      <td>2</td>\n      <td>5</td>\n      <td>1</td>\n      <td>4</td>\n      <td>1</td>\n      <td>1</td>\n      <td>5</td>\n      <td>1</td>\n      <td>1</td>\n      <td>...</td>\n      <td>1</td>\n      <td>2</td>\n      <td>1</td>\n      <td>2</td>\n      <td>1</td>\n      <td>2</td>\n      <td>1</td>\n      <td>3</td>\n      <td>2</td>\n      <td>1</td>\n    </tr>\n    <tr>\n      <th>14</th>\n      <td>15</td>\n      <td>6</td>\n      <td>1</td>\n      <td>2</td>\n      <td>8</td>\n      <td>2</td>\n      <td>1</td>\n      <td>2</td>\n      <td>1</td>\n      <td>1</td>\n      <td>...</td>\n      <td>6</td>\n      <td>10</td>\n      <td>1</td>\n      <td>1</td>\n      <td>2</td>\n      <td>1</td>\n      <td>1</td>\n      <td>1</td>\n      <td>1</td>\n      <td>0</td>\n    </tr>\n    <tr>\n      <th>17</th>\n      <td>18</td>\n      <td>9</td>\n      <td>1</td>\n      <td>1</td>\n      <td>4</td>\n      <td>1</td>\n      <td>1</td>\n      <td>1</td>\n      <td>1</td>\n      <td>1</td>\n      <td>...</td>\n      <td>5</td>\n      <td>5</td>\n      <td>1</td>\n      <td>1</td>\n      <td>1</td>\n      <td>1</td>\n      <td>1</td>\n      <td>1</td>\n      <td>1</td>\n      <td>0</td>\n    </tr>\n    <tr>\n      <th>...</th>\n      <td>...</td>\n      <td>...</td>\n      <td>...</td>\n      <td>...</td>\n      <td>...</td>\n      <td>...</td>\n      <td>...</td>\n      <td>...</td>\n      <td>...</td>\n      <td>...</td>\n      <td>...</td>\n      <td>...</td>\n      <td>...</td>\n      <td>...</td>\n      <td>...</td>\n      <td>...</td>\n      <td>...</td>\n      <td>...</td>\n      <td>...</td>\n      <td>...</td>\n      <td>...</td>\n    </tr>\n    <tr>\n      <th>1152589</th>\n      <td>1152590</td>\n      <td>1426425</td>\n      <td>1</td>\n      <td>1</td>\n      <td>2</td>\n      <td>1</td>\n      <td>1</td>\n      <td>1</td>\n      <td>1</td>\n      <td>1</td>\n      <td>...</td>\n      <td>2</td>\n      <td>3</td>\n      <td>1</td>\n      <td>1</td>\n      <td>1</td>\n      <td>1</td>\n      <td>1</td>\n      <td>2</td>\n      <td>2</td>\n      <td>0</td>\n    </tr>\n    <tr>\n      <th>1152591</th>\n      <td>1152592</td>\n      <td>1426429</td>\n      <td>1</td>\n      <td>1</td>\n      <td>2</td>\n      <td>1</td>\n      <td>1</td>\n      <td>1</td>\n      <td>1</td>\n      <td>1</td>\n      <td>...</td>\n      <td>2</td>\n      <td>4</td>\n      <td>1</td>\n      <td>1</td>\n      <td>1</td>\n      <td>1</td>\n      <td>1</td>\n      <td>3</td>\n      <td>5</td>\n      <td>0</td>\n    </tr>\n    <tr>\n      <th>1152594</th>\n      <td>1152595</td>\n      <td>1426434</td>\n      <td>1</td>\n      <td>1</td>\n      <td>2</td>\n      <td>1</td>\n      <td>1</td>\n      <td>1</td>\n      <td>1</td>\n      <td>1</td>\n      <td>...</td>\n      <td>2</td>\n      <td>3</td>\n      <td>1</td>\n      <td>1</td>\n      <td>1</td>\n      <td>1</td>\n      <td>1</td>\n      <td>1</td>\n      <td>1</td>\n      <td>0</td>\n    </tr>\n    <tr>\n      <th>1152595</th>\n      <td>1152596</td>\n      <td>1426435</td>\n      <td>1</td>\n      <td>1</td>\n      <td>1</td>\n      <td>1</td>\n      <td>1</td>\n      <td>1</td>\n      <td>1</td>\n      <td>1</td>\n      <td>...</td>\n      <td>1</td>\n      <td>2</td>\n      <td>1</td>\n      <td>2</td>\n      <td>2</td>\n      <td>1</td>\n      <td>1</td>\n      <td>1</td>\n      <td>1</td>\n      <td>0</td>\n    </tr>\n    <tr>\n      <th>1152596</th>\n      <td>1152597</td>\n      <td>1426436</td>\n      <td>1</td>\n      <td>1</td>\n      <td>1</td>\n      <td>1</td>\n      <td>1</td>\n      <td>1</td>\n      <td>1</td>\n      <td>1</td>\n      <td>...</td>\n      <td>2</td>\n      <td>3</td>\n      <td>1</td>\n      <td>1</td>\n      <td>1</td>\n      <td>1</td>\n      <td>1</td>\n      <td>3</td>\n      <td>3</td>\n      <td>0</td>\n    </tr>\n  </tbody>\n</table>\n<p>718743 rows × 23 columns</p>\n</div>"
     },
     "metadata": {},
     "execution_count": 139
    }
   ],
   "source": [
    "df_in[ df_in.PROP.isin([1,2]) ]"
   ]
  },
  {
   "cell_type": "markdown",
   "metadata": {},
   "source": [
    "#### Buscando missing values"
   ]
  },
  {
   "cell_type": "code",
   "execution_count": 140,
   "metadata": {},
   "outputs": [
    {
     "output_type": "execute_result",
     "data": {
      "text/plain": [
       "Empty DataFrame\n",
       "Columns: [HOGAR_REF_ID, VIVIENDA_REF_ID, NHOG, H05, H06, H07, H08, H09, H10, H11, H12, H13, H14, H15, H16, H19A, H19B, H19C, H19D, PROP, INDHAC, TOTPERS, ALGUNBI]\n",
       "Index: []\n",
       "\n",
       "[0 rows x 23 columns]"
      ],
      "text/html": "<div>\n<style scoped>\n    .dataframe tbody tr th:only-of-type {\n        vertical-align: middle;\n    }\n\n    .dataframe tbody tr th {\n        vertical-align: top;\n    }\n\n    .dataframe thead th {\n        text-align: right;\n    }\n</style>\n<table border=\"1\" class=\"dataframe\">\n  <thead>\n    <tr style=\"text-align: right;\">\n      <th></th>\n      <th>HOGAR_REF_ID</th>\n      <th>VIVIENDA_REF_ID</th>\n      <th>NHOG</th>\n      <th>H05</th>\n      <th>H06</th>\n      <th>H07</th>\n      <th>H08</th>\n      <th>H09</th>\n      <th>H10</th>\n      <th>H11</th>\n      <th>...</th>\n      <th>H15</th>\n      <th>H16</th>\n      <th>H19A</th>\n      <th>H19B</th>\n      <th>H19C</th>\n      <th>H19D</th>\n      <th>PROP</th>\n      <th>INDHAC</th>\n      <th>TOTPERS</th>\n      <th>ALGUNBI</th>\n    </tr>\n  </thead>\n  <tbody>\n  </tbody>\n</table>\n<p>0 rows × 23 columns</p>\n</div>"
     },
     "metadata": {},
     "execution_count": 140
    }
   ],
   "source": [
    "df_in[ df_in.PROP.isnull() ]"
   ]
  },
  {
   "cell_type": "markdown",
   "metadata": {},
   "source": [
    "### Usar .loc para seleccior columnas y bools de filas"
   ]
  },
  {
   "cell_type": "code",
   "execution_count": 141,
   "metadata": {},
   "outputs": [
    {
     "output_type": "execute_result",
     "data": {
      "text/plain": [
       "         PROP  ALGUNBI\n",
       "1           1        0\n",
       "2           1        0\n",
       "7           1        1\n",
       "14          1        0\n",
       "17          1        0\n",
       "...       ...      ...\n",
       "1152589     1        0\n",
       "1152591     1        0\n",
       "1152594     1        0\n",
       "1152595     1        0\n",
       "1152596     1        0\n",
       "\n",
       "[718743 rows x 2 columns]"
      ],
      "text/html": "<div>\n<style scoped>\n    .dataframe tbody tr th:only-of-type {\n        vertical-align: middle;\n    }\n\n    .dataframe tbody tr th {\n        vertical-align: top;\n    }\n\n    .dataframe thead th {\n        text-align: right;\n    }\n</style>\n<table border=\"1\" class=\"dataframe\">\n  <thead>\n    <tr style=\"text-align: right;\">\n      <th></th>\n      <th>PROP</th>\n      <th>ALGUNBI</th>\n    </tr>\n  </thead>\n  <tbody>\n    <tr>\n      <th>1</th>\n      <td>1</td>\n      <td>0</td>\n    </tr>\n    <tr>\n      <th>2</th>\n      <td>1</td>\n      <td>0</td>\n    </tr>\n    <tr>\n      <th>7</th>\n      <td>1</td>\n      <td>1</td>\n    </tr>\n    <tr>\n      <th>14</th>\n      <td>1</td>\n      <td>0</td>\n    </tr>\n    <tr>\n      <th>17</th>\n      <td>1</td>\n      <td>0</td>\n    </tr>\n    <tr>\n      <th>...</th>\n      <td>...</td>\n      <td>...</td>\n    </tr>\n    <tr>\n      <th>1152589</th>\n      <td>1</td>\n      <td>0</td>\n    </tr>\n    <tr>\n      <th>1152591</th>\n      <td>1</td>\n      <td>0</td>\n    </tr>\n    <tr>\n      <th>1152594</th>\n      <td>1</td>\n      <td>0</td>\n    </tr>\n    <tr>\n      <th>1152595</th>\n      <td>1</td>\n      <td>0</td>\n    </tr>\n    <tr>\n      <th>1152596</th>\n      <td>1</td>\n      <td>0</td>\n    </tr>\n  </tbody>\n</table>\n<p>718743 rows × 2 columns</p>\n</div>"
     },
     "metadata": {},
     "execution_count": 141
    }
   ],
   "source": [
    "df_in.loc[ df_in.PROP.isin([1,2]), ['PROP','ALGUNBI']]\n"
   ]
  },
  {
   "cell_type": "markdown",
   "metadata": {},
   "source": [
    "#### Usar la comparación de dos columnas\n"
   ]
  },
  {
   "cell_type": "code",
   "execution_count": 142,
   "metadata": {},
   "outputs": [
    {
     "output_type": "execute_result",
     "data": {
      "text/plain": [
       "         HOGAR_REF_ID  VIVIENDA_REF_ID  NHOG  H05  H06  H07  H08  H09  H10  \\\n",
       "0                   1                1     1    1    4    1    1    1    1   \n",
       "1                   2                1     2    1    1    1    1    1    1   \n",
       "2                   3                1     4    1    3    1    1    1    1   \n",
       "3                   4                1     6    1    1    1    1    1    1   \n",
       "4                   5                2     1    1    1    2    1    1    1   \n",
       "...               ...              ...   ...  ...  ...  ...  ...  ...  ...   \n",
       "1152592       1152593          1426431     1    1    2    1    1    1    1   \n",
       "1152593       1152594          1426432     1    1    1    1    1    1    1   \n",
       "1152594       1152595          1426434     1    1    2    1    1    1    1   \n",
       "1152595       1152596          1426435     1    1    1    1    1    1    1   \n",
       "1152596       1152597          1426436     1    1    1    1    1    1    1   \n",
       "\n",
       "         H11  ...  H15  H16  H19A  H19B  H19C  H19D  PROP  INDHAC  TOTPERS  \\\n",
       "0          1  ...    2    2     1     2     1     2     5       1        1   \n",
       "1          1  ...    1    2     1     1     1     1     1       1        1   \n",
       "2          1  ...    3    5     1     1     1     1     1       1        2   \n",
       "3          1  ...    3    5     1     1     1     1     5       6        8   \n",
       "4          1  ...    5    5     1     1     2     1     6       1        2   \n",
       "...      ...  ...  ...  ...   ...   ...   ...   ...   ...     ...      ...   \n",
       "1152592    1  ...    1    2     1     2     2     1     4       1        1   \n",
       "1152593    1  ...    2    2     1     1     1     1     3       4        3   \n",
       "1152594    1  ...    2    3     1     1     1     1     1       1        1   \n",
       "1152595    1  ...    1    2     1     2     2     1     1       1        1   \n",
       "1152596    1  ...    2    3     1     1     1     1     1       3        3   \n",
       "\n",
       "         ALGUNBI  \n",
       "0              0  \n",
       "1              0  \n",
       "2              0  \n",
       "3              1  \n",
       "4              1  \n",
       "...          ...  \n",
       "1152592        0  \n",
       "1152593        0  \n",
       "1152594        0  \n",
       "1152595        0  \n",
       "1152596        0  \n",
       "\n",
       "[1140888 rows x 23 columns]"
      ],
      "text/html": "<div>\n<style scoped>\n    .dataframe tbody tr th:only-of-type {\n        vertical-align: middle;\n    }\n\n    .dataframe tbody tr th {\n        vertical-align: top;\n    }\n\n    .dataframe thead th {\n        text-align: right;\n    }\n</style>\n<table border=\"1\" class=\"dataframe\">\n  <thead>\n    <tr style=\"text-align: right;\">\n      <th></th>\n      <th>HOGAR_REF_ID</th>\n      <th>VIVIENDA_REF_ID</th>\n      <th>NHOG</th>\n      <th>H05</th>\n      <th>H06</th>\n      <th>H07</th>\n      <th>H08</th>\n      <th>H09</th>\n      <th>H10</th>\n      <th>H11</th>\n      <th>...</th>\n      <th>H15</th>\n      <th>H16</th>\n      <th>H19A</th>\n      <th>H19B</th>\n      <th>H19C</th>\n      <th>H19D</th>\n      <th>PROP</th>\n      <th>INDHAC</th>\n      <th>TOTPERS</th>\n      <th>ALGUNBI</th>\n    </tr>\n  </thead>\n  <tbody>\n    <tr>\n      <th>0</th>\n      <td>1</td>\n      <td>1</td>\n      <td>1</td>\n      <td>1</td>\n      <td>4</td>\n      <td>1</td>\n      <td>1</td>\n      <td>1</td>\n      <td>1</td>\n      <td>1</td>\n      <td>...</td>\n      <td>2</td>\n      <td>2</td>\n      <td>1</td>\n      <td>2</td>\n      <td>1</td>\n      <td>2</td>\n      <td>5</td>\n      <td>1</td>\n      <td>1</td>\n      <td>0</td>\n    </tr>\n    <tr>\n      <th>1</th>\n      <td>2</td>\n      <td>1</td>\n      <td>2</td>\n      <td>1</td>\n      <td>1</td>\n      <td>1</td>\n      <td>1</td>\n      <td>1</td>\n      <td>1</td>\n      <td>1</td>\n      <td>...</td>\n      <td>1</td>\n      <td>2</td>\n      <td>1</td>\n      <td>1</td>\n      <td>1</td>\n      <td>1</td>\n      <td>1</td>\n      <td>1</td>\n      <td>1</td>\n      <td>0</td>\n    </tr>\n    <tr>\n      <th>2</th>\n      <td>3</td>\n      <td>1</td>\n      <td>4</td>\n      <td>1</td>\n      <td>3</td>\n      <td>1</td>\n      <td>1</td>\n      <td>1</td>\n      <td>1</td>\n      <td>1</td>\n      <td>...</td>\n      <td>3</td>\n      <td>5</td>\n      <td>1</td>\n      <td>1</td>\n      <td>1</td>\n      <td>1</td>\n      <td>1</td>\n      <td>1</td>\n      <td>2</td>\n      <td>0</td>\n    </tr>\n    <tr>\n      <th>3</th>\n      <td>4</td>\n      <td>1</td>\n      <td>6</td>\n      <td>1</td>\n      <td>1</td>\n      <td>1</td>\n      <td>1</td>\n      <td>1</td>\n      <td>1</td>\n      <td>1</td>\n      <td>...</td>\n      <td>3</td>\n      <td>5</td>\n      <td>1</td>\n      <td>1</td>\n      <td>1</td>\n      <td>1</td>\n      <td>5</td>\n      <td>6</td>\n      <td>8</td>\n      <td>1</td>\n    </tr>\n    <tr>\n      <th>4</th>\n      <td>5</td>\n      <td>2</td>\n      <td>1</td>\n      <td>1</td>\n      <td>1</td>\n      <td>2</td>\n      <td>1</td>\n      <td>1</td>\n      <td>1</td>\n      <td>1</td>\n      <td>...</td>\n      <td>5</td>\n      <td>5</td>\n      <td>1</td>\n      <td>1</td>\n      <td>2</td>\n      <td>1</td>\n      <td>6</td>\n      <td>1</td>\n      <td>2</td>\n      <td>1</td>\n    </tr>\n    <tr>\n      <th>...</th>\n      <td>...</td>\n      <td>...</td>\n      <td>...</td>\n      <td>...</td>\n      <td>...</td>\n      <td>...</td>\n      <td>...</td>\n      <td>...</td>\n      <td>...</td>\n      <td>...</td>\n      <td>...</td>\n      <td>...</td>\n      <td>...</td>\n      <td>...</td>\n      <td>...</td>\n      <td>...</td>\n      <td>...</td>\n      <td>...</td>\n      <td>...</td>\n      <td>...</td>\n      <td>...</td>\n    </tr>\n    <tr>\n      <th>1152592</th>\n      <td>1152593</td>\n      <td>1426431</td>\n      <td>1</td>\n      <td>1</td>\n      <td>2</td>\n      <td>1</td>\n      <td>1</td>\n      <td>1</td>\n      <td>1</td>\n      <td>1</td>\n      <td>...</td>\n      <td>1</td>\n      <td>2</td>\n      <td>1</td>\n      <td>2</td>\n      <td>2</td>\n      <td>1</td>\n      <td>4</td>\n      <td>1</td>\n      <td>1</td>\n      <td>0</td>\n    </tr>\n    <tr>\n      <th>1152593</th>\n      <td>1152594</td>\n      <td>1426432</td>\n      <td>1</td>\n      <td>1</td>\n      <td>1</td>\n      <td>1</td>\n      <td>1</td>\n      <td>1</td>\n      <td>1</td>\n      <td>1</td>\n      <td>...</td>\n      <td>2</td>\n      <td>2</td>\n      <td>1</td>\n      <td>1</td>\n      <td>1</td>\n      <td>1</td>\n      <td>3</td>\n      <td>4</td>\n      <td>3</td>\n      <td>0</td>\n    </tr>\n    <tr>\n      <th>1152594</th>\n      <td>1152595</td>\n      <td>1426434</td>\n      <td>1</td>\n      <td>1</td>\n      <td>2</td>\n      <td>1</td>\n      <td>1</td>\n      <td>1</td>\n      <td>1</td>\n      <td>1</td>\n      <td>...</td>\n      <td>2</td>\n      <td>3</td>\n      <td>1</td>\n      <td>1</td>\n      <td>1</td>\n      <td>1</td>\n      <td>1</td>\n      <td>1</td>\n      <td>1</td>\n      <td>0</td>\n    </tr>\n    <tr>\n      <th>1152595</th>\n      <td>1152596</td>\n      <td>1426435</td>\n      <td>1</td>\n      <td>1</td>\n      <td>1</td>\n      <td>1</td>\n      <td>1</td>\n      <td>1</td>\n      <td>1</td>\n      <td>1</td>\n      <td>...</td>\n      <td>1</td>\n      <td>2</td>\n      <td>1</td>\n      <td>2</td>\n      <td>2</td>\n      <td>1</td>\n      <td>1</td>\n      <td>1</td>\n      <td>1</td>\n      <td>0</td>\n    </tr>\n    <tr>\n      <th>1152596</th>\n      <td>1152597</td>\n      <td>1426436</td>\n      <td>1</td>\n      <td>1</td>\n      <td>1</td>\n      <td>1</td>\n      <td>1</td>\n      <td>1</td>\n      <td>1</td>\n      <td>1</td>\n      <td>...</td>\n      <td>2</td>\n      <td>3</td>\n      <td>1</td>\n      <td>1</td>\n      <td>1</td>\n      <td>1</td>\n      <td>1</td>\n      <td>3</td>\n      <td>3</td>\n      <td>0</td>\n    </tr>\n  </tbody>\n</table>\n<p>1140888 rows × 23 columns</p>\n</div>"
     },
     "metadata": {},
     "execution_count": 142
    }
   ],
   "source": [
    "df_in.loc[ df_in.PROP > df_in.ALGUNBI ]\n"
   ]
  },
  {
   "cell_type": "markdown",
   "metadata": {},
   "source": [
    "## ORDEN (Order by)\n"
   ]
  },
  {
   "cell_type": "markdown",
   "metadata": {},
   "source": [
    "### Asendiente"
   ]
  },
  {
   "cell_type": "code",
   "execution_count": 143,
   "metadata": {},
   "outputs": [
    {
     "output_type": "execute_result",
     "data": {
      "text/plain": [
       "         HOGAR_REF_ID  VIVIENDA_REF_ID  NHOG  H05  H06  H07  H08  H09  H10  \\\n",
       "27                 28               17     1    0    0    0    0    0    0   \n",
       "28                 29               18     1    0    0    0    0    0    0   \n",
       "33                 34               21     1    0    0    0    0    0    0   \n",
       "34                 35               22     1    0    0    0    0    0    0   \n",
       "35                 36               23     1    0    0    0    0    0    0   \n",
       "...               ...              ...   ...  ...  ...  ...  ...  ...  ...   \n",
       "1151462       1151463          1424966     1    2    4    2    1    1    1   \n",
       "1151463       1151464          1424967     1    1    4    1    1    1    1   \n",
       "1151820       1151821          1425430     1    1    2    1    1    1    2   \n",
       "1151821       1151822          1425430     2    1    1    1    1    1    2   \n",
       "1151822       1151823          1425430     3    1    4    2    1    1    2   \n",
       "\n",
       "         H11  ...  H15  H16  H19A  H19B  H19C  H19D  PROP  INDHAC  TOTPERS  \\\n",
       "27         0  ...    0    0     0     0     0     0     0       7        0   \n",
       "28         0  ...    0    0     0     0     0     0     0       7        0   \n",
       "33         0  ...    0    0     0     0     0     0     0       7        0   \n",
       "34         0  ...    0    0     0     0     0     0     0       7        0   \n",
       "35         0  ...    0    0     0     0     0     0     0       7        0   \n",
       "...      ...  ...  ...  ...   ...   ...   ...   ...   ...     ...      ...   \n",
       "1151462    1  ...    3    3     1     2     2     1     6       5        6   \n",
       "1151463    1  ...    3    3     1     1     1     1     6       6        8   \n",
       "1151820    0  ...    1    1     1     2     1     2     6       5        3   \n",
       "1151821    0  ...    1    1     1     2     1     2     6       6        7   \n",
       "1151822    0  ...    1    1     1     2     1     2     6       6        6   \n",
       "\n",
       "         ALGUNBI  \n",
       "27             2  \n",
       "28             2  \n",
       "33             2  \n",
       "34             2  \n",
       "35             2  \n",
       "...          ...  \n",
       "1151462        1  \n",
       "1151463        1  \n",
       "1151820        1  \n",
       "1151821        1  \n",
       "1151822        1  \n",
       "\n",
       "[1152599 rows x 23 columns]"
      ],
      "text/html": "<div>\n<style scoped>\n    .dataframe tbody tr th:only-of-type {\n        vertical-align: middle;\n    }\n\n    .dataframe tbody tr th {\n        vertical-align: top;\n    }\n\n    .dataframe thead th {\n        text-align: right;\n    }\n</style>\n<table border=\"1\" class=\"dataframe\">\n  <thead>\n    <tr style=\"text-align: right;\">\n      <th></th>\n      <th>HOGAR_REF_ID</th>\n      <th>VIVIENDA_REF_ID</th>\n      <th>NHOG</th>\n      <th>H05</th>\n      <th>H06</th>\n      <th>H07</th>\n      <th>H08</th>\n      <th>H09</th>\n      <th>H10</th>\n      <th>H11</th>\n      <th>...</th>\n      <th>H15</th>\n      <th>H16</th>\n      <th>H19A</th>\n      <th>H19B</th>\n      <th>H19C</th>\n      <th>H19D</th>\n      <th>PROP</th>\n      <th>INDHAC</th>\n      <th>TOTPERS</th>\n      <th>ALGUNBI</th>\n    </tr>\n  </thead>\n  <tbody>\n    <tr>\n      <th>27</th>\n      <td>28</td>\n      <td>17</td>\n      <td>1</td>\n      <td>0</td>\n      <td>0</td>\n      <td>0</td>\n      <td>0</td>\n      <td>0</td>\n      <td>0</td>\n      <td>0</td>\n      <td>...</td>\n      <td>0</td>\n      <td>0</td>\n      <td>0</td>\n      <td>0</td>\n      <td>0</td>\n      <td>0</td>\n      <td>0</td>\n      <td>7</td>\n      <td>0</td>\n      <td>2</td>\n    </tr>\n    <tr>\n      <th>28</th>\n      <td>29</td>\n      <td>18</td>\n      <td>1</td>\n      <td>0</td>\n      <td>0</td>\n      <td>0</td>\n      <td>0</td>\n      <td>0</td>\n      <td>0</td>\n      <td>0</td>\n      <td>...</td>\n      <td>0</td>\n      <td>0</td>\n      <td>0</td>\n      <td>0</td>\n      <td>0</td>\n      <td>0</td>\n      <td>0</td>\n      <td>7</td>\n      <td>0</td>\n      <td>2</td>\n    </tr>\n    <tr>\n      <th>33</th>\n      <td>34</td>\n      <td>21</td>\n      <td>1</td>\n      <td>0</td>\n      <td>0</td>\n      <td>0</td>\n      <td>0</td>\n      <td>0</td>\n      <td>0</td>\n      <td>0</td>\n      <td>...</td>\n      <td>0</td>\n      <td>0</td>\n      <td>0</td>\n      <td>0</td>\n      <td>0</td>\n      <td>0</td>\n      <td>0</td>\n      <td>7</td>\n      <td>0</td>\n      <td>2</td>\n    </tr>\n    <tr>\n      <th>34</th>\n      <td>35</td>\n      <td>22</td>\n      <td>1</td>\n      <td>0</td>\n      <td>0</td>\n      <td>0</td>\n      <td>0</td>\n      <td>0</td>\n      <td>0</td>\n      <td>0</td>\n      <td>...</td>\n      <td>0</td>\n      <td>0</td>\n      <td>0</td>\n      <td>0</td>\n      <td>0</td>\n      <td>0</td>\n      <td>0</td>\n      <td>7</td>\n      <td>0</td>\n      <td>2</td>\n    </tr>\n    <tr>\n      <th>35</th>\n      <td>36</td>\n      <td>23</td>\n      <td>1</td>\n      <td>0</td>\n      <td>0</td>\n      <td>0</td>\n      <td>0</td>\n      <td>0</td>\n      <td>0</td>\n      <td>0</td>\n      <td>...</td>\n      <td>0</td>\n      <td>0</td>\n      <td>0</td>\n      <td>0</td>\n      <td>0</td>\n      <td>0</td>\n      <td>0</td>\n      <td>7</td>\n      <td>0</td>\n      <td>2</td>\n    </tr>\n    <tr>\n      <th>...</th>\n      <td>...</td>\n      <td>...</td>\n      <td>...</td>\n      <td>...</td>\n      <td>...</td>\n      <td>...</td>\n      <td>...</td>\n      <td>...</td>\n      <td>...</td>\n      <td>...</td>\n      <td>...</td>\n      <td>...</td>\n      <td>...</td>\n      <td>...</td>\n      <td>...</td>\n      <td>...</td>\n      <td>...</td>\n      <td>...</td>\n      <td>...</td>\n      <td>...</td>\n      <td>...</td>\n    </tr>\n    <tr>\n      <th>1151462</th>\n      <td>1151463</td>\n      <td>1424966</td>\n      <td>1</td>\n      <td>2</td>\n      <td>4</td>\n      <td>2</td>\n      <td>1</td>\n      <td>1</td>\n      <td>1</td>\n      <td>1</td>\n      <td>...</td>\n      <td>3</td>\n      <td>3</td>\n      <td>1</td>\n      <td>2</td>\n      <td>2</td>\n      <td>1</td>\n      <td>6</td>\n      <td>5</td>\n      <td>6</td>\n      <td>1</td>\n    </tr>\n    <tr>\n      <th>1151463</th>\n      <td>1151464</td>\n      <td>1424967</td>\n      <td>1</td>\n      <td>1</td>\n      <td>4</td>\n      <td>1</td>\n      <td>1</td>\n      <td>1</td>\n      <td>1</td>\n      <td>1</td>\n      <td>...</td>\n      <td>3</td>\n      <td>3</td>\n      <td>1</td>\n      <td>1</td>\n      <td>1</td>\n      <td>1</td>\n      <td>6</td>\n      <td>6</td>\n      <td>8</td>\n      <td>1</td>\n    </tr>\n    <tr>\n      <th>1151820</th>\n      <td>1151821</td>\n      <td>1425430</td>\n      <td>1</td>\n      <td>1</td>\n      <td>2</td>\n      <td>1</td>\n      <td>1</td>\n      <td>1</td>\n      <td>2</td>\n      <td>0</td>\n      <td>...</td>\n      <td>1</td>\n      <td>1</td>\n      <td>1</td>\n      <td>2</td>\n      <td>1</td>\n      <td>2</td>\n      <td>6</td>\n      <td>5</td>\n      <td>3</td>\n      <td>1</td>\n    </tr>\n    <tr>\n      <th>1151821</th>\n      <td>1151822</td>\n      <td>1425430</td>\n      <td>2</td>\n      <td>1</td>\n      <td>1</td>\n      <td>1</td>\n      <td>1</td>\n      <td>1</td>\n      <td>2</td>\n      <td>0</td>\n      <td>...</td>\n      <td>1</td>\n      <td>1</td>\n      <td>1</td>\n      <td>2</td>\n      <td>1</td>\n      <td>2</td>\n      <td>6</td>\n      <td>6</td>\n      <td>7</td>\n      <td>1</td>\n    </tr>\n    <tr>\n      <th>1151822</th>\n      <td>1151823</td>\n      <td>1425430</td>\n      <td>3</td>\n      <td>1</td>\n      <td>4</td>\n      <td>2</td>\n      <td>1</td>\n      <td>1</td>\n      <td>2</td>\n      <td>0</td>\n      <td>...</td>\n      <td>1</td>\n      <td>1</td>\n      <td>1</td>\n      <td>2</td>\n      <td>1</td>\n      <td>2</td>\n      <td>6</td>\n      <td>6</td>\n      <td>6</td>\n      <td>1</td>\n    </tr>\n  </tbody>\n</table>\n<p>1152599 rows × 23 columns</p>\n</div>"
     },
     "metadata": {},
     "execution_count": 143
    }
   ],
   "source": [
    "df_in.sort_values(['PROP','ALGUNBI'])\n"
   ]
  },
  {
   "cell_type": "markdown",
   "metadata": {},
   "source": [
    "### Descendiente\n"
   ]
  },
  {
   "cell_type": "code",
   "execution_count": 144,
   "metadata": {},
   "outputs": [
    {
     "output_type": "execute_result",
     "data": {
      "text/plain": [
       "         HOGAR_REF_ID  VIVIENDA_REF_ID  NHOG  H05  H06  H07  H08  H09  H10  \\\n",
       "4                   5                2     1    1    1    2    1    1    1   \n",
       "8                   9                2     7    1    1    1    1    1    1   \n",
       "25                 26               16     1    1    1    1    1    1    1   \n",
       "30                 31               19     2    1    1    1    1    1    1   \n",
       "123               124              106     1    2    4    2    1    1    1   \n",
       "...               ...              ...   ...  ...  ...  ...  ...  ...  ...   \n",
       "1150547       1150548          1423792  1000    0    0    0    0    0    0   \n",
       "1150548       1150549          1423793  1000    0    0    0    0    0    0   \n",
       "1151377       1151378          1424839  1000    0    0    0    0    0    0   \n",
       "1152597       1152598          1426437  1000    0    0    0    0    0    0   \n",
       "1152598       1152599          1426438  1000    0    0    0    0    0    0   \n",
       "\n",
       "         H11  ...  H15  H16  H19A  H19B  H19C  H19D  PROP  INDHAC  TOTPERS  \\\n",
       "4          1  ...    5    5     1     1     2     1     6       1        2   \n",
       "8          1  ...    5    5     1     1     1     1     6       1        2   \n",
       "25         1  ...    3    5     1     1     1     1     6       1        2   \n",
       "30         1  ...    3    5     1     1     1     1     6       6        8   \n",
       "123        1  ...    2    2     1     1     2     1     6       6        7   \n",
       "...      ...  ...  ...  ...   ...   ...   ...   ...   ...     ...      ...   \n",
       "1150547    0  ...    0    0     0     0     0     0     0       7        0   \n",
       "1150548    0  ...    0    0     0     0     0     0     0       7        0   \n",
       "1151377    0  ...    0    0     0     0     0     0     0       7        0   \n",
       "1152597    0  ...    0    0     0     0     0     0     0       7        0   \n",
       "1152598    0  ...    0    0     0     0     0     0     0       7        0   \n",
       "\n",
       "         ALGUNBI  \n",
       "4              1  \n",
       "8              1  \n",
       "25             1  \n",
       "30             1  \n",
       "123            1  \n",
       "...          ...  \n",
       "1150547        2  \n",
       "1150548        2  \n",
       "1151377        2  \n",
       "1152597        2  \n",
       "1152598        2  \n",
       "\n",
       "[1152599 rows x 23 columns]"
      ],
      "text/html": "<div>\n<style scoped>\n    .dataframe tbody tr th:only-of-type {\n        vertical-align: middle;\n    }\n\n    .dataframe tbody tr th {\n        vertical-align: top;\n    }\n\n    .dataframe thead th {\n        text-align: right;\n    }\n</style>\n<table border=\"1\" class=\"dataframe\">\n  <thead>\n    <tr style=\"text-align: right;\">\n      <th></th>\n      <th>HOGAR_REF_ID</th>\n      <th>VIVIENDA_REF_ID</th>\n      <th>NHOG</th>\n      <th>H05</th>\n      <th>H06</th>\n      <th>H07</th>\n      <th>H08</th>\n      <th>H09</th>\n      <th>H10</th>\n      <th>H11</th>\n      <th>...</th>\n      <th>H15</th>\n      <th>H16</th>\n      <th>H19A</th>\n      <th>H19B</th>\n      <th>H19C</th>\n      <th>H19D</th>\n      <th>PROP</th>\n      <th>INDHAC</th>\n      <th>TOTPERS</th>\n      <th>ALGUNBI</th>\n    </tr>\n  </thead>\n  <tbody>\n    <tr>\n      <th>4</th>\n      <td>5</td>\n      <td>2</td>\n      <td>1</td>\n      <td>1</td>\n      <td>1</td>\n      <td>2</td>\n      <td>1</td>\n      <td>1</td>\n      <td>1</td>\n      <td>1</td>\n      <td>...</td>\n      <td>5</td>\n      <td>5</td>\n      <td>1</td>\n      <td>1</td>\n      <td>2</td>\n      <td>1</td>\n      <td>6</td>\n      <td>1</td>\n      <td>2</td>\n      <td>1</td>\n    </tr>\n    <tr>\n      <th>8</th>\n      <td>9</td>\n      <td>2</td>\n      <td>7</td>\n      <td>1</td>\n      <td>1</td>\n      <td>1</td>\n      <td>1</td>\n      <td>1</td>\n      <td>1</td>\n      <td>1</td>\n      <td>...</td>\n      <td>5</td>\n      <td>5</td>\n      <td>1</td>\n      <td>1</td>\n      <td>1</td>\n      <td>1</td>\n      <td>6</td>\n      <td>1</td>\n      <td>2</td>\n      <td>1</td>\n    </tr>\n    <tr>\n      <th>25</th>\n      <td>26</td>\n      <td>16</td>\n      <td>1</td>\n      <td>1</td>\n      <td>1</td>\n      <td>1</td>\n      <td>1</td>\n      <td>1</td>\n      <td>1</td>\n      <td>1</td>\n      <td>...</td>\n      <td>3</td>\n      <td>5</td>\n      <td>1</td>\n      <td>1</td>\n      <td>1</td>\n      <td>1</td>\n      <td>6</td>\n      <td>1</td>\n      <td>2</td>\n      <td>1</td>\n    </tr>\n    <tr>\n      <th>30</th>\n      <td>31</td>\n      <td>19</td>\n      <td>2</td>\n      <td>1</td>\n      <td>1</td>\n      <td>1</td>\n      <td>1</td>\n      <td>1</td>\n      <td>1</td>\n      <td>1</td>\n      <td>...</td>\n      <td>3</td>\n      <td>5</td>\n      <td>1</td>\n      <td>1</td>\n      <td>1</td>\n      <td>1</td>\n      <td>6</td>\n      <td>6</td>\n      <td>8</td>\n      <td>1</td>\n    </tr>\n    <tr>\n      <th>123</th>\n      <td>124</td>\n      <td>106</td>\n      <td>1</td>\n      <td>2</td>\n      <td>4</td>\n      <td>2</td>\n      <td>1</td>\n      <td>1</td>\n      <td>1</td>\n      <td>1</td>\n      <td>...</td>\n      <td>2</td>\n      <td>2</td>\n      <td>1</td>\n      <td>1</td>\n      <td>2</td>\n      <td>1</td>\n      <td>6</td>\n      <td>6</td>\n      <td>7</td>\n      <td>1</td>\n    </tr>\n    <tr>\n      <th>...</th>\n      <td>...</td>\n      <td>...</td>\n      <td>...</td>\n      <td>...</td>\n      <td>...</td>\n      <td>...</td>\n      <td>...</td>\n      <td>...</td>\n      <td>...</td>\n      <td>...</td>\n      <td>...</td>\n      <td>...</td>\n      <td>...</td>\n      <td>...</td>\n      <td>...</td>\n      <td>...</td>\n      <td>...</td>\n      <td>...</td>\n      <td>...</td>\n      <td>...</td>\n      <td>...</td>\n    </tr>\n    <tr>\n      <th>1150547</th>\n      <td>1150548</td>\n      <td>1423792</td>\n      <td>1000</td>\n      <td>0</td>\n      <td>0</td>\n      <td>0</td>\n      <td>0</td>\n      <td>0</td>\n      <td>0</td>\n      <td>0</td>\n      <td>...</td>\n      <td>0</td>\n      <td>0</td>\n      <td>0</td>\n      <td>0</td>\n      <td>0</td>\n      <td>0</td>\n      <td>0</td>\n      <td>7</td>\n      <td>0</td>\n      <td>2</td>\n    </tr>\n    <tr>\n      <th>1150548</th>\n      <td>1150549</td>\n      <td>1423793</td>\n      <td>1000</td>\n      <td>0</td>\n      <td>0</td>\n      <td>0</td>\n      <td>0</td>\n      <td>0</td>\n      <td>0</td>\n      <td>0</td>\n      <td>...</td>\n      <td>0</td>\n      <td>0</td>\n      <td>0</td>\n      <td>0</td>\n      <td>0</td>\n      <td>0</td>\n      <td>0</td>\n      <td>7</td>\n      <td>0</td>\n      <td>2</td>\n    </tr>\n    <tr>\n      <th>1151377</th>\n      <td>1151378</td>\n      <td>1424839</td>\n      <td>1000</td>\n      <td>0</td>\n      <td>0</td>\n      <td>0</td>\n      <td>0</td>\n      <td>0</td>\n      <td>0</td>\n      <td>0</td>\n      <td>...</td>\n      <td>0</td>\n      <td>0</td>\n      <td>0</td>\n      <td>0</td>\n      <td>0</td>\n      <td>0</td>\n      <td>0</td>\n      <td>7</td>\n      <td>0</td>\n      <td>2</td>\n    </tr>\n    <tr>\n      <th>1152597</th>\n      <td>1152598</td>\n      <td>1426437</td>\n      <td>1000</td>\n      <td>0</td>\n      <td>0</td>\n      <td>0</td>\n      <td>0</td>\n      <td>0</td>\n      <td>0</td>\n      <td>0</td>\n      <td>...</td>\n      <td>0</td>\n      <td>0</td>\n      <td>0</td>\n      <td>0</td>\n      <td>0</td>\n      <td>0</td>\n      <td>0</td>\n      <td>7</td>\n      <td>0</td>\n      <td>2</td>\n    </tr>\n    <tr>\n      <th>1152598</th>\n      <td>1152599</td>\n      <td>1426438</td>\n      <td>1000</td>\n      <td>0</td>\n      <td>0</td>\n      <td>0</td>\n      <td>0</td>\n      <td>0</td>\n      <td>0</td>\n      <td>0</td>\n      <td>...</td>\n      <td>0</td>\n      <td>0</td>\n      <td>0</td>\n      <td>0</td>\n      <td>0</td>\n      <td>0</td>\n      <td>0</td>\n      <td>7</td>\n      <td>0</td>\n      <td>2</td>\n    </tr>\n  </tbody>\n</table>\n<p>1152599 rows × 23 columns</p>\n</div>"
     },
     "metadata": {},
     "execution_count": 144
    }
   ],
   "source": [
    "df_in.sort_values(['PROP','ALGUNBI'], ascending=False)\n"
   ]
  },
  {
   "cell_type": "markdown",
   "metadata": {},
   "source": [
    "## Contar"
   ]
  },
  {
   "cell_type": "markdown",
   "metadata": {},
   "source": [
    "### Valores no nulos"
   ]
  },
  {
   "cell_type": "code",
   "execution_count": 145,
   "metadata": {},
   "outputs": [
    {
     "output_type": "execute_result",
     "data": {
      "text/plain": [
       "HOGAR_REF_ID       1152599\n",
       "VIVIENDA_REF_ID    1152599\n",
       "NHOG               1152599\n",
       "H05                1152599\n",
       "H06                1152599\n",
       "H07                1152599\n",
       "H08                1152599\n",
       "H09                1152599\n",
       "H10                1152599\n",
       "H11                1152599\n",
       "H12                1152599\n",
       "H13                1152599\n",
       "H14                1152599\n",
       "H15                1152599\n",
       "H16                1152599\n",
       "H19A               1152599\n",
       "H19B               1152599\n",
       "H19C               1152599\n",
       "H19D               1152599\n",
       "PROP               1152599\n",
       "INDHAC             1152599\n",
       "TOTPERS            1152599\n",
       "ALGUNBI            1152599\n",
       "dtype: int64"
      ]
     },
     "metadata": {},
     "execution_count": 145
    }
   ],
   "source": [
    "df_in.count()"
   ]
  },
  {
   "cell_type": "markdown",
   "metadata": {},
   "source": [
    "### Cantidad de registros"
   ]
  },
  {
   "cell_type": "code",
   "execution_count": 146,
   "metadata": {},
   "outputs": [
    {
     "output_type": "execute_result",
     "data": {
      "text/plain": [
       "1152599"
      ]
     },
     "metadata": {},
     "execution_count": 146
    }
   ],
   "source": [
    "df_in.shape[0]"
   ]
  },
  {
   "cell_type": "markdown",
   "metadata": {},
   "source": [
    "## Agrupar por (Group By)"
   ]
  },
  {
   "cell_type": "code",
   "execution_count": 147,
   "metadata": {},
   "outputs": [
    {
     "output_type": "execute_result",
     "data": {
      "text/plain": [
       "PROP  ALGUNBI\n",
       "0     2            2465\n",
       "1     0          639712\n",
       "      1            9246\n",
       "2     0           67111\n",
       "      1            2674\n",
       "3     0          294851\n",
       "      1           48592\n",
       "4     0           42047\n",
       "      1            2466\n",
       "5     0           21368\n",
       "      1            2425\n",
       "6     0           16269\n",
       "      1            3373\n",
       "dtype: int64"
      ]
     },
     "metadata": {},
     "execution_count": 147
    }
   ],
   "source": [
    "df_in.groupby(['PROP','ALGUNBI']).size()"
   ]
  },
  {
   "cell_type": "code",
   "execution_count": 148,
   "metadata": {},
   "outputs": [
    {
     "output_type": "execute_result",
     "data": {
      "text/plain": [
       "              HOGAR_REF_ID  VIVIENDA_REF_ID    NHOG     H05     H06     H07  \\\n",
       "PROP ALGUNBI                                                                  \n",
       "0    2                2465             2465    2465    2465    2465    2465   \n",
       "1    0              639712           639712  639712  639712  639712  639712   \n",
       "     1                9246             9246    9246    9246    9246    9246   \n",
       "2    0               67111            67111   67111   67111   67111   67111   \n",
       "     1                2674             2674    2674    2674    2674    2674   \n",
       "3    0              294851           294851  294851  294851  294851  294851   \n",
       "     1               48592            48592   48592   48592   48592   48592   \n",
       "4    0               42047            42047   42047   42047   42047   42047   \n",
       "     1                2466             2466    2466    2466    2466    2466   \n",
       "5    0               21368            21368   21368   21368   21368   21368   \n",
       "     1                2425             2425    2425    2425    2425    2425   \n",
       "6    0               16269            16269   16269   16269   16269   16269   \n",
       "     1                3373             3373    3373    3373    3373    3373   \n",
       "\n",
       "                 H08     H09     H10     H11  ...     H13     H14     H15  \\\n",
       "PROP ALGUNBI                                  ...                           \n",
       "0    2          2465    2465    2465    2465  ...    2465    2465    2465   \n",
       "1    0        639712  639712  639712  639712  ...  639712  639712  639712   \n",
       "     1          9246    9246    9246    9246  ...    9246    9246    9246   \n",
       "2    0         67111   67111   67111   67111  ...   67111   67111   67111   \n",
       "     1          2674    2674    2674    2674  ...    2674    2674    2674   \n",
       "3    0        294851  294851  294851  294851  ...  294851  294851  294851   \n",
       "     1         48592   48592   48592   48592  ...   48592   48592   48592   \n",
       "4    0         42047   42047   42047   42047  ...   42047   42047   42047   \n",
       "     1          2466    2466    2466    2466  ...    2466    2466    2466   \n",
       "5    0         21368   21368   21368   21368  ...   21368   21368   21368   \n",
       "     1          2425    2425    2425    2425  ...    2425    2425    2425   \n",
       "6    0         16269   16269   16269   16269  ...   16269   16269   16269   \n",
       "     1          3373    3373    3373    3373  ...    3373    3373    3373   \n",
       "\n",
       "                 H16    H19A    H19B    H19C    H19D  INDHAC  TOTPERS  \n",
       "PROP ALGUNBI                                                           \n",
       "0    2          2465    2465    2465    2465    2465    2465     2465  \n",
       "1    0        639712  639712  639712  639712  639712  639712   639712  \n",
       "     1          9246    9246    9246    9246    9246    9246     9246  \n",
       "2    0         67111   67111   67111   67111   67111   67111    67111  \n",
       "     1          2674    2674    2674    2674    2674    2674     2674  \n",
       "3    0        294851  294851  294851  294851  294851  294851   294851  \n",
       "     1         48592   48592   48592   48592   48592   48592    48592  \n",
       "4    0         42047   42047   42047   42047   42047   42047    42047  \n",
       "     1          2466    2466    2466    2466    2466    2466     2466  \n",
       "5    0         21368   21368   21368   21368   21368   21368    21368  \n",
       "     1          2425    2425    2425    2425    2425    2425     2425  \n",
       "6    0         16269   16269   16269   16269   16269   16269    16269  \n",
       "     1          3373    3373    3373    3373    3373    3373     3373  \n",
       "\n",
       "[13 rows x 21 columns]"
      ],
      "text/html": "<div>\n<style scoped>\n    .dataframe tbody tr th:only-of-type {\n        vertical-align: middle;\n    }\n\n    .dataframe tbody tr th {\n        vertical-align: top;\n    }\n\n    .dataframe thead th {\n        text-align: right;\n    }\n</style>\n<table border=\"1\" class=\"dataframe\">\n  <thead>\n    <tr style=\"text-align: right;\">\n      <th></th>\n      <th></th>\n      <th>HOGAR_REF_ID</th>\n      <th>VIVIENDA_REF_ID</th>\n      <th>NHOG</th>\n      <th>H05</th>\n      <th>H06</th>\n      <th>H07</th>\n      <th>H08</th>\n      <th>H09</th>\n      <th>H10</th>\n      <th>H11</th>\n      <th>...</th>\n      <th>H13</th>\n      <th>H14</th>\n      <th>H15</th>\n      <th>H16</th>\n      <th>H19A</th>\n      <th>H19B</th>\n      <th>H19C</th>\n      <th>H19D</th>\n      <th>INDHAC</th>\n      <th>TOTPERS</th>\n    </tr>\n    <tr>\n      <th>PROP</th>\n      <th>ALGUNBI</th>\n      <th></th>\n      <th></th>\n      <th></th>\n      <th></th>\n      <th></th>\n      <th></th>\n      <th></th>\n      <th></th>\n      <th></th>\n      <th></th>\n      <th></th>\n      <th></th>\n      <th></th>\n      <th></th>\n      <th></th>\n      <th></th>\n      <th></th>\n      <th></th>\n      <th></th>\n      <th></th>\n      <th></th>\n    </tr>\n  </thead>\n  <tbody>\n    <tr>\n      <th>0</th>\n      <th>2</th>\n      <td>2465</td>\n      <td>2465</td>\n      <td>2465</td>\n      <td>2465</td>\n      <td>2465</td>\n      <td>2465</td>\n      <td>2465</td>\n      <td>2465</td>\n      <td>2465</td>\n      <td>2465</td>\n      <td>...</td>\n      <td>2465</td>\n      <td>2465</td>\n      <td>2465</td>\n      <td>2465</td>\n      <td>2465</td>\n      <td>2465</td>\n      <td>2465</td>\n      <td>2465</td>\n      <td>2465</td>\n      <td>2465</td>\n    </tr>\n    <tr>\n      <th rowspan=\"2\" valign=\"top\">1</th>\n      <th>0</th>\n      <td>639712</td>\n      <td>639712</td>\n      <td>639712</td>\n      <td>639712</td>\n      <td>639712</td>\n      <td>639712</td>\n      <td>639712</td>\n      <td>639712</td>\n      <td>639712</td>\n      <td>639712</td>\n      <td>...</td>\n      <td>639712</td>\n      <td>639712</td>\n      <td>639712</td>\n      <td>639712</td>\n      <td>639712</td>\n      <td>639712</td>\n      <td>639712</td>\n      <td>639712</td>\n      <td>639712</td>\n      <td>639712</td>\n    </tr>\n    <tr>\n      <th>1</th>\n      <td>9246</td>\n      <td>9246</td>\n      <td>9246</td>\n      <td>9246</td>\n      <td>9246</td>\n      <td>9246</td>\n      <td>9246</td>\n      <td>9246</td>\n      <td>9246</td>\n      <td>9246</td>\n      <td>...</td>\n      <td>9246</td>\n      <td>9246</td>\n      <td>9246</td>\n      <td>9246</td>\n      <td>9246</td>\n      <td>9246</td>\n      <td>9246</td>\n      <td>9246</td>\n      <td>9246</td>\n      <td>9246</td>\n    </tr>\n    <tr>\n      <th rowspan=\"2\" valign=\"top\">2</th>\n      <th>0</th>\n      <td>67111</td>\n      <td>67111</td>\n      <td>67111</td>\n      <td>67111</td>\n      <td>67111</td>\n      <td>67111</td>\n      <td>67111</td>\n      <td>67111</td>\n      <td>67111</td>\n      <td>67111</td>\n      <td>...</td>\n      <td>67111</td>\n      <td>67111</td>\n      <td>67111</td>\n      <td>67111</td>\n      <td>67111</td>\n      <td>67111</td>\n      <td>67111</td>\n      <td>67111</td>\n      <td>67111</td>\n      <td>67111</td>\n    </tr>\n    <tr>\n      <th>1</th>\n      <td>2674</td>\n      <td>2674</td>\n      <td>2674</td>\n      <td>2674</td>\n      <td>2674</td>\n      <td>2674</td>\n      <td>2674</td>\n      <td>2674</td>\n      <td>2674</td>\n      <td>2674</td>\n      <td>...</td>\n      <td>2674</td>\n      <td>2674</td>\n      <td>2674</td>\n      <td>2674</td>\n      <td>2674</td>\n      <td>2674</td>\n      <td>2674</td>\n      <td>2674</td>\n      <td>2674</td>\n      <td>2674</td>\n    </tr>\n    <tr>\n      <th rowspan=\"2\" valign=\"top\">3</th>\n      <th>0</th>\n      <td>294851</td>\n      <td>294851</td>\n      <td>294851</td>\n      <td>294851</td>\n      <td>294851</td>\n      <td>294851</td>\n      <td>294851</td>\n      <td>294851</td>\n      <td>294851</td>\n      <td>294851</td>\n      <td>...</td>\n      <td>294851</td>\n      <td>294851</td>\n      <td>294851</td>\n      <td>294851</td>\n      <td>294851</td>\n      <td>294851</td>\n      <td>294851</td>\n      <td>294851</td>\n      <td>294851</td>\n      <td>294851</td>\n    </tr>\n    <tr>\n      <th>1</th>\n      <td>48592</td>\n      <td>48592</td>\n      <td>48592</td>\n      <td>48592</td>\n      <td>48592</td>\n      <td>48592</td>\n      <td>48592</td>\n      <td>48592</td>\n      <td>48592</td>\n      <td>48592</td>\n      <td>...</td>\n      <td>48592</td>\n      <td>48592</td>\n      <td>48592</td>\n      <td>48592</td>\n      <td>48592</td>\n      <td>48592</td>\n      <td>48592</td>\n      <td>48592</td>\n      <td>48592</td>\n      <td>48592</td>\n    </tr>\n    <tr>\n      <th rowspan=\"2\" valign=\"top\">4</th>\n      <th>0</th>\n      <td>42047</td>\n      <td>42047</td>\n      <td>42047</td>\n      <td>42047</td>\n      <td>42047</td>\n      <td>42047</td>\n      <td>42047</td>\n      <td>42047</td>\n      <td>42047</td>\n      <td>42047</td>\n      <td>...</td>\n      <td>42047</td>\n      <td>42047</td>\n      <td>42047</td>\n      <td>42047</td>\n      <td>42047</td>\n      <td>42047</td>\n      <td>42047</td>\n      <td>42047</td>\n      <td>42047</td>\n      <td>42047</td>\n    </tr>\n    <tr>\n      <th>1</th>\n      <td>2466</td>\n      <td>2466</td>\n      <td>2466</td>\n      <td>2466</td>\n      <td>2466</td>\n      <td>2466</td>\n      <td>2466</td>\n      <td>2466</td>\n      <td>2466</td>\n      <td>2466</td>\n      <td>...</td>\n      <td>2466</td>\n      <td>2466</td>\n      <td>2466</td>\n      <td>2466</td>\n      <td>2466</td>\n      <td>2466</td>\n      <td>2466</td>\n      <td>2466</td>\n      <td>2466</td>\n      <td>2466</td>\n    </tr>\n    <tr>\n      <th rowspan=\"2\" valign=\"top\">5</th>\n      <th>0</th>\n      <td>21368</td>\n      <td>21368</td>\n      <td>21368</td>\n      <td>21368</td>\n      <td>21368</td>\n      <td>21368</td>\n      <td>21368</td>\n      <td>21368</td>\n      <td>21368</td>\n      <td>21368</td>\n      <td>...</td>\n      <td>21368</td>\n      <td>21368</td>\n      <td>21368</td>\n      <td>21368</td>\n      <td>21368</td>\n      <td>21368</td>\n      <td>21368</td>\n      <td>21368</td>\n      <td>21368</td>\n      <td>21368</td>\n    </tr>\n    <tr>\n      <th>1</th>\n      <td>2425</td>\n      <td>2425</td>\n      <td>2425</td>\n      <td>2425</td>\n      <td>2425</td>\n      <td>2425</td>\n      <td>2425</td>\n      <td>2425</td>\n      <td>2425</td>\n      <td>2425</td>\n      <td>...</td>\n      <td>2425</td>\n      <td>2425</td>\n      <td>2425</td>\n      <td>2425</td>\n      <td>2425</td>\n      <td>2425</td>\n      <td>2425</td>\n      <td>2425</td>\n      <td>2425</td>\n      <td>2425</td>\n    </tr>\n    <tr>\n      <th rowspan=\"2\" valign=\"top\">6</th>\n      <th>0</th>\n      <td>16269</td>\n      <td>16269</td>\n      <td>16269</td>\n      <td>16269</td>\n      <td>16269</td>\n      <td>16269</td>\n      <td>16269</td>\n      <td>16269</td>\n      <td>16269</td>\n      <td>16269</td>\n      <td>...</td>\n      <td>16269</td>\n      <td>16269</td>\n      <td>16269</td>\n      <td>16269</td>\n      <td>16269</td>\n      <td>16269</td>\n      <td>16269</td>\n      <td>16269</td>\n      <td>16269</td>\n      <td>16269</td>\n    </tr>\n    <tr>\n      <th>1</th>\n      <td>3373</td>\n      <td>3373</td>\n      <td>3373</td>\n      <td>3373</td>\n      <td>3373</td>\n      <td>3373</td>\n      <td>3373</td>\n      <td>3373</td>\n      <td>3373</td>\n      <td>3373</td>\n      <td>...</td>\n      <td>3373</td>\n      <td>3373</td>\n      <td>3373</td>\n      <td>3373</td>\n      <td>3373</td>\n      <td>3373</td>\n      <td>3373</td>\n      <td>3373</td>\n      <td>3373</td>\n      <td>3373</td>\n    </tr>\n  </tbody>\n</table>\n<p>13 rows × 21 columns</p>\n</div>"
     },
     "metadata": {},
     "execution_count": 148
    }
   ],
   "source": [
    "df_in.groupby(['PROP','ALGUNBI']).count()"
   ]
  },
  {
   "cell_type": "markdown",
   "metadata": {},
   "source": [
    "## Funciones de Agregación"
   ]
  },
  {
   "cell_type": "markdown",
   "metadata": {},
   "source": [
    " |    Agregación   |      Descripción      |\n",
    " |-----------------|:---------------------:|\n",
    " | count()         | Contar el n de casos  |\n",
    " | first(), last() | Primer y último item  |\n",
    " | mean(), median()| Media, Mediana        |\n",
    " | min(), max()    | Mínimo y Máximo       |\n",
    " | std(), var()    | Varianza y desvio     |\n",
    " | mad()           | Desviación abs mediana|\n",
    " | prod()          | Producto de los items |\n",
    " | sum()           | Suma de los Casos     |"
   ]
  },
  {
   "cell_type": "markdown",
   "metadata": {},
   "source": [
    "### Calcular la media por grupo"
   ]
  },
  {
   "cell_type": "markdown",
   "metadata": {},
   "source": [
    "![](https://pbpython.com/images/groupby-example.png)"
   ]
  },
  {
   "cell_type": "code",
   "execution_count": 149,
   "metadata": {},
   "outputs": [
    {
     "output_type": "execute_result",
     "data": {
      "text/plain": [
       "               HOGAR_REF_ID  VIVIENDA_REF_ID        NHOG       H05       H06  \\\n",
       "PROP ALGUNBI                                                                   \n",
       "0    2        435113.864097    555295.901826  757.646247  0.000000  0.000000   \n",
       "1    0        603795.279263    758350.461350    1.083014  1.039271  1.822239   \n",
       "     1        475890.517737    604263.872485    1.611616  1.395306  2.553861   \n",
       "2    0        569535.949174    718025.700660    1.119638  1.095484  1.901655   \n",
       "     1        442732.551234    563904.281227    1.654824  1.647719  2.965969   \n",
       "3    0        559084.665088    705990.791135    1.149045  1.042364  1.750542   \n",
       "     1        386821.999877    502532.358022    1.818756  1.153606  2.119053   \n",
       "4    0        580057.614170    730560.250648    1.142436  1.066307  1.854211   \n",
       "     1        486273.088808    620033.500811    1.659773  1.401865  2.655312   \n",
       "5    0        551720.709191    696519.829324    1.064302  1.042400  1.687711   \n",
       "     1        506599.113814    644542.320412    1.241237  1.173608  1.987216   \n",
       "6    0        579696.919786    730355.776753    1.267687  1.132891  2.065646   \n",
       "     1        423470.319004    547341.948710    1.592055  1.434628  2.836051   \n",
       "\n",
       "                   H07       H08       H09       H10       H11  ...       H13  \\\n",
       "PROP ALGUNBI                                                    ...             \n",
       "0    2        0.000000  0.000000  0.000000  0.000000  0.000000  ...  0.000000   \n",
       "1    0        1.082889  1.003570  1.004314  1.000000  1.009212  ...  1.010450   \n",
       "     1        1.435864  1.121133  1.039368  1.246052  0.925698  ...  0.871512   \n",
       "2    0        1.151063  1.009626  1.005916  1.000000  1.036432  ...  1.028520   \n",
       "     1        1.644353  1.239342  1.048616  1.207180  1.073298  ...  0.970456   \n",
       "3    0        1.100054  1.011026  1.006264  1.000000  1.008231  ...  1.047573   \n",
       "     1        1.236850  1.320444  1.018131  1.120678  0.929556  ...  1.461064   \n",
       "4    0        1.121554  1.010869  1.005684  1.000000  1.017362  ...  1.043784   \n",
       "     1        1.424169  1.243715  1.032036  1.172749  0.965126  ...  1.148824   \n",
       "5    0        1.101928  1.006131  1.018673  1.000000  1.004118  ...  1.013618   \n",
       "     1        1.176907  1.130722  1.033814  1.058969  0.966186  ...  1.082887   \n",
       "6    0        1.180896  1.025816  1.013031  1.000000  1.042350  ...  1.077325   \n",
       "     1        1.415357  1.357842  1.094278  1.196561  0.960273  ...  1.198636   \n",
       "\n",
       "                   H14       H15       H16      H19A      H19B      H19C  \\\n",
       "PROP ALGUNBI                                                               \n",
       "0    2        0.000000  0.000000  0.000000  0.000000  0.000000  0.000000   \n",
       "1    0        1.143344  2.215835  3.422187  1.004671  1.289855  1.148475   \n",
       "     1        2.544019  1.796561  2.276011  1.106100  1.570409  1.138871   \n",
       "2    0        1.424118  2.042303  3.086066  1.013619  1.328441  1.144805   \n",
       "     1        3.408003  1.611818  1.882573  1.186612  1.717277  1.169035   \n",
       "3    0        1.222841  1.630145  2.474643  1.023846  1.247552  1.064266   \n",
       "     1        1.848226  1.202873  1.250514  1.302498  1.742838  1.133149   \n",
       "4    0        1.294123  1.809784  2.774609  1.024282  1.399886  1.187314   \n",
       "     1        2.779805  1.367397  1.554745  1.203974  1.669100  1.186131   \n",
       "5    0        1.172782  1.490406  2.165762  1.015771  1.392643  1.098231   \n",
       "     1        1.583918  1.284124  1.444124  1.098969  1.414845  1.106392   \n",
       "6    0        1.655357  2.057656  3.057656  1.032086  1.431741  1.174319   \n",
       "     1        3.123036  1.418025  1.560629  1.217314  1.699674  1.183813   \n",
       "\n",
       "                  H19D    INDHAC   TOTPERS  \n",
       "PROP ALGUNBI                                \n",
       "0    2        0.000000  7.000000  0.000000  \n",
       "1    0        1.062703  2.108658  2.479202  \n",
       "     1        1.484642  4.066083  3.814623  \n",
       "2    0        1.136058  2.301635  2.471577  \n",
       "     1        1.688482  4.586761  4.083396  \n",
       "3    0        1.213467  2.665699  2.295308  \n",
       "     1        1.758541  4.236335  2.464809  \n",
       "4    0        1.158965  2.423597  2.325850  \n",
       "     1        1.647202  4.720195  3.710868  \n",
       "5    0        1.174373  3.384734  2.590416  \n",
       "     1        1.289485  4.657732  3.287010  \n",
       "6    0        1.219805  2.543549  2.676563  \n",
       "     1        1.685147  4.619923  3.601542  \n",
       "\n",
       "[13 rows x 21 columns]"
      ],
      "text/html": "<div>\n<style scoped>\n    .dataframe tbody tr th:only-of-type {\n        vertical-align: middle;\n    }\n\n    .dataframe tbody tr th {\n        vertical-align: top;\n    }\n\n    .dataframe thead th {\n        text-align: right;\n    }\n</style>\n<table border=\"1\" class=\"dataframe\">\n  <thead>\n    <tr style=\"text-align: right;\">\n      <th></th>\n      <th></th>\n      <th>HOGAR_REF_ID</th>\n      <th>VIVIENDA_REF_ID</th>\n      <th>NHOG</th>\n      <th>H05</th>\n      <th>H06</th>\n      <th>H07</th>\n      <th>H08</th>\n      <th>H09</th>\n      <th>H10</th>\n      <th>H11</th>\n      <th>...</th>\n      <th>H13</th>\n      <th>H14</th>\n      <th>H15</th>\n      <th>H16</th>\n      <th>H19A</th>\n      <th>H19B</th>\n      <th>H19C</th>\n      <th>H19D</th>\n      <th>INDHAC</th>\n      <th>TOTPERS</th>\n    </tr>\n    <tr>\n      <th>PROP</th>\n      <th>ALGUNBI</th>\n      <th></th>\n      <th></th>\n      <th></th>\n      <th></th>\n      <th></th>\n      <th></th>\n      <th></th>\n      <th></th>\n      <th></th>\n      <th></th>\n      <th></th>\n      <th></th>\n      <th></th>\n      <th></th>\n      <th></th>\n      <th></th>\n      <th></th>\n      <th></th>\n      <th></th>\n      <th></th>\n      <th></th>\n    </tr>\n  </thead>\n  <tbody>\n    <tr>\n      <th>0</th>\n      <th>2</th>\n      <td>435113.864097</td>\n      <td>555295.901826</td>\n      <td>757.646247</td>\n      <td>0.000000</td>\n      <td>0.000000</td>\n      <td>0.000000</td>\n      <td>0.000000</td>\n      <td>0.000000</td>\n      <td>0.000000</td>\n      <td>0.000000</td>\n      <td>...</td>\n      <td>0.000000</td>\n      <td>0.000000</td>\n      <td>0.000000</td>\n      <td>0.000000</td>\n      <td>0.000000</td>\n      <td>0.000000</td>\n      <td>0.000000</td>\n      <td>0.000000</td>\n      <td>7.000000</td>\n      <td>0.000000</td>\n    </tr>\n    <tr>\n      <th rowspan=\"2\" valign=\"top\">1</th>\n      <th>0</th>\n      <td>603795.279263</td>\n      <td>758350.461350</td>\n      <td>1.083014</td>\n      <td>1.039271</td>\n      <td>1.822239</td>\n      <td>1.082889</td>\n      <td>1.003570</td>\n      <td>1.004314</td>\n      <td>1.000000</td>\n      <td>1.009212</td>\n      <td>...</td>\n      <td>1.010450</td>\n      <td>1.143344</td>\n      <td>2.215835</td>\n      <td>3.422187</td>\n      <td>1.004671</td>\n      <td>1.289855</td>\n      <td>1.148475</td>\n      <td>1.062703</td>\n      <td>2.108658</td>\n      <td>2.479202</td>\n    </tr>\n    <tr>\n      <th>1</th>\n      <td>475890.517737</td>\n      <td>604263.872485</td>\n      <td>1.611616</td>\n      <td>1.395306</td>\n      <td>2.553861</td>\n      <td>1.435864</td>\n      <td>1.121133</td>\n      <td>1.039368</td>\n      <td>1.246052</td>\n      <td>0.925698</td>\n      <td>...</td>\n      <td>0.871512</td>\n      <td>2.544019</td>\n      <td>1.796561</td>\n      <td>2.276011</td>\n      <td>1.106100</td>\n      <td>1.570409</td>\n      <td>1.138871</td>\n      <td>1.484642</td>\n      <td>4.066083</td>\n      <td>3.814623</td>\n    </tr>\n    <tr>\n      <th rowspan=\"2\" valign=\"top\">2</th>\n      <th>0</th>\n      <td>569535.949174</td>\n      <td>718025.700660</td>\n      <td>1.119638</td>\n      <td>1.095484</td>\n      <td>1.901655</td>\n      <td>1.151063</td>\n      <td>1.009626</td>\n      <td>1.005916</td>\n      <td>1.000000</td>\n      <td>1.036432</td>\n      <td>...</td>\n      <td>1.028520</td>\n      <td>1.424118</td>\n      <td>2.042303</td>\n      <td>3.086066</td>\n      <td>1.013619</td>\n      <td>1.328441</td>\n      <td>1.144805</td>\n      <td>1.136058</td>\n      <td>2.301635</td>\n      <td>2.471577</td>\n    </tr>\n    <tr>\n      <th>1</th>\n      <td>442732.551234</td>\n      <td>563904.281227</td>\n      <td>1.654824</td>\n      <td>1.647719</td>\n      <td>2.965969</td>\n      <td>1.644353</td>\n      <td>1.239342</td>\n      <td>1.048616</td>\n      <td>1.207180</td>\n      <td>1.073298</td>\n      <td>...</td>\n      <td>0.970456</td>\n      <td>3.408003</td>\n      <td>1.611818</td>\n      <td>1.882573</td>\n      <td>1.186612</td>\n      <td>1.717277</td>\n      <td>1.169035</td>\n      <td>1.688482</td>\n      <td>4.586761</td>\n      <td>4.083396</td>\n    </tr>\n    <tr>\n      <th rowspan=\"2\" valign=\"top\">3</th>\n      <th>0</th>\n      <td>559084.665088</td>\n      <td>705990.791135</td>\n      <td>1.149045</td>\n      <td>1.042364</td>\n      <td>1.750542</td>\n      <td>1.100054</td>\n      <td>1.011026</td>\n      <td>1.006264</td>\n      <td>1.000000</td>\n      <td>1.008231</td>\n      <td>...</td>\n      <td>1.047573</td>\n      <td>1.222841</td>\n      <td>1.630145</td>\n      <td>2.474643</td>\n      <td>1.023846</td>\n      <td>1.247552</td>\n      <td>1.064266</td>\n      <td>1.213467</td>\n      <td>2.665699</td>\n      <td>2.295308</td>\n    </tr>\n    <tr>\n      <th>1</th>\n      <td>386821.999877</td>\n      <td>502532.358022</td>\n      <td>1.818756</td>\n      <td>1.153606</td>\n      <td>2.119053</td>\n      <td>1.236850</td>\n      <td>1.320444</td>\n      <td>1.018131</td>\n      <td>1.120678</td>\n      <td>0.929556</td>\n      <td>...</td>\n      <td>1.461064</td>\n      <td>1.848226</td>\n      <td>1.202873</td>\n      <td>1.250514</td>\n      <td>1.302498</td>\n      <td>1.742838</td>\n      <td>1.133149</td>\n      <td>1.758541</td>\n      <td>4.236335</td>\n      <td>2.464809</td>\n    </tr>\n    <tr>\n      <th rowspan=\"2\" valign=\"top\">4</th>\n      <th>0</th>\n      <td>580057.614170</td>\n      <td>730560.250648</td>\n      <td>1.142436</td>\n      <td>1.066307</td>\n      <td>1.854211</td>\n      <td>1.121554</td>\n      <td>1.010869</td>\n      <td>1.005684</td>\n      <td>1.000000</td>\n      <td>1.017362</td>\n      <td>...</td>\n      <td>1.043784</td>\n      <td>1.294123</td>\n      <td>1.809784</td>\n      <td>2.774609</td>\n      <td>1.024282</td>\n      <td>1.399886</td>\n      <td>1.187314</td>\n      <td>1.158965</td>\n      <td>2.423597</td>\n      <td>2.325850</td>\n    </tr>\n    <tr>\n      <th>1</th>\n      <td>486273.088808</td>\n      <td>620033.500811</td>\n      <td>1.659773</td>\n      <td>1.401865</td>\n      <td>2.655312</td>\n      <td>1.424169</td>\n      <td>1.243715</td>\n      <td>1.032036</td>\n      <td>1.172749</td>\n      <td>0.965126</td>\n      <td>...</td>\n      <td>1.148824</td>\n      <td>2.779805</td>\n      <td>1.367397</td>\n      <td>1.554745</td>\n      <td>1.203974</td>\n      <td>1.669100</td>\n      <td>1.186131</td>\n      <td>1.647202</td>\n      <td>4.720195</td>\n      <td>3.710868</td>\n    </tr>\n    <tr>\n      <th rowspan=\"2\" valign=\"top\">5</th>\n      <th>0</th>\n      <td>551720.709191</td>\n      <td>696519.829324</td>\n      <td>1.064302</td>\n      <td>1.042400</td>\n      <td>1.687711</td>\n      <td>1.101928</td>\n      <td>1.006131</td>\n      <td>1.018673</td>\n      <td>1.000000</td>\n      <td>1.004118</td>\n      <td>...</td>\n      <td>1.013618</td>\n      <td>1.172782</td>\n      <td>1.490406</td>\n      <td>2.165762</td>\n      <td>1.015771</td>\n      <td>1.392643</td>\n      <td>1.098231</td>\n      <td>1.174373</td>\n      <td>3.384734</td>\n      <td>2.590416</td>\n    </tr>\n    <tr>\n      <th>1</th>\n      <td>506599.113814</td>\n      <td>644542.320412</td>\n      <td>1.241237</td>\n      <td>1.173608</td>\n      <td>1.987216</td>\n      <td>1.176907</td>\n      <td>1.130722</td>\n      <td>1.033814</td>\n      <td>1.058969</td>\n      <td>0.966186</td>\n      <td>...</td>\n      <td>1.082887</td>\n      <td>1.583918</td>\n      <td>1.284124</td>\n      <td>1.444124</td>\n      <td>1.098969</td>\n      <td>1.414845</td>\n      <td>1.106392</td>\n      <td>1.289485</td>\n      <td>4.657732</td>\n      <td>3.287010</td>\n    </tr>\n    <tr>\n      <th rowspan=\"2\" valign=\"top\">6</th>\n      <th>0</th>\n      <td>579696.919786</td>\n      <td>730355.776753</td>\n      <td>1.267687</td>\n      <td>1.132891</td>\n      <td>2.065646</td>\n      <td>1.180896</td>\n      <td>1.025816</td>\n      <td>1.013031</td>\n      <td>1.000000</td>\n      <td>1.042350</td>\n      <td>...</td>\n      <td>1.077325</td>\n      <td>1.655357</td>\n      <td>2.057656</td>\n      <td>3.057656</td>\n      <td>1.032086</td>\n      <td>1.431741</td>\n      <td>1.174319</td>\n      <td>1.219805</td>\n      <td>2.543549</td>\n      <td>2.676563</td>\n    </tr>\n    <tr>\n      <th>1</th>\n      <td>423470.319004</td>\n      <td>547341.948710</td>\n      <td>1.592055</td>\n      <td>1.434628</td>\n      <td>2.836051</td>\n      <td>1.415357</td>\n      <td>1.357842</td>\n      <td>1.094278</td>\n      <td>1.196561</td>\n      <td>0.960273</td>\n      <td>...</td>\n      <td>1.198636</td>\n      <td>3.123036</td>\n      <td>1.418025</td>\n      <td>1.560629</td>\n      <td>1.217314</td>\n      <td>1.699674</td>\n      <td>1.183813</td>\n      <td>1.685147</td>\n      <td>4.619923</td>\n      <td>3.601542</td>\n    </tr>\n  </tbody>\n</table>\n<p>13 rows × 21 columns</p>\n</div>"
     },
     "metadata": {},
     "execution_count": 149
    }
   ],
   "source": [
    "( df_in\n",
    "    .groupby(['PROP','ALGUNBI'])\n",
    "    .mean()\n",
    ")"
   ]
  },
  {
   "cell_type": "markdown",
   "metadata": {},
   "source": [
    "### Calcular medidas resúmenes por grupo\n"
   ]
  },
  {
   "cell_type": "code",
   "execution_count": 150,
   "metadata": {},
   "outputs": [
    {
     "output_type": "execute_result",
     "data": {
      "text/plain": [
       "             TOTPERS                     \n",
       "                 min max      mean median\n",
       "PROP ALGUNBI                             \n",
       "0    2             0   0  0.000000      0\n",
       "1    0             1   8  2.479202      2\n",
       "     1             1   8  3.814623      4\n",
       "2    0             1   8  2.471577      2\n",
       "     1             1   8  4.083396      4\n",
       "3    0             1   8  2.295308      2\n",
       "     1             1   8  2.464809      2\n",
       "4    0             1   8  2.325850      2\n",
       "     1             1   8  3.710868      4\n",
       "5    0             1   8  2.590416      2\n",
       "     1             1   8  3.287010      4\n",
       "6    0             1   8  2.676563      2\n",
       "     1             1   8  3.601542      4"
      ],
      "text/html": "<div>\n<style scoped>\n    .dataframe tbody tr th:only-of-type {\n        vertical-align: middle;\n    }\n\n    .dataframe tbody tr th {\n        vertical-align: top;\n    }\n\n    .dataframe thead tr th {\n        text-align: left;\n    }\n\n    .dataframe thead tr:last-of-type th {\n        text-align: right;\n    }\n</style>\n<table border=\"1\" class=\"dataframe\">\n  <thead>\n    <tr>\n      <th></th>\n      <th></th>\n      <th colspan=\"4\" halign=\"left\">TOTPERS</th>\n    </tr>\n    <tr>\n      <th></th>\n      <th></th>\n      <th>min</th>\n      <th>max</th>\n      <th>mean</th>\n      <th>median</th>\n    </tr>\n    <tr>\n      <th>PROP</th>\n      <th>ALGUNBI</th>\n      <th></th>\n      <th></th>\n      <th></th>\n      <th></th>\n    </tr>\n  </thead>\n  <tbody>\n    <tr>\n      <th>0</th>\n      <th>2</th>\n      <td>0</td>\n      <td>0</td>\n      <td>0.000000</td>\n      <td>0</td>\n    </tr>\n    <tr>\n      <th rowspan=\"2\" valign=\"top\">1</th>\n      <th>0</th>\n      <td>1</td>\n      <td>8</td>\n      <td>2.479202</td>\n      <td>2</td>\n    </tr>\n    <tr>\n      <th>1</th>\n      <td>1</td>\n      <td>8</td>\n      <td>3.814623</td>\n      <td>4</td>\n    </tr>\n    <tr>\n      <th rowspan=\"2\" valign=\"top\">2</th>\n      <th>0</th>\n      <td>1</td>\n      <td>8</td>\n      <td>2.471577</td>\n      <td>2</td>\n    </tr>\n    <tr>\n      <th>1</th>\n      <td>1</td>\n      <td>8</td>\n      <td>4.083396</td>\n      <td>4</td>\n    </tr>\n    <tr>\n      <th rowspan=\"2\" valign=\"top\">3</th>\n      <th>0</th>\n      <td>1</td>\n      <td>8</td>\n      <td>2.295308</td>\n      <td>2</td>\n    </tr>\n    <tr>\n      <th>1</th>\n      <td>1</td>\n      <td>8</td>\n      <td>2.464809</td>\n      <td>2</td>\n    </tr>\n    <tr>\n      <th rowspan=\"2\" valign=\"top\">4</th>\n      <th>0</th>\n      <td>1</td>\n      <td>8</td>\n      <td>2.325850</td>\n      <td>2</td>\n    </tr>\n    <tr>\n      <th>1</th>\n      <td>1</td>\n      <td>8</td>\n      <td>3.710868</td>\n      <td>4</td>\n    </tr>\n    <tr>\n      <th rowspan=\"2\" valign=\"top\">5</th>\n      <th>0</th>\n      <td>1</td>\n      <td>8</td>\n      <td>2.590416</td>\n      <td>2</td>\n    </tr>\n    <tr>\n      <th>1</th>\n      <td>1</td>\n      <td>8</td>\n      <td>3.287010</td>\n      <td>4</td>\n    </tr>\n    <tr>\n      <th rowspan=\"2\" valign=\"top\">6</th>\n      <th>0</th>\n      <td>1</td>\n      <td>8</td>\n      <td>2.676563</td>\n      <td>2</td>\n    </tr>\n    <tr>\n      <th>1</th>\n      <td>1</td>\n      <td>8</td>\n      <td>3.601542</td>\n      <td>4</td>\n    </tr>\n  </tbody>\n</table>\n</div>"
     },
     "metadata": {},
     "execution_count": 150
    }
   ],
   "source": [
    "( df_in[['PROP','ALGUNBI','TOTPERS']]\n",
    "    .groupby(['PROP','ALGUNBI'])\n",
    "    .agg(['min', 'max', 'mean', 'median'])\n",
    ")"
   ]
  },
  {
   "cell_type": "markdown",
   "metadata": {},
   "source": [
    "### Calcular diferentes medidas resúmenes por grupo por variables\n"
   ]
  },
  {
   "cell_type": "code",
   "execution_count": 151,
   "metadata": {},
   "outputs": [
    {
     "output_type": "execute_result",
     "data": {
      "text/plain": [
       "             NHOG         TOTPERS       \n",
       "              min   max      mean median\n",
       "PROP ALGUNBI                            \n",
       "0    2          1  1000  0.000000      0\n",
       "1    0          1    46  2.479202      2\n",
       "     1          1    37  3.814623      4\n",
       "2    0          1    36  2.471577      2\n",
       "     1          1    34  4.083396      4\n",
       "3    0          1    48  2.295308      2\n",
       "     1          1    41  2.464809      2\n",
       "4    0          1    38  2.325850      2\n",
       "     1          1    38  3.710868      4\n",
       "5    0          1    24  2.590416      2\n",
       "     1          1    39  3.287010      4\n",
       "6    0          1    30  2.676563      2\n",
       "     1          1    29  3.601542      4"
      ],
      "text/html": "<div>\n<style scoped>\n    .dataframe tbody tr th:only-of-type {\n        vertical-align: middle;\n    }\n\n    .dataframe tbody tr th {\n        vertical-align: top;\n    }\n\n    .dataframe thead tr th {\n        text-align: left;\n    }\n\n    .dataframe thead tr:last-of-type th {\n        text-align: right;\n    }\n</style>\n<table border=\"1\" class=\"dataframe\">\n  <thead>\n    <tr>\n      <th></th>\n      <th></th>\n      <th colspan=\"2\" halign=\"left\">NHOG</th>\n      <th colspan=\"2\" halign=\"left\">TOTPERS</th>\n    </tr>\n    <tr>\n      <th></th>\n      <th></th>\n      <th>min</th>\n      <th>max</th>\n      <th>mean</th>\n      <th>median</th>\n    </tr>\n    <tr>\n      <th>PROP</th>\n      <th>ALGUNBI</th>\n      <th></th>\n      <th></th>\n      <th></th>\n      <th></th>\n    </tr>\n  </thead>\n  <tbody>\n    <tr>\n      <th>0</th>\n      <th>2</th>\n      <td>1</td>\n      <td>1000</td>\n      <td>0.000000</td>\n      <td>0</td>\n    </tr>\n    <tr>\n      <th rowspan=\"2\" valign=\"top\">1</th>\n      <th>0</th>\n      <td>1</td>\n      <td>46</td>\n      <td>2.479202</td>\n      <td>2</td>\n    </tr>\n    <tr>\n      <th>1</th>\n      <td>1</td>\n      <td>37</td>\n      <td>3.814623</td>\n      <td>4</td>\n    </tr>\n    <tr>\n      <th rowspan=\"2\" valign=\"top\">2</th>\n      <th>0</th>\n      <td>1</td>\n      <td>36</td>\n      <td>2.471577</td>\n      <td>2</td>\n    </tr>\n    <tr>\n      <th>1</th>\n      <td>1</td>\n      <td>34</td>\n      <td>4.083396</td>\n      <td>4</td>\n    </tr>\n    <tr>\n      <th rowspan=\"2\" valign=\"top\">3</th>\n      <th>0</th>\n      <td>1</td>\n      <td>48</td>\n      <td>2.295308</td>\n      <td>2</td>\n    </tr>\n    <tr>\n      <th>1</th>\n      <td>1</td>\n      <td>41</td>\n      <td>2.464809</td>\n      <td>2</td>\n    </tr>\n    <tr>\n      <th rowspan=\"2\" valign=\"top\">4</th>\n      <th>0</th>\n      <td>1</td>\n      <td>38</td>\n      <td>2.325850</td>\n      <td>2</td>\n    </tr>\n    <tr>\n      <th>1</th>\n      <td>1</td>\n      <td>38</td>\n      <td>3.710868</td>\n      <td>4</td>\n    </tr>\n    <tr>\n      <th rowspan=\"2\" valign=\"top\">5</th>\n      <th>0</th>\n      <td>1</td>\n      <td>24</td>\n      <td>2.590416</td>\n      <td>2</td>\n    </tr>\n    <tr>\n      <th>1</th>\n      <td>1</td>\n      <td>39</td>\n      <td>3.287010</td>\n      <td>4</td>\n    </tr>\n    <tr>\n      <th rowspan=\"2\" valign=\"top\">6</th>\n      <th>0</th>\n      <td>1</td>\n      <td>30</td>\n      <td>2.676563</td>\n      <td>2</td>\n    </tr>\n    <tr>\n      <th>1</th>\n      <td>1</td>\n      <td>29</td>\n      <td>3.601542</td>\n      <td>4</td>\n    </tr>\n  </tbody>\n</table>\n</div>"
     },
     "metadata": {},
     "execution_count": 151
    }
   ],
   "source": [
    "( df_in\n",
    "    .groupby(['PROP','ALGUNBI'])\n",
    "    .agg({\n",
    "        'NHOG': ['min', 'max'],\n",
    "        'TOTPERS':['mean', 'median']\n",
    "        })\n",
    ")\n"
   ]
  },
  {
   "cell_type": "markdown",
   "metadata": {},
   "source": [
    "## Funciones Lambdas\n",
    "Funciones anónimas aplicadas a todas las columnas con apply\n"
   ]
  },
  {
   "cell_type": "code",
   "execution_count": 152,
   "metadata": {},
   "outputs": [
    {
     "output_type": "execute_result",
     "data": {
      "text/plain": [
       "HOGAR_REF_ID       1152597\n",
       "VIVIENDA_REF_ID    1152590\n",
       "NHOG                 26224\n",
       "H05                   8179\n",
       "H06                 116010\n",
       "H07                      0\n",
       "H08                   1125\n",
       "H09                   1204\n",
       "H10                      0\n",
       "H11                      0\n",
       "H12                   4579\n",
       "H13                      0\n",
       "H14                  89386\n",
       "H15                 292326\n",
       "H16                 699073\n",
       "H19A                     0\n",
       "H19B                     0\n",
       "H19C                     0\n",
       "H19D                     0\n",
       "PROP                431391\n",
       "INDHAC              558761\n",
       "TOTPERS             456218\n",
       "ALGUNBI                  0\n",
       "dtype: int64"
      ]
     },
     "metadata": {},
     "execution_count": 152
    }
   ],
   "source": [
    "( df_in\n",
    "    .apply(lambda x: x[x > 2]\n",
    "    .count())\n",
    ")"
   ]
  },
  {
   "cell_type": "code",
   "execution_count": 153,
   "metadata": {},
   "outputs": [
    {
     "output_type": "execute_result",
     "data": {
      "text/plain": [
       "         HOGAR_REF_ID  VIVIENDA_REF_ID      NHOG       H05       H06  \\\n",
       "0        8.482363e-09     6.718969e-09  0.004397  0.004490  0.011092   \n",
       "1        5.177925e-10     2.061321e-10  0.000289  0.000150  0.000086   \n",
       "2        7.766888e-10     2.061321e-10  0.000577  0.000150  0.000257   \n",
       "3        3.255996e-07     6.397891e-08  0.199336  0.035137  0.020751   \n",
       "4        3.500505e-07     1.083315e-07  0.018622  0.020665  0.010454   \n",
       "...               ...              ...       ...       ...       ...   \n",
       "1152594  2.984025e-04     2.940338e-04  0.000144  0.000150  0.000172   \n",
       "1152595  2.984028e-04     2.940340e-04  0.000144  0.000150  0.000086   \n",
       "1152596  2.984031e-04     2.940342e-04  0.000144  0.000150  0.000086   \n",
       "1152597  1.074628e-01     1.042104e-01  0.053545       NaN       NaN   \n",
       "1152598  1.074629e-01     1.042105e-01  0.053545       NaN       NaN   \n",
       "\n",
       "              H07       H08       H09       H10       H11  ...       H15  \\\n",
       "0        0.004247  0.004651  0.004594  0.004680  0.004661  ...  0.006280   \n",
       "1        0.000144  0.000156  0.000156  0.000156  0.000155  ...  0.000071   \n",
       "2        0.000144  0.000156  0.000156  0.000156  0.000155  ...  0.000212   \n",
       "3        0.035039  0.036470  0.039888  0.038941  0.042680  ...  0.096339   \n",
       "4        0.041894  0.021834  0.027093  0.024777  0.030874  ...  0.104537   \n",
       "...           ...       ...       ...       ...       ...  ...       ...   \n",
       "1152594  0.000144  0.000156  0.000156  0.000156  0.000155  ...  0.000141   \n",
       "1152595  0.000144  0.000156  0.000156  0.000156  0.000155  ...  0.000071   \n",
       "1152596  0.000144  0.000156  0.000156  0.000156  0.000155  ...  0.000141   \n",
       "1152597       NaN       NaN       NaN       NaN       NaN  ...       NaN   \n",
       "1152598       NaN       NaN       NaN       NaN       NaN  ...       NaN   \n",
       "\n",
       "              H16      H19A      H19B      H19C      H19D      PROP    INDHAC  \\\n",
       "0        0.004322  0.004607  0.006721  0.004261  0.007970  0.004680  0.001383   \n",
       "1        0.000091  0.000156  0.000121  0.000136  0.000147  0.000156  0.000074   \n",
       "2        0.000228  0.000156  0.000121  0.000136  0.000147  0.000156  0.000074   \n",
       "3        0.142776  0.037523  0.029146  0.037272  0.031980  0.041237  0.053121   \n",
       "4        0.094985  0.024355  0.017443  0.050088  0.017593  0.029647  0.006417   \n",
       "...           ...       ...       ...       ...       ...       ...       ...   \n",
       "1152594  0.000137  0.000156  0.000121  0.000136  0.000147  0.000156  0.000074   \n",
       "1152595  0.000091  0.000156  0.000242  0.000272  0.000147  0.000156  0.000074   \n",
       "1152596  0.000137  0.000156  0.000121  0.000136  0.000147  0.000156  0.000222   \n",
       "1152597       NaN       NaN       NaN       NaN       NaN       NaN  0.040568   \n",
       "1152598       NaN       NaN       NaN       NaN       NaN       NaN  0.040568   \n",
       "\n",
       "          TOTPERS   ALGUNBI  \n",
       "0        0.001807       NaN  \n",
       "1        0.000063       NaN  \n",
       "2        0.000126       NaN  \n",
       "3        0.100364  0.041237  \n",
       "4        0.016464  0.029647  \n",
       "...           ...       ...  \n",
       "1152594  0.000063       NaN  \n",
       "1152595  0.000063       NaN  \n",
       "1152596  0.000189       NaN  \n",
       "1152597       NaN  0.040568  \n",
       "1152598       NaN  0.040568  \n",
       "\n",
       "[1152599 rows x 23 columns]"
      ],
      "text/html": "<div>\n<style scoped>\n    .dataframe tbody tr th:only-of-type {\n        vertical-align: middle;\n    }\n\n    .dataframe tbody tr th {\n        vertical-align: top;\n    }\n\n    .dataframe thead th {\n        text-align: right;\n    }\n</style>\n<table border=\"1\" class=\"dataframe\">\n  <thead>\n    <tr style=\"text-align: right;\">\n      <th></th>\n      <th>HOGAR_REF_ID</th>\n      <th>VIVIENDA_REF_ID</th>\n      <th>NHOG</th>\n      <th>H05</th>\n      <th>H06</th>\n      <th>H07</th>\n      <th>H08</th>\n      <th>H09</th>\n      <th>H10</th>\n      <th>H11</th>\n      <th>...</th>\n      <th>H15</th>\n      <th>H16</th>\n      <th>H19A</th>\n      <th>H19B</th>\n      <th>H19C</th>\n      <th>H19D</th>\n      <th>PROP</th>\n      <th>INDHAC</th>\n      <th>TOTPERS</th>\n      <th>ALGUNBI</th>\n    </tr>\n  </thead>\n  <tbody>\n    <tr>\n      <th>0</th>\n      <td>8.482363e-09</td>\n      <td>6.718969e-09</td>\n      <td>0.004397</td>\n      <td>0.004490</td>\n      <td>0.011092</td>\n      <td>0.004247</td>\n      <td>0.004651</td>\n      <td>0.004594</td>\n      <td>0.004680</td>\n      <td>0.004661</td>\n      <td>...</td>\n      <td>0.006280</td>\n      <td>0.004322</td>\n      <td>0.004607</td>\n      <td>0.006721</td>\n      <td>0.004261</td>\n      <td>0.007970</td>\n      <td>0.004680</td>\n      <td>0.001383</td>\n      <td>0.001807</td>\n      <td>NaN</td>\n    </tr>\n    <tr>\n      <th>1</th>\n      <td>5.177925e-10</td>\n      <td>2.061321e-10</td>\n      <td>0.000289</td>\n      <td>0.000150</td>\n      <td>0.000086</td>\n      <td>0.000144</td>\n      <td>0.000156</td>\n      <td>0.000156</td>\n      <td>0.000156</td>\n      <td>0.000155</td>\n      <td>...</td>\n      <td>0.000071</td>\n      <td>0.000091</td>\n      <td>0.000156</td>\n      <td>0.000121</td>\n      <td>0.000136</td>\n      <td>0.000147</td>\n      <td>0.000156</td>\n      <td>0.000074</td>\n      <td>0.000063</td>\n      <td>NaN</td>\n    </tr>\n    <tr>\n      <th>2</th>\n      <td>7.766888e-10</td>\n      <td>2.061321e-10</td>\n      <td>0.000577</td>\n      <td>0.000150</td>\n      <td>0.000257</td>\n      <td>0.000144</td>\n      <td>0.000156</td>\n      <td>0.000156</td>\n      <td>0.000156</td>\n      <td>0.000155</td>\n      <td>...</td>\n      <td>0.000212</td>\n      <td>0.000228</td>\n      <td>0.000156</td>\n      <td>0.000121</td>\n      <td>0.000136</td>\n      <td>0.000147</td>\n      <td>0.000156</td>\n      <td>0.000074</td>\n      <td>0.000126</td>\n      <td>NaN</td>\n    </tr>\n    <tr>\n      <th>3</th>\n      <td>3.255996e-07</td>\n      <td>6.397891e-08</td>\n      <td>0.199336</td>\n      <td>0.035137</td>\n      <td>0.020751</td>\n      <td>0.035039</td>\n      <td>0.036470</td>\n      <td>0.039888</td>\n      <td>0.038941</td>\n      <td>0.042680</td>\n      <td>...</td>\n      <td>0.096339</td>\n      <td>0.142776</td>\n      <td>0.037523</td>\n      <td>0.029146</td>\n      <td>0.037272</td>\n      <td>0.031980</td>\n      <td>0.041237</td>\n      <td>0.053121</td>\n      <td>0.100364</td>\n      <td>0.041237</td>\n    </tr>\n    <tr>\n      <th>4</th>\n      <td>3.500505e-07</td>\n      <td>1.083315e-07</td>\n      <td>0.018622</td>\n      <td>0.020665</td>\n      <td>0.010454</td>\n      <td>0.041894</td>\n      <td>0.021834</td>\n      <td>0.027093</td>\n      <td>0.024777</td>\n      <td>0.030874</td>\n      <td>...</td>\n      <td>0.104537</td>\n      <td>0.094985</td>\n      <td>0.024355</td>\n      <td>0.017443</td>\n      <td>0.050088</td>\n      <td>0.017593</td>\n      <td>0.029647</td>\n      <td>0.006417</td>\n      <td>0.016464</td>\n      <td>0.029647</td>\n    </tr>\n    <tr>\n      <th>...</th>\n      <td>...</td>\n      <td>...</td>\n      <td>...</td>\n      <td>...</td>\n      <td>...</td>\n      <td>...</td>\n      <td>...</td>\n      <td>...</td>\n      <td>...</td>\n      <td>...</td>\n      <td>...</td>\n      <td>...</td>\n      <td>...</td>\n      <td>...</td>\n      <td>...</td>\n      <td>...</td>\n      <td>...</td>\n      <td>...</td>\n      <td>...</td>\n      <td>...</td>\n      <td>...</td>\n    </tr>\n    <tr>\n      <th>1152594</th>\n      <td>2.984025e-04</td>\n      <td>2.940338e-04</td>\n      <td>0.000144</td>\n      <td>0.000150</td>\n      <td>0.000172</td>\n      <td>0.000144</td>\n      <td>0.000156</td>\n      <td>0.000156</td>\n      <td>0.000156</td>\n      <td>0.000155</td>\n      <td>...</td>\n      <td>0.000141</td>\n      <td>0.000137</td>\n      <td>0.000156</td>\n      <td>0.000121</td>\n      <td>0.000136</td>\n      <td>0.000147</td>\n      <td>0.000156</td>\n      <td>0.000074</td>\n      <td>0.000063</td>\n      <td>NaN</td>\n    </tr>\n    <tr>\n      <th>1152595</th>\n      <td>2.984028e-04</td>\n      <td>2.940340e-04</td>\n      <td>0.000144</td>\n      <td>0.000150</td>\n      <td>0.000086</td>\n      <td>0.000144</td>\n      <td>0.000156</td>\n      <td>0.000156</td>\n      <td>0.000156</td>\n      <td>0.000155</td>\n      <td>...</td>\n      <td>0.000071</td>\n      <td>0.000091</td>\n      <td>0.000156</td>\n      <td>0.000242</td>\n      <td>0.000272</td>\n      <td>0.000147</td>\n      <td>0.000156</td>\n      <td>0.000074</td>\n      <td>0.000063</td>\n      <td>NaN</td>\n    </tr>\n    <tr>\n      <th>1152596</th>\n      <td>2.984031e-04</td>\n      <td>2.940342e-04</td>\n      <td>0.000144</td>\n      <td>0.000150</td>\n      <td>0.000086</td>\n      <td>0.000144</td>\n      <td>0.000156</td>\n      <td>0.000156</td>\n      <td>0.000156</td>\n      <td>0.000155</td>\n      <td>...</td>\n      <td>0.000141</td>\n      <td>0.000137</td>\n      <td>0.000156</td>\n      <td>0.000121</td>\n      <td>0.000136</td>\n      <td>0.000147</td>\n      <td>0.000156</td>\n      <td>0.000222</td>\n      <td>0.000189</td>\n      <td>NaN</td>\n    </tr>\n    <tr>\n      <th>1152597</th>\n      <td>1.074628e-01</td>\n      <td>1.042104e-01</td>\n      <td>0.053545</td>\n      <td>NaN</td>\n      <td>NaN</td>\n      <td>NaN</td>\n      <td>NaN</td>\n      <td>NaN</td>\n      <td>NaN</td>\n      <td>NaN</td>\n      <td>...</td>\n      <td>NaN</td>\n      <td>NaN</td>\n      <td>NaN</td>\n      <td>NaN</td>\n      <td>NaN</td>\n      <td>NaN</td>\n      <td>NaN</td>\n      <td>0.040568</td>\n      <td>NaN</td>\n      <td>0.040568</td>\n    </tr>\n    <tr>\n      <th>1152598</th>\n      <td>1.074629e-01</td>\n      <td>1.042105e-01</td>\n      <td>0.053545</td>\n      <td>NaN</td>\n      <td>NaN</td>\n      <td>NaN</td>\n      <td>NaN</td>\n      <td>NaN</td>\n      <td>NaN</td>\n      <td>NaN</td>\n      <td>...</td>\n      <td>NaN</td>\n      <td>NaN</td>\n      <td>NaN</td>\n      <td>NaN</td>\n      <td>NaN</td>\n      <td>NaN</td>\n      <td>NaN</td>\n      <td>0.040568</td>\n      <td>NaN</td>\n      <td>0.040568</td>\n    </tr>\n  </tbody>\n</table>\n<p>1152599 rows × 23 columns</p>\n</div>"
     },
     "metadata": {},
     "execution_count": 153
    }
   ],
   "source": [
    "( df_in\n",
    "    .groupby(['PROP','ALGUNBI'])\n",
    "    .apply(lambda x: (x+0.)/x.sum()*100)\n",
    ")"
   ]
  },
  {
   "cell_type": "markdown",
   "metadata": {},
   "source": [
    "## Having\n",
    "Luego de agrupar y resumir, filtado de filas resultantes\n"
   ]
  },
  {
   "cell_type": "code",
   "execution_count": 154,
   "metadata": {},
   "outputs": [
    {
     "output_type": "execute_result",
     "data": {
      "text/plain": [
       "              TOTPERS\n",
       "PROP ALGUNBI         \n",
       "1    0        1585975\n",
       "     1          35270\n",
       "2    0         165870\n",
       "     1          10919\n",
       "3    0         676774\n",
       "     1         119770\n",
       "4    0          97795\n",
       "5    0          55352\n",
       "6    0          43545\n",
       "     1          12148"
      ],
      "text/html": "<div>\n<style scoped>\n    .dataframe tbody tr th:only-of-type {\n        vertical-align: middle;\n    }\n\n    .dataframe tbody tr th {\n        vertical-align: top;\n    }\n\n    .dataframe thead th {\n        text-align: right;\n    }\n</style>\n<table border=\"1\" class=\"dataframe\">\n  <thead>\n    <tr style=\"text-align: right;\">\n      <th></th>\n      <th></th>\n      <th>TOTPERS</th>\n    </tr>\n    <tr>\n      <th>PROP</th>\n      <th>ALGUNBI</th>\n      <th></th>\n    </tr>\n  </thead>\n  <tbody>\n    <tr>\n      <th rowspan=\"2\" valign=\"top\">1</th>\n      <th>0</th>\n      <td>1585975</td>\n    </tr>\n    <tr>\n      <th>1</th>\n      <td>35270</td>\n    </tr>\n    <tr>\n      <th rowspan=\"2\" valign=\"top\">2</th>\n      <th>0</th>\n      <td>165870</td>\n    </tr>\n    <tr>\n      <th>1</th>\n      <td>10919</td>\n    </tr>\n    <tr>\n      <th rowspan=\"2\" valign=\"top\">3</th>\n      <th>0</th>\n      <td>676774</td>\n    </tr>\n    <tr>\n      <th>1</th>\n      <td>119770</td>\n    </tr>\n    <tr>\n      <th>4</th>\n      <th>0</th>\n      <td>97795</td>\n    </tr>\n    <tr>\n      <th>5</th>\n      <th>0</th>\n      <td>55352</td>\n    </tr>\n    <tr>\n      <th rowspan=\"2\" valign=\"top\">6</th>\n      <th>0</th>\n      <td>43545</td>\n    </tr>\n    <tr>\n      <th>1</th>\n      <td>12148</td>\n    </tr>\n  </tbody>\n</table>\n</div>"
     },
     "metadata": {},
     "execution_count": 154
    }
   ],
   "source": [
    "(\n",
    "    df_in[['PROP','ALGUNBI','TOTPERS']]\n",
    "    .groupby(['PROP','ALGUNBI'])\n",
    "    .sum()\n",
    "    .groupby(['TOTPERS'])\n",
    "    .filter(lambda x: x['TOTPERS'] > 10000)\n",
    ")"
   ]
  },
  {
   "cell_type": "markdown",
   "metadata": {},
   "source": [
    "## Top 1 de un grupo\n",
    "últil para extraer los primeros casos de cada grupo que cumplen una condición\n"
   ]
  },
  {
   "cell_type": "code",
   "execution_count": 155,
   "metadata": {},
   "outputs": [
    {
     "output_type": "execute_result",
     "data": {
      "text/plain": [
       "        PROP  ALGUNBI  TOTPERS\n",
       "199325     1        0        8\n",
       "722844     3        1        8\n",
       "722841     3        0        8\n",
       "722831     6        0        8\n",
       "555723     2        0        8\n",
       "555729     1        1        8\n",
       "556037     4        0        8\n",
       "555644     2        1        8\n",
       "555127     4        1        8\n",
       "271727     5        0        8\n",
       "555624     6        1        8\n",
       "863016     5        1        8\n",
       "924331     0        2        0"
      ],
      "text/html": "<div>\n<style scoped>\n    .dataframe tbody tr th:only-of-type {\n        vertical-align: middle;\n    }\n\n    .dataframe tbody tr th {\n        vertical-align: top;\n    }\n\n    .dataframe thead th {\n        text-align: right;\n    }\n</style>\n<table border=\"1\" class=\"dataframe\">\n  <thead>\n    <tr style=\"text-align: right;\">\n      <th></th>\n      <th>PROP</th>\n      <th>ALGUNBI</th>\n      <th>TOTPERS</th>\n    </tr>\n  </thead>\n  <tbody>\n    <tr>\n      <th>199325</th>\n      <td>1</td>\n      <td>0</td>\n      <td>8</td>\n    </tr>\n    <tr>\n      <th>722844</th>\n      <td>3</td>\n      <td>1</td>\n      <td>8</td>\n    </tr>\n    <tr>\n      <th>722841</th>\n      <td>3</td>\n      <td>0</td>\n      <td>8</td>\n    </tr>\n    <tr>\n      <th>722831</th>\n      <td>6</td>\n      <td>0</td>\n      <td>8</td>\n    </tr>\n    <tr>\n      <th>555723</th>\n      <td>2</td>\n      <td>0</td>\n      <td>8</td>\n    </tr>\n    <tr>\n      <th>555729</th>\n      <td>1</td>\n      <td>1</td>\n      <td>8</td>\n    </tr>\n    <tr>\n      <th>556037</th>\n      <td>4</td>\n      <td>0</td>\n      <td>8</td>\n    </tr>\n    <tr>\n      <th>555644</th>\n      <td>2</td>\n      <td>1</td>\n      <td>8</td>\n    </tr>\n    <tr>\n      <th>555127</th>\n      <td>4</td>\n      <td>1</td>\n      <td>8</td>\n    </tr>\n    <tr>\n      <th>271727</th>\n      <td>5</td>\n      <td>0</td>\n      <td>8</td>\n    </tr>\n    <tr>\n      <th>555624</th>\n      <td>6</td>\n      <td>1</td>\n      <td>8</td>\n    </tr>\n    <tr>\n      <th>863016</th>\n      <td>5</td>\n      <td>1</td>\n      <td>8</td>\n    </tr>\n    <tr>\n      <th>924331</th>\n      <td>0</td>\n      <td>2</td>\n      <td>0</td>\n    </tr>\n  </tbody>\n</table>\n</div>"
     },
     "metadata": {},
     "execution_count": 155
    }
   ],
   "source": [
    "(df_in[['PROP','ALGUNBI','TOTPERS']]\n",
    "    .sort_values('TOTPERS', ascending=False)\n",
    "    .groupby(['PROP','ALGUNBI'])\n",
    "    .head(1)\n",
    ")\n"
   ]
  },
  {
   "cell_type": "markdown",
   "metadata": {},
   "source": [
    "## Agregar Filas y Columnas"
   ]
  },
  {
   "cell_type": "markdown",
   "metadata": {},
   "source": [
    "### Agregar Columnas\n"
   ]
  },
  {
   "cell_type": "code",
   "execution_count": 156,
   "metadata": {},
   "outputs": [
    {
     "output_type": "execute_result",
     "data": {
      "text/plain": [
       "         PROP  INDHAC\n",
       "0           5       1\n",
       "1           1       1\n",
       "2           1       1\n",
       "3           5       6\n",
       "4           6       1\n",
       "...       ...     ...\n",
       "1152594     1       1\n",
       "1152595     1       1\n",
       "1152596     1       3\n",
       "1152597     0       7\n",
       "1152598     0       7\n",
       "\n",
       "[1152599 rows x 2 columns]"
      ],
      "text/html": "<div>\n<style scoped>\n    .dataframe tbody tr th:only-of-type {\n        vertical-align: middle;\n    }\n\n    .dataframe tbody tr th {\n        vertical-align: top;\n    }\n\n    .dataframe thead th {\n        text-align: right;\n    }\n</style>\n<table border=\"1\" class=\"dataframe\">\n  <thead>\n    <tr style=\"text-align: right;\">\n      <th></th>\n      <th>PROP</th>\n      <th>INDHAC</th>\n    </tr>\n  </thead>\n  <tbody>\n    <tr>\n      <th>0</th>\n      <td>5</td>\n      <td>1</td>\n    </tr>\n    <tr>\n      <th>1</th>\n      <td>1</td>\n      <td>1</td>\n    </tr>\n    <tr>\n      <th>2</th>\n      <td>1</td>\n      <td>1</td>\n    </tr>\n    <tr>\n      <th>3</th>\n      <td>5</td>\n      <td>6</td>\n    </tr>\n    <tr>\n      <th>4</th>\n      <td>6</td>\n      <td>1</td>\n    </tr>\n    <tr>\n      <th>...</th>\n      <td>...</td>\n      <td>...</td>\n    </tr>\n    <tr>\n      <th>1152594</th>\n      <td>1</td>\n      <td>1</td>\n    </tr>\n    <tr>\n      <th>1152595</th>\n      <td>1</td>\n      <td>1</td>\n    </tr>\n    <tr>\n      <th>1152596</th>\n      <td>1</td>\n      <td>3</td>\n    </tr>\n    <tr>\n      <th>1152597</th>\n      <td>0</td>\n      <td>7</td>\n    </tr>\n    <tr>\n      <th>1152598</th>\n      <td>0</td>\n      <td>7</td>\n    </tr>\n  </tbody>\n</table>\n<p>1152599 rows × 2 columns</p>\n</div>"
     },
     "metadata": {},
     "execution_count": 156
    }
   ],
   "source": [
    "\n",
    "df_1 = df_in[['PROP', 'INDHAC']]\n",
    "df_1"
   ]
  },
  {
   "cell_type": "code",
   "execution_count": 157,
   "metadata": {},
   "outputs": [
    {
     "output_type": "execute_result",
     "data": {
      "text/plain": [
       "         TOTPERS  ALGUNBI\n",
       "0              1        0\n",
       "1              1        0\n",
       "2              2        0\n",
       "3              8        1\n",
       "4              2        1\n",
       "...          ...      ...\n",
       "1152594        1        0\n",
       "1152595        1        0\n",
       "1152596        3        0\n",
       "1152597        0        2\n",
       "1152598        0        2\n",
       "\n",
       "[1152599 rows x 2 columns]"
      ],
      "text/html": "<div>\n<style scoped>\n    .dataframe tbody tr th:only-of-type {\n        vertical-align: middle;\n    }\n\n    .dataframe tbody tr th {\n        vertical-align: top;\n    }\n\n    .dataframe thead th {\n        text-align: right;\n    }\n</style>\n<table border=\"1\" class=\"dataframe\">\n  <thead>\n    <tr style=\"text-align: right;\">\n      <th></th>\n      <th>TOTPERS</th>\n      <th>ALGUNBI</th>\n    </tr>\n  </thead>\n  <tbody>\n    <tr>\n      <th>0</th>\n      <td>1</td>\n      <td>0</td>\n    </tr>\n    <tr>\n      <th>1</th>\n      <td>1</td>\n      <td>0</td>\n    </tr>\n    <tr>\n      <th>2</th>\n      <td>2</td>\n      <td>0</td>\n    </tr>\n    <tr>\n      <th>3</th>\n      <td>8</td>\n      <td>1</td>\n    </tr>\n    <tr>\n      <th>4</th>\n      <td>2</td>\n      <td>1</td>\n    </tr>\n    <tr>\n      <th>...</th>\n      <td>...</td>\n      <td>...</td>\n    </tr>\n    <tr>\n      <th>1152594</th>\n      <td>1</td>\n      <td>0</td>\n    </tr>\n    <tr>\n      <th>1152595</th>\n      <td>1</td>\n      <td>0</td>\n    </tr>\n    <tr>\n      <th>1152596</th>\n      <td>3</td>\n      <td>0</td>\n    </tr>\n    <tr>\n      <th>1152597</th>\n      <td>0</td>\n      <td>2</td>\n    </tr>\n    <tr>\n      <th>1152598</th>\n      <td>0</td>\n      <td>2</td>\n    </tr>\n  </tbody>\n</table>\n<p>1152599 rows × 2 columns</p>\n</div>"
     },
     "metadata": {},
     "execution_count": 157
    }
   ],
   "source": [
    "df_2 = df_in[['TOTPERS', 'ALGUNBI']]\n",
    "df_2"
   ]
  },
  {
   "cell_type": "code",
   "execution_count": 158,
   "metadata": {},
   "outputs": [
    {
     "output_type": "execute_result",
     "data": {
      "text/plain": [
       "         PROP  INDHAC  TOTPERS  ALGUNBI\n",
       "0           5       1        1        0\n",
       "1           1       1        1        0\n",
       "2           1       1        2        0\n",
       "3           5       6        8        1\n",
       "4           6       1        2        1\n",
       "...       ...     ...      ...      ...\n",
       "1152594     1       1        1        0\n",
       "1152595     1       1        1        0\n",
       "1152596     1       3        3        0\n",
       "1152597     0       7        0        2\n",
       "1152598     0       7        0        2\n",
       "\n",
       "[1152599 rows x 4 columns]"
      ],
      "text/html": "<div>\n<style scoped>\n    .dataframe tbody tr th:only-of-type {\n        vertical-align: middle;\n    }\n\n    .dataframe tbody tr th {\n        vertical-align: top;\n    }\n\n    .dataframe thead th {\n        text-align: right;\n    }\n</style>\n<table border=\"1\" class=\"dataframe\">\n  <thead>\n    <tr style=\"text-align: right;\">\n      <th></th>\n      <th>PROP</th>\n      <th>INDHAC</th>\n      <th>TOTPERS</th>\n      <th>ALGUNBI</th>\n    </tr>\n  </thead>\n  <tbody>\n    <tr>\n      <th>0</th>\n      <td>5</td>\n      <td>1</td>\n      <td>1</td>\n      <td>0</td>\n    </tr>\n    <tr>\n      <th>1</th>\n      <td>1</td>\n      <td>1</td>\n      <td>1</td>\n      <td>0</td>\n    </tr>\n    <tr>\n      <th>2</th>\n      <td>1</td>\n      <td>1</td>\n      <td>2</td>\n      <td>0</td>\n    </tr>\n    <tr>\n      <th>3</th>\n      <td>5</td>\n      <td>6</td>\n      <td>8</td>\n      <td>1</td>\n    </tr>\n    <tr>\n      <th>4</th>\n      <td>6</td>\n      <td>1</td>\n      <td>2</td>\n      <td>1</td>\n    </tr>\n    <tr>\n      <th>...</th>\n      <td>...</td>\n      <td>...</td>\n      <td>...</td>\n      <td>...</td>\n    </tr>\n    <tr>\n      <th>1152594</th>\n      <td>1</td>\n      <td>1</td>\n      <td>1</td>\n      <td>0</td>\n    </tr>\n    <tr>\n      <th>1152595</th>\n      <td>1</td>\n      <td>1</td>\n      <td>1</td>\n      <td>0</td>\n    </tr>\n    <tr>\n      <th>1152596</th>\n      <td>1</td>\n      <td>3</td>\n      <td>3</td>\n      <td>0</td>\n    </tr>\n    <tr>\n      <th>1152597</th>\n      <td>0</td>\n      <td>7</td>\n      <td>0</td>\n      <td>2</td>\n    </tr>\n    <tr>\n      <th>1152598</th>\n      <td>0</td>\n      <td>7</td>\n      <td>0</td>\n      <td>2</td>\n    </tr>\n  </tbody>\n</table>\n<p>1152599 rows × 4 columns</p>\n</div>"
     },
     "metadata": {},
     "execution_count": 158
    }
   ],
   "source": [
    "df = pd.concat([df_1,df_2],axis=1,sort=False)\n",
    "df"
   ]
  },
  {
   "cell_type": "markdown",
   "metadata": {},
   "source": [
    "### Agregar Filas"
   ]
  },
  {
   "cell_type": "code",
   "execution_count": 159,
   "metadata": {},
   "outputs": [
    {
     "output_type": "execute_result",
     "data": {
      "text/plain": [
       "   PROP  INDHAC\n",
       "0     5       1\n",
       "1     1       1\n",
       "2     1       1"
      ],
      "text/html": "<div>\n<style scoped>\n    .dataframe tbody tr th:only-of-type {\n        vertical-align: middle;\n    }\n\n    .dataframe tbody tr th {\n        vertical-align: top;\n    }\n\n    .dataframe thead th {\n        text-align: right;\n    }\n</style>\n<table border=\"1\" class=\"dataframe\">\n  <thead>\n    <tr style=\"text-align: right;\">\n      <th></th>\n      <th>PROP</th>\n      <th>INDHAC</th>\n    </tr>\n  </thead>\n  <tbody>\n    <tr>\n      <th>0</th>\n      <td>5</td>\n      <td>1</td>\n    </tr>\n    <tr>\n      <th>1</th>\n      <td>1</td>\n      <td>1</td>\n    </tr>\n    <tr>\n      <th>2</th>\n      <td>1</td>\n      <td>1</td>\n    </tr>\n  </tbody>\n</table>\n</div>"
     },
     "metadata": {},
     "execution_count": 159
    }
   ],
   "source": [
    "df_1 = df_in.iloc[0:3][['PROP', 'INDHAC']]\n",
    "df_1"
   ]
  },
  {
   "cell_type": "code",
   "execution_count": 160,
   "metadata": {},
   "outputs": [
    {
     "output_type": "execute_result",
     "data": {
      "text/plain": [
       "   PROP  INDHAC\n",
       "3     5       6\n",
       "4     6       1\n",
       "5     5       1"
      ],
      "text/html": "<div>\n<style scoped>\n    .dataframe tbody tr th:only-of-type {\n        vertical-align: middle;\n    }\n\n    .dataframe tbody tr th {\n        vertical-align: top;\n    }\n\n    .dataframe thead th {\n        text-align: right;\n    }\n</style>\n<table border=\"1\" class=\"dataframe\">\n  <thead>\n    <tr style=\"text-align: right;\">\n      <th></th>\n      <th>PROP</th>\n      <th>INDHAC</th>\n    </tr>\n  </thead>\n  <tbody>\n    <tr>\n      <th>3</th>\n      <td>5</td>\n      <td>6</td>\n    </tr>\n    <tr>\n      <th>4</th>\n      <td>6</td>\n      <td>1</td>\n    </tr>\n    <tr>\n      <th>5</th>\n      <td>5</td>\n      <td>1</td>\n    </tr>\n  </tbody>\n</table>\n</div>"
     },
     "metadata": {},
     "execution_count": 160
    }
   ],
   "source": [
    "df_2 = df_in.iloc[3:6][['PROP', 'INDHAC']]\n",
    "df_2\n"
   ]
  },
  {
   "cell_type": "markdown",
   "metadata": {},
   "source": [
    "#### Opción 1"
   ]
  },
  {
   "cell_type": "code",
   "execution_count": 161,
   "metadata": {},
   "outputs": [
    {
     "output_type": "execute_result",
     "data": {
      "text/plain": [
       "   PROP  INDHAC\n",
       "0     5       1\n",
       "1     1       1\n",
       "2     1       1\n",
       "3     5       6\n",
       "4     6       1\n",
       "5     5       1"
      ],
      "text/html": "<div>\n<style scoped>\n    .dataframe tbody tr th:only-of-type {\n        vertical-align: middle;\n    }\n\n    .dataframe tbody tr th {\n        vertical-align: top;\n    }\n\n    .dataframe thead th {\n        text-align: right;\n    }\n</style>\n<table border=\"1\" class=\"dataframe\">\n  <thead>\n    <tr style=\"text-align: right;\">\n      <th></th>\n      <th>PROP</th>\n      <th>INDHAC</th>\n    </tr>\n  </thead>\n  <tbody>\n    <tr>\n      <th>0</th>\n      <td>5</td>\n      <td>1</td>\n    </tr>\n    <tr>\n      <th>1</th>\n      <td>1</td>\n      <td>1</td>\n    </tr>\n    <tr>\n      <th>2</th>\n      <td>1</td>\n      <td>1</td>\n    </tr>\n    <tr>\n      <th>3</th>\n      <td>5</td>\n      <td>6</td>\n    </tr>\n    <tr>\n      <th>4</th>\n      <td>6</td>\n      <td>1</td>\n    </tr>\n    <tr>\n      <th>5</th>\n      <td>5</td>\n      <td>1</td>\n    </tr>\n  </tbody>\n</table>\n</div>"
     },
     "metadata": {},
     "execution_count": 161
    }
   ],
   "source": [
    "df = pd.concat([df_1,df_2],axis=0,sort=False)\n",
    "df"
   ]
  },
  {
   "cell_type": "markdown",
   "metadata": {},
   "source": [
    "#### Opción 2"
   ]
  },
  {
   "cell_type": "code",
   "execution_count": 162,
   "metadata": {},
   "outputs": [
    {
     "output_type": "execute_result",
     "data": {
      "text/plain": [
       "   PROP  INDHAC\n",
       "0     5       1\n",
       "1     1       1\n",
       "2     1       1\n",
       "3     5       6\n",
       "4     6       1\n",
       "5     5       1"
      ],
      "text/html": "<div>\n<style scoped>\n    .dataframe tbody tr th:only-of-type {\n        vertical-align: middle;\n    }\n\n    .dataframe tbody tr th {\n        vertical-align: top;\n    }\n\n    .dataframe thead th {\n        text-align: right;\n    }\n</style>\n<table border=\"1\" class=\"dataframe\">\n  <thead>\n    <tr style=\"text-align: right;\">\n      <th></th>\n      <th>PROP</th>\n      <th>INDHAC</th>\n    </tr>\n  </thead>\n  <tbody>\n    <tr>\n      <th>0</th>\n      <td>5</td>\n      <td>1</td>\n    </tr>\n    <tr>\n      <th>1</th>\n      <td>1</td>\n      <td>1</td>\n    </tr>\n    <tr>\n      <th>2</th>\n      <td>1</td>\n      <td>1</td>\n    </tr>\n    <tr>\n      <th>3</th>\n      <td>5</td>\n      <td>6</td>\n    </tr>\n    <tr>\n      <th>4</th>\n      <td>6</td>\n      <td>1</td>\n    </tr>\n    <tr>\n      <th>5</th>\n      <td>5</td>\n      <td>1</td>\n    </tr>\n  </tbody>\n</table>\n</div>"
     },
     "metadata": {},
     "execution_count": 162
    }
   ],
   "source": [
    "df = df_1.append([df_2])\n",
    "df"
   ]
  },
  {
   "cell_type": "markdown",
   "metadata": {},
   "source": [
    "## Transform"
   ]
  },
  {
   "cell_type": "markdown",
   "metadata": {},
   "source": [
    "![](https://pbpython.com/images/transform-example.png)"
   ]
  },
  {
   "cell_type": "code",
   "execution_count": 163,
   "metadata": {},
   "outputs": [
    {
     "output_type": "execute_result",
     "data": {
      "text/plain": [
       "          TOTPERS\n",
       "0       -0.954643\n",
       "1       -0.817160\n",
       "2        0.182840\n",
       "3        6.052921\n",
       "4        0.200861\n",
       "...           ...\n",
       "1152594 -0.817160\n",
       "1152595 -0.817160\n",
       "1152596  1.182840\n",
       "1152597       NaN\n",
       "1152598       NaN\n",
       "\n",
       "[1152599 rows x 1 columns]"
      ],
      "text/html": "<div>\n<style scoped>\n    .dataframe tbody tr th:only-of-type {\n        vertical-align: middle;\n    }\n\n    .dataframe tbody tr th {\n        vertical-align: top;\n    }\n\n    .dataframe thead th {\n        text-align: right;\n    }\n</style>\n<table border=\"1\" class=\"dataframe\">\n  <thead>\n    <tr style=\"text-align: right;\">\n      <th></th>\n      <th>TOTPERS</th>\n    </tr>\n  </thead>\n  <tbody>\n    <tr>\n      <th>0</th>\n      <td>-0.954643</td>\n    </tr>\n    <tr>\n      <th>1</th>\n      <td>-0.817160</td>\n    </tr>\n    <tr>\n      <th>2</th>\n      <td>0.182840</td>\n    </tr>\n    <tr>\n      <th>3</th>\n      <td>6.052921</td>\n    </tr>\n    <tr>\n      <th>4</th>\n      <td>0.200861</td>\n    </tr>\n    <tr>\n      <th>...</th>\n      <td>...</td>\n    </tr>\n    <tr>\n      <th>1152594</th>\n      <td>-0.817160</td>\n    </tr>\n    <tr>\n      <th>1152595</th>\n      <td>-0.817160</td>\n    </tr>\n    <tr>\n      <th>1152596</th>\n      <td>1.182840</td>\n    </tr>\n    <tr>\n      <th>1152597</th>\n      <td>NaN</td>\n    </tr>\n    <tr>\n      <th>1152598</th>\n      <td>NaN</td>\n    </tr>\n  </tbody>\n</table>\n<p>1152599 rows × 1 columns</p>\n</div>"
     },
     "metadata": {},
     "execution_count": 163
    }
   ],
   "source": [
    "( df_in[['PROP','ALGUNBI','TOTPERS']]\n",
    "    .groupby(['PROP','ALGUNBI'])\n",
    "    .transform(lambda x: x-x.mean()/x.std())\n",
    ")\n",
    "\n"
   ]
  },
  {
   "cell_type": "markdown",
   "metadata": {},
   "source": [
    "## Multi-Índices"
   ]
  },
  {
   "cell_type": "code",
   "execution_count": 164,
   "metadata": {},
   "outputs": [
    {
     "output_type": "execute_result",
     "data": {
      "text/plain": [
       "               TOTPERS\n",
       "PROP ALGUNBI          \n",
       "0    2        0.000000\n",
       "1    0        2.479202\n",
       "     1        3.814623\n",
       "2    0        2.471577\n",
       "     1        4.083396\n",
       "3    0        2.295308\n",
       "     1        2.464809\n",
       "4    0        2.325850\n",
       "     1        3.710868\n",
       "5    0        2.590416\n",
       "     1        3.287010\n",
       "6    0        2.676563\n",
       "     1        3.601542"
      ],
      "text/html": "<div>\n<style scoped>\n    .dataframe tbody tr th:only-of-type {\n        vertical-align: middle;\n    }\n\n    .dataframe tbody tr th {\n        vertical-align: top;\n    }\n\n    .dataframe thead th {\n        text-align: right;\n    }\n</style>\n<table border=\"1\" class=\"dataframe\">\n  <thead>\n    <tr style=\"text-align: right;\">\n      <th></th>\n      <th></th>\n      <th>TOTPERS</th>\n    </tr>\n    <tr>\n      <th>PROP</th>\n      <th>ALGUNBI</th>\n      <th></th>\n    </tr>\n  </thead>\n  <tbody>\n    <tr>\n      <th>0</th>\n      <th>2</th>\n      <td>0.000000</td>\n    </tr>\n    <tr>\n      <th rowspan=\"2\" valign=\"top\">1</th>\n      <th>0</th>\n      <td>2.479202</td>\n    </tr>\n    <tr>\n      <th>1</th>\n      <td>3.814623</td>\n    </tr>\n    <tr>\n      <th rowspan=\"2\" valign=\"top\">2</th>\n      <th>0</th>\n      <td>2.471577</td>\n    </tr>\n    <tr>\n      <th>1</th>\n      <td>4.083396</td>\n    </tr>\n    <tr>\n      <th rowspan=\"2\" valign=\"top\">3</th>\n      <th>0</th>\n      <td>2.295308</td>\n    </tr>\n    <tr>\n      <th>1</th>\n      <td>2.464809</td>\n    </tr>\n    <tr>\n      <th rowspan=\"2\" valign=\"top\">4</th>\n      <th>0</th>\n      <td>2.325850</td>\n    </tr>\n    <tr>\n      <th>1</th>\n      <td>3.710868</td>\n    </tr>\n    <tr>\n      <th rowspan=\"2\" valign=\"top\">5</th>\n      <th>0</th>\n      <td>2.590416</td>\n    </tr>\n    <tr>\n      <th>1</th>\n      <td>3.287010</td>\n    </tr>\n    <tr>\n      <th rowspan=\"2\" valign=\"top\">6</th>\n      <th>0</th>\n      <td>2.676563</td>\n    </tr>\n    <tr>\n      <th>1</th>\n      <td>3.601542</td>\n    </tr>\n  </tbody>\n</table>\n</div>"
     },
     "metadata": {},
     "execution_count": 164
    }
   ],
   "source": [
    "df = ( df_in[['PROP','ALGUNBI','TOTPERS']]\n",
    "    .groupby(['PROP','ALGUNBI'])\n",
    "    .mean()\n",
    ")\n",
    "df"
   ]
  },
  {
   "cell_type": "code",
   "execution_count": 165,
   "metadata": {},
   "outputs": [
    {
     "output_type": "execute_result",
     "data": {
      "text/plain": [
       "MultiIndex([(0, 2),\n",
       "            (1, 0),\n",
       "            (1, 1),\n",
       "            (2, 0),\n",
       "            (2, 1),\n",
       "            (3, 0),\n",
       "            (3, 1),\n",
       "            (4, 0),\n",
       "            (4, 1),\n",
       "            (5, 0),\n",
       "            (5, 1),\n",
       "            (6, 0),\n",
       "            (6, 1)],\n",
       "           names=['PROP', 'ALGUNBI'])"
      ]
     },
     "metadata": {},
     "execution_count": 165
    }
   ],
   "source": [
    "df.index"
   ]
  },
  {
   "cell_type": "markdown",
   "metadata": {},
   "source": [
    "## Pivot Table"
   ]
  },
  {
   "cell_type": "markdown",
   "metadata": {},
   "source": [
    "![](https://pbpython.com/images/pivot-table-datasheet.png)"
   ]
  },
  {
   "cell_type": "markdown",
   "metadata": {},
   "source": [
    "## CrossTabs\n"
   ]
  },
  {
   "cell_type": "markdown",
   "metadata": {},
   "source": [
    "![](https://pbpython.com/images/crosstab_cheatsheet.png)"
   ]
  },
  {
   "cell_type": "markdown",
   "metadata": {},
   "source": [
    "## Stack\n",
    "![](https://pandas.pydata.org/pandas-docs/stable/_images/reshaping_stack.png)"
   ]
  },
  {
   "cell_type": "markdown",
   "metadata": {},
   "source": [
    "## Unstack\n",
    "![](https://pandas.pydata.org/pandas-docs/stable/_images/reshaping_unstack.png)"
   ]
  },
  {
   "cell_type": "code",
   "execution_count": 166,
   "metadata": {},
   "outputs": [
    {
     "output_type": "execute_result",
     "data": {
      "text/plain": [
       "          TOTPERS               \n",
       "ALGUNBI         0         1    2\n",
       "PROP                            \n",
       "0             NaN       NaN  0.0\n",
       "1        2.479202  3.814623  NaN\n",
       "2        2.471577  4.083396  NaN\n",
       "3        2.295308  2.464809  NaN\n",
       "4        2.325850  3.710868  NaN\n",
       "5        2.590416  3.287010  NaN\n",
       "6        2.676563  3.601542  NaN"
      ],
      "text/html": "<div>\n<style scoped>\n    .dataframe tbody tr th:only-of-type {\n        vertical-align: middle;\n    }\n\n    .dataframe tbody tr th {\n        vertical-align: top;\n    }\n\n    .dataframe thead tr th {\n        text-align: left;\n    }\n\n    .dataframe thead tr:last-of-type th {\n        text-align: right;\n    }\n</style>\n<table border=\"1\" class=\"dataframe\">\n  <thead>\n    <tr>\n      <th></th>\n      <th colspan=\"3\" halign=\"left\">TOTPERS</th>\n    </tr>\n    <tr>\n      <th>ALGUNBI</th>\n      <th>0</th>\n      <th>1</th>\n      <th>2</th>\n    </tr>\n    <tr>\n      <th>PROP</th>\n      <th></th>\n      <th></th>\n      <th></th>\n    </tr>\n  </thead>\n  <tbody>\n    <tr>\n      <th>0</th>\n      <td>NaN</td>\n      <td>NaN</td>\n      <td>0.0</td>\n    </tr>\n    <tr>\n      <th>1</th>\n      <td>2.479202</td>\n      <td>3.814623</td>\n      <td>NaN</td>\n    </tr>\n    <tr>\n      <th>2</th>\n      <td>2.471577</td>\n      <td>4.083396</td>\n      <td>NaN</td>\n    </tr>\n    <tr>\n      <th>3</th>\n      <td>2.295308</td>\n      <td>2.464809</td>\n      <td>NaN</td>\n    </tr>\n    <tr>\n      <th>4</th>\n      <td>2.325850</td>\n      <td>3.710868</td>\n      <td>NaN</td>\n    </tr>\n    <tr>\n      <th>5</th>\n      <td>2.590416</td>\n      <td>3.287010</td>\n      <td>NaN</td>\n    </tr>\n    <tr>\n      <th>6</th>\n      <td>2.676563</td>\n      <td>3.601542</td>\n      <td>NaN</td>\n    </tr>\n  </tbody>\n</table>\n</div>"
     },
     "metadata": {},
     "execution_count": 166
    }
   ],
   "source": [
    "df = ( df_in[['PROP','ALGUNBI','TOTPERS']]\n",
    "    .groupby(['PROP','ALGUNBI'])\n",
    "    .mean()\n",
    ")\n",
    "df.unstack()"
   ]
  },
  {
   "cell_type": "markdown",
   "metadata": {},
   "source": [
    "![](https://pandas.pydata.org/pandas-docs/stable/_images/reshaping_unstack_1.png)"
   ]
  },
  {
   "cell_type": "markdown",
   "metadata": {},
   "source": [
    "![](https://pandas.pydata.org/pandas-docs/stable/_images/reshaping_unstack_0.png)"
   ]
  },
  {
   "source": [
    "# Joins"
   ],
   "cell_type": "markdown",
   "metadata": {}
  },
  {
   "source": [
    "## Tablas a Unir"
   ],
   "cell_type": "markdown",
   "metadata": {}
  },
  {
   "source": [
    "![](notas_files/join-setup_1.png)"
   ],
   "cell_type": "markdown",
   "metadata": {}
  },
  {
   "cell_type": "code",
   "execution_count": 168,
   "metadata": {},
   "outputs": [
    {
     "output_type": "execute_result",
     "data": {
      "text/plain": [
       "   key value\n",
       "0    1    x1\n",
       "1    2    x2\n",
       "2    3    x3"
      ],
      "text/html": "<div>\n<style scoped>\n    .dataframe tbody tr th:only-of-type {\n        vertical-align: middle;\n    }\n\n    .dataframe tbody tr th {\n        vertical-align: top;\n    }\n\n    .dataframe thead th {\n        text-align: right;\n    }\n</style>\n<table border=\"1\" class=\"dataframe\">\n  <thead>\n    <tr style=\"text-align: right;\">\n      <th></th>\n      <th>key</th>\n      <th>value</th>\n    </tr>\n  </thead>\n  <tbody>\n    <tr>\n      <th>0</th>\n      <td>1</td>\n      <td>x1</td>\n    </tr>\n    <tr>\n      <th>1</th>\n      <td>2</td>\n      <td>x2</td>\n    </tr>\n    <tr>\n      <th>2</th>\n      <td>3</td>\n      <td>x3</td>\n    </tr>\n  </tbody>\n</table>\n</div>"
     },
     "metadata": {},
     "execution_count": 168
    }
   ],
   "source": [
    "data = {'key': [1, 2, 3], 'value': ['x1', 'x2', 'x3']}\n",
    "x = pd.DataFrame.from_dict(data)\n",
    "x"
   ]
  },
  {
   "cell_type": "code",
   "execution_count": 169,
   "metadata": {},
   "outputs": [
    {
     "output_type": "execute_result",
     "data": {
      "text/plain": [
       "   key value\n",
       "0    1    y1\n",
       "1    2    y2\n",
       "2    4    y3"
      ],
      "text/html": "<div>\n<style scoped>\n    .dataframe tbody tr th:only-of-type {\n        vertical-align: middle;\n    }\n\n    .dataframe tbody tr th {\n        vertical-align: top;\n    }\n\n    .dataframe thead th {\n        text-align: right;\n    }\n</style>\n<table border=\"1\" class=\"dataframe\">\n  <thead>\n    <tr style=\"text-align: right;\">\n      <th></th>\n      <th>key</th>\n      <th>value</th>\n    </tr>\n  </thead>\n  <tbody>\n    <tr>\n      <th>0</th>\n      <td>1</td>\n      <td>y1</td>\n    </tr>\n    <tr>\n      <th>1</th>\n      <td>2</td>\n      <td>y2</td>\n    </tr>\n    <tr>\n      <th>2</th>\n      <td>4</td>\n      <td>y3</td>\n    </tr>\n  </tbody>\n</table>\n</div>"
     },
     "metadata": {},
     "execution_count": 169
    }
   ],
   "source": [
    "data = {'key': [1, 2, 4], 'value': ['y1', 'y2', 'y3']}\n",
    "y = pd.DataFrame.from_dict(data)\n",
    "y"
   ]
  },
  {
   "source": [
    "## Inner join\n",
    "\n",
    "Esta cláusula busca coincidencias entre 2 tablas, en función a una columna que tienen en común. De tal modo que sólo la intersección se mostrará en los resultados.\n",
    "\n",
    "![](notas_files/INNER_JOIN.webp)\n",
    "\n",
    "Veamos un Ejemplo\n",
    "\n",
    "![](notas_files/join-inner_2.png)"
   ],
   "cell_type": "markdown",
   "metadata": {}
  },
  {
   "cell_type": "code",
   "execution_count": 170,
   "metadata": {},
   "outputs": [
    {
     "output_type": "execute_result",
     "data": {
      "text/plain": [
       "   key value_x value_y\n",
       "0    1      x1      y1\n",
       "1    2      x2      y2"
      ],
      "text/html": "<div>\n<style scoped>\n    .dataframe tbody tr th:only-of-type {\n        vertical-align: middle;\n    }\n\n    .dataframe tbody tr th {\n        vertical-align: top;\n    }\n\n    .dataframe thead th {\n        text-align: right;\n    }\n</style>\n<table border=\"1\" class=\"dataframe\">\n  <thead>\n    <tr style=\"text-align: right;\">\n      <th></th>\n      <th>key</th>\n      <th>value_x</th>\n      <th>value_y</th>\n    </tr>\n  </thead>\n  <tbody>\n    <tr>\n      <th>0</th>\n      <td>1</td>\n      <td>x1</td>\n      <td>y1</td>\n    </tr>\n    <tr>\n      <th>1</th>\n      <td>2</td>\n      <td>x2</td>\n      <td>y2</td>\n    </tr>\n  </tbody>\n</table>\n</div>"
     },
     "metadata": {},
     "execution_count": 170
    }
   ],
   "source": [
    "#inner join in python pandas\n",
    "\n",
    "inner_join_df= pd.merge(x, y, on='key', how='inner')\n",
    "inner_join_df \n"
   ]
  },
  {
   "source": [
    "## Left Join\n",
    "\n",
    "A diferencia de un INNER JOIN, donde se busca una intersección respetada por ambas tablas, con LEFT JOIN damos prioridad a la tabla de la izquierda, y buscamos en la tabla derecha. Si no existe ninguna coincidencia para alguna de las filas de la tabla de la izquierda, de igual forma todos los resultados de la primera tabla se muestran.\n",
    "\n",
    "![](notas_files/LEFT_JOIN.webp)\n",
    "\n",
    "Veamos un Ejemplo\n",
    "\n",
    "![](notas_files/left_joint.png)"
   ],
   "cell_type": "markdown",
   "metadata": {}
  },
  {
   "cell_type": "code",
   "execution_count": 171,
   "metadata": {},
   "outputs": [
    {
     "output_type": "execute_result",
     "data": {
      "text/plain": [
       "   key value_x value_y\n",
       "0    1      x1      y1\n",
       "1    2      x2      y2\n",
       "2    3      x3     NaN"
      ],
      "text/html": "<div>\n<style scoped>\n    .dataframe tbody tr th:only-of-type {\n        vertical-align: middle;\n    }\n\n    .dataframe tbody tr th {\n        vertical-align: top;\n    }\n\n    .dataframe thead th {\n        text-align: right;\n    }\n</style>\n<table border=\"1\" class=\"dataframe\">\n  <thead>\n    <tr style=\"text-align: right;\">\n      <th></th>\n      <th>key</th>\n      <th>value_x</th>\n      <th>value_y</th>\n    </tr>\n  </thead>\n  <tbody>\n    <tr>\n      <th>0</th>\n      <td>1</td>\n      <td>x1</td>\n      <td>y1</td>\n    </tr>\n    <tr>\n      <th>1</th>\n      <td>2</td>\n      <td>x2</td>\n      <td>y2</td>\n    </tr>\n    <tr>\n      <th>2</th>\n      <td>3</td>\n      <td>x3</td>\n      <td>NaN</td>\n    </tr>\n  </tbody>\n</table>\n</div>"
     },
     "metadata": {},
     "execution_count": 171
    }
   ],
   "source": [
    "left_join_df = pd.merge(x, y, on='key', how='left')\n",
    "left_join_df"
   ]
  },
  {
   "source": [
    "## Right Join\n",
    "\n",
    "En el caso de RIGHT JOIN la situación es muy similar, pero aquí se da prioridad a la tabla de la derecha.\n",
    "\n",
    "![](notas_files/RIGHT_JOIN.webp)\n",
    "\n",
    "Veamos un Ejemplo\n",
    "\n",
    "![](notas_files/right_joint.png)"
   ],
   "cell_type": "markdown",
   "metadata": {}
  },
  {
   "cell_type": "code",
   "execution_count": 172,
   "metadata": {},
   "outputs": [
    {
     "output_type": "execute_result",
     "data": {
      "text/plain": [
       "   key value_x value_y\n",
       "0    1      x1      y1\n",
       "1    2      x2      y2\n",
       "2    4     NaN      y3"
      ],
      "text/html": "<div>\n<style scoped>\n    .dataframe tbody tr th:only-of-type {\n        vertical-align: middle;\n    }\n\n    .dataframe tbody tr th {\n        vertical-align: top;\n    }\n\n    .dataframe thead th {\n        text-align: right;\n    }\n</style>\n<table border=\"1\" class=\"dataframe\">\n  <thead>\n    <tr style=\"text-align: right;\">\n      <th></th>\n      <th>key</th>\n      <th>value_x</th>\n      <th>value_y</th>\n    </tr>\n  </thead>\n  <tbody>\n    <tr>\n      <th>0</th>\n      <td>1</td>\n      <td>x1</td>\n      <td>y1</td>\n    </tr>\n    <tr>\n      <th>1</th>\n      <td>2</td>\n      <td>x2</td>\n      <td>y2</td>\n    </tr>\n    <tr>\n      <th>2</th>\n      <td>4</td>\n      <td>NaN</td>\n      <td>y3</td>\n    </tr>\n  </tbody>\n</table>\n</div>"
     },
     "metadata": {},
     "execution_count": 172
    }
   ],
   "source": [
    "right_join_df = pd.merge(x, y, on='key', how='right')\n",
    "right_join_df"
   ]
  },
  {
   "source": [
    "## Full Join\n",
    "\n",
    "Mientras que LEFT JOIN muestra todas las filas de la tabla izquierda, y RIGHT JOIN muestra todas las correspondientes a la tabla derecha, FULL OUTER JOIN (o simplemente FULL JOIN) se encarga de mostrar todas las filas de ambas tablas, sin importar que no existan coincidencias (usará NULL como un valor por defecto para dichos casos).\n",
    "\n",
    "![](notas_files/FULL_JOIN.webp)\n",
    "\n",
    "Veamos un Ejemplo\n",
    "\n",
    "![](notas_files/outer_joint.png)"
   ],
   "cell_type": "markdown",
   "metadata": {}
  },
  {
   "cell_type": "code",
   "execution_count": 173,
   "metadata": {},
   "outputs": [
    {
     "output_type": "execute_result",
     "data": {
      "text/plain": [
       "   key value_x value_y\n",
       "0    1      x1      y1\n",
       "1    2      x2      y2\n",
       "2    3      x3     NaN\n",
       "3    4     NaN      y3"
      ],
      "text/html": "<div>\n<style scoped>\n    .dataframe tbody tr th:only-of-type {\n        vertical-align: middle;\n    }\n\n    .dataframe tbody tr th {\n        vertical-align: top;\n    }\n\n    .dataframe thead th {\n        text-align: right;\n    }\n</style>\n<table border=\"1\" class=\"dataframe\">\n  <thead>\n    <tr style=\"text-align: right;\">\n      <th></th>\n      <th>key</th>\n      <th>value_x</th>\n      <th>value_y</th>\n    </tr>\n  </thead>\n  <tbody>\n    <tr>\n      <th>0</th>\n      <td>1</td>\n      <td>x1</td>\n      <td>y1</td>\n    </tr>\n    <tr>\n      <th>1</th>\n      <td>2</td>\n      <td>x2</td>\n      <td>y2</td>\n    </tr>\n    <tr>\n      <th>2</th>\n      <td>3</td>\n      <td>x3</td>\n      <td>NaN</td>\n    </tr>\n    <tr>\n      <th>3</th>\n      <td>4</td>\n      <td>NaN</td>\n      <td>y3</td>\n    </tr>\n  </tbody>\n</table>\n</div>"
     },
     "metadata": {},
     "execution_count": 173
    }
   ],
   "source": [
    "outer_join_df = pd.merge(x, y, on='key', how='outer')\n",
    "outer_join_df"
   ]
  },
  {
   "source": [
    "## Relaciones"
   ],
   "cell_type": "markdown",
   "metadata": {}
  },
  {
   "source": [
    "### Uno a Uno"
   ],
   "cell_type": "markdown",
   "metadata": {}
  },
  {
   "cell_type": "code",
   "execution_count": 174,
   "metadata": {},
   "outputs": [
    {
     "output_type": "execute_result",
     "data": {
      "text/plain": [
       "   key value\n",
       "0    1    x1\n",
       "1    2    x2\n",
       "2    3    x3"
      ],
      "text/html": "<div>\n<style scoped>\n    .dataframe tbody tr th:only-of-type {\n        vertical-align: middle;\n    }\n\n    .dataframe tbody tr th {\n        vertical-align: top;\n    }\n\n    .dataframe thead th {\n        text-align: right;\n    }\n</style>\n<table border=\"1\" class=\"dataframe\">\n  <thead>\n    <tr style=\"text-align: right;\">\n      <th></th>\n      <th>key</th>\n      <th>value</th>\n    </tr>\n  </thead>\n  <tbody>\n    <tr>\n      <th>0</th>\n      <td>1</td>\n      <td>x1</td>\n    </tr>\n    <tr>\n      <th>1</th>\n      <td>2</td>\n      <td>x2</td>\n    </tr>\n    <tr>\n      <th>2</th>\n      <td>3</td>\n      <td>x3</td>\n    </tr>\n  </tbody>\n</table>\n</div>"
     },
     "metadata": {},
     "execution_count": 174
    }
   ],
   "source": [
    "\n",
    "data = {'key': [1, 2, 3], 'value': ['x1', 'x2', 'x3']}\n",
    "x = pd.DataFrame.from_dict(data)\n",
    "x"
   ]
  },
  {
   "cell_type": "code",
   "execution_count": 175,
   "metadata": {},
   "outputs": [
    {
     "output_type": "execute_result",
     "data": {
      "text/plain": [
       "   key value\n",
       "0    1    y1\n",
       "1    2    y2\n",
       "2    3    y3"
      ],
      "text/html": "<div>\n<style scoped>\n    .dataframe tbody tr th:only-of-type {\n        vertical-align: middle;\n    }\n\n    .dataframe tbody tr th {\n        vertical-align: top;\n    }\n\n    .dataframe thead th {\n        text-align: right;\n    }\n</style>\n<table border=\"1\" class=\"dataframe\">\n  <thead>\n    <tr style=\"text-align: right;\">\n      <th></th>\n      <th>key</th>\n      <th>value</th>\n    </tr>\n  </thead>\n  <tbody>\n    <tr>\n      <th>0</th>\n      <td>1</td>\n      <td>y1</td>\n    </tr>\n    <tr>\n      <th>1</th>\n      <td>2</td>\n      <td>y2</td>\n    </tr>\n    <tr>\n      <th>2</th>\n      <td>3</td>\n      <td>y3</td>\n    </tr>\n  </tbody>\n</table>\n</div>"
     },
     "metadata": {},
     "execution_count": 175
    }
   ],
   "source": [
    "\n",
    "data = {'key': [1, 2, 3], 'value': ['y1', 'y2', 'y3']}\n",
    "y = pd.DataFrame.from_dict(data)\n",
    "y"
   ]
  },
  {
   "cell_type": "code",
   "execution_count": 176,
   "metadata": {},
   "outputs": [
    {
     "output_type": "execute_result",
     "data": {
      "text/plain": [
       "   key value_x value_y\n",
       "0    1      x1      y1\n",
       "1    2      x2      y2\n",
       "2    3      x3      y3"
      ],
      "text/html": "<div>\n<style scoped>\n    .dataframe tbody tr th:only-of-type {\n        vertical-align: middle;\n    }\n\n    .dataframe tbody tr th {\n        vertical-align: top;\n    }\n\n    .dataframe thead th {\n        text-align: right;\n    }\n</style>\n<table border=\"1\" class=\"dataframe\">\n  <thead>\n    <tr style=\"text-align: right;\">\n      <th></th>\n      <th>key</th>\n      <th>value_x</th>\n      <th>value_y</th>\n    </tr>\n  </thead>\n  <tbody>\n    <tr>\n      <th>0</th>\n      <td>1</td>\n      <td>x1</td>\n      <td>y1</td>\n    </tr>\n    <tr>\n      <th>1</th>\n      <td>2</td>\n      <td>x2</td>\n      <td>y2</td>\n    </tr>\n    <tr>\n      <th>2</th>\n      <td>3</td>\n      <td>x3</td>\n      <td>y3</td>\n    </tr>\n  </tbody>\n</table>\n</div>"
     },
     "metadata": {},
     "execution_count": 176
    }
   ],
   "source": [
    "inner_join_df= pd.merge(x, y, on='key', how='inner')\n",
    "inner_join_df "
   ]
  },
  {
   "source": [
    "### Uno a Muchos (o Muchos a Uno)"
   ],
   "cell_type": "markdown",
   "metadata": {}
  },
  {
   "source": [
    "data = {'key': [1, 2, 2, 1], 'value': ['x1', 'x2', 'x3', \"x4\"]}\n",
    "x = pd.DataFrame.from_dict(data)\n",
    "x\n",
    "\n"
   ],
   "cell_type": "code",
   "metadata": {},
   "execution_count": 177,
   "outputs": [
    {
     "output_type": "execute_result",
     "data": {
      "text/plain": [
       "   key value\n",
       "0    1    x1\n",
       "1    2    x2\n",
       "2    2    x3\n",
       "3    1    x4"
      ],
      "text/html": "<div>\n<style scoped>\n    .dataframe tbody tr th:only-of-type {\n        vertical-align: middle;\n    }\n\n    .dataframe tbody tr th {\n        vertical-align: top;\n    }\n\n    .dataframe thead th {\n        text-align: right;\n    }\n</style>\n<table border=\"1\" class=\"dataframe\">\n  <thead>\n    <tr style=\"text-align: right;\">\n      <th></th>\n      <th>key</th>\n      <th>value</th>\n    </tr>\n  </thead>\n  <tbody>\n    <tr>\n      <th>0</th>\n      <td>1</td>\n      <td>x1</td>\n    </tr>\n    <tr>\n      <th>1</th>\n      <td>2</td>\n      <td>x2</td>\n    </tr>\n    <tr>\n      <th>2</th>\n      <td>2</td>\n      <td>x3</td>\n    </tr>\n    <tr>\n      <th>3</th>\n      <td>1</td>\n      <td>x4</td>\n    </tr>\n  </tbody>\n</table>\n</div>"
     },
     "metadata": {},
     "execution_count": 177
    }
   ]
  },
  {
   "cell_type": "code",
   "execution_count": 178,
   "metadata": {},
   "outputs": [
    {
     "output_type": "execute_result",
     "data": {
      "text/plain": [
       "   key value\n",
       "0    1    y1\n",
       "1    2    y2"
      ],
      "text/html": "<div>\n<style scoped>\n    .dataframe tbody tr th:only-of-type {\n        vertical-align: middle;\n    }\n\n    .dataframe tbody tr th {\n        vertical-align: top;\n    }\n\n    .dataframe thead th {\n        text-align: right;\n    }\n</style>\n<table border=\"1\" class=\"dataframe\">\n  <thead>\n    <tr style=\"text-align: right;\">\n      <th></th>\n      <th>key</th>\n      <th>value</th>\n    </tr>\n  </thead>\n  <tbody>\n    <tr>\n      <th>0</th>\n      <td>1</td>\n      <td>y1</td>\n    </tr>\n    <tr>\n      <th>1</th>\n      <td>2</td>\n      <td>y2</td>\n    </tr>\n  </tbody>\n</table>\n</div>"
     },
     "metadata": {},
     "execution_count": 178
    }
   ],
   "source": [
    "\n",
    "data = {'key': [1, 2], 'value': ['y1', 'y2']}\n",
    "y = pd.DataFrame.from_dict(data)\n",
    "y"
   ]
  },
  {
   "source": [
    "![](notas_files/join-one-to-many_5.png)"
   ],
   "cell_type": "markdown",
   "metadata": {}
  },
  {
   "cell_type": "code",
   "execution_count": 179,
   "metadata": {},
   "outputs": [
    {
     "output_type": "execute_result",
     "data": {
      "text/plain": [
       "   key value_x value_y\n",
       "0    1      x1      y1\n",
       "1    1      x4      y1\n",
       "2    2      x2      y2\n",
       "3    2      x3      y2"
      ],
      "text/html": "<div>\n<style scoped>\n    .dataframe tbody tr th:only-of-type {\n        vertical-align: middle;\n    }\n\n    .dataframe tbody tr th {\n        vertical-align: top;\n    }\n\n    .dataframe thead th {\n        text-align: right;\n    }\n</style>\n<table border=\"1\" class=\"dataframe\">\n  <thead>\n    <tr style=\"text-align: right;\">\n      <th></th>\n      <th>key</th>\n      <th>value_x</th>\n      <th>value_y</th>\n    </tr>\n  </thead>\n  <tbody>\n    <tr>\n      <th>0</th>\n      <td>1</td>\n      <td>x1</td>\n      <td>y1</td>\n    </tr>\n    <tr>\n      <th>1</th>\n      <td>1</td>\n      <td>x4</td>\n      <td>y1</td>\n    </tr>\n    <tr>\n      <th>2</th>\n      <td>2</td>\n      <td>x2</td>\n      <td>y2</td>\n    </tr>\n    <tr>\n      <th>3</th>\n      <td>2</td>\n      <td>x3</td>\n      <td>y2</td>\n    </tr>\n  </tbody>\n</table>\n</div>"
     },
     "metadata": {},
     "execution_count": 179
    }
   ],
   "source": [
    "inner_join_df= pd.merge(x, y, on='key', how='inner')\n",
    "inner_join_df "
   ]
  },
  {
   "cell_type": "code",
   "execution_count": 180,
   "metadata": {},
   "outputs": [],
   "source": [
    "### Muchos a Muchos"
   ]
  },
  {
   "cell_type": "code",
   "execution_count": 181,
   "metadata": {},
   "outputs": [
    {
     "output_type": "execute_result",
     "data": {
      "text/plain": [
       "   key value\n",
       "0    1    x1\n",
       "1    2    x2\n",
       "2    2    x3\n",
       "3    3    x4"
      ],
      "text/html": "<div>\n<style scoped>\n    .dataframe tbody tr th:only-of-type {\n        vertical-align: middle;\n    }\n\n    .dataframe tbody tr th {\n        vertical-align: top;\n    }\n\n    .dataframe thead th {\n        text-align: right;\n    }\n</style>\n<table border=\"1\" class=\"dataframe\">\n  <thead>\n    <tr style=\"text-align: right;\">\n      <th></th>\n      <th>key</th>\n      <th>value</th>\n    </tr>\n  </thead>\n  <tbody>\n    <tr>\n      <th>0</th>\n      <td>1</td>\n      <td>x1</td>\n    </tr>\n    <tr>\n      <th>1</th>\n      <td>2</td>\n      <td>x2</td>\n    </tr>\n    <tr>\n      <th>2</th>\n      <td>2</td>\n      <td>x3</td>\n    </tr>\n    <tr>\n      <th>3</th>\n      <td>3</td>\n      <td>x4</td>\n    </tr>\n  </tbody>\n</table>\n</div>"
     },
     "metadata": {},
     "execution_count": 181
    }
   ],
   "source": [
    "data = {'key': [1, 2, 2, 3], 'value': ['x1', 'x2', 'x3', \"x4\"]}\n",
    "x = pd.DataFrame.from_dict(data)\n",
    "x"
   ]
  },
  {
   "cell_type": "code",
   "execution_count": 182,
   "metadata": {},
   "outputs": [
    {
     "output_type": "execute_result",
     "data": {
      "text/plain": [
       "   key value\n",
       "0    1    y1\n",
       "1    2    y2\n",
       "2    2    y3\n",
       "3    3    y4"
      ],
      "text/html": "<div>\n<style scoped>\n    .dataframe tbody tr th:only-of-type {\n        vertical-align: middle;\n    }\n\n    .dataframe tbody tr th {\n        vertical-align: top;\n    }\n\n    .dataframe thead th {\n        text-align: right;\n    }\n</style>\n<table border=\"1\" class=\"dataframe\">\n  <thead>\n    <tr style=\"text-align: right;\">\n      <th></th>\n      <th>key</th>\n      <th>value</th>\n    </tr>\n  </thead>\n  <tbody>\n    <tr>\n      <th>0</th>\n      <td>1</td>\n      <td>y1</td>\n    </tr>\n    <tr>\n      <th>1</th>\n      <td>2</td>\n      <td>y2</td>\n    </tr>\n    <tr>\n      <th>2</th>\n      <td>2</td>\n      <td>y3</td>\n    </tr>\n    <tr>\n      <th>3</th>\n      <td>3</td>\n      <td>y4</td>\n    </tr>\n  </tbody>\n</table>\n</div>"
     },
     "metadata": {},
     "execution_count": 182
    }
   ],
   "source": [
    "data = {'key': [1, 2, 2, 3], 'value': ['y1', 'y2', 'y3', \"y4\"]}\n",
    "y = pd.DataFrame.from_dict(data)\n",
    "y"
   ]
  },
  {
   "source": [
    "![](notas_files/join-many-to-many_6.png))"
   ],
   "cell_type": "markdown",
   "metadata": {}
  },
  {
   "cell_type": "code",
   "execution_count": 183,
   "metadata": {},
   "outputs": [
    {
     "output_type": "execute_result",
     "data": {
      "text/plain": [
       "   key value_x value_y\n",
       "0    1      x1      y1\n",
       "1    2      x2      y2\n",
       "2    2      x2      y3\n",
       "3    2      x3      y2\n",
       "4    2      x3      y3\n",
       "5    3      x4      y4"
      ],
      "text/html": "<div>\n<style scoped>\n    .dataframe tbody tr th:only-of-type {\n        vertical-align: middle;\n    }\n\n    .dataframe tbody tr th {\n        vertical-align: top;\n    }\n\n    .dataframe thead th {\n        text-align: right;\n    }\n</style>\n<table border=\"1\" class=\"dataframe\">\n  <thead>\n    <tr style=\"text-align: right;\">\n      <th></th>\n      <th>key</th>\n      <th>value_x</th>\n      <th>value_y</th>\n    </tr>\n  </thead>\n  <tbody>\n    <tr>\n      <th>0</th>\n      <td>1</td>\n      <td>x1</td>\n      <td>y1</td>\n    </tr>\n    <tr>\n      <th>1</th>\n      <td>2</td>\n      <td>x2</td>\n      <td>y2</td>\n    </tr>\n    <tr>\n      <th>2</th>\n      <td>2</td>\n      <td>x2</td>\n      <td>y3</td>\n    </tr>\n    <tr>\n      <th>3</th>\n      <td>2</td>\n      <td>x3</td>\n      <td>y2</td>\n    </tr>\n    <tr>\n      <th>4</th>\n      <td>2</td>\n      <td>x3</td>\n      <td>y3</td>\n    </tr>\n    <tr>\n      <th>5</th>\n      <td>3</td>\n      <td>x4</td>\n      <td>y4</td>\n    </tr>\n  </tbody>\n</table>\n</div>"
     },
     "metadata": {},
     "execution_count": 183
    }
   ],
   "source": [
    "inner_join_df= pd.merge(x, y, on='key', how='inner')\n",
    "inner_join_df "
   ]
  },
  {
   "source": [
    "## Union all"
   ],
   "cell_type": "markdown",
   "metadata": {}
  },
  {
   "source": [
    "![](notas_files/unionAll.png)"
   ],
   "cell_type": "markdown",
   "metadata": {}
  },
  {
   "cell_type": "code",
   "execution_count": 184,
   "metadata": {},
   "outputs": [
    {
     "output_type": "execute_result",
     "data": {
      "text/plain": [
       "   val_0 value\n",
       "0      1    a1\n",
       "1      2    b2\n",
       "2      2    c3\n",
       "3      3    d4"
      ],
      "text/html": "<div>\n<style scoped>\n    .dataframe tbody tr th:only-of-type {\n        vertical-align: middle;\n    }\n\n    .dataframe tbody tr th {\n        vertical-align: top;\n    }\n\n    .dataframe thead th {\n        text-align: right;\n    }\n</style>\n<table border=\"1\" class=\"dataframe\">\n  <thead>\n    <tr style=\"text-align: right;\">\n      <th></th>\n      <th>val_0</th>\n      <th>value</th>\n    </tr>\n  </thead>\n  <tbody>\n    <tr>\n      <th>0</th>\n      <td>1</td>\n      <td>a1</td>\n    </tr>\n    <tr>\n      <th>1</th>\n      <td>2</td>\n      <td>b2</td>\n    </tr>\n    <tr>\n      <th>2</th>\n      <td>2</td>\n      <td>c3</td>\n    </tr>\n    <tr>\n      <th>3</th>\n      <td>3</td>\n      <td>d4</td>\n    </tr>\n  </tbody>\n</table>\n</div>"
     },
     "metadata": {},
     "execution_count": 184
    }
   ],
   "source": [
    "data = {'val_0': [1, 2, 2, 3], 'value': ['a1', 'b2', 'c3', \"d4\"]}\n",
    "y = pd.DataFrame.from_dict(data)\n",
    "y\n"
   ]
  },
  {
   "cell_type": "code",
   "execution_count": 185,
   "metadata": {},
   "outputs": [
    {
     "output_type": "execute_result",
     "data": {
      "text/plain": [
       "   val_0 value\n",
       "0      1    a1\n",
       "1      2    b2\n",
       "2      2    e3\n",
       "3      3    f4"
      ],
      "text/html": "<div>\n<style scoped>\n    .dataframe tbody tr th:only-of-type {\n        vertical-align: middle;\n    }\n\n    .dataframe tbody tr th {\n        vertical-align: top;\n    }\n\n    .dataframe thead th {\n        text-align: right;\n    }\n</style>\n<table border=\"1\" class=\"dataframe\">\n  <thead>\n    <tr style=\"text-align: right;\">\n      <th></th>\n      <th>val_0</th>\n      <th>value</th>\n    </tr>\n  </thead>\n  <tbody>\n    <tr>\n      <th>0</th>\n      <td>1</td>\n      <td>a1</td>\n    </tr>\n    <tr>\n      <th>1</th>\n      <td>2</td>\n      <td>b2</td>\n    </tr>\n    <tr>\n      <th>2</th>\n      <td>2</td>\n      <td>e3</td>\n    </tr>\n    <tr>\n      <th>3</th>\n      <td>3</td>\n      <td>f4</td>\n    </tr>\n  </tbody>\n</table>\n</div>"
     },
     "metadata": {},
     "execution_count": 185
    }
   ],
   "source": [
    "data = {'val_0': [1, 2, 2, 3], 'value': ['a1', 'b2', 'e3', \"f4\"]}\n",
    "x = pd.DataFrame.from_dict(data)\n",
    "x"
   ]
  },
  {
   "cell_type": "code",
   "execution_count": 186,
   "metadata": {},
   "outputs": [
    {
     "output_type": "execute_result",
     "data": {
      "text/plain": [
       "   val_0 value\n",
       "0      1    a1\n",
       "1      2    b2\n",
       "2      2    c3\n",
       "3      3    d4\n",
       "4      1    a1\n",
       "5      2    b2\n",
       "6      2    e3\n",
       "7      3    f4"
      ],
      "text/html": "<div>\n<style scoped>\n    .dataframe tbody tr th:only-of-type {\n        vertical-align: middle;\n    }\n\n    .dataframe tbody tr th {\n        vertical-align: top;\n    }\n\n    .dataframe thead th {\n        text-align: right;\n    }\n</style>\n<table border=\"1\" class=\"dataframe\">\n  <thead>\n    <tr style=\"text-align: right;\">\n      <th></th>\n      <th>val_0</th>\n      <th>value</th>\n    </tr>\n  </thead>\n  <tbody>\n    <tr>\n      <th>0</th>\n      <td>1</td>\n      <td>a1</td>\n    </tr>\n    <tr>\n      <th>1</th>\n      <td>2</td>\n      <td>b2</td>\n    </tr>\n    <tr>\n      <th>2</th>\n      <td>2</td>\n      <td>c3</td>\n    </tr>\n    <tr>\n      <th>3</th>\n      <td>3</td>\n      <td>d4</td>\n    </tr>\n    <tr>\n      <th>4</th>\n      <td>1</td>\n      <td>a1</td>\n    </tr>\n    <tr>\n      <th>5</th>\n      <td>2</td>\n      <td>b2</td>\n    </tr>\n    <tr>\n      <th>6</th>\n      <td>2</td>\n      <td>e3</td>\n    </tr>\n    <tr>\n      <th>7</th>\n      <td>3</td>\n      <td>f4</td>\n    </tr>\n  </tbody>\n</table>\n</div>"
     },
     "metadata": {},
     "execution_count": 186
    }
   ],
   "source": [
    "df_union_all= pd.concat([y, x], ignore_index=True)\n",
    "df_union_all"
   ]
  },
  {
   "source": [
    "### Union"
   ],
   "cell_type": "markdown",
   "metadata": {}
  },
  {
   "source": [
    "![](notas_files/union.png)"
   ],
   "cell_type": "markdown",
   "metadata": {}
  },
  {
   "cell_type": "code",
   "execution_count": 187,
   "metadata": {},
   "outputs": [
    {
     "output_type": "execute_result",
     "data": {
      "text/plain": [
       "   val_0 value\n",
       "0      1    a1\n",
       "1      2    b2\n",
       "2      2    e3\n",
       "3      3    f4\n",
       "6      2    c3\n",
       "7      3    d4"
      ],
      "text/html": "<div>\n<style scoped>\n    .dataframe tbody tr th:only-of-type {\n        vertical-align: middle;\n    }\n\n    .dataframe tbody tr th {\n        vertical-align: top;\n    }\n\n    .dataframe thead th {\n        text-align: right;\n    }\n</style>\n<table border=\"1\" class=\"dataframe\">\n  <thead>\n    <tr style=\"text-align: right;\">\n      <th></th>\n      <th>val_0</th>\n      <th>value</th>\n    </tr>\n  </thead>\n  <tbody>\n    <tr>\n      <th>0</th>\n      <td>1</td>\n      <td>a1</td>\n    </tr>\n    <tr>\n      <th>1</th>\n      <td>2</td>\n      <td>b2</td>\n    </tr>\n    <tr>\n      <th>2</th>\n      <td>2</td>\n      <td>e3</td>\n    </tr>\n    <tr>\n      <th>3</th>\n      <td>3</td>\n      <td>f4</td>\n    </tr>\n    <tr>\n      <th>6</th>\n      <td>2</td>\n      <td>c3</td>\n    </tr>\n    <tr>\n      <th>7</th>\n      <td>3</td>\n      <td>d4</td>\n    </tr>\n  </tbody>\n</table>\n</div>"
     },
     "metadata": {},
     "execution_count": 187
    }
   ],
   "source": [
    "df_union= pd.concat([x, y],ignore_index=True).drop_duplicates()\n",
    "df_union"
   ]
  },
  {
   "source": [
    "# Bibliografía\n",
    "Revisar el apunte de \"Merge, join, and concatenate\""
   ],
   "cell_type": "markdown",
   "metadata": {}
  },
  {
   "cell_type": "code",
   "execution_count": null,
   "metadata": {},
   "outputs": [],
   "source": []
  }
 ],
 "metadata": {
  "kernelspec": {
   "display_name": "Python 3.7.7 64-bit ('maem': conda)",
   "language": "python",
   "name": "python37764bitmaemconda410a645171b540f9a53057aa8096c0be"
  },
  "language_info": {
   "codemirror_mode": {
    "name": "ipython",
    "version": 3
   },
   "file_extension": ".py",
   "mimetype": "text/x-python",
   "name": "python",
   "nbconvert_exporter": "python",
   "pygments_lexer": "ipython3",
   "version": "3.7.7-final"
  },
  "latex_envs": {
   "LaTeX_envs_menu_present": true,
   "autoclose": true,
   "autocomplete": true,
   "bibliofile": "biblio.bib",
   "cite_by": "apalike",
   "current_citInitial": 1,
   "eqLabelWithNumbers": true,
   "eqNumInitial": 1,
   "hotkeys": {
    "equation": "Ctrl-E",
    "itemize": "Ctrl-I"
   },
   "labels_anchors": false,
   "latex_user_defs": false,
   "report_style_numbering": false,
   "user_envs_cfg": false
  },
  "toc": {
   "base_numbering": 1,
   "nav_menu": {},
   "number_sections": false,
   "sideBar": true,
   "skip_h1_title": false,
   "title_cell": "Table of Contents",
   "title_sidebar": "Contents",
   "toc_cell": false,
   "toc_position": {},
   "toc_section_display": true,
   "toc_window_display": true
  }
 },
 "nbformat": 4,
 "nbformat_minor": 2
}