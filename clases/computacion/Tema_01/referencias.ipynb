{
  "nbformat": 4,
  "nbformat_minor": 0,
  "metadata": {
    "file_extension": ".py",
    "kernelspec": {
      "display_name": "Python 3",
      "language": "python",
      "name": "python3"
    },
    "language_info": {
      "codemirror_mode": {
        "name": "ipython",
        "version": 3
      },
      "file_extension": ".py",
      "mimetype": "text/x-python",
      "name": "python",
      "nbconvert_exporter": "python",
      "pygments_lexer": "ipython3",
      "version": "3.6.9-final"
    },
    "latex_envs": {
      "LaTeX_envs_menu_present": true,
      "autoclose": true,
      "autocomplete": true,
      "bibliofile": "biblio.bib",
      "cite_by": "apalike",
      "current_citInitial": 1,
      "eqLabelWithNumbers": true,
      "eqNumInitial": 1,
      "hotkeys": {
        "equation": "Ctrl-E",
        "itemize": "Ctrl-I"
      },
      "labels_anchors": false,
      "latex_user_defs": false,
      "report_style_numbering": false,
      "user_envs_cfg": false
    },
    "mimetype": "text/x-python",
    "name": "python",
    "npconvert_exporter": "python",
    "pygments_lexer": "ipython3",
    "toc": {
      "base_numbering": 1,
      "nav_menu": {},
      "number_sections": false,
      "sideBar": true,
      "skip_h1_title": false,
      "title_cell": "Table of Contents",
      "title_sidebar": "Contents",
      "toc_cell": false,
      "toc_position": {},
      "toc_section_display": true,
      "toc_window_display": true
    },
    "version": 3,
    "colab": {
      "name": "referencias.ipynb",
      "provenance": [],
      "collapsed_sections": [
        "ZvZdua37ARrL",
        "0-BEREsEARws"
      ]
    }
  },
  "cells": [
    {
      "cell_type": "markdown",
      "metadata": {
        "id": "pjIg3eV2ARov"
      },
      "source": [
        "## Referencias de objetos\n",
        "\n",
        "Las **variables** son contenedores para almacenar valores.\n",
        "\n",
        "En Python, las variables, son referencias a objetos, pero los datos reales están contenidos en los objetos:\n",
        "\n",
        "<img src=https://www.python-course.eu/images/python_variable_1.png width=\"400\">\n",
        "\n",
        "\n",
        "Dado que las variables apuntan a objetos y los objetos pueden ser de tipos de datos arbitrarios, las variables no pueden tener tipos asociados. Esta es una gran diferencia con otros lengaujes (C, C ++ o Java), donde una variable está asociada con un tipo de datos fijo. En estos lenguajes, esta asociación no se puede cambiar mientras el programa se esté ejecutando.\n",
        "\n",
        "En Python, es posible escribir código como el siguiente:"
      ]
    },
    {
      "cell_type": "code",
      "metadata": {
        "tags": [],
        "id": "5ACpR8TpARoy",
        "colab": {
          "base_uri": "https://localhost:8080/"
        },
        "outputId": "f75360b4-1c6d-4e88-b6ce-5adcab0b6671"
      },
      "source": [
        "x  =  42 \n",
        "print( x )"
      ],
      "execution_count": null,
      "outputs": [
        {
          "output_type": "stream",
          "text": [
            "42\n"
          ],
          "name": "stdout"
        }
      ]
    },
    {
      "cell_type": "code",
      "metadata": {
        "tags": [],
        "id": "IxqEMP7rARpA",
        "colab": {
          "base_uri": "https://localhost:8080/"
        },
        "outputId": "a255d949-1563-492d-8ced-b899a0110aa4"
      },
      "source": [
        "x  =  \"Ahora x hace referencia a una cadena\" \n",
        "print( x )"
      ],
      "execution_count": null,
      "outputs": [
        {
          "output_type": "stream",
          "text": [
            "Ahora x hace referencia a una cadena\n"
          ],
          "name": "stdout"
        }
      ]
    },
    {
      "cell_type": "markdown",
      "metadata": {
        "id": "tK3NI3WVARpN"
      },
      "source": [
        "Veamos el siguiente código:"
      ]
    },
    {
      "cell_type": "code",
      "metadata": {
        "id": "wE2iG-qAARpP",
        "colab": {
          "base_uri": "https://localhost:8080/"
        },
        "outputId": "a684b618-940a-4a97-c419-06a5055abe9c"
      },
      "source": [
        "x  =  42 \n",
        "y  =  x\n",
        "print(x)\n",
        "print(y)"
      ],
      "execution_count": null,
      "outputs": [
        {
          "output_type": "stream",
          "text": [
            "42\n",
            "42\n"
          ],
          "name": "stdout"
        }
      ]
    },
    {
      "cell_type": "markdown",
      "metadata": {
        "id": "GQBH0716ARpb"
      },
      "source": [
        "Creamos un objeto 42 entero y lo asignamos a la variable x. Después de esto asignamos x a la variable y. Esto significa que ambas variables hacen referencia al mismo objeto. La siguiente imagen ilustra esto:\n",
        "\n",
        "<img src=https://www.python-course.eu/images/python_variable_2.png width=\"600\">"
      ]
    },
    {
      "cell_type": "markdown",
      "metadata": {
        "id": "epGh_mj1ARpd"
      },
      "source": [
        "Veamos el siguiente código:\n"
      ]
    },
    {
      "cell_type": "code",
      "metadata": {
        "id": "J5diECFtARpf",
        "colab": {
          "base_uri": "https://localhost:8080/"
        },
        "outputId": "d822909e-fb19-4461-f30c-fd1bfce2f79b"
      },
      "source": [
        "x = 42 \n",
        "y = x\n",
        "print(x)\n",
        "print(y)"
      ],
      "execution_count": null,
      "outputs": [
        {
          "output_type": "stream",
          "text": [
            "42\n",
            "42\n"
          ],
          "name": "stdout"
        }
      ]
    },
    {
      "cell_type": "code",
      "metadata": {
        "colab": {
          "base_uri": "https://localhost:8080/"
        },
        "id": "nu6oo72dUtsK",
        "outputId": "e5b32ae2-be31-4a9d-8696-ce93a79352c6"
      },
      "source": [
        "y = 78\n",
        "print(x)\n",
        "print(y)"
      ],
      "execution_count": null,
      "outputs": [
        {
          "output_type": "stream",
          "text": [
            "42\n",
            "78\n"
          ],
          "name": "stdout"
        }
      ]
    },
    {
      "cell_type": "markdown",
      "metadata": {
        "id": "1Ptaix6AARpp"
      },
      "source": [
        "Python creará un nuevo objeto entero con el contenido 78 y luego la variable y hará referencia a este objeto recién creado, como podemos ver en la siguiente imagen:\n",
        "\n",
        "<img src=https://www.python-course.eu/images/python_variable_3.png width=\"600\">"
      ]
    },
    {
      "cell_type": "markdown",
      "metadata": {
        "id": "2vg_eK7GARpr"
      },
      "source": [
        "Veamos el siguiente código:\n"
      ]
    },
    {
      "cell_type": "code",
      "metadata": {
        "id": "ZpBPNCYfARpu",
        "colab": {
          "base_uri": "https://localhost:8080/"
        },
        "outputId": "fbb3bcee-189b-4f19-e764-69c0f3c64e4a"
      },
      "source": [
        "x = 42 \n",
        "y = x\n",
        "print(x)\n",
        "print(y)"
      ],
      "execution_count": null,
      "outputs": [
        {
          "output_type": "stream",
          "text": [
            "42\n",
            "42\n"
          ],
          "name": "stdout"
        }
      ]
    },
    {
      "cell_type": "code",
      "metadata": {
        "colab": {
          "base_uri": "https://localhost:8080/"
        },
        "id": "IFhmPgbSUc5f",
        "outputId": "f199c472-2572-40cf-c672-25d821a17536"
      },
      "source": [
        "y = 78\n",
        "x = \"Text\"\n",
        "print(x)\n",
        "print(y)"
      ],
      "execution_count": null,
      "outputs": [
        {
          "output_type": "stream",
          "text": [
            "Text\n",
            "78\n"
          ],
          "name": "stdout"
        }
      ]
    },
    {
      "cell_type": "markdown",
      "metadata": {
        "id": "SsVEEiUEARqK"
      },
      "source": [
        "<img src=https://www.python-course.eu/images/python_variable_4.png width=\"600\">"
      ]
    },
    {
      "cell_type": "markdown",
      "metadata": {
        "id": "_xQXwYTiARqM"
      },
      "source": [
        "¿Cómo podemos ver o probar que x e y realmente hacen referencia al mismo objeto después de la asignación y = x de nuestro ejemplo anterior?\n",
        "\n",
        "La función de identidad id () se puede utilizar para este propósito. Cada instancia (objeto o variable) tiene una identidad, es decir, un número entero que es único dentro del script o programa, es decir, otros objetos tienen identidades diferentes."
      ]
    },
    {
      "cell_type": "code",
      "metadata": {
        "id": "UQyc-P0oARqO",
        "colab": {
          "base_uri": "https://localhost:8080/"
        },
        "outputId": "11df0b26-58ad-4fbf-9d34-1fe504cec475"
      },
      "source": [
        "x = 42\n",
        "y = x\n",
        "[id(x),id(y)]"
      ],
      "execution_count": null,
      "outputs": [
        {
          "output_type": "execute_result",
          "data": {
            "text/plain": [
              "[94608799842080, 94608799842080]"
            ]
          },
          "metadata": {
            "tags": []
          },
          "execution_count": 8
        }
      ]
    },
    {
      "cell_type": "code",
      "metadata": {
        "id": "5Z-sllm7ARql",
        "colab": {
          "base_uri": "https://localhost:8080/"
        },
        "outputId": "735af3e4-449a-460c-f6ac-3bd9ccc747a8"
      },
      "source": [
        "y = 78\n",
        "[id(x),id(y)]"
      ],
      "execution_count": null,
      "outputs": [
        {
          "output_type": "execute_result",
          "data": {
            "text/plain": [
              "[94608799842080, 94608799843232]"
            ]
          },
          "metadata": {
            "tags": []
          },
          "execution_count": 9
        }
      ]
    },
    {
      "cell_type": "code",
      "metadata": {
        "id": "KeJjvI6rARqz",
        "colab": {
          "base_uri": "https://localhost:8080/"
        },
        "outputId": "6c0f67f2-dda5-46fe-e9c0-c94486dbb654"
      },
      "source": [
        "x = \"Text\"\n",
        "[id(x),id(y)]"
      ],
      "execution_count": null,
      "outputs": [
        {
          "output_type": "execute_result",
          "data": {
            "text/plain": [
              "[139969254029488, 94608799843232]"
            ]
          },
          "metadata": {
            "tags": []
          },
          "execution_count": 10
        }
      ]
    }
  ]
}