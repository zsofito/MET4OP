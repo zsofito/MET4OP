{
 "cells": [
  {
   "cell_type": "markdown",
   "metadata": {
    "slideshow": {
     "slide_type": "slide"
    }
   },
   "source": [
    "# Estructuras de Control (Parte 2)\n",
    "## Banderas, Centinelas, Contadores, Acumuladores, Condicionales, While, For y Ejercicios"
   ]
  },
  {
   "cell_type": "code",
   "execution_count": 45,
   "metadata": {
    "slideshow": {
     "slide_type": "skip"
    }
   },
   "outputs": [],
   "source": [
    "from IPython import display\n"
   ]
  },
  {
   "cell_type": "markdown",
   "metadata": {},
   "source": [
    "Según el teorema de la estructura, cualquier programa de computadora puede escribirse utilizando las estructuras de control básicas . Una estructura de control (o flujo de control) es un bloque de programación que analiza variables y elige una dirección en la que ir en función de parámetros dados. En pocas palabras, una estructura de control es solo una decisión que toma la computadora. Por lo tanto, es el proceso básico de toma de decisiones en programación y el flujo de control determina cómo responderá un programa de computadora cuando se le den ciertas condiciones y parámetros.\n",
    "\n",
    "\n",
    "Hay dos aspectos básicos de la programación de computadoras: datos e instrucciones . Para trabajar con datos, se debe comprender las variables y los tipos de datos (clase_01); para trabajar con instrucciones, necesita comprender las estructuras y declaraciones de control (clase_02). El flujo de control a través de cualquier programa dado se implementa con tres tipos básicos de estructuras de control: secuencial, selección y repetición"
   ]
  },
  {
   "cell_type": "markdown",
   "metadata": {},
   "source": [
    "El teorema del programa estructurado es un resultado en la teoría de lenguajes de programación. Establece que toda función computable puede ser implementada en un lenguaje de programación que combine sólo tres estructuras lógicas. Esas tres formas (también llamadas estructuras de control) específicamente son:\n",
    "\n",
    "\n",
    "### Secuencial\n",
    "\n",
    "La ejecución secuencial es cuando las declaraciones se ejecutan una tras otra en orden. No necesitas hacer nada más para que esto suceda.\n",
    "\n",
    "### Selección \n",
    "\n",
    "Ejecución de una de dos instrucciones (o conjuntos), según el valor de una variable booleana. Utilizada para decisiones, ramificación: elegir entre 2 o más caminos alternativos.\n",
    "\n",
    "-    if\n",
    "-    if ... else\n",
    "-    switch\n",
    "\n",
    "### Repetición\n",
    "\n",
    "ejecución de una instrucción (o conjunto) mientras una variable booleana sea 'verdadera'. La repetición se utiliza para hacer bucles, es decir, repetir un fragmento de código varias veces seguidas.\n",
    "\n",
    "-   while loop\n",
    "-   do..while loop\n",
    "-   for loop\n",
    "\n",
    "Estas estructuras de control se pueden combinar en programación informática. Una secuencia puede contener varios bucles; un bucle puede contener un bucle anidado dentro de él, o las dos ramas de un condicional pueden contener cada una secuencias con bucles y más condicionales. A partir de las siguientes lecciones, puede comprender las estructuras de control y las declaraciones en lenguaje Python\n"
   ]
  },
  {
   "cell_type": "markdown",
   "metadata": {},
   "source": [
    "## Condicionales\n",
    "\n",
    "### Python  if  Statement\n",
    "\n",
    "Un  *__if__*  statement  evalua  si  una  función  es  verdadera  o  falsa  y  ejecuta  el  código  subyacente si  es  verdadero\n",
    "\n",
    "#### Sintaxis\n",
    "\n",
    "```python\n",
    "if  Expresión_Lógica:\n",
    "    Bloque  de  Código  Identado\n",
    "```"
   ]
  },
  {
   "cell_type": "code",
   "execution_count": 1,
   "metadata": {},
   "outputs": [
    {
     "name": "stdout",
     "output_type": "stream",
     "text": [
      "x es mayor\n"
     ]
    }
   ],
   "source": [
    "x = 7\n",
    "y = 5\n",
    "if x > y:\n",
    "    print('x es mayor')"
   ]
  },
  {
   "cell_type": "markdown",
   "metadata": {},
   "source": [
    "#### Importancia de la Identación en Python"
   ]
  },
  {
   "cell_type": "code",
   "execution_count": 2,
   "metadata": {},
   "outputs": [
    {
     "ename": "IndentationError",
     "evalue": "expected an indented block (<ipython-input-2-99bb0c275ba1>, line 4)",
     "output_type": "error",
     "traceback": [
      "\u001b[1;36m  File \u001b[1;32m\"<ipython-input-2-99bb0c275ba1>\"\u001b[1;36m, line \u001b[1;32m4\u001b[0m\n\u001b[1;33m    print('x es mayor')\u001b[0m\n\u001b[1;37m    ^\u001b[0m\n\u001b[1;31mIndentationError\u001b[0m\u001b[1;31m:\u001b[0m expected an indented block\n"
     ]
    }
   ],
   "source": [
    "x = 7\n",
    "y = 5\n",
    "if x > y:\n",
    "print('x es mayor')"
   ]
  },
  {
   "cell_type": "markdown",
   "metadata": {},
   "source": [
    "#### Operadores de Comporación\n",
    "\n",
    "|Operador\t| Significado |\n",
    "|-----------|-----------|\n",
    "|==\t|igual\t |\n",
    "|!=\t|desigual|\n",
    "|\\>\t|mayor\t|\n",
    "|\\>=\t|mayor o igual \t|\n",
    "|<\t|menor|\n",
    "|<=\t|menor o igual|"
   ]
  },
  {
   "cell_type": "markdown",
   "metadata": {},
   "source": [
    "#### Anidando IF"
   ]
  },
  {
   "cell_type": "code",
   "execution_count": 3,
   "metadata": {},
   "outputs": [
    {
     "name": "stdout",
     "output_type": "stream",
     "text": [
      "x es más grande que y\n",
      "x es mas grande que y y que z\n"
     ]
    }
   ],
   "source": [
    "x, y, z = 7, 4, 2\n",
    "if x > y:\n",
    "    print(\"x es más grande que y\")\n",
    "    if x > z:\n",
    "        print(\"x es mas grande que y y que z\")"
   ]
  },
  {
   "cell_type": "markdown",
   "metadata": {},
   "source": [
    "### If-Else\n"
   ]
  },
  {
   "cell_type": "markdown",
   "metadata": {},
   "source": [
    "Si  en  cambio  queremos  un  comportamiento  por  defecto\n",
    "\n",
    "#### Sintaxis\n",
    "\n",
    "```python\n",
    "if  Expresión_Lógica:\n",
    "    Bloque  1  de  Código  \n",
    "else\n",
    "    Bloque  2  de  Código  \n",
    "```"
   ]
  },
  {
   "cell_type": "code",
   "execution_count": 4,
   "metadata": {},
   "outputs": [
    {
     "name": "stdout",
     "output_type": "stream",
     "text": [
      "x es mayor\n"
     ]
    }
   ],
   "source": [
    "x, y = 7, 5\n",
    "if x < y:\n",
    "    print('y es mayor')\n",
    "else:\n",
    "    print('x es mayor')"
   ]
  },
  {
   "cell_type": "markdown",
   "metadata": {},
   "source": [
    "### If-Elif-Else\n",
    "\n",
    "Múltiples Condiciones\n",
    "\n",
    "#### Sintaxis\n",
    "``` python\n",
    "if  Expresión_Lógica:\n",
    "    Bloque  1  de  Código  \n",
    "elif Expresión_Lógica:\n",
    "    Bloque  2  de  Código \n",
    "#  .\n",
    "#  .\n",
    "#  .\n",
    "else\n",
    "    Bloque  n  de  Código\n",
    "```"
   ]
  },
  {
   "cell_type": "markdown",
   "metadata": {},
   "source": [
    "#### Ejemplo"
   ]
  },
  {
   "cell_type": "code",
   "execution_count": 5,
   "metadata": {},
   "outputs": [
    {
     "name": "stdout",
     "output_type": "stream",
     "text": [
      "x e y son iguales\n"
     ]
    }
   ],
   "source": [
    "x, y = 5, 5\n",
    "if x > y:\n",
    "    print('x es mayor')\n",
    "elif x < y:\n",
    "    print('y es mayor')\n",
    "else:\n",
    "    print('x e y son iguales')"
   ]
  },
  {
   "cell_type": "markdown",
   "metadata": {},
   "source": [
    "## While Loop\n"
   ]
  },
  {
   "cell_type": "markdown",
   "metadata": {},
   "source": [
    "Vamos a iterar hasta que suceda el evento de interrupción\n",
    "\n",
    "#### Sintaxis\n",
    "\n",
    "```python\n",
    "while Expresión_Lógica:\n",
    "    Bloque  de  Código\n",
    "```"
   ]
  },
  {
   "cell_type": "markdown",
   "metadata": {},
   "source": [
    "#### Ejemplo\n",
    "\n",
    "Itera hasta que un valor de falsedad ocurra "
   ]
  },
  {
   "cell_type": "code",
   "execution_count": 6,
   "metadata": {},
   "outputs": [
    {
     "name": "stdout",
     "output_type": "stream",
     "text": [
      "0\n",
      "1\n",
      "2\n",
      "3\n",
      "4\n"
     ]
    }
   ],
   "source": [
    "aux = 0\n",
    "\n",
    "while aux<5:\n",
    "    print(aux)\n",
    "    aux += 1"
   ]
  },
  {
   "cell_type": "markdown",
   "metadata": {},
   "source": [
    "También es una salida del while si el valor es igual a 0"
   ]
  },
  {
   "cell_type": "markdown",
   "metadata": {},
   "source": [
    "O incluso si llego al final del la iteración y obtengo un elemeno nulo"
   ]
  },
  {
   "cell_type": "code",
   "execution_count": 7,
   "metadata": {},
   "outputs": [
    {
     "name": "stdout",
     "output_type": "stream",
     "text": [
      "blue\n",
      "green\n",
      "red\n"
     ]
    }
   ],
   "source": [
    "L = ['red', 'green', 'blue']\n",
    "while L:\n",
    "    print(L.pop())"
   ]
  },
  {
   "cell_type": "markdown",
   "metadata": {},
   "source": [
    "En cambio, si el valor inicial es igual a falso, no se ejecutará el código"
   ]
  },
  {
   "cell_type": "code",
   "execution_count": 8,
   "metadata": {},
   "outputs": [],
   "source": [
    "x = 0\n",
    "while x:\n",
    "    print(x)\n",
    "    x -= 1"
   ]
  },
  {
   "cell_type": "code",
   "execution_count": null,
   "metadata": {},
   "outputs": [],
   "source": []
  },
  {
   "cell_type": "markdown",
   "metadata": {},
   "source": [
    "Finalmente, podemos construir una ejecución infinita\n",
    "\n",
    "```python\n",
    "while var == 1 :\n",
    "    Codigo\n",
    "```"
   ]
  },
  {
   "cell_type": "markdown",
   "metadata": {
    "slideshow": {
     "slide_type": "slide"
    }
   },
   "source": [
    "## Banderas \n",
    "Es una variable, por lo general booleana, que puede tomar uno de dos valores (verdadero o falso) a lo largo de la ejecución del programa. Puede tener las siguientes funciones:\n",
    "- Salir de un ciclo de iteración variable.\n",
    "- Comunicar información de una parte a otra parte del programa para variar la secuencia de la ejecución."
   ]
  },
  {
   "cell_type": "code",
   "execution_count": 4,
   "metadata": {},
   "outputs": [
    {
     "name": "stdout",
     "output_type": "stream",
     "text": [
      "Ingrese precio del producto: \n",
      " o 'salir' para terminar el programa90\n",
      "El precio es 90\n",
      "Ingrese precio del producto: \n",
      " o 'salir' para terminar el programa98\n",
      "El precio es 98\n",
      "Ingrese precio del producto: \n",
      " o 'salir' para terminar el programasalir\n"
     ]
    }
   ],
   "source": [
    "prompt = \"Ingrese precio del producto: \"\n",
    "prompt += \"\\n o 'salir' para terminar el programa\"\n",
    "\n",
    "active = True\n",
    "while active:\n",
    "    mensaje = input(prompt)\n",
    "    if mensaje == 'salir':\n",
    "        active = False\n",
    "    else: \n",
    "        print(\"El precio es\", mensaje)"
   ]
  },
  {
   "cell_type": "code",
   "execution_count": 6,
   "metadata": {
    "slideshow": {
     "slide_type": "subslide"
    }
   },
   "outputs": [
    {
     "name": "stdout",
     "output_type": "stream",
     "text": [
      "Encontramos el numero 15\n"
     ]
    }
   ],
   "source": [
    "#Buscando al número 15\n",
    "lista = [2, 4, 5, 7, 8, 12, 15, 21]\n",
    "bandera = False\n",
    "\n",
    "i = 0\n",
    "while (not bandera and i < len(lista)): #la variable bandera se inicializa en false. not bandera equivale a True. Al evaluar las dos condiciones del while como True and True ingresamos al bucle\n",
    "    if (lista[i] == 15):\n",
    "        bandera = True #Al encontrar el número 15, la variable bandera se convierte en True. No ingresará más al ciclo while porque not bandera ahora equivale a false (not True = false)\n",
    "    else:\n",
    "        i+=1\n",
    "\n",
    "if (bandera):\n",
    "    print('Encontramos el numero 15')\n",
    "else:\n",
    "    print('No encontramos el numero 15')\n"
   ]
  },
  {
   "cell_type": "markdown",
   "metadata": {
    "slideshow": {
     "slide_type": "slide"
    }
   },
   "source": [
    "## Centinelas\n",
    "Es un valor específico predefinido dado a una variable que permite detectar cuando se desea terminar de repetir las acciones que constituyen el cuerpo del bucle. Por ejemplo, se puede diseñar un bucle que pida el nombre y votos de una serie de candidatos y establecer que termine el bucle cuando se ingresa 0 (cero) como nombre."
   ]
  },
  {
   "cell_type": "code",
   "execution_count": 7,
   "metadata": {
    "slideshow": {
     "slide_type": "subslide"
    }
   },
   "outputs": [
    {
     "name": "stdout",
     "output_type": "stream",
     "text": [
      "Ingrese un valor entero, pulse 0 si desea salir: 9\n",
      "Ingrese un valor entero, pulse 0 si desea salir: 8\n",
      "Ingrese un valor entero, pulse 0 si desea salir: 0\n",
      "Hasta luego\n",
      "El promedio es  8.5\n",
      "La suma es  17\n"
     ]
    }
   ],
   "source": [
    "#Escribir un programa que pida números enteros hasta que se introduzca un cero. Debe\n",
    "#imprimir la suma y el promedio de todos los números introducidos\n",
    "\n",
    "suma= 0\n",
    "promedio = 0\n",
    "cantidad= 0\n",
    "nro= int(input(\"Ingrese un valor entero, pulse 0 si desea salir: \"))\n",
    "while nro >0:\n",
    "    suma=suma+nro\n",
    "    cantidad = cantidad + 1\n",
    "    promedio= suma / cantidad\n",
    "    nro= int(input(\"Ingrese un valor entero, pulse 0 si desea salir: \"))\n",
    "print (\"Hasta luego\")\n",
    "print (\"El promedio es \",promedio)\n",
    "print (\"La suma es \",suma)\n",
    "    "
   ]
  },
  {
   "cell_type": "markdown",
   "metadata": {
    "slideshow": {
     "slide_type": "slide"
    }
   },
   "source": [
    "## Contadores\n",
    "Un contador es una variable de tipo numérico destinada a contener diferentes valores, que\n",
    "**se van incrementando o disminuyendo en cantidades fijas**. En otras palabras un contador es una variable que actualiza su valor en términos de su propio valor anterior y de una constante. Puede utilizarse, por ejemplo, para contar la cantidad de puntos que realiza un equipo.\n",
    "\n",
    "Los contadores se utilizan con la finalidad de contar sucesos o acciones internas de un ciclo, deben realizar una operación de inicialización y posteriormente las sucesivas de incremento o decremento del mismo.\n",
    "\n",
    "La inicialización consiste en asignarle al contador un valor. Se sitúa antes y fuera del ciclo."
   ]
  },
  {
   "cell_type": "markdown",
   "metadata": {
    "slideshow": {
     "slide_type": "subslide"
    }
   },
   "source": [
    "<b>Descripción General</b> \n",
    "<div class=\"alert alert-block alert-info\">\n",
    "Nombre_del_Contador = Nombre_del_Contador + Valor_Constante\n",
    "</div>\n",
    "\n",
    "Donde:\n",
    "\n",
    "- Nombre_del_Contador es un nombre para la variable contador.\n",
    "- Valor_Constante la constante de incremento. Puede ser 1 u otro valor.\n",
    "\n",
    "Ejemplo\n",
    "VOTOS = VOTOS + 1\n",
    "Cada vez que ingresa un voto, la cantidad de votos aumenta en 1."
   ]
  },
  {
   "cell_type": "code",
   "execution_count": null,
   "metadata": {
    "slideshow": {
     "slide_type": "subslide"
    }
   },
   "outputs": [],
   "source": [
    "#Ejemplo en Python\n",
    "contador = contador + 1"
   ]
  },
  {
   "cell_type": "markdown",
   "metadata": {
    "slideshow": {
     "slide_type": "subslide"
    }
   },
   "source": [
    "## Acumuladores\n",
    "Es una variable que **suma sobre si misma un conjunto de valores para de esta manera tener la suma de todos ellos en una sola variable**. En otras palabras, un acumulador es una variable que actualiza su valor en términos de su propio valor anterior y el valor de otra variable u otra expresión.\n",
    "\n",
    "\n",
    "\n",
    "<b>Descripción General</b> \n",
    "<div class=\"alert alert-block alert-info\">\n",
    "Nombre_del_Acumulador = Nombre_del_Acumulador + Valor_Variable\n",
    "</div>\n",
    "\n",
    "Donde:\n",
    "\n",
    "- Nombre_del_Acumulador: es un nombre de identificador válido.\n",
    "- Valor_Variable: variable de tipo numérico (entero o real).\n",
    "\n",
    "Ejemplo\n",
    "TOTAL = TOTAL + SUBTOTAL\n"
   ]
  },
  {
   "cell_type": "code",
   "execution_count": null,
   "metadata": {
    "slideshow": {
     "slide_type": "subslide"
    }
   },
   "outputs": [],
   "source": [
    "#Ejemplo en Python\n",
    "acumulador = acumulador + variable"
   ]
  },
  {
   "cell_type": "markdown",
   "metadata": {
    "slideshow": {
     "slide_type": "slide"
    }
   },
   "source": [
    "<div class=\"alert alert-block alert-danger\">\n",
    "La diferencia entre un contador y un acumulador es que mientras el primero va aumentando\n",
    "de forma constante, el acumulador va aumentando en cantidad variable.\n",
    "</div>"
   ]
  },
  {
   "cell_type": "markdown",
   "metadata": {
    "slideshow": {
     "slide_type": "slide"
    }
   },
   "source": [
    "### Inicialización de las variables\n",
    "\n",
    "- Si deseamos sumar o restar, debemos inicializar la variable en 0. De esta forma nos aseguramos de que no existan valores residuales.\n",
    "- Si deseamos multiplicar o dividir, debemos inicializar la variable. Caso contrario obtendremos siempre 0."
   ]
  },
  {
   "cell_type": "markdown",
   "metadata": {
    "slideshow": {
     "slide_type": "slide"
    }
   },
   "source": [
    "## Asignaciones aumentadas\n",
    "Cualquier expresión de conteo o de acumulación responde, como ya vimos, a la forma general siguiente:\n",
    "    \n",
    "<div class=\"alert alert-block alert-info\">\n",
    "variable = variable operador expresión\n",
    "</div>\n",
    "\n",
    "Donde\n",
    "- variable es la variable cuyo valor se actualiza.\n",
    "- expresión es una constante, una variable o una expresión propiamente dicha.\n",
    "\n",
    "Lo que puede ser resumido mediante la siguiente expresión en lo que se denomina asignación aumentada.\n",
    "<div class=\"alert alert-block alert-info\">\n",
    "variable operador = expresión\n",
    "</div>\n",
    "\n",
    "| Forma General | Asignación Aumentada | \n",
    "| ---- | ---- |\n",
    "| a = a + 1 | a+=1|\n",
    "| --- | --- |\n",
    "| a = a - 1 | a-=1|\n",
    "| --- | --- |\n",
    "| a = a * 1 | a*=1|\n",
    "| --- | --- |\n",
    "| a = a / 1 | a/=1|\n",
    "| --- | --- |\n",
    "| a = a ** 1 | a**=1|\n",
    "| --- | --- |\n",
    "| a = a // 1 | a//=1|"
   ]
  },
  {
   "cell_type": "code",
   "execution_count": null,
   "metadata": {},
   "outputs": [],
   "source": [
    "#Contadores\n",
    "a = a + 1\n",
    "a+= 1\n",
    "\n",
    "a  = a - 1\n",
    "a-=1"
   ]
  },
  {
   "cell_type": "markdown",
   "metadata": {
    "slideshow": {
     "slide_type": "slide"
    }
   },
   "source": [
    "# For\n",
    "\n",
    "**Herramientas para repetir una misma operación muchas veces.**\n",
    "\n",
    "Cuando necesitamos repetir una operación un número fijo de veces dentro de un procedimiento, utilizamos la estructura for.\n",
    "\n",
    "A diferencia de otros lenguajes de programación, en lugar de iterar siempre sobre una progresión aritmética de números, itera sobre los elementos de cualquier secuencia (una lista, una cadena, una función range, etc) en el orden que aparecen en la secuencia.\n"
   ]
  },
  {
   "cell_type": "markdown",
   "metadata": {
    "slideshow": {
     "slide_type": "slide"
    }
   },
   "source": [
    "## Sintaxis\n",
    "\n"
   ]
  },
  {
   "cell_type": "code",
   "execution_count": null,
   "metadata": {
    "slideshow": {
     "slide_type": "subslide"
    }
   },
   "outputs": [],
   "source": [
    "for variable in iterable:\n",
    "    Bloque  de  Código\n",
    "    # return output"
   ]
  },
  {
   "cell_type": "code",
   "execution_count": 46,
   "metadata": {
    "slideshow": {
     "slide_type": "subslide"
    }
   },
   "outputs": [
    {
     "data": {
      "image/png": "[encoded data removed]",
      "text/plain": [
       "<IPython.core.display.Image object>"
      ]
     },
     "execution_count": 46,
     "metadata": {},
     "output_type": "execute_result"
    }
   ],
   "source": [
    "display.Image(\"extras/for_Sintaxis.png\")\n"
   ]
  },
  {
   "cell_type": "markdown",
   "metadata": {
    "slideshow": {
     "slide_type": "slide"
    }
   },
   "source": [
    "## Flujo\n"
   ]
  },
  {
   "cell_type": "code",
   "execution_count": 50,
   "metadata": {
    "slideshow": {
     "slide_type": "subslide"
    }
   },
   "outputs": [
    {
     "data": {
      "image/jpeg": "[encoded data removed]",
      "text/plain": [
       "<IPython.core.display.Image object>"
      ]
     },
     "execution_count": 50,
     "metadata": {},
     "output_type": "execute_result"
    }
   ],
   "source": [
    "display.Image(\"extras/for_Flujo.jpeg\")"
   ]
  },
  {
   "cell_type": "markdown",
   "metadata": {
    "slideshow": {
     "slide_type": "slide"
    }
   },
   "source": [
    "### La función range()\n",
    "La función range() nos permite definir una secuencia de números enteros sucesivos.\n",
    "Esta función puede recibir uno, dos o tres parámetros, los cuales deben ser numéricos, no se pueden usar decimales o caracteres.\n"
   ]
  },
  {
   "cell_type": "code",
   "execution_count": null,
   "metadata": {
    "slideshow": {
     "slide_type": "subslide"
    }
   },
   "outputs": [],
   "source": [
    "range(fin)\n",
    "range(inicio,fin)\n",
    "range(inicio,fin,salto)"
   ]
  },
  {
   "cell_type": "markdown",
   "metadata": {
    "slideshow": {
     "slide_type": "subslide"
    }
   },
   "source": [
    "- Si le damos un solo parámetro generará una lista que va desde el 0 hasta n-1. Es decir, no incluye el extremo final del rango.\n",
    "- Si le damos dos parámetros generará una lista que empezará en el primer número y no incluirá el último.\n",
    "- Si le damos 3 parámetros, usará el tercero como incremento para generar un salto.\n",
    "\n",
    "| Range |Valores Generados | \n",
    "| ---- | ---- |\n",
    "| range(10) | 0,1,2,3,4,5,6,7,8,9|\n",
    "| --- | --- |\n",
    "| range(2,6) |2,3,4,5|\n",
    "| --- | --- |\n",
    "| range(1,10,2) | 1,3,5,7,9|\n",
    "| --- | --- |\n",
    "| range(6,1,-1) | 6,5,4,3,2|\n",
    "| --- | --- |\n"
   ]
  },
  {
   "cell_type": "code",
   "execution_count": 20,
   "metadata": {
    "slideshow": {
     "slide_type": "subslide"
    }
   },
   "outputs": [
    {
     "data": {
      "text/plain": [
       "range"
      ]
     },
     "execution_count": 20,
     "metadata": {},
     "output_type": "execute_result"
    }
   ],
   "source": [
    "type(range(0,  10))\n"
   ]
  },
  {
   "cell_type": "code",
   "execution_count": 21,
   "metadata": {
    "slideshow": {
     "slide_type": "subslide"
    }
   },
   "outputs": [
    {
     "data": {
      "text/plain": [
       "0"
      ]
     },
     "execution_count": 21,
     "metadata": {},
     "output_type": "execute_result"
    }
   ],
   "source": [
    "range(0,  10)[0]\n"
   ]
  },
  {
   "cell_type": "code",
   "execution_count": 22,
   "metadata": {
    "slideshow": {
     "slide_type": "subslide"
    }
   },
   "outputs": [
    {
     "data": {
      "text/plain": [
       "2"
      ]
     },
     "execution_count": 22,
     "metadata": {},
     "output_type": "execute_result"
    }
   ],
   "source": [
    "range(0,  10)[2]\n"
   ]
  },
  {
   "cell_type": "code",
   "execution_count": 23,
   "metadata": {
    "slideshow": {
     "slide_type": "subslide"
    }
   },
   "outputs": [
    {
     "data": {
      "text/plain": [
       "10"
      ]
     },
     "execution_count": 23,
     "metadata": {},
     "output_type": "execute_result"
    }
   ],
   "source": [
    "len(range(0,10))"
   ]
  },
  {
   "cell_type": "markdown",
   "metadata": {
    "slideshow": {
     "slide_type": "slide"
    }
   },
   "source": [
    "#### Ejemplo práctico del uso de la función range()"
   ]
  },
  {
   "cell_type": "code",
   "execution_count": 24,
   "metadata": {
    "slideshow": {
     "slide_type": "subslide"
    }
   },
   "outputs": [
    {
     "name": "stdout",
     "output_type": "stream",
     "text": [
      "0 * 2 =  0\n",
      "1 * 2 =  2\n",
      "2 * 2 =  4\n",
      "3 * 2 =  6\n",
      "4 * 2 =  8\n",
      "5 * 2 =  10\n",
      "6 * 2 =  12\n",
      "7 * 2 =  14\n",
      "8 * 2 =  16\n",
      "9 * 2 =  18\n",
      "10 * 2 =  20\n"
     ]
    }
   ],
   "source": [
    "#Calcular y mostrar la tabla de multiplicar del número 2 tomando desde el número 0 al número 10 como multiplicandos.\n",
    "for i in range(11):\n",
    "    print(i,\"* 2 = \",i*2)"
   ]
  },
  {
   "cell_type": "code",
   "execution_count": 134,
   "metadata": {},
   "outputs": [
    {
     "name": "stdout",
     "output_type": "stream",
     "text": [
      "0\n",
      "2\n",
      "4\n",
      "6\n",
      "8\n",
      "10\n"
     ]
    }
   ],
   "source": [
    "#Podemos servirnos de la función range para realizarlo en su totalidad imprimiendo solo los resuldados\n",
    "for i in range(0,11,2):\n",
    "    print(i)"
   ]
  },
  {
   "cell_type": "markdown",
   "metadata": {},
   "source": [
    "### For aplicado a una cadena\n"
   ]
  },
  {
   "cell_type": "code",
   "execution_count": 74,
   "metadata": {},
   "outputs": [
    {
     "name": "stdout",
     "output_type": "stream",
     "text": [
      "<class 'str'>\n",
      "s\n",
      "o\n",
      "c\n",
      "i\n",
      "a\n",
      "l\n",
      "e\n",
      "s\n"
     ]
    }
   ],
   "source": [
    "cadena = 'sociales'\n",
    "print(type(cadena))\n",
    "for x in cadena:\n",
    "    print(x)"
   ]
  },
  {
   "cell_type": "markdown",
   "metadata": {
    "slideshow": {
     "slide_type": "slide"
    }
   },
   "source": [
    "### For aplicado a una lista\n"
   ]
  },
  {
   "cell_type": "code",
   "execution_count": 78,
   "metadata": {
    "slideshow": {
     "slide_type": "subslide"
    }
   },
   "outputs": [
    {
     "name": "stdout",
     "output_type": "stream",
     "text": [
      "Mi color preferido es azul\n",
      "Mi color preferido es verde\n",
      "Mi color preferido es rojo\n",
      "Mi color preferido es amarillo\n"
     ]
    }
   ],
   "source": [
    "colores = ['azul', 'verde', 'rojo', 'amarillo']\n",
    "for x in colores:\n",
    "    print('Mi color preferido es',x)"
   ]
  },
  {
   "cell_type": "markdown",
   "metadata": {
    "slideshow": {
     "slide_type": "subslide"
    }
   },
   "source": [
    "#### For y contador aplicados a una lista"
   ]
  },
  {
   "cell_type": "code",
   "execution_count": 82,
   "metadata": {
    "slideshow": {
     "slide_type": "subslide"
    }
   },
   "outputs": [
    {
     "name": "stdout",
     "output_type": "stream",
     "text": [
      " Recorrido  1\n",
      " Recorrido  2\n",
      " Recorrido  3\n",
      " Recorrido  4\n",
      " Recorrido  5\n",
      " Recorrido  6\n",
      "Este for ha realizado 6 recorridos\n"
     ]
    }
   ],
   "source": [
    "int_list  =  [1,  2,  3,  4,  5,  6]\n",
    "\n",
    "recorridos = 0\n",
    "for  i  in  int_list:\n",
    "    recorridos +=  1\n",
    "    print(\" Recorrido \", recorridos)\n",
    "print(\"Este for ha realizado\", recorridos,\"recorridos\")"
   ]
  },
  {
   "cell_type": "markdown",
   "metadata": {
    "slideshow": {
     "slide_type": "subslide"
    }
   },
   "source": [
    "#### For y acumulador aplicados a una lista"
   ]
  },
  {
   "cell_type": "code",
   "execution_count": 10,
   "metadata": {
    "slideshow": {
     "slide_type": "subslide"
    }
   },
   "outputs": [
    {
     "name": "stdout",
     "output_type": "stream",
     "text": [
      "21\n"
     ]
    }
   ],
   "source": [
    "int_list  =  [1,  2,  3,  4,  5,  6]\n",
    "\n",
    "suma  =  0\n",
    "\n",
    "for  i  in  int_list:\n",
    "    suma  +=  i\n",
    "\n",
    "print(suma)"
   ]
  },
  {
   "cell_type": "markdown",
   "metadata": {
    "slideshow": {
     "slide_type": "subslide"
    }
   },
   "source": [
    "#### For aplicado a un Diccionario para obtener sus claves"
   ]
  },
  {
   "cell_type": "code",
   "execution_count": 9,
   "metadata": {
    "slideshow": {
     "slide_type": "subslide"
    }
   },
   "outputs": [
    {
     "name": "stdout",
     "output_type": "stream",
     "text": [
      "a\n",
      "b\n",
      "c\n"
     ]
    }
   ],
   "source": [
    "diccionario = {\"a\": 1, \"b\": 2, \"c\": 3}\n",
    "\n",
    "for clave in diccionario:\n",
    "    print(clave)"
   ]
  },
  {
   "cell_type": "markdown",
   "metadata": {},
   "source": [
    "#### For aplicado a un Diccionario para obtener sus claves con el método keys()"
   ]
  },
  {
   "cell_type": "code",
   "execution_count": 10,
   "metadata": {},
   "outputs": [
    {
     "name": "stdout",
     "output_type": "stream",
     "text": [
      "a\n",
      "b\n",
      "c\n"
     ]
    }
   ],
   "source": [
    "for clave in diccionario.keys():\n",
    "    print(clave)"
   ]
  },
  {
   "cell_type": "markdown",
   "metadata": {
    "slideshow": {
     "slide_type": "subslide"
    }
   },
   "source": [
    "#### For aplicado a un Diccionario para obtener sus valores"
   ]
  },
  {
   "cell_type": "code",
   "execution_count": 17,
   "metadata": {
    "slideshow": {
     "slide_type": "subslide"
    }
   },
   "outputs": [
    {
     "name": "stdout",
     "output_type": "stream",
     "text": [
      "1\n",
      "2\n",
      "3\n"
     ]
    }
   ],
   "source": [
    "for valor  in  diccionario:\n",
    "    print(diccionario[valor])"
   ]
  },
  {
   "cell_type": "markdown",
   "metadata": {
    "slideshow": {
     "slide_type": "subslide"
    }
   },
   "source": [
    "#### For aplicado a un Diccionario para obtener sus valores con el método values()\n"
   ]
  },
  {
   "cell_type": "code",
   "execution_count": 16,
   "metadata": {
    "slideshow": {
     "slide_type": "subslide"
    }
   },
   "outputs": [
    {
     "name": "stdout",
     "output_type": "stream",
     "text": [
      "1\n",
      "2\n",
      "3\n"
     ]
    }
   ],
   "source": [
    "for valor  in  diccionario.values():\n",
    "    print(valor)"
   ]
  },
  {
   "cell_type": "markdown",
   "metadata": {
    "slideshow": {
     "slide_type": "subslide"
    }
   },
   "source": [
    "#### For aplicado a un Diccionario para obtener sus claves y valores"
   ]
  },
  {
   "cell_type": "code",
   "execution_count": 18,
   "metadata": {
    "slideshow": {
     "slide_type": "subslide"
    }
   },
   "outputs": [
    {
     "name": "stdout",
     "output_type": "stream",
     "text": [
      "a 1\n",
      "b 2\n",
      "c 3\n"
     ]
    }
   ],
   "source": [
    "for valor in diccionario:\n",
    "    print(valor,diccionario[valor])"
   ]
  },
  {
   "cell_type": "markdown",
   "metadata": {
    "slideshow": {
     "slide_type": "subslide"
    }
   },
   "source": [
    "#### For aplicado a un Diccionario para obtener sus claves y valores con el método items()"
   ]
  },
  {
   "cell_type": "code",
   "execution_count": 19,
   "metadata": {
    "slideshow": {
     "slide_type": "subslide"
    }
   },
   "outputs": [
    {
     "name": "stdout",
     "output_type": "stream",
     "text": [
      "a 1\n",
      "b 2\n",
      "c 3\n"
     ]
    }
   ],
   "source": [
    "\n",
    "for  clave, valor  in  diccionario.items():\n",
    "    print(clave, valor )"
   ]
  },
  {
   "cell_type": "markdown",
   "metadata": {
    "slideshow": {
     "slide_type": "slide"
    }
   },
   "source": [
    "## Operadores de Flujo\n"
   ]
  },
  {
   "cell_type": "markdown",
   "metadata": {
    "slideshow": {
     "slide_type": "slide"
    }
   },
   "source": [
    "### break\n",
    "La sentencia **break** termina el ciclo que la contiene. El control del programa fluye a la declaración inmediatamente después del cuerpo del bucle.\n",
    "\n",
    "Si la instrucción break está dentro de un bucle anidado (bucle dentro de otro bucle), la declaración break terminará el bucle más interno."
   ]
  },
  {
   "cell_type": "code",
   "execution_count": 66,
   "metadata": {
    "slideshow": {
     "slide_type": "subslide"
    }
   },
   "outputs": [
    {
     "name": "stdout",
     "output_type": "stream",
     "text": [
      "Numero es 0\n",
      "Numero es 1\n",
      "Numero es 2\n",
      "Numero es 3\n",
      "Numero es 4\n"
     ]
    }
   ],
   "source": [
    "# break\n",
    "\n",
    "numero = 0\n",
    "\n",
    "for numero in range(10):\n",
    "    if numero == 5:\n",
    "        break    # break \n",
    "    print('Numero es ' + str(numero))"
   ]
  },
  {
   "cell_type": "markdown",
   "metadata": {
    "slideshow": {
     "slide_type": "slide"
    }
   },
   "source": [
    "### continue\n",
    "La instrucción **continue** se usa para omitir el resto del código dentro de un bucle solo para la iteración actual. El bucle no termina sino que continúa con la siguiente iteración."
   ]
  },
  {
   "cell_type": "code",
   "execution_count": 67,
   "metadata": {
    "slideshow": {
     "slide_type": "subslide"
    }
   },
   "outputs": [
    {
     "name": "stdout",
     "output_type": "stream",
     "text": [
      "Numero es 0\n",
      "Numero es 1\n",
      "Numero es 2\n",
      "Numero es 3\n",
      "Numero es 4\n",
      "Numero es 6\n",
      "Numero es 7\n",
      "Numero es 8\n",
      "Numero es 9\n"
     ]
    }
   ],
   "source": [
    "numero = 0\n",
    "\n",
    "for numero in range(10):\n",
    "    if numero == 5:\n",
    "        continue    # continue\n",
    "    print('Numero es ' + str(numero))\n"
   ]
  },
  {
   "cell_type": "markdown",
   "metadata": {
    "slideshow": {
     "slide_type": "slide"
    }
   },
   "source": [
    "### pass\n",
    "La instrucción **pass** es una declaración nula. La diferencia entre un comentario y una declaración **pass** en Python es que mientras el intérprete ignora un comentario por completo, el **pass** no es ignorado.\n",
    "\n",
    "Generalmente lo usamos como placeholder.\n",
    "\n",
    "Supongamos que tenemos un ciclo o una función que aún no está implementada, pero queremos implementarla en el futuro. No pueden tener un cuerpo vacío. El intérprete daría un error. Entonces, usamos la instrucción pass para construir un cuerpo que no hace nada por el momento."
   ]
  },
  {
   "cell_type": "code",
   "execution_count": 135,
   "metadata": {
    "slideshow": {
     "slide_type": "subslide"
    }
   },
   "outputs": [
    {
     "name": "stdout",
     "output_type": "stream",
     "text": [
      "Numero es 0\n",
      "Numero es 1\n",
      "Numero es 2\n",
      "Numero es 3\n",
      "Numero es 4\n",
      "Numero es 5\n",
      "Numero es 6\n",
      "Numero es 7\n",
      "Numero es 8\n",
      "Numero es 9\n"
     ]
    }
   ],
   "source": [
    "numero = 0\n",
    "\n",
    "for numero in range(10):\n",
    "    if numero == 5:\n",
    "        pass    # continue\n",
    "    print('Numero es ' + str(numero))"
   ]
  },
  {
   "cell_type": "code",
   "execution_count": 96,
   "metadata": {},
   "outputs": [
    {
     "name": "stdout",
     "output_type": "stream",
     "text": [
      "Ingrese un numero: 10\n",
      "Ingrese un numero: 12\n",
      "Ingrese un numero: 23\n",
      "Ingrese un numero: 43\n",
      "Ingrese un numero: 12\n",
      "La cantidad de multiplos de 3 es  2\n",
      "La cantidad de multiplos de 5 es  1\n"
     ]
    }
   ],
   "source": [
    "##Escribir un programa que lea 5 números enteros y luego muestre\n",
    "#cuántos valores ingresados fueron múltiplos de 3 y cuántos de 5. \n",
    "#Debemos tener en cuenta que hay números que son múltiplos de 3 y de 5 a la vez.\n",
    "\n",
    "suma3 = 0\n",
    "suma5 = 0\n",
    "\n",
    "for i in range(1,6):\n",
    "    x = int(input('Ingrese un numero: '))\n",
    "    if(x%5 == 0) and (x%3==0):\n",
    "        suma3 = suma3 + 1\n",
    "        suma5 = suma5 + 1\n",
    "    elif(x%5 == 0):\n",
    "        suma5 = suma5 +1\n",
    "    elif(x%3 == 0):\n",
    "        suma3 = suma3 +1\n",
    "print(\"La cantidad de multiplos de 3 es \", suma3)\n",
    "print(\"La cantidad de multiplos de 5 es \", suma5)\n",
    "\n",
    "\n"
   ]
  },
  {
   "cell_type": "code",
   "execution_count": null,
   "metadata": {},
   "outputs": [],
   "source": []
  }
 ],
 "metadata": {
  "celltoolbar": "Slideshow",
  "interpreter": {
   "hash": "71df8d49c12400ac945a74bdb76a1691e9bc707687bcaa90ca5abc36108dada8"
  },
  "kernelspec": {
   "display_name": "Python 3",
   "language": "python",
   "name": "python3"
  },
  "language_info": {
   "codemirror_mode": {
    "name": "ipython",
    "version": 3
   },
   "file_extension": ".py",
   "mimetype": "text/x-python",
   "name": "python",
   "nbconvert_exporter": "python",
   "pygments_lexer": "ipython3",
   "version": "3.8.5"
  }
 },
 "nbformat": 4,
 "nbformat_minor": 4
}
