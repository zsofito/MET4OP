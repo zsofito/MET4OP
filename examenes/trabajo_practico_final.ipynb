{
 "cells": [
  {
   "cell_type": "markdown",
   "source": [
    "# Trabajo practico de programacion N° 1 \r\n",
    "## Grupo 4:\r\n",
    "### Integrantes:\r\n",
    "- Sofía Agustina Álvarez\r\n",
    "- Marco Curcio\r\n",
    "- Dan Kemper"
   ],
   "metadata": {}
  },
  {
   "cell_type": "markdown",
   "source": [
    "#### Sabemos que los primeros seis números primos son 2, 3, 5, 7, 11 y 13. De manera tal  que podemos ver que el sexto número primo es el 13. Declarar  una  función  que,  dado  un  número  x,  devuelva  el  primo  número  x.  Por  ejemplo: primo (1000) = 7919. (6 puntos)"
   ],
   "metadata": {}
  },
  {
   "cell_type": "code",
   "execution_count": null,
   "source": [
    "#insertar codigo\r\n",
    "def buscarPrimo(x):\r\n",
    "    valor = 0 #Cuantos numeros primos encontre hasta el momento\r\n",
    "    iterador = 2 #Desde que numero empiezo a iterar\r\n",
    "\r\n",
    "    while valor != x: #Si no encontre el numero primo numero \"x\"\r\n",
    "        \r\n",
    "        #EMPIEZA parte del codigo que dice si un numero es primo o no\r\n",
    "        divisores = 0 #Cuntos divisores tiene. Tiene que ser 2 (1 y si mismo)\r\n",
    "        contador = 1 #x=5 --- contador = desde 1 hasta el iterador\r\n",
    "        while divisores < 3 and contador <= iterador:#Si no encontre mas de 2 multiplos...\r\n",
    "            cociente = iterador/contador\r\n",
    "            if cociente.is_integer() == True:\r\n",
    "                divisores = divisores + 1\r\n",
    "            contador = contador + 1\r\n",
    "        #TERMINA parte del codigo que dice si el numero es primo o no...\r\n",
    "\r\n",
    "        if divisores == 2: #divisores es 2 (es primo) o 3 (no es primo) nada mas\r\n",
    "            valor = valor + 1\r\n",
    "            if valor == x:\r\n",
    "                break\r\n",
    "\r\n",
    "        iterador = iterador + 1\r\n",
    "    return iterador\r\n",
    "\r\n",
    "#print(buscarPrimo(1000))\r\n"
   ],
   "outputs": [],
   "metadata": {}
  },
  {
   "cell_type": "markdown",
   "source": [
    "### Ejercicios para promocionar: \r\n",
    "#### Declarar una función que, dado un número x, sea capaz de sumar todos los números  menores de x que sean  múltiplos de 2 excepto aquellos que sean también múltiplos  de 4. Por ejemplo: suma (10) = 2 + 6 + 10 = 18"
   ],
   "metadata": {}
  },
  {
   "cell_type": "code",
   "execution_count": 1,
   "source": [
    "\r\n",
    "def suma_acumulada(x):\r\n",
    "    lista_numeros = [] # armo lista vacia \r\n",
    "    for i in range(0, x+1):\r\n",
    "        if i%2 == 0 and i%4 != 0: # solo si los numeros son multiplos de 2 pero no de 4\r\n",
    "            lista_numeros.append(i)\r\n",
    "    #print(lista_numeros) # revisar!\r\n",
    "    # falta sumar todos los numeros de la lista\r\n",
    "    suma = 0 # valor inicial\r\n",
    "    for n in range(0, len(lista_numeros)): # del 0 hasta x\r\n",
    "        suma = suma + lista_numeros[n]\r\n",
    "    return suma\r\n",
    "\r\n",
    "# Ejemplo\r\n",
    "suma_acumulada(1000)"
   ],
   "outputs": [
    {
     "output_type": "execute_result",
     "data": {
      "text/plain": [
       "125000"
      ]
     },
     "metadata": {},
     "execution_count": 1
    }
   ],
   "metadata": {}
  },
  {
   "cell_type": "markdown",
   "source": [
    "#### Sabemos que el día 1970-01-01 fue jueves. Declarar una función que pueda indicar  cuántos jueves han sido el primer día de cada mes desde entonces. La fecha de corte debe de poder ser cualquiera"
   ],
   "metadata": {}
  },
  {
   "cell_type": "code",
   "execution_count": 2,
   "source": [
    "from datetime import datetime \r\n",
    "from datetime import timedelta\r\n",
    "from datetime import date\r\n",
    "import pandas\r\n",
    "\r\n",
    "def primeros_jueves ():\r\n",
    "#se ingresa la fecha en formato dia, mes, año. en caso de que el usuario ingrese fechas incorrectas se para el programa\r\n",
    "    dia = int(input(\"ingrese un dia:\"))\r\n",
    "    if dia < 1 or dia > 31 :\r\n",
    "        return (\"por favor ingrese un dia entre 1 y 31\")\r\n",
    "    mes = int(input((\"ingrese un mes:\")))\r\n",
    "    if mes < 1 or mes > 12 :\r\n",
    "        return (\"por favor ingrese un mes entre 1 y 12\")\r\n",
    "    año= int(input((\"Ingrese un año\")))\r\n",
    "    if año < 1970 :\r\n",
    "        return(\"por favor ingrese un año mayor a 1970\")\r\n",
    "    \r\n",
    "    \"\"\"\r\n",
    "    '%A' sirve para extraer el nombre del dia. En este caso, importan los jueves solamente (\"Thursday\")\r\n",
    "    timedelta sirve para calcula la distancia entre dos fechas\r\n",
    "    \"\"\"\r\n",
    "    fecha_inicial  = date(1970, 1, 1) # fecha de la consigna\r\n",
    "    fecha_ingresada = date(año, mes, dia) # fecha ingresada\r\n",
    "    lista_dias     = pandas.date_range(fecha_inicial, fecha_ingresada - timedelta(days=1), freq='d') # armo una lista de los dias entre ambas fechas\r\n",
    "    jueves_primero = [d for d in lista_dias if d.strftime(\"%A\") == \"Thursday\" and d.strftime(\"%d\") == \"01\"] # doble condicion: que sea jueves y primero\r\n",
    "    cantidad_jueves_primeros = len(jueves_primero) # contador de jueves primeros\r\n",
    "    return (\"Existen\", cantidad_jueves_primeros, \"jueves entre el 1/1/1970 y la fecha ingresada\")\r\n",
    "    \r\n",
    "primeros_jueves()"
   ],
   "outputs": [
    {
     "output_type": "execute_result",
     "data": {
      "text/plain": [
       "('Existen', 19, 'jueves entre el 1/1/1970 y la fecha ingresada')"
      ]
     },
     "metadata": {},
     "execution_count": 2
    }
   ],
   "metadata": {}
  },
  {
   "cell_type": "markdown",
   "source": [
    "#### El padrón electoral de CABA cuenta con un total de 2.583.527 ciudadanos inscriptos,  pero  en  las  elecciones  de  2019  votaron  2.072.802.  Ese  año  se  renovaron  12  de  25  diputados nacionales. En ese escenario, los resultados obtenidos fueron los siguientes: Declarar  una  función  que  aplique  la  fórmula  D ́Hondt  para  cualquier  caso.  Pueden ayudarse con el ejemplo práctico anterior. \r\n",
    "\r\n"
   ],
   "metadata": {}
  },
  {
   "cell_type": "code",
   "execution_count": 1,
   "source": [
    "#Insertar codigo \r\n",
    "import numpy as np\r\n",
    "import pandas as pd\r\n",
    "from collections import Counter\r\n",
    "\r\n",
    "# anoto la tabla de la consigna como un diccionario\r\n",
    "votos = {'Juntos por el Cambio': 1060404,\r\n",
    "         'Frente de Todos': 641054,\r\n",
    "         'Consenso Federal ': 114968,\r\n",
    "         'Frente de Izquierda': 122560,\r\n",
    "         'Unite': 36420,\r\n",
    "         'Autodeterminación y Libertad': 24685,\r\n",
    "         'Voto en blanco': 56174}\r\n",
    "\r\n",
    "def metodo_dHont(votos=votos):\r\n",
    "    # funcion de metodo de dHont. Toma como parametro los votos de cada partido en forma de diccionario\r\n",
    "    # por definicion, los votos nulos no se consideran en el analisis de dHont.\r\n",
    "\r\n",
    "    # convierto el diccionario en un DataFrame, con los nombres de partidos como indice (orient)\r\n",
    "    DF = pd.DataFrame.from_dict(votos, orient=\"index\", columns=[\"votos\"])\r\n",
    "\r\n",
    "    # armo tabla de DHont, hasta 10 divisiones. Luego llevo todo a integer\r\n",
    "    # filas = partidos; columnas = bancas a asignar\r\n",
    "    DF[\"1\"]  = (DF[\"votos\"]/1).astype('int32')\r\n",
    "    DF[\"2\"]  = (DF[\"votos\"]/2).astype('int32')\r\n",
    "    DF[\"3\"]  = (DF[\"votos\"]/3).astype('int32')\r\n",
    "    DF[\"4\"]  = (DF[\"votos\"]/4).astype('int32')\r\n",
    "    DF[\"5\"]  = (DF[\"votos\"]/5).astype('int32')\r\n",
    "    DF[\"6\"]  = (DF[\"votos\"]/6).astype('int32')\r\n",
    "    DF[\"7\"]  = (DF[\"votos\"]/7).astype('int32')\r\n",
    "    DF[\"8\"]  = (DF[\"votos\"]/8).astype('int32')\r\n",
    "    DF[\"9\"]  = (DF[\"votos\"]/9).astype('int32')\r\n",
    "    DF[\"10\"] = (DF[\"votos\"]/10).astype('int32')\r\n",
    "    DF[\"11\"] = (DF[\"votos\"]/11).astype('int32')\r\n",
    "    DF[\"12\"] = (DF[\"votos\"]/12).astype('int32')\r\n",
    "    # ya no necesito la columna de votos, por eso la saco\r\n",
    "    DF.pop(\"votos\")\r\n",
    "\r\n",
    "    # por definicion, el metodo de dHont establece un limite inferior del 3% sobre el total de los votos, \r\n",
    "    # por lo que quito el resto\r\n",
    "    total_votos     = DF[\"1\"].sum()\r\n",
    "    # calculo el 3%\r\n",
    "    limite_inferior = total_votos*3/100\r\n",
    "    # quito los partidos que no alcanzan los votos minimos\r\n",
    "    DF_final = DF[DF[\"1\"]>limite_inferior]\r\n",
    "\r\n",
    "    # necesito encontrar los 12 valores con mas altos en votos\r\n",
    "    # extraigo valores del dataframe con .values() y los convierto en una lista con .tolist()\r\n",
    "    valores_lista = DF_final.values.tolist()\r\n",
    "    # el resultado es una lista con listas adentro. Tengo que armar una lista unica\r\n",
    "    lista_unica = [i for listas in valores_lista for i in listas]\r\n",
    "    # tomo las primeras 12 bancas que van a reponerse, ordenadas de mayor a menor con sorted()\r\n",
    "    lista_unica = sorted(lista_unica, reverse=True)[0:12]\r\n",
    "\r\n",
    "    # me falta ver a que partido corresponde cada valor de la lista\r\n",
    "    lista_bancas = []\r\n",
    "    for i in lista_unica:\r\n",
    "        # np.where puede funcionar para esto\r\n",
    "        indice = np.where(DF_final==i)\r\n",
    "        indice = DF_final.iloc[indice].index.tolist()\r\n",
    "        lista_bancas.append(indice)\r\n",
    "    # tengo de nuevo una lista de listas. La convierto otra vez en una lista unica, mismo metodo que antes\r\n",
    "    lista_final = [item for listas in lista_bancas for item in listas]\r\n",
    "\r\n",
    "    # la lista contiene el resultado de bancas. Solo falta contar las frecuencias dentro de la lista con counter\r\n",
    "    counts = Counter(lista_final)\r\n",
    "    # resultado final en forma de diccionario, para que no salga la palabra \"Counter\"\r\n",
    "    print(f\"Bancas obtenidas por partido: \\n {dict(counts)}\" )\r\n",
    "\r\n",
    "# corro la funcion\r\n",
    "metodo_dHont(votos=votos)\r\n",
    "\r\n",
    "# referencia: https://www.youtube.com/watch?v=CcbRKnq9bV4"
   ],
   "outputs": [
    {
     "output_type": "stream",
     "name": "stdout",
     "text": [
      "Bancas obtenidas por partido: \n",
      " {'Juntos por el Cambio': 8, 'Frente de Todos': 4}\n"
     ]
    }
   ],
   "metadata": {}
  },
  {
   "cell_type": "code",
   "execution_count": null,
   "source": [],
   "outputs": [],
   "metadata": {}
  }
 ],
 "metadata": {
  "orig_nbformat": 4,
  "language_info": {
   "name": "python",
   "version": "3.9.5",
   "mimetype": "text/x-python",
   "codemirror_mode": {
    "name": "ipython",
    "version": 3
   },
   "pygments_lexer": "ipython3",
   "nbconvert_exporter": "python",
   "file_extension": ".py"
  },
  "kernelspec": {
   "name": "python3",
   "display_name": "Python 3.9.5 64-bit ('base': conda)"
  },
  "interpreter": {
   "hash": "60b10e7d9e10a9141a63f231bfa48f15f237fb3ee2661c44b04a5a83dd7d6486"
  }
 },
 "nbformat": 4,
 "nbformat_minor": 2
}