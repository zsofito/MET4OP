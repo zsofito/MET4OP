{
 "cells": [
  {
   "cell_type": "code",
   "execution_count": 4,
   "source": [
    "from datetime import datetime \r\n",
    "from datetime import timedelta\r\n",
    "from datetime import date\r\n",
    "import pandas\r\n",
    "\r\n",
    "def primeros_jueves ():\r\n",
    "#se ingresa la fecha en formato dia, mes, año. en caso de que el usuario ingrese fechas incorrectas se para el programa\r\n",
    "    dia = int(input(\"ingrese un dia:\"))\r\n",
    "    if dia < 1 or dia > 31 :\r\n",
    "        return (\"por favor ingrese un dia entre 1 y 31\")\r\n",
    "    mes = int(input((\"ingrese un mes:\")))\r\n",
    "    if mes < 1 or mes > 12 :\r\n",
    "        return (\"por favor ingrese un mes entre 1 y 12\")\r\n",
    "    año= int(input((\"Ingrese un año\")))\r\n",
    "    if año < 1970 :\r\n",
    "        return(\"por favor ingrese un año mayor a 1970\")\r\n",
    "    \r\n",
    "    \"\"\"\r\n",
    "    '%A' sirve para extraer el nombre del dia. En este caso, importan los jueves solamente (\"Thursday\")\r\n",
    "    timedelta sirve para calcula la distancia entre dos fechas\r\n",
    "    \"\"\"\r\n",
    "    fecha_inicial  = date(1970, 1, 1) # fecha de la consigna\r\n",
    "    fecha_ingresada = date(año, mes, dia) # fecha ingresada\r\n",
    "    lista_dias     = pandas.date_range(fecha_inicial, fecha_ingresada - timedelta(days=1), freq='d') # armo una lista de los dias entre ambas fechas\r\n",
    "    jueves_primero = [d for d in lista_dias if d.strftime(\"%A\") == \"Thursday\" and d.strftime(\"%d\") == \"01\"] # doble condicion: que sea jueves y primero\r\n",
    "    cantidad_jueves_primeros = len(jueves_primero) # contador de jueves primeros\r\n",
    "    return (\"Existen\", cantidad_jueves_primeros, \"jueves entre el 1/1/1970 y la fecha ingresada\")\r\n",
    "    \r\n",
    "primeros_jueves()"
   ],
   "outputs": [
    {
     "output_type": "execute_result",
     "data": {
      "text/plain": [
       "('Existen', 52, 'jueves entre el 1/1/1970 y la fecha ingresada')"
      ]
     },
     "metadata": {},
     "execution_count": 4
    }
   ],
   "metadata": {}
  }
 ],
 "metadata": {
  "orig_nbformat": 4,
  "language_info": {
   "name": "python",
   "version": "3.8.8",
   "mimetype": "text/x-python",
   "codemirror_mode": {
    "name": "ipython",
    "version": 3
   },
   "pygments_lexer": "ipython3",
   "nbconvert_exporter": "python",
   "file_extension": ".py"
  },
  "kernelspec": {
   "name": "python3",
   "display_name": "Python 3.8.8 64-bit ('base': conda)"
  },
  "interpreter": {
   "hash": "5ee03c025ecb2f378fd5d2aaa2624abdeb98f861818a99abb51d00849b4c6f80"
  }
 },
 "nbformat": 4,
 "nbformat_minor": 2
}