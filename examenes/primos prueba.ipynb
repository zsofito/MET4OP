{
 "cells": [
  {
   "cell_type": "code",
   "execution_count": 1,
   "source": [
    "def esPrimo(x):\r\n",
    "    divisores = 0 #Cuntos divisores tiene. Tiene que ser 2.\r\n",
    "    contador = 1 #x=5 --- contador = 1,2,3,4,5\r\n",
    "    while divisores < 3 and contador <= x:\r\n",
    "        cociente = x/contador\r\n",
    "        if cociente.is_integer() == True:\r\n",
    "            divisores +=1\r\n",
    "        contador += 1\r\n",
    "\r\n",
    "    if divisores > 2:\r\n",
    "        return False\r\n",
    "    else: \r\n",
    "        return True\r\n",
    "\r\n",
    "\r\n",
    "#estoy tratando de integrar el esPrimo dentro del contador para que sea todo mas rapido\r\n",
    "def contador (x) :\r\n",
    "    while x <= 0 :                                    #Esto es por si alguien se quiere hacer el gracioso y buscar el primo numero 0 o menos\r\n",
    "        return ('Por favor ingrese un numero mayor a 0')\r\n",
    "        break\r\n",
    "    acumulador = 0                                    #por cada primo encontrado suma 1 y cuando llega al x buscado corta\r\n",
    "    numero = 1                                        #sirve para generar numeros 1 por 1 hasta que acumulador llegue al numero deseado, arranca por 1 ya que el primer primo es el numero 2\r\n",
    "    while acumulador < x :                            #siempre y cuando el acumulador sea menor al x buscado agrega numeros a la lista de primos \r\n",
    "#aca creo que entraria la parte que detecta los primos y la idea es la misma, solo que cuando detecte que es primo en lugar de return True lo que haga es sumar 1 en el acumulador\r\n",
    "        divisores = 0\r\n",
    "        contador = 1\r\n",
    "        while divisores < 3 and contador <= numero :\r\n",
    "            cociente = numero/contador\r\n",
    "            if cociente.is_integer() == True:\r\n",
    "                divisores +=1\r\n",
    "            contador +=1\r\n",
    "        if divisores > 2 :\r\n",
    "            acumulador +=0\r\n",
    "            break\r\n",
    "        else :\r\n",
    "            acumulador +=1 \r\n",
    "\r\n",
    "            break\r\n",
    "    return ('el primo numero',x,'es igual a',numero) \r\n",
    "\r\n",
    "contador(4)  "
   ],
   "outputs": [
    {
     "output_type": "execute_result",
     "data": {
      "text/plain": [
       "('el primo numero', 4, 'es igual a', 1)"
      ]
     },
     "metadata": {},
     "execution_count": 1
    }
   ],
   "metadata": {}
  }
 ],
 "metadata": {
  "orig_nbformat": 4,
  "language_info": {
   "name": "python",
   "version": "3.8.8",
   "mimetype": "text/x-python",
   "codemirror_mode": {
    "name": "ipython",
    "version": 3
   },
   "pygments_lexer": "ipython3",
   "nbconvert_exporter": "python",
   "file_extension": ".py"
  },
  "kernelspec": {
   "name": "python3",
   "display_name": "Python 3.8.8 64-bit ('base': conda)"
  },
  "interpreter": {
   "hash": "5ee03c025ecb2f378fd5d2aaa2624abdeb98f861818a99abb51d00849b4c6f80"
  }
 },
 "nbformat": 4,
 "nbformat_minor": 2
}